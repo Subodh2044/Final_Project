{
 "cells": [
  {
   "cell_type": "code",
   "execution_count": 1,
   "metadata": {
    "colab": {
     "base_uri": "https://localhost:8080/",
     "height": 333
    },
    "id": "M80AeHHntJPB",
    "outputId": "8f38f2a5-47d1-417b-abda-02f7b08b05d7"
   },
   "outputs": [
    {
     "data": {
      "text/html": [
       "<div>\n",
       "<style scoped>\n",
       "    .dataframe tbody tr th:only-of-type {\n",
       "        vertical-align: middle;\n",
       "    }\n",
       "\n",
       "    .dataframe tbody tr th {\n",
       "        vertical-align: top;\n",
       "    }\n",
       "\n",
       "    .dataframe thead th {\n",
       "        text-align: right;\n",
       "    }\n",
       "</style>\n",
       "<table border=\"1\" class=\"dataframe\">\n",
       "  <thead>\n",
       "    <tr style=\"text-align: right;\">\n",
       "      <th></th>\n",
       "      <th>Gender</th>\n",
       "      <th>Customer</th>\n",
       "      <th>Age</th>\n",
       "      <th>Type_of_Travel</th>\n",
       "      <th>Class</th>\n",
       "      <th>Flight Distance</th>\n",
       "      <th>Inflight wifi</th>\n",
       "      <th>Departure/Arrival_time_convenient</th>\n",
       "      <th>Ease_of_Online booking</th>\n",
       "      <th>Gate_location</th>\n",
       "      <th>...</th>\n",
       "      <th>Inflight entertainment</th>\n",
       "      <th>On-board service</th>\n",
       "      <th>Leg room service</th>\n",
       "      <th>Baggage handling</th>\n",
       "      <th>Checkin service</th>\n",
       "      <th>Inflight service</th>\n",
       "      <th>Cleanliness</th>\n",
       "      <th>Departure_Delay_in_Minutes</th>\n",
       "      <th>Arrival_Delay_in_Minutes</th>\n",
       "      <th>satisfaction</th>\n",
       "    </tr>\n",
       "  </thead>\n",
       "  <tbody>\n",
       "    <tr>\n",
       "      <th>0</th>\n",
       "      <td>Male</td>\n",
       "      <td>Loyal Customer</td>\n",
       "      <td>60.0</td>\n",
       "      <td>Business travel</td>\n",
       "      <td>Business</td>\n",
       "      <td>912.0</td>\n",
       "      <td>2.0</td>\n",
       "      <td>2.0</td>\n",
       "      <td>2.0</td>\n",
       "      <td>2.0</td>\n",
       "      <td>...</td>\n",
       "      <td>2.0</td>\n",
       "      <td>2.0</td>\n",
       "      <td>2.0</td>\n",
       "      <td>2.0</td>\n",
       "      <td>3.0</td>\n",
       "      <td>2.0</td>\n",
       "      <td>2.0</td>\n",
       "      <td>39.0</td>\n",
       "      <td>23.0</td>\n",
       "      <td>neutral or dissatisfied</td>\n",
       "    </tr>\n",
       "    <tr>\n",
       "      <th>1</th>\n",
       "      <td>Male</td>\n",
       "      <td>disloyal Customer</td>\n",
       "      <td>38.0</td>\n",
       "      <td>Business travel</td>\n",
       "      <td>Business</td>\n",
       "      <td>208.0</td>\n",
       "      <td>3.0</td>\n",
       "      <td>3.0</td>\n",
       "      <td>3.0</td>\n",
       "      <td>4.0</td>\n",
       "      <td>...</td>\n",
       "      <td>5.0</td>\n",
       "      <td>4.0</td>\n",
       "      <td>5.0</td>\n",
       "      <td>4.0</td>\n",
       "      <td>4.0</td>\n",
       "      <td>4.0</td>\n",
       "      <td>5.0</td>\n",
       "      <td>0.0</td>\n",
       "      <td>0.0</td>\n",
       "      <td>neutral or dissatisfied</td>\n",
       "    </tr>\n",
       "    <tr>\n",
       "      <th>2</th>\n",
       "      <td>Male</td>\n",
       "      <td>Loyal Customer</td>\n",
       "      <td>31.0</td>\n",
       "      <td>Business travel</td>\n",
       "      <td>Business</td>\n",
       "      <td>3147.0</td>\n",
       "      <td>1.0</td>\n",
       "      <td>1.0</td>\n",
       "      <td>1.0</td>\n",
       "      <td>1.0</td>\n",
       "      <td>...</td>\n",
       "      <td>5.0</td>\n",
       "      <td>4.0</td>\n",
       "      <td>3.0</td>\n",
       "      <td>5.0</td>\n",
       "      <td>5.0</td>\n",
       "      <td>5.0</td>\n",
       "      <td>5.0</td>\n",
       "      <td>2.0</td>\n",
       "      <td>0.0</td>\n",
       "      <td>satisfied</td>\n",
       "    </tr>\n",
       "    <tr>\n",
       "      <th>3</th>\n",
       "      <td>Male</td>\n",
       "      <td>Loyal Customer</td>\n",
       "      <td>53.0</td>\n",
       "      <td>Business travel</td>\n",
       "      <td>Business</td>\n",
       "      <td>2327.0</td>\n",
       "      <td>3.0</td>\n",
       "      <td>2.0</td>\n",
       "      <td>2.0</td>\n",
       "      <td>2.0</td>\n",
       "      <td>...</td>\n",
       "      <td>3.0</td>\n",
       "      <td>5.0</td>\n",
       "      <td>3.0</td>\n",
       "      <td>4.0</td>\n",
       "      <td>3.0</td>\n",
       "      <td>1.0</td>\n",
       "      <td>3.0</td>\n",
       "      <td>186.0</td>\n",
       "      <td>182.0</td>\n",
       "      <td>neutral or dissatisfied</td>\n",
       "    </tr>\n",
       "    <tr>\n",
       "      <th>4</th>\n",
       "      <td>Male</td>\n",
       "      <td>Loyal Customer</td>\n",
       "      <td>30.0</td>\n",
       "      <td>Personal Travel</td>\n",
       "      <td>Eco</td>\n",
       "      <td>650.0</td>\n",
       "      <td>3.0</td>\n",
       "      <td>4.0</td>\n",
       "      <td>3.0</td>\n",
       "      <td>4.0</td>\n",
       "      <td>...</td>\n",
       "      <td>3.0</td>\n",
       "      <td>2.0</td>\n",
       "      <td>2.0</td>\n",
       "      <td>4.0</td>\n",
       "      <td>3.0</td>\n",
       "      <td>4.0</td>\n",
       "      <td>3.0</td>\n",
       "      <td>0.0</td>\n",
       "      <td>0.0</td>\n",
       "      <td>neutral or dissatisfied</td>\n",
       "    </tr>\n",
       "  </tbody>\n",
       "</table>\n",
       "<p>5 rows × 23 columns</p>\n",
       "</div>"
      ],
      "text/plain": [
       "  Gender           Customer   Age   Type_of_Travel     Class  Flight Distance  \\\n",
       "0   Male     Loyal Customer  60.0  Business travel  Business            912.0   \n",
       "1   Male  disloyal Customer  38.0  Business travel  Business            208.0   \n",
       "2   Male     Loyal Customer  31.0  Business travel  Business           3147.0   \n",
       "3   Male     Loyal Customer  53.0  Business travel  Business           2327.0   \n",
       "4   Male     Loyal Customer  30.0  Personal Travel       Eco            650.0   \n",
       "\n",
       "   Inflight wifi  Departure/Arrival_time_convenient  Ease_of_Online booking  \\\n",
       "0            2.0                                2.0                     2.0   \n",
       "1            3.0                                3.0                     3.0   \n",
       "2            1.0                                1.0                     1.0   \n",
       "3            3.0                                2.0                     2.0   \n",
       "4            3.0                                4.0                     3.0   \n",
       "\n",
       "   Gate_location  ...  Inflight entertainment  On-board service  \\\n",
       "0            2.0  ...                     2.0               2.0   \n",
       "1            4.0  ...                     5.0               4.0   \n",
       "2            1.0  ...                     5.0               4.0   \n",
       "3            2.0  ...                     3.0               5.0   \n",
       "4            4.0  ...                     3.0               2.0   \n",
       "\n",
       "   Leg room service  Baggage handling  Checkin service  Inflight service  \\\n",
       "0               2.0               2.0              3.0               2.0   \n",
       "1               5.0               4.0              4.0               4.0   \n",
       "2               3.0               5.0              5.0               5.0   \n",
       "3               3.0               4.0              3.0               1.0   \n",
       "4               2.0               4.0              3.0               4.0   \n",
       "\n",
       "   Cleanliness  Departure_Delay_in_Minutes  Arrival_Delay_in_Minutes  \\\n",
       "0          2.0                        39.0                      23.0   \n",
       "1          5.0                         0.0                       0.0   \n",
       "2          5.0                         2.0                       0.0   \n",
       "3          3.0                       186.0                     182.0   \n",
       "4          3.0                         0.0                       0.0   \n",
       "\n",
       "              satisfaction  \n",
       "0  neutral or dissatisfied  \n",
       "1  neutral or dissatisfied  \n",
       "2                satisfied  \n",
       "3  neutral or dissatisfied  \n",
       "4  neutral or dissatisfied  \n",
       "\n",
       "[5 rows x 23 columns]"
      ]
     },
     "execution_count": 1,
     "metadata": {},
     "output_type": "execute_result"
    }
   ],
   "source": [
    "import pandas as pd\n",
    "import psycopg2\n",
    "from sqlalchemy import create_engine\n",
    "\n",
    "# follows django database settings format, replace with your own settings\n",
    "DATABASES = {\n",
    "    'datafinal':{\n",
    "        'POSTGRES_DBNAME': 'postgres',\n",
    "        'POSTGRES_USERNAME': 'postgres',\n",
    "        'POSTGRES_PASSWORD': 'password',\n",
    "        'POSTGRES_ADDRESS': 'datafinal.c50h51d04cbn.us-east-2.rds.amazonaws.com',\n",
    "        'POSTGRES_PORT': 5432,\n",
    "    },\n",
    "}\n",
    "\n",
    "# choose the database to use\n",
    "db = DATABASES['datafinal']\n",
    "\n",
    "# construct an engine connection string\n",
    "engine_string =  ('postgresql+psycopg2://{username}:{password}@{ipaddress}:{port}/{dbname}'\n",
    "               .format(username= db['POSTGRES_USERNAME'],\n",
    "                      password= db['POSTGRES_PASSWORD'],\n",
    "                      ipaddress= db['POSTGRES_ADDRESS'],\n",
    "                      port= db['POSTGRES_PORT'],\n",
    "                      dbname= db['POSTGRES_DBNAME'])\n",
    "               )\n",
    "\n",
    "# create sqlalchemy engine\n",
    "engine = create_engine(engine_string)\n",
    "\n",
    "# read a table from database into pandas dataframe, replace \"tablename\" with your table name\n",
    "new_train = pd.read_sql_table('train', engine)\n",
    "new_train.head()"
   ]
  },
  {
   "cell_type": "code",
   "execution_count": 2,
   "metadata": {
    "colab": {
     "base_uri": "https://localhost:8080/",
     "height": 333
    },
    "id": "C2mL1SrLsHdy",
    "outputId": "f179d979-228b-466a-a283-18d8002d993b"
   },
   "outputs": [
    {
     "data": {
      "text/html": [
       "<div>\n",
       "<style scoped>\n",
       "    .dataframe tbody tr th:only-of-type {\n",
       "        vertical-align: middle;\n",
       "    }\n",
       "\n",
       "    .dataframe tbody tr th {\n",
       "        vertical-align: top;\n",
       "    }\n",
       "\n",
       "    .dataframe thead th {\n",
       "        text-align: right;\n",
       "    }\n",
       "</style>\n",
       "<table border=\"1\" class=\"dataframe\">\n",
       "  <thead>\n",
       "    <tr style=\"text-align: right;\">\n",
       "      <th></th>\n",
       "      <th>Gender</th>\n",
       "      <th>Customer</th>\n",
       "      <th>Age</th>\n",
       "      <th>Type_of_Travel</th>\n",
       "      <th>Class</th>\n",
       "      <th>Flight Distance</th>\n",
       "      <th>Inflight wifi</th>\n",
       "      <th>Departure/Arrival_time_convenient</th>\n",
       "      <th>Ease_of_Online booking</th>\n",
       "      <th>Gate_location</th>\n",
       "      <th>...</th>\n",
       "      <th>Inflight entertainment</th>\n",
       "      <th>On-board service</th>\n",
       "      <th>Leg room service</th>\n",
       "      <th>Baggage handling</th>\n",
       "      <th>Checkin service</th>\n",
       "      <th>Inflight service</th>\n",
       "      <th>Cleanliness</th>\n",
       "      <th>Departure_Delay_in_Minutes</th>\n",
       "      <th>Arrival_Delay_in_Minutes</th>\n",
       "      <th>satisfaction</th>\n",
       "    </tr>\n",
       "  </thead>\n",
       "  <tbody>\n",
       "    <tr>\n",
       "      <th>0</th>\n",
       "      <td>Female</td>\n",
       "      <td>Loyal Customer</td>\n",
       "      <td>52.0</td>\n",
       "      <td>Business travel</td>\n",
       "      <td>Eco</td>\n",
       "      <td>160.0</td>\n",
       "      <td>5.0</td>\n",
       "      <td>4.0</td>\n",
       "      <td>3.0</td>\n",
       "      <td>4.0</td>\n",
       "      <td>...</td>\n",
       "      <td>5.0</td>\n",
       "      <td>5.0</td>\n",
       "      <td>5.0</td>\n",
       "      <td>5.0</td>\n",
       "      <td>2.0</td>\n",
       "      <td>5.0</td>\n",
       "      <td>5.0</td>\n",
       "      <td>50.0</td>\n",
       "      <td>44.0</td>\n",
       "      <td>satisfied</td>\n",
       "    </tr>\n",
       "    <tr>\n",
       "      <th>1</th>\n",
       "      <td>Female</td>\n",
       "      <td>Loyal Customer</td>\n",
       "      <td>36.0</td>\n",
       "      <td>Business travel</td>\n",
       "      <td>Business</td>\n",
       "      <td>2863.0</td>\n",
       "      <td>1.0</td>\n",
       "      <td>1.0</td>\n",
       "      <td>3.0</td>\n",
       "      <td>1.0</td>\n",
       "      <td>...</td>\n",
       "      <td>4.0</td>\n",
       "      <td>4.0</td>\n",
       "      <td>4.0</td>\n",
       "      <td>4.0</td>\n",
       "      <td>3.0</td>\n",
       "      <td>4.0</td>\n",
       "      <td>5.0</td>\n",
       "      <td>0.0</td>\n",
       "      <td>0.0</td>\n",
       "      <td>satisfied</td>\n",
       "    </tr>\n",
       "    <tr>\n",
       "      <th>2</th>\n",
       "      <td>Male</td>\n",
       "      <td>disloyal Customer</td>\n",
       "      <td>20.0</td>\n",
       "      <td>Business travel</td>\n",
       "      <td>Eco</td>\n",
       "      <td>192.0</td>\n",
       "      <td>2.0</td>\n",
       "      <td>0.0</td>\n",
       "      <td>2.0</td>\n",
       "      <td>4.0</td>\n",
       "      <td>...</td>\n",
       "      <td>2.0</td>\n",
       "      <td>4.0</td>\n",
       "      <td>1.0</td>\n",
       "      <td>3.0</td>\n",
       "      <td>2.0</td>\n",
       "      <td>2.0</td>\n",
       "      <td>2.0</td>\n",
       "      <td>0.0</td>\n",
       "      <td>0.0</td>\n",
       "      <td>neutral or dissatisfied</td>\n",
       "    </tr>\n",
       "    <tr>\n",
       "      <th>3</th>\n",
       "      <td>Male</td>\n",
       "      <td>Loyal Customer</td>\n",
       "      <td>44.0</td>\n",
       "      <td>Business travel</td>\n",
       "      <td>Business</td>\n",
       "      <td>3377.0</td>\n",
       "      <td>0.0</td>\n",
       "      <td>0.0</td>\n",
       "      <td>0.0</td>\n",
       "      <td>2.0</td>\n",
       "      <td>...</td>\n",
       "      <td>1.0</td>\n",
       "      <td>1.0</td>\n",
       "      <td>1.0</td>\n",
       "      <td>1.0</td>\n",
       "      <td>3.0</td>\n",
       "      <td>1.0</td>\n",
       "      <td>4.0</td>\n",
       "      <td>0.0</td>\n",
       "      <td>6.0</td>\n",
       "      <td>satisfied</td>\n",
       "    </tr>\n",
       "    <tr>\n",
       "      <th>4</th>\n",
       "      <td>Female</td>\n",
       "      <td>Loyal Customer</td>\n",
       "      <td>49.0</td>\n",
       "      <td>Business travel</td>\n",
       "      <td>Eco</td>\n",
       "      <td>1182.0</td>\n",
       "      <td>2.0</td>\n",
       "      <td>3.0</td>\n",
       "      <td>4.0</td>\n",
       "      <td>3.0</td>\n",
       "      <td>...</td>\n",
       "      <td>2.0</td>\n",
       "      <td>2.0</td>\n",
       "      <td>2.0</td>\n",
       "      <td>2.0</td>\n",
       "      <td>4.0</td>\n",
       "      <td>2.0</td>\n",
       "      <td>4.0</td>\n",
       "      <td>0.0</td>\n",
       "      <td>20.0</td>\n",
       "      <td>satisfied</td>\n",
       "    </tr>\n",
       "  </tbody>\n",
       "</table>\n",
       "<p>5 rows × 23 columns</p>\n",
       "</div>"
      ],
      "text/plain": [
       "   Gender           Customer   Age   Type_of_Travel     Class  \\\n",
       "0  Female     Loyal Customer  52.0  Business travel       Eco   \n",
       "1  Female     Loyal Customer  36.0  Business travel  Business   \n",
       "2    Male  disloyal Customer  20.0  Business travel       Eco   \n",
       "3    Male     Loyal Customer  44.0  Business travel  Business   \n",
       "4  Female     Loyal Customer  49.0  Business travel       Eco   \n",
       "\n",
       "   Flight Distance  Inflight wifi  Departure/Arrival_time_convenient  \\\n",
       "0            160.0            5.0                                4.0   \n",
       "1           2863.0            1.0                                1.0   \n",
       "2            192.0            2.0                                0.0   \n",
       "3           3377.0            0.0                                0.0   \n",
       "4           1182.0            2.0                                3.0   \n",
       "\n",
       "   Ease_of_Online booking  Gate_location  ...  Inflight entertainment  \\\n",
       "0                     3.0            4.0  ...                     5.0   \n",
       "1                     3.0            1.0  ...                     4.0   \n",
       "2                     2.0            4.0  ...                     2.0   \n",
       "3                     0.0            2.0  ...                     1.0   \n",
       "4                     4.0            3.0  ...                     2.0   \n",
       "\n",
       "   On-board service  Leg room service  Baggage handling  Checkin service  \\\n",
       "0               5.0               5.0               5.0              2.0   \n",
       "1               4.0               4.0               4.0              3.0   \n",
       "2               4.0               1.0               3.0              2.0   \n",
       "3               1.0               1.0               1.0              3.0   \n",
       "4               2.0               2.0               2.0              4.0   \n",
       "\n",
       "   Inflight service  Cleanliness  Departure_Delay_in_Minutes  \\\n",
       "0               5.0          5.0                        50.0   \n",
       "1               4.0          5.0                         0.0   \n",
       "2               2.0          2.0                         0.0   \n",
       "3               1.0          4.0                         0.0   \n",
       "4               2.0          4.0                         0.0   \n",
       "\n",
       "   Arrival_Delay_in_Minutes             satisfaction  \n",
       "0                      44.0                satisfied  \n",
       "1                       0.0                satisfied  \n",
       "2                       0.0  neutral or dissatisfied  \n",
       "3                       6.0                satisfied  \n",
       "4                      20.0                satisfied  \n",
       "\n",
       "[5 rows x 23 columns]"
      ]
     },
     "execution_count": 2,
     "metadata": {},
     "output_type": "execute_result"
    }
   ],
   "source": [
    "# read a table from database into pandas dataframe, replace \"tablename\" with your table name\n",
    "new_test = pd.read_sql_table('test', engine)\n",
    "new_test.head()"
   ]
  },
  {
   "cell_type": "code",
   "execution_count": 3,
   "metadata": {
    "id": "Wyo1lJbxRys_"
   },
   "outputs": [],
   "source": [
    "import warnings\n",
    "warnings.filterwarnings('ignore')"
   ]
  },
  {
   "cell_type": "code",
   "execution_count": 4,
   "metadata": {
    "id": "QygGmtW0Ry0m"
   },
   "outputs": [],
   "source": [
    "import numpy as np\n",
    "import pandas as pd\n",
    "import matplotlib.pyplot as plt\n",
    "from pathlib import Path\n",
    "from collections import Counter"
   ]
  },
  {
   "cell_type": "code",
   "execution_count": 5,
   "metadata": {
    "colab": {
     "base_uri": "https://localhost:8080/",
     "height": 455
    },
    "id": "zvAScg0BRy36",
    "outputId": "b4076980-0cdd-4e03-9896-7540773d5e20"
   },
   "outputs": [
    {
     "data": {
      "text/html": [
       "<div>\n",
       "<style scoped>\n",
       "    .dataframe tbody tr th:only-of-type {\n",
       "        vertical-align: middle;\n",
       "    }\n",
       "\n",
       "    .dataframe tbody tr th {\n",
       "        vertical-align: top;\n",
       "    }\n",
       "\n",
       "    .dataframe thead th {\n",
       "        text-align: right;\n",
       "    }\n",
       "</style>\n",
       "<table border=\"1\" class=\"dataframe\">\n",
       "  <thead>\n",
       "    <tr style=\"text-align: right;\">\n",
       "      <th></th>\n",
       "      <th>Age</th>\n",
       "      <th>Flight Distance</th>\n",
       "      <th>Inflight wifi</th>\n",
       "      <th>Departure/Arrival_time_convenient</th>\n",
       "      <th>Ease_of_Online booking</th>\n",
       "      <th>Gate_location</th>\n",
       "      <th>Food_and_drink</th>\n",
       "      <th>Online boarding</th>\n",
       "      <th>Seat comfort</th>\n",
       "      <th>Inflight entertainment</th>\n",
       "      <th>...</th>\n",
       "      <th>Arrival_Delay_in_Minutes</th>\n",
       "      <th>Gender_Female</th>\n",
       "      <th>Gender_Male</th>\n",
       "      <th>Customer_Loyal Customer</th>\n",
       "      <th>Customer_disloyal Customer</th>\n",
       "      <th>Type_of_Travel_Business travel</th>\n",
       "      <th>Type_of_Travel_Personal Travel</th>\n",
       "      <th>Class_Business</th>\n",
       "      <th>Class_Eco</th>\n",
       "      <th>Class_Eco Plus</th>\n",
       "    </tr>\n",
       "  </thead>\n",
       "  <tbody>\n",
       "    <tr>\n",
       "      <th>0</th>\n",
       "      <td>60.0</td>\n",
       "      <td>912.0</td>\n",
       "      <td>2.0</td>\n",
       "      <td>2.0</td>\n",
       "      <td>2.0</td>\n",
       "      <td>2.0</td>\n",
       "      <td>4.0</td>\n",
       "      <td>3.0</td>\n",
       "      <td>2.0</td>\n",
       "      <td>2.0</td>\n",
       "      <td>...</td>\n",
       "      <td>23.0</td>\n",
       "      <td>0</td>\n",
       "      <td>1</td>\n",
       "      <td>1</td>\n",
       "      <td>0</td>\n",
       "      <td>1</td>\n",
       "      <td>0</td>\n",
       "      <td>1</td>\n",
       "      <td>0</td>\n",
       "      <td>0</td>\n",
       "    </tr>\n",
       "    <tr>\n",
       "      <th>1</th>\n",
       "      <td>38.0</td>\n",
       "      <td>208.0</td>\n",
       "      <td>3.0</td>\n",
       "      <td>3.0</td>\n",
       "      <td>3.0</td>\n",
       "      <td>4.0</td>\n",
       "      <td>5.0</td>\n",
       "      <td>3.0</td>\n",
       "      <td>5.0</td>\n",
       "      <td>5.0</td>\n",
       "      <td>...</td>\n",
       "      <td>0.0</td>\n",
       "      <td>0</td>\n",
       "      <td>1</td>\n",
       "      <td>0</td>\n",
       "      <td>1</td>\n",
       "      <td>1</td>\n",
       "      <td>0</td>\n",
       "      <td>1</td>\n",
       "      <td>0</td>\n",
       "      <td>0</td>\n",
       "    </tr>\n",
       "    <tr>\n",
       "      <th>2</th>\n",
       "      <td>31.0</td>\n",
       "      <td>3147.0</td>\n",
       "      <td>1.0</td>\n",
       "      <td>1.0</td>\n",
       "      <td>1.0</td>\n",
       "      <td>1.0</td>\n",
       "      <td>5.0</td>\n",
       "      <td>5.0</td>\n",
       "      <td>5.0</td>\n",
       "      <td>5.0</td>\n",
       "      <td>...</td>\n",
       "      <td>0.0</td>\n",
       "      <td>0</td>\n",
       "      <td>1</td>\n",
       "      <td>1</td>\n",
       "      <td>0</td>\n",
       "      <td>1</td>\n",
       "      <td>0</td>\n",
       "      <td>1</td>\n",
       "      <td>0</td>\n",
       "      <td>0</td>\n",
       "    </tr>\n",
       "    <tr>\n",
       "      <th>3</th>\n",
       "      <td>53.0</td>\n",
       "      <td>2327.0</td>\n",
       "      <td>3.0</td>\n",
       "      <td>2.0</td>\n",
       "      <td>2.0</td>\n",
       "      <td>2.0</td>\n",
       "      <td>3.0</td>\n",
       "      <td>3.0</td>\n",
       "      <td>3.0</td>\n",
       "      <td>3.0</td>\n",
       "      <td>...</td>\n",
       "      <td>182.0</td>\n",
       "      <td>0</td>\n",
       "      <td>1</td>\n",
       "      <td>1</td>\n",
       "      <td>0</td>\n",
       "      <td>1</td>\n",
       "      <td>0</td>\n",
       "      <td>1</td>\n",
       "      <td>0</td>\n",
       "      <td>0</td>\n",
       "    </tr>\n",
       "    <tr>\n",
       "      <th>4</th>\n",
       "      <td>30.0</td>\n",
       "      <td>650.0</td>\n",
       "      <td>3.0</td>\n",
       "      <td>4.0</td>\n",
       "      <td>3.0</td>\n",
       "      <td>4.0</td>\n",
       "      <td>3.0</td>\n",
       "      <td>3.0</td>\n",
       "      <td>3.0</td>\n",
       "      <td>3.0</td>\n",
       "      <td>...</td>\n",
       "      <td>0.0</td>\n",
       "      <td>0</td>\n",
       "      <td>1</td>\n",
       "      <td>1</td>\n",
       "      <td>0</td>\n",
       "      <td>0</td>\n",
       "      <td>1</td>\n",
       "      <td>0</td>\n",
       "      <td>1</td>\n",
       "      <td>0</td>\n",
       "    </tr>\n",
       "    <tr>\n",
       "      <th>...</th>\n",
       "      <td>...</td>\n",
       "      <td>...</td>\n",
       "      <td>...</td>\n",
       "      <td>...</td>\n",
       "      <td>...</td>\n",
       "      <td>...</td>\n",
       "      <td>...</td>\n",
       "      <td>...</td>\n",
       "      <td>...</td>\n",
       "      <td>...</td>\n",
       "      <td>...</td>\n",
       "      <td>...</td>\n",
       "      <td>...</td>\n",
       "      <td>...</td>\n",
       "      <td>...</td>\n",
       "      <td>...</td>\n",
       "      <td>...</td>\n",
       "      <td>...</td>\n",
       "      <td>...</td>\n",
       "      <td>...</td>\n",
       "      <td>...</td>\n",
       "    </tr>\n",
       "    <tr>\n",
       "      <th>103589</th>\n",
       "      <td>39.0</td>\n",
       "      <td>3483.0</td>\n",
       "      <td>1.0</td>\n",
       "      <td>1.0</td>\n",
       "      <td>1.0</td>\n",
       "      <td>1.0</td>\n",
       "      <td>3.0</td>\n",
       "      <td>5.0</td>\n",
       "      <td>4.0</td>\n",
       "      <td>5.0</td>\n",
       "      <td>...</td>\n",
       "      <td>0.0</td>\n",
       "      <td>1</td>\n",
       "      <td>0</td>\n",
       "      <td>1</td>\n",
       "      <td>0</td>\n",
       "      <td>1</td>\n",
       "      <td>0</td>\n",
       "      <td>1</td>\n",
       "      <td>0</td>\n",
       "      <td>0</td>\n",
       "    </tr>\n",
       "    <tr>\n",
       "      <th>103590</th>\n",
       "      <td>42.0</td>\n",
       "      <td>3636.0</td>\n",
       "      <td>0.0</td>\n",
       "      <td>5.0</td>\n",
       "      <td>0.0</td>\n",
       "      <td>4.0</td>\n",
       "      <td>2.0</td>\n",
       "      <td>5.0</td>\n",
       "      <td>4.0</td>\n",
       "      <td>1.0</td>\n",
       "      <td>...</td>\n",
       "      <td>0.0</td>\n",
       "      <td>0</td>\n",
       "      <td>1</td>\n",
       "      <td>1</td>\n",
       "      <td>0</td>\n",
       "      <td>1</td>\n",
       "      <td>0</td>\n",
       "      <td>1</td>\n",
       "      <td>0</td>\n",
       "      <td>0</td>\n",
       "    </tr>\n",
       "    <tr>\n",
       "      <th>103591</th>\n",
       "      <td>64.0</td>\n",
       "      <td>376.0</td>\n",
       "      <td>1.0</td>\n",
       "      <td>5.0</td>\n",
       "      <td>1.0</td>\n",
       "      <td>1.0</td>\n",
       "      <td>2.0</td>\n",
       "      <td>4.0</td>\n",
       "      <td>5.0</td>\n",
       "      <td>4.0</td>\n",
       "      <td>...</td>\n",
       "      <td>0.0</td>\n",
       "      <td>1</td>\n",
       "      <td>0</td>\n",
       "      <td>1</td>\n",
       "      <td>0</td>\n",
       "      <td>0</td>\n",
       "      <td>1</td>\n",
       "      <td>0</td>\n",
       "      <td>1</td>\n",
       "      <td>0</td>\n",
       "    </tr>\n",
       "    <tr>\n",
       "      <th>103592</th>\n",
       "      <td>57.0</td>\n",
       "      <td>192.0</td>\n",
       "      <td>5.0</td>\n",
       "      <td>5.0</td>\n",
       "      <td>5.0</td>\n",
       "      <td>1.0</td>\n",
       "      <td>2.0</td>\n",
       "      <td>4.0</td>\n",
       "      <td>5.0</td>\n",
       "      <td>4.0</td>\n",
       "      <td>...</td>\n",
       "      <td>0.0</td>\n",
       "      <td>1</td>\n",
       "      <td>0</td>\n",
       "      <td>1</td>\n",
       "      <td>0</td>\n",
       "      <td>0</td>\n",
       "      <td>1</td>\n",
       "      <td>0</td>\n",
       "      <td>1</td>\n",
       "      <td>0</td>\n",
       "    </tr>\n",
       "    <tr>\n",
       "      <th>103593</th>\n",
       "      <td>69.0</td>\n",
       "      <td>2917.0</td>\n",
       "      <td>3.0</td>\n",
       "      <td>3.0</td>\n",
       "      <td>3.0</td>\n",
       "      <td>3.0</td>\n",
       "      <td>3.0</td>\n",
       "      <td>3.0</td>\n",
       "      <td>3.0</td>\n",
       "      <td>4.0</td>\n",
       "      <td>...</td>\n",
       "      <td>179.0</td>\n",
       "      <td>0</td>\n",
       "      <td>1</td>\n",
       "      <td>1</td>\n",
       "      <td>0</td>\n",
       "      <td>0</td>\n",
       "      <td>1</td>\n",
       "      <td>0</td>\n",
       "      <td>1</td>\n",
       "      <td>0</td>\n",
       "    </tr>\n",
       "  </tbody>\n",
       "</table>\n",
       "<p>103594 rows × 27 columns</p>\n",
       "</div>"
      ],
      "text/plain": [
       "         Age  Flight Distance  Inflight wifi  \\\n",
       "0       60.0            912.0            2.0   \n",
       "1       38.0            208.0            3.0   \n",
       "2       31.0           3147.0            1.0   \n",
       "3       53.0           2327.0            3.0   \n",
       "4       30.0            650.0            3.0   \n",
       "...      ...              ...            ...   \n",
       "103589  39.0           3483.0            1.0   \n",
       "103590  42.0           3636.0            0.0   \n",
       "103591  64.0            376.0            1.0   \n",
       "103592  57.0            192.0            5.0   \n",
       "103593  69.0           2917.0            3.0   \n",
       "\n",
       "        Departure/Arrival_time_convenient  Ease_of_Online booking  \\\n",
       "0                                     2.0                     2.0   \n",
       "1                                     3.0                     3.0   \n",
       "2                                     1.0                     1.0   \n",
       "3                                     2.0                     2.0   \n",
       "4                                     4.0                     3.0   \n",
       "...                                   ...                     ...   \n",
       "103589                                1.0                     1.0   \n",
       "103590                                5.0                     0.0   \n",
       "103591                                5.0                     1.0   \n",
       "103592                                5.0                     5.0   \n",
       "103593                                3.0                     3.0   \n",
       "\n",
       "        Gate_location  Food_and_drink  Online boarding  Seat comfort  \\\n",
       "0                 2.0             4.0              3.0           2.0   \n",
       "1                 4.0             5.0              3.0           5.0   \n",
       "2                 1.0             5.0              5.0           5.0   \n",
       "3                 2.0             3.0              3.0           3.0   \n",
       "4                 4.0             3.0              3.0           3.0   \n",
       "...               ...             ...              ...           ...   \n",
       "103589            1.0             3.0              5.0           4.0   \n",
       "103590            4.0             2.0              5.0           4.0   \n",
       "103591            1.0             2.0              4.0           5.0   \n",
       "103592            1.0             2.0              4.0           5.0   \n",
       "103593            3.0             3.0              3.0           3.0   \n",
       "\n",
       "        Inflight entertainment  ...  Arrival_Delay_in_Minutes  Gender_Female  \\\n",
       "0                          2.0  ...                      23.0              0   \n",
       "1                          5.0  ...                       0.0              0   \n",
       "2                          5.0  ...                       0.0              0   \n",
       "3                          3.0  ...                     182.0              0   \n",
       "4                          3.0  ...                       0.0              0   \n",
       "...                        ...  ...                       ...            ...   \n",
       "103589                     5.0  ...                       0.0              1   \n",
       "103590                     1.0  ...                       0.0              0   \n",
       "103591                     4.0  ...                       0.0              1   \n",
       "103592                     4.0  ...                       0.0              1   \n",
       "103593                     4.0  ...                     179.0              0   \n",
       "\n",
       "        Gender_Male  Customer_Loyal Customer  Customer_disloyal Customer  \\\n",
       "0                 1                        1                           0   \n",
       "1                 1                        0                           1   \n",
       "2                 1                        1                           0   \n",
       "3                 1                        1                           0   \n",
       "4                 1                        1                           0   \n",
       "...             ...                      ...                         ...   \n",
       "103589            0                        1                           0   \n",
       "103590            1                        1                           0   \n",
       "103591            0                        1                           0   \n",
       "103592            0                        1                           0   \n",
       "103593            1                        1                           0   \n",
       "\n",
       "        Type_of_Travel_Business travel  Type_of_Travel_Personal Travel  \\\n",
       "0                                    1                               0   \n",
       "1                                    1                               0   \n",
       "2                                    1                               0   \n",
       "3                                    1                               0   \n",
       "4                                    0                               1   \n",
       "...                                ...                             ...   \n",
       "103589                               1                               0   \n",
       "103590                               1                               0   \n",
       "103591                               0                               1   \n",
       "103592                               0                               1   \n",
       "103593                               0                               1   \n",
       "\n",
       "        Class_Business  Class_Eco  Class_Eco Plus  \n",
       "0                    1          0               0  \n",
       "1                    1          0               0  \n",
       "2                    1          0               0  \n",
       "3                    1          0               0  \n",
       "4                    0          1               0  \n",
       "...                ...        ...             ...  \n",
       "103589               1          0               0  \n",
       "103590               1          0               0  \n",
       "103591               0          1               0  \n",
       "103592               0          1               0  \n",
       "103593               0          1               0  \n",
       "\n",
       "[103594 rows x 27 columns]"
      ]
     },
     "execution_count": 5,
     "metadata": {},
     "output_type": "execute_result"
    }
   ],
   "source": [
    "# Create features for new train\n",
    "nw_tr = new_train.drop(columns=\"satisfaction\", axis=1)\n",
    "X_train = pd.get_dummies(nw_tr)\n",
    "\n",
    "# Create target\n",
    "y_train0 = new_train[\"satisfaction\"]\n",
    "\n",
    "X_train"
   ]
  },
  {
   "cell_type": "code",
   "execution_count": 6,
   "metadata": {
    "colab": {
     "base_uri": "https://localhost:8080/",
     "height": 455
    },
    "id": "QWWRP2myRy6_",
    "outputId": "c8835a3d-2e61-4ea8-b950-0c1d4d60df7d"
   },
   "outputs": [
    {
     "data": {
      "text/html": [
       "<div>\n",
       "<style scoped>\n",
       "    .dataframe tbody tr th:only-of-type {\n",
       "        vertical-align: middle;\n",
       "    }\n",
       "\n",
       "    .dataframe tbody tr th {\n",
       "        vertical-align: top;\n",
       "    }\n",
       "\n",
       "    .dataframe thead th {\n",
       "        text-align: right;\n",
       "    }\n",
       "</style>\n",
       "<table border=\"1\" class=\"dataframe\">\n",
       "  <thead>\n",
       "    <tr style=\"text-align: right;\">\n",
       "      <th></th>\n",
       "      <th>Age</th>\n",
       "      <th>Flight Distance</th>\n",
       "      <th>Inflight wifi</th>\n",
       "      <th>Departure/Arrival_time_convenient</th>\n",
       "      <th>Ease_of_Online booking</th>\n",
       "      <th>Gate_location</th>\n",
       "      <th>Food_and_drink</th>\n",
       "      <th>Online boarding</th>\n",
       "      <th>Seat comfort</th>\n",
       "      <th>Inflight entertainment</th>\n",
       "      <th>...</th>\n",
       "      <th>Arrival_Delay_in_Minutes</th>\n",
       "      <th>Gender_Female</th>\n",
       "      <th>Gender_Male</th>\n",
       "      <th>Customer_Loyal Customer</th>\n",
       "      <th>Customer_disloyal Customer</th>\n",
       "      <th>Type_of_Travel_Business travel</th>\n",
       "      <th>Type_of_Travel_Personal Travel</th>\n",
       "      <th>Class_Business</th>\n",
       "      <th>Class_Eco</th>\n",
       "      <th>Class_Eco Plus</th>\n",
       "    </tr>\n",
       "  </thead>\n",
       "  <tbody>\n",
       "    <tr>\n",
       "      <th>0</th>\n",
       "      <td>52.0</td>\n",
       "      <td>160.0</td>\n",
       "      <td>5.0</td>\n",
       "      <td>4.0</td>\n",
       "      <td>3.0</td>\n",
       "      <td>4.0</td>\n",
       "      <td>3.0</td>\n",
       "      <td>4.0</td>\n",
       "      <td>3.0</td>\n",
       "      <td>5.0</td>\n",
       "      <td>...</td>\n",
       "      <td>44.0</td>\n",
       "      <td>1</td>\n",
       "      <td>0</td>\n",
       "      <td>1</td>\n",
       "      <td>0</td>\n",
       "      <td>1</td>\n",
       "      <td>0</td>\n",
       "      <td>0</td>\n",
       "      <td>1</td>\n",
       "      <td>0</td>\n",
       "    </tr>\n",
       "    <tr>\n",
       "      <th>1</th>\n",
       "      <td>36.0</td>\n",
       "      <td>2863.0</td>\n",
       "      <td>1.0</td>\n",
       "      <td>1.0</td>\n",
       "      <td>3.0</td>\n",
       "      <td>1.0</td>\n",
       "      <td>5.0</td>\n",
       "      <td>4.0</td>\n",
       "      <td>5.0</td>\n",
       "      <td>4.0</td>\n",
       "      <td>...</td>\n",
       "      <td>0.0</td>\n",
       "      <td>1</td>\n",
       "      <td>0</td>\n",
       "      <td>1</td>\n",
       "      <td>0</td>\n",
       "      <td>1</td>\n",
       "      <td>0</td>\n",
       "      <td>1</td>\n",
       "      <td>0</td>\n",
       "      <td>0</td>\n",
       "    </tr>\n",
       "    <tr>\n",
       "      <th>2</th>\n",
       "      <td>20.0</td>\n",
       "      <td>192.0</td>\n",
       "      <td>2.0</td>\n",
       "      <td>0.0</td>\n",
       "      <td>2.0</td>\n",
       "      <td>4.0</td>\n",
       "      <td>2.0</td>\n",
       "      <td>2.0</td>\n",
       "      <td>2.0</td>\n",
       "      <td>2.0</td>\n",
       "      <td>...</td>\n",
       "      <td>0.0</td>\n",
       "      <td>0</td>\n",
       "      <td>1</td>\n",
       "      <td>0</td>\n",
       "      <td>1</td>\n",
       "      <td>1</td>\n",
       "      <td>0</td>\n",
       "      <td>0</td>\n",
       "      <td>1</td>\n",
       "      <td>0</td>\n",
       "    </tr>\n",
       "    <tr>\n",
       "      <th>3</th>\n",
       "      <td>44.0</td>\n",
       "      <td>3377.0</td>\n",
       "      <td>0.0</td>\n",
       "      <td>0.0</td>\n",
       "      <td>0.0</td>\n",
       "      <td>2.0</td>\n",
       "      <td>3.0</td>\n",
       "      <td>4.0</td>\n",
       "      <td>4.0</td>\n",
       "      <td>1.0</td>\n",
       "      <td>...</td>\n",
       "      <td>6.0</td>\n",
       "      <td>0</td>\n",
       "      <td>1</td>\n",
       "      <td>1</td>\n",
       "      <td>0</td>\n",
       "      <td>1</td>\n",
       "      <td>0</td>\n",
       "      <td>1</td>\n",
       "      <td>0</td>\n",
       "      <td>0</td>\n",
       "    </tr>\n",
       "    <tr>\n",
       "      <th>4</th>\n",
       "      <td>49.0</td>\n",
       "      <td>1182.0</td>\n",
       "      <td>2.0</td>\n",
       "      <td>3.0</td>\n",
       "      <td>4.0</td>\n",
       "      <td>3.0</td>\n",
       "      <td>4.0</td>\n",
       "      <td>1.0</td>\n",
       "      <td>2.0</td>\n",
       "      <td>2.0</td>\n",
       "      <td>...</td>\n",
       "      <td>20.0</td>\n",
       "      <td>1</td>\n",
       "      <td>0</td>\n",
       "      <td>1</td>\n",
       "      <td>0</td>\n",
       "      <td>1</td>\n",
       "      <td>0</td>\n",
       "      <td>0</td>\n",
       "      <td>1</td>\n",
       "      <td>0</td>\n",
       "    </tr>\n",
       "    <tr>\n",
       "      <th>...</th>\n",
       "      <td>...</td>\n",
       "      <td>...</td>\n",
       "      <td>...</td>\n",
       "      <td>...</td>\n",
       "      <td>...</td>\n",
       "      <td>...</td>\n",
       "      <td>...</td>\n",
       "      <td>...</td>\n",
       "      <td>...</td>\n",
       "      <td>...</td>\n",
       "      <td>...</td>\n",
       "      <td>...</td>\n",
       "      <td>...</td>\n",
       "      <td>...</td>\n",
       "      <td>...</td>\n",
       "      <td>...</td>\n",
       "      <td>...</td>\n",
       "      <td>...</td>\n",
       "      <td>...</td>\n",
       "      <td>...</td>\n",
       "      <td>...</td>\n",
       "    </tr>\n",
       "    <tr>\n",
       "      <th>25888</th>\n",
       "      <td>34.0</td>\n",
       "      <td>526.0</td>\n",
       "      <td>3.0</td>\n",
       "      <td>3.0</td>\n",
       "      <td>3.0</td>\n",
       "      <td>1.0</td>\n",
       "      <td>4.0</td>\n",
       "      <td>3.0</td>\n",
       "      <td>4.0</td>\n",
       "      <td>4.0</td>\n",
       "      <td>...</td>\n",
       "      <td>0.0</td>\n",
       "      <td>0</td>\n",
       "      <td>1</td>\n",
       "      <td>0</td>\n",
       "      <td>1</td>\n",
       "      <td>1</td>\n",
       "      <td>0</td>\n",
       "      <td>1</td>\n",
       "      <td>0</td>\n",
       "      <td>0</td>\n",
       "    </tr>\n",
       "    <tr>\n",
       "      <th>25889</th>\n",
       "      <td>23.0</td>\n",
       "      <td>646.0</td>\n",
       "      <td>4.0</td>\n",
       "      <td>4.0</td>\n",
       "      <td>4.0</td>\n",
       "      <td>4.0</td>\n",
       "      <td>4.0</td>\n",
       "      <td>4.0</td>\n",
       "      <td>4.0</td>\n",
       "      <td>4.0</td>\n",
       "      <td>...</td>\n",
       "      <td>0.0</td>\n",
       "      <td>0</td>\n",
       "      <td>1</td>\n",
       "      <td>1</td>\n",
       "      <td>0</td>\n",
       "      <td>1</td>\n",
       "      <td>0</td>\n",
       "      <td>1</td>\n",
       "      <td>0</td>\n",
       "      <td>0</td>\n",
       "    </tr>\n",
       "    <tr>\n",
       "      <th>25890</th>\n",
       "      <td>17.0</td>\n",
       "      <td>828.0</td>\n",
       "      <td>2.0</td>\n",
       "      <td>5.0</td>\n",
       "      <td>1.0</td>\n",
       "      <td>5.0</td>\n",
       "      <td>2.0</td>\n",
       "      <td>1.0</td>\n",
       "      <td>2.0</td>\n",
       "      <td>2.0</td>\n",
       "      <td>...</td>\n",
       "      <td>0.0</td>\n",
       "      <td>1</td>\n",
       "      <td>0</td>\n",
       "      <td>1</td>\n",
       "      <td>0</td>\n",
       "      <td>0</td>\n",
       "      <td>1</td>\n",
       "      <td>0</td>\n",
       "      <td>1</td>\n",
       "      <td>0</td>\n",
       "    </tr>\n",
       "    <tr>\n",
       "      <th>25891</th>\n",
       "      <td>14.0</td>\n",
       "      <td>1127.0</td>\n",
       "      <td>3.0</td>\n",
       "      <td>3.0</td>\n",
       "      <td>3.0</td>\n",
       "      <td>3.0</td>\n",
       "      <td>4.0</td>\n",
       "      <td>4.0</td>\n",
       "      <td>4.0</td>\n",
       "      <td>4.0</td>\n",
       "      <td>...</td>\n",
       "      <td>0.0</td>\n",
       "      <td>0</td>\n",
       "      <td>1</td>\n",
       "      <td>1</td>\n",
       "      <td>0</td>\n",
       "      <td>1</td>\n",
       "      <td>0</td>\n",
       "      <td>1</td>\n",
       "      <td>0</td>\n",
       "      <td>0</td>\n",
       "    </tr>\n",
       "    <tr>\n",
       "      <th>25892</th>\n",
       "      <td>42.0</td>\n",
       "      <td>264.0</td>\n",
       "      <td>2.0</td>\n",
       "      <td>5.0</td>\n",
       "      <td>2.0</td>\n",
       "      <td>5.0</td>\n",
       "      <td>4.0</td>\n",
       "      <td>2.0</td>\n",
       "      <td>2.0</td>\n",
       "      <td>1.0</td>\n",
       "      <td>...</td>\n",
       "      <td>0.0</td>\n",
       "      <td>1</td>\n",
       "      <td>0</td>\n",
       "      <td>1</td>\n",
       "      <td>0</td>\n",
       "      <td>0</td>\n",
       "      <td>1</td>\n",
       "      <td>0</td>\n",
       "      <td>1</td>\n",
       "      <td>0</td>\n",
       "    </tr>\n",
       "  </tbody>\n",
       "</table>\n",
       "<p>25893 rows × 27 columns</p>\n",
       "</div>"
      ],
      "text/plain": [
       "        Age  Flight Distance  Inflight wifi  \\\n",
       "0      52.0            160.0            5.0   \n",
       "1      36.0           2863.0            1.0   \n",
       "2      20.0            192.0            2.0   \n",
       "3      44.0           3377.0            0.0   \n",
       "4      49.0           1182.0            2.0   \n",
       "...     ...              ...            ...   \n",
       "25888  34.0            526.0            3.0   \n",
       "25889  23.0            646.0            4.0   \n",
       "25890  17.0            828.0            2.0   \n",
       "25891  14.0           1127.0            3.0   \n",
       "25892  42.0            264.0            2.0   \n",
       "\n",
       "       Departure/Arrival_time_convenient  Ease_of_Online booking  \\\n",
       "0                                    4.0                     3.0   \n",
       "1                                    1.0                     3.0   \n",
       "2                                    0.0                     2.0   \n",
       "3                                    0.0                     0.0   \n",
       "4                                    3.0                     4.0   \n",
       "...                                  ...                     ...   \n",
       "25888                                3.0                     3.0   \n",
       "25889                                4.0                     4.0   \n",
       "25890                                5.0                     1.0   \n",
       "25891                                3.0                     3.0   \n",
       "25892                                5.0                     2.0   \n",
       "\n",
       "       Gate_location  Food_and_drink  Online boarding  Seat comfort  \\\n",
       "0                4.0             3.0              4.0           3.0   \n",
       "1                1.0             5.0              4.0           5.0   \n",
       "2                4.0             2.0              2.0           2.0   \n",
       "3                2.0             3.0              4.0           4.0   \n",
       "4                3.0             4.0              1.0           2.0   \n",
       "...              ...             ...              ...           ...   \n",
       "25888            1.0             4.0              3.0           4.0   \n",
       "25889            4.0             4.0              4.0           4.0   \n",
       "25890            5.0             2.0              1.0           2.0   \n",
       "25891            3.0             4.0              4.0           4.0   \n",
       "25892            5.0             4.0              2.0           2.0   \n",
       "\n",
       "       Inflight entertainment  ...  Arrival_Delay_in_Minutes  Gender_Female  \\\n",
       "0                         5.0  ...                      44.0              1   \n",
       "1                         4.0  ...                       0.0              1   \n",
       "2                         2.0  ...                       0.0              0   \n",
       "3                         1.0  ...                       6.0              0   \n",
       "4                         2.0  ...                      20.0              1   \n",
       "...                       ...  ...                       ...            ...   \n",
       "25888                     4.0  ...                       0.0              0   \n",
       "25889                     4.0  ...                       0.0              0   \n",
       "25890                     2.0  ...                       0.0              1   \n",
       "25891                     4.0  ...                       0.0              0   \n",
       "25892                     1.0  ...                       0.0              1   \n",
       "\n",
       "       Gender_Male  Customer_Loyal Customer  Customer_disloyal Customer  \\\n",
       "0                0                        1                           0   \n",
       "1                0                        1                           0   \n",
       "2                1                        0                           1   \n",
       "3                1                        1                           0   \n",
       "4                0                        1                           0   \n",
       "...            ...                      ...                         ...   \n",
       "25888            1                        0                           1   \n",
       "25889            1                        1                           0   \n",
       "25890            0                        1                           0   \n",
       "25891            1                        1                           0   \n",
       "25892            0                        1                           0   \n",
       "\n",
       "       Type_of_Travel_Business travel  Type_of_Travel_Personal Travel  \\\n",
       "0                                   1                               0   \n",
       "1                                   1                               0   \n",
       "2                                   1                               0   \n",
       "3                                   1                               0   \n",
       "4                                   1                               0   \n",
       "...                               ...                             ...   \n",
       "25888                               1                               0   \n",
       "25889                               1                               0   \n",
       "25890                               0                               1   \n",
       "25891                               1                               0   \n",
       "25892                               0                               1   \n",
       "\n",
       "       Class_Business  Class_Eco  Class_Eco Plus  \n",
       "0                   0          1               0  \n",
       "1                   1          0               0  \n",
       "2                   0          1               0  \n",
       "3                   1          0               0  \n",
       "4                   0          1               0  \n",
       "...               ...        ...             ...  \n",
       "25888               1          0               0  \n",
       "25889               1          0               0  \n",
       "25890               0          1               0  \n",
       "25891               1          0               0  \n",
       "25892               0          1               0  \n",
       "\n",
       "[25893 rows x 27 columns]"
      ]
     },
     "execution_count": 6,
     "metadata": {},
     "output_type": "execute_result"
    }
   ],
   "source": [
    "# Create features for new test\n",
    "nw_ts = new_test.drop(columns=\"satisfaction\", axis=1)\n",
    "X_test = pd.get_dummies(nw_ts)\n",
    "\n",
    "# Create target\n",
    "y_test0 = new_test[\"satisfaction\"]\n",
    "\n",
    "X_test"
   ]
  },
  {
   "cell_type": "code",
   "execution_count": 7,
   "metadata": {
    "colab": {
     "base_uri": "https://localhost:8080/"
    },
    "id": "HVkkvaCURy91",
    "outputId": "a67f9123-69cc-4d6a-8dc9-9ea3d31a4e7b"
   },
   "outputs": [
    {
     "data": {
      "text/plain": [
       "count                      103594\n",
       "unique                          2\n",
       "top       neutral or dissatisfied\n",
       "freq                        58697\n",
       "Name: satisfaction, dtype: object"
      ]
     },
     "execution_count": 7,
     "metadata": {},
     "output_type": "execute_result"
    }
   ],
   "source": [
    "y_train0.describe()"
   ]
  },
  {
   "cell_type": "code",
   "execution_count": 8,
   "metadata": {
    "colab": {
     "base_uri": "https://localhost:8080/"
    },
    "id": "o6gxECgwXCaq",
    "outputId": "d15cacdf-1f8d-4c38-e008-af0500826af3"
   },
   "outputs": [
    {
     "data": {
      "text/plain": [
       "count                       25893\n",
       "unique                          2\n",
       "top       neutral or dissatisfied\n",
       "freq                        14528\n",
       "Name: satisfaction, dtype: object"
      ]
     },
     "execution_count": 8,
     "metadata": {},
     "output_type": "execute_result"
    }
   ],
   "source": [
    "y_test0.describe()"
   ]
  },
  {
   "cell_type": "code",
   "execution_count": 9,
   "metadata": {
    "id": "PJknxqkQRzAu"
   },
   "outputs": [],
   "source": [
    "from sklearn.preprocessing import LabelEncoder"
   ]
  },
  {
   "cell_type": "code",
   "execution_count": 10,
   "metadata": {
    "id": "Ydk6Ehc3RzDy"
   },
   "outputs": [],
   "source": [
    "#Encode text labels into numerical values\n",
    "le = LabelEncoder()\n",
    "y_train = le.fit_transform(y_train0)\n",
    "y_test = le.fit_transform(y_test0)"
   ]
  },
  {
   "cell_type": "code",
   "execution_count": 11,
   "metadata": {
    "colab": {
     "base_uri": "https://localhost:8080/"
    },
    "id": "OJfW4p5PRzG5",
    "outputId": "65ecc0dc-52d1-42a7-8fd5-e3da2c302523"
   },
   "outputs": [
    {
     "name": "stdout",
     "output_type": "stream",
     "text": [
      "[0 0 1 ... 0 1 0]\n",
      "[1 1 0 ... 0 1 0]\n"
     ]
    }
   ],
   "source": [
    "# Check the balance of target values\n",
    "#y_encoded.value_counts()\n",
    "print(y_train)\n",
    "print(y_test)"
   ]
  },
  {
   "cell_type": "code",
   "execution_count": 12,
   "metadata": {
    "colab": {
     "base_uri": "https://localhost:8080/"
    },
    "id": "FLpu06HJ_W0l",
    "outputId": "0c027897-8aed-499a-8a83-42727768aa66"
   },
   "outputs": [
    {
     "data": {
      "text/plain": [
       "array(['neutral or dissatisfied', 'satisfied'], dtype=object)"
      ]
     },
     "execution_count": 12,
     "metadata": {},
     "output_type": "execute_result"
    }
   ],
   "source": [
    "le.classes_"
   ]
  },
  {
   "cell_type": "code",
   "execution_count": 13,
   "metadata": {
    "colab": {
     "base_uri": "https://localhost:8080/"
    },
    "id": "DzWl9O15wb_P",
    "outputId": "ded2b1b5-2ffd-405f-bc74-819fa560fb40"
   },
   "outputs": [
    {
     "data": {
      "text/plain": [
       "0    58697\n",
       "1    44897\n",
       "dtype: int64"
      ]
     },
     "execution_count": 13,
     "metadata": {},
     "output_type": "execute_result"
    }
   ],
   "source": [
    "pd.Series(y_train).value_counts()"
   ]
  },
  {
   "cell_type": "code",
   "execution_count": 14,
   "metadata": {
    "colab": {
     "base_uri": "https://localhost:8080/"
    },
    "id": "EQWPcdfswrM_",
    "outputId": "2e7d7184-4a01-4b3c-a2ed-4cdd301a1746"
   },
   "outputs": [
    {
     "data": {
      "text/plain": [
       "0    14528\n",
       "1    11365\n",
       "dtype: int64"
      ]
     },
     "execution_count": 14,
     "metadata": {},
     "output_type": "execute_result"
    }
   ],
   "source": [
    "pd.Series(y_test).value_counts()"
   ]
  },
  {
   "cell_type": "code",
   "execution_count": 15,
   "metadata": {
    "colab": {
     "base_uri": "https://localhost:8080/"
    },
    "id": "HiB1bPfCXu-B",
    "outputId": "ffe2d3b5-c4a1-4a8b-d97e-e3daaa30c521"
   },
   "outputs": [
    {
     "data": {
      "text/plain": [
       "Age                                  103594\n",
       "Flight Distance                      103594\n",
       "Inflight wifi                        103594\n",
       "Departure/Arrival_time_convenient    103594\n",
       "Ease_of_Online booking               103594\n",
       "Gate_location                        103594\n",
       "Food_and_drink                       103594\n",
       "Online boarding                      103594\n",
       "Seat comfort                         103594\n",
       "Inflight entertainment               103594\n",
       "On-board service                     103594\n",
       "Leg room service                     103594\n",
       "Baggage handling                     103594\n",
       "Checkin service                      103594\n",
       "Inflight service                     103594\n",
       "Cleanliness                          103594\n",
       "Departure_Delay_in_Minutes           103594\n",
       "Arrival_Delay_in_Minutes             103594\n",
       "Gender_Female                        103594\n",
       "Gender_Male                          103594\n",
       "Customer_Loyal Customer              103594\n",
       "Customer_disloyal Customer           103594\n",
       "Type_of_Travel_Business travel       103594\n",
       "Type_of_Travel_Personal Travel       103594\n",
       "Class_Business                       103594\n",
       "Class_Eco                            103594\n",
       "Class_Eco Plus                       103594\n",
       "dtype: int64"
      ]
     },
     "execution_count": 15,
     "metadata": {},
     "output_type": "execute_result"
    }
   ],
   "source": [
    "X_train.count()"
   ]
  },
  {
   "cell_type": "code",
   "execution_count": 16,
   "metadata": {
    "colab": {
     "base_uri": "https://localhost:8080/"
    },
    "id": "DaB2J0n50ris",
    "outputId": "5788b6f1-0688-419c-e809-ccb67aa24afe"
   },
   "outputs": [
    {
     "data": {
      "text/plain": [
       "Age                                  float64\n",
       "Flight Distance                      float64\n",
       "Inflight wifi                        float64\n",
       "Departure/Arrival_time_convenient    float64\n",
       "Ease_of_Online booking               float64\n",
       "Gate_location                        float64\n",
       "Food_and_drink                       float64\n",
       "Online boarding                      float64\n",
       "Seat comfort                         float64\n",
       "Inflight entertainment               float64\n",
       "On-board service                     float64\n",
       "Leg room service                     float64\n",
       "Baggage handling                     float64\n",
       "Checkin service                      float64\n",
       "Inflight service                     float64\n",
       "Cleanliness                          float64\n",
       "Departure_Delay_in_Minutes           float64\n",
       "Arrival_Delay_in_Minutes             float64\n",
       "Gender_Female                          uint8\n",
       "Gender_Male                            uint8\n",
       "Customer_Loyal Customer                uint8\n",
       "Customer_disloyal Customer             uint8\n",
       "Type_of_Travel_Business travel         uint8\n",
       "Type_of_Travel_Personal Travel         uint8\n",
       "Class_Business                         uint8\n",
       "Class_Eco                              uint8\n",
       "Class_Eco Plus                         uint8\n",
       "dtype: object"
      ]
     },
     "execution_count": 16,
     "metadata": {},
     "output_type": "execute_result"
    }
   ],
   "source": [
    "X_train.dtypes"
   ]
  },
  {
   "cell_type": "code",
   "execution_count": 17,
   "metadata": {
    "colab": {
     "base_uri": "https://localhost:8080/"
    },
    "id": "o0WnwQdRXvEU",
    "outputId": "2a2f2caf-24f1-47a9-9349-519675a45a30"
   },
   "outputs": [
    {
     "data": {
      "text/plain": [
       "LogisticRegression(random_state=1)"
      ]
     },
     "execution_count": 17,
     "metadata": {},
     "output_type": "execute_result"
    }
   ],
   "source": [
    "from sklearn.linear_model import LogisticRegression\n",
    "classifier = LogisticRegression(solver='lbfgs', random_state=1)\n",
    "classifier"
   ]
  },
  {
   "cell_type": "code",
   "execution_count": 18,
   "metadata": {
    "colab": {
     "base_uri": "https://localhost:8080/"
    },
    "id": "8kz8cegOXvG4",
    "outputId": "12069f15-df0f-45a1-f126-ad9ce684ba16"
   },
   "outputs": [
    {
     "data": {
      "text/plain": [
       "LogisticRegression(random_state=1)"
      ]
     },
     "execution_count": 18,
     "metadata": {},
     "output_type": "execute_result"
    }
   ],
   "source": [
    "# Train the data\n",
    "classifier.fit(X_train, y_train)\n",
    "#print(y_encoded)\n",
    "#new_train.dtypes\n"
   ]
  },
  {
   "cell_type": "code",
   "execution_count": 19,
   "metadata": {
    "colab": {
     "base_uri": "https://localhost:8080/",
     "height": 402
    },
    "id": "FS5832Ud1Wmi",
    "outputId": "8da35ca3-096b-4ad7-98c7-2b9f54a674d9"
   },
   "outputs": [
    {
     "data": {
      "text/html": [
       "<div>\n",
       "<style scoped>\n",
       "    .dataframe tbody tr th:only-of-type {\n",
       "        vertical-align: middle;\n",
       "    }\n",
       "\n",
       "    .dataframe tbody tr th {\n",
       "        vertical-align: top;\n",
       "    }\n",
       "\n",
       "    .dataframe thead th {\n",
       "        text-align: right;\n",
       "    }\n",
       "</style>\n",
       "<table border=\"1\" class=\"dataframe\">\n",
       "  <thead>\n",
       "    <tr style=\"text-align: right;\">\n",
       "      <th></th>\n",
       "      <th>Prediction</th>\n",
       "      <th>Actual</th>\n",
       "    </tr>\n",
       "  </thead>\n",
       "  <tbody>\n",
       "    <tr>\n",
       "      <th>0</th>\n",
       "      <td>0</td>\n",
       "      <td>1</td>\n",
       "    </tr>\n",
       "    <tr>\n",
       "      <th>1</th>\n",
       "      <td>1</td>\n",
       "      <td>1</td>\n",
       "    </tr>\n",
       "    <tr>\n",
       "      <th>2</th>\n",
       "      <td>0</td>\n",
       "      <td>0</td>\n",
       "    </tr>\n",
       "    <tr>\n",
       "      <th>3</th>\n",
       "      <td>1</td>\n",
       "      <td>1</td>\n",
       "    </tr>\n",
       "    <tr>\n",
       "      <th>4</th>\n",
       "      <td>0</td>\n",
       "      <td>1</td>\n",
       "    </tr>\n",
       "    <tr>\n",
       "      <th>...</th>\n",
       "      <td>...</td>\n",
       "      <td>...</td>\n",
       "    </tr>\n",
       "    <tr>\n",
       "      <th>25888</th>\n",
       "      <td>1</td>\n",
       "      <td>0</td>\n",
       "    </tr>\n",
       "    <tr>\n",
       "      <th>25889</th>\n",
       "      <td>1</td>\n",
       "      <td>1</td>\n",
       "    </tr>\n",
       "    <tr>\n",
       "      <th>25890</th>\n",
       "      <td>0</td>\n",
       "      <td>0</td>\n",
       "    </tr>\n",
       "    <tr>\n",
       "      <th>25891</th>\n",
       "      <td>1</td>\n",
       "      <td>1</td>\n",
       "    </tr>\n",
       "    <tr>\n",
       "      <th>25892</th>\n",
       "      <td>0</td>\n",
       "      <td>0</td>\n",
       "    </tr>\n",
       "  </tbody>\n",
       "</table>\n",
       "<p>25893 rows × 2 columns</p>\n",
       "</div>"
      ],
      "text/plain": [
       "       Prediction  Actual\n",
       "0               0       1\n",
       "1               1       1\n",
       "2               0       0\n",
       "3               1       1\n",
       "4               0       1\n",
       "...           ...     ...\n",
       "25888           1       0\n",
       "25889           1       1\n",
       "25890           0       0\n",
       "25891           1       1\n",
       "25892           0       0\n",
       "\n",
       "[25893 rows x 2 columns]"
      ]
     },
     "execution_count": 19,
     "metadata": {},
     "output_type": "execute_result"
    }
   ],
   "source": [
    "# Predict outcomes for train data set\n",
    "predictions = classifier.predict(X_test)\n",
    "df =pd.DataFrame({\"Prediction\": predictions, \"Actual\": y_test})\n",
    "df\n"
   ]
  },
  {
   "cell_type": "code",
   "execution_count": 20,
   "metadata": {
    "colab": {
     "base_uri": "https://localhost:8080/"
    },
    "id": "x_WLrs8hRzJL",
    "outputId": "c3f44b91-9852-4d3a-b892-5c96d057486f"
   },
   "outputs": [
    {
     "data": {
      "text/plain": [
       "0.7743019348858765"
      ]
     },
     "execution_count": 20,
     "metadata": {},
     "output_type": "execute_result"
    }
   ],
   "source": [
    "from sklearn.metrics import accuracy_score\n",
    "accuracy_score(y_test, predictions)"
   ]
  },
  {
   "cell_type": "code",
   "execution_count": 21,
   "metadata": {
    "colab": {
     "base_uri": "https://localhost:8080/"
    },
    "id": "ysrLYgk44xut",
    "outputId": "c6610da0-14f9-4059-9673-a79122689bc8"
   },
   "outputs": [
    {
     "data": {
      "text/plain": [
       "0    14528\n",
       "1    11365\n",
       "Name: Actual, dtype: int64"
      ]
     },
     "execution_count": 21,
     "metadata": {},
     "output_type": "execute_result"
    }
   ],
   "source": [
    "df[\"Actual\"].value_counts()"
   ]
  },
  {
   "cell_type": "code",
   "execution_count": 22,
   "metadata": {
    "colab": {
     "base_uri": "https://localhost:8080/"
    },
    "id": "3suRvVMU_DDk",
    "outputId": "cb301aec-72ef-46fd-8370-40886dc16ff6"
   },
   "outputs": [
    {
     "name": "stdout",
     "output_type": "stream",
     "text": [
      "[[11531  2997]\n",
      " [ 2847  8518]]\n"
     ]
    }
   ],
   "source": [
    "# import the confusion_matrix, which is the table of \n",
    "# true positives, false positives, true negatives, and false negatives.\n",
    "\n",
    "from sklearn.metrics import confusion_matrix\n",
    "c_matrix =confusion_matrix(y_test, predictions)\n",
    "print(c_matrix)"
   ]
  },
  {
   "cell_type": "code",
   "execution_count": 23,
   "metadata": {
    "colab": {
     "base_uri": "https://localhost:8080/"
    },
    "id": "3yIYlUzE6Doc",
    "outputId": "67b523f2-caf0-4437-8f4d-466876904769"
   },
   "outputs": [
    {
     "name": "stdout",
     "output_type": "stream",
     "text": [
      "              precision    recall  f1-score   support\n",
      "\n",
      "           0       0.80      0.79      0.80     14528\n",
      "           1       0.74      0.75      0.74     11365\n",
      "\n",
      "    accuracy                           0.77     25893\n",
      "   macro avg       0.77      0.77      0.77     25893\n",
      "weighted avg       0.77      0.77      0.77     25893\n",
      "\n"
     ]
    }
   ],
   "source": [
    "# Scikitlearn's classification_report calculates the metrics of the model\n",
    "# Precision = TP/(TP + FP),  recall (sensitivity) TP/(TP + FN)\n",
    "# F1 = 2(Precision * Sensitivity)/(Precision + Sensitivity)\n",
    "from sklearn.metrics import classification_report\n",
    "report = classification_report(y_test, predictions)\n",
    "print(report)"
   ]
  },
  {
   "cell_type": "code",
   "execution_count": 24,
   "metadata": {
    "colab": {
     "base_uri": "https://localhost:8080/",
     "height": 317
    },
    "id": "SGQcgCoG6Doc",
    "outputId": "c422f803-8c25-4437-b482-895864a568ec"
   },
   "outputs": [
    {
     "name": "stdout",
     "output_type": "stream",
     "text": [
      "LogisticRegression\n"
     ]
    },
    {
     "data": {
      "image/png": "[encoded data removed]",
      "text/plain": [
       "<Figure size 432x288 with 2 Axes>"
      ]
     },
     "metadata": {
      "needs_background": "light"
     },
     "output_type": "display_data"
    }
   ],
   "source": [
    "# plot for confusion matrix\n",
    "from sklearn.metrics import plot_confusion_matrix\n",
    "import matplotlib.pyplot as plt\n",
    "print(\"LogisticRegression\")\n",
    "plot_confusion_matrix(classifier, X_test, y_test,cmap=\"Blues\",values_format=\"d\",display_labels=[\"neutral or dissatisfied\", \"satisfied\"])\n",
    "plt.title(\"Confusion Matrix\", fontsize=20)\n",
    "plt.grid(b=False)\n",
    "plt.show()"
   ]
  },
  {
   "cell_type": "code",
   "execution_count": 56,
   "metadata": {
    "colab": {
     "base_uri": "https://localhost:8080/",
     "height": 279
    },
    "id": "fmRCUcKj6Dod",
    "outputId": "36083bb8-a51e-44aa-b216-37c610fbd4e6"
   },
   "outputs": [
    {
     "data": {
      "image/png": "[encoded data removed]",
      "text/plain": [
       "<Figure size 432x360 with 1 Axes>"
      ]
     },
     "metadata": {
      "needs_background": "light"
     },
     "output_type": "display_data"
    }
   ],
   "source": [
    "# plot receiver operating characteristic (ROC) curve and detection error tradeoff (DET) curves\n",
    "# A ROC curve is a graphical plot that illustrates the diagnostic ability of a binary classifier system \n",
    "# as its discrimination threshold is varied. \n",
    "# The ROC curve is created by plotting the true positive rate (TPR) against the false positive rate (FPR) \n",
    "# at various threshold settings. The true-positive rate is also known as sensitivity, recall.\n",
    "\n",
    "from sklearn import datasets, metrics, model_selection\n",
    "from sklearn.metrics import plot_roc_curve\n",
    "\n",
    "lr_roc = plot_roc_curve(classifier, X_test, y_test)\n",
    "plt.plot([0, 1], [0, 1], color='navy', linestyle='--')\n",
    "plt.gcf().set_size_inches(6, 5)\n",
    "plt.legend(loc=\"lower right\")\n",
    "plt.title('LogisticRegression')\n",
    "plt.grid(True)\n",
    "plt.show()"
   ]
  },
  {
   "cell_type": "code",
   "execution_count": 26,
   "metadata": {
    "id": "v3ryIqqk6Doe"
   },
   "outputs": [],
   "source": [
    "from sklearn.ensemble import RandomForestClassifier\n",
    "from sklearn.pipeline import make_pipeline\n",
    "from sklearn.preprocessing import StandardScaler\n",
    "from sklearn.svm import LinearSVC\n",
    "\n"
   ]
  },
  {
   "cell_type": "code",
   "execution_count": 27,
   "metadata": {
    "colab": {
     "base_uri": "https://localhost:8080/"
    },
    "id": "pc3ECeVhTzly",
    "outputId": "2c58b44a-466d-407e-ffea-63b9a6aa1a76"
   },
   "outputs": [
    {
     "data": {
      "text/plain": [
       "RandomForestClassifier(max_depth=5, max_features=1, n_estimators=10)"
      ]
     },
     "execution_count": 27,
     "metadata": {},
     "output_type": "execute_result"
    }
   ],
   "source": [
    "RFClassifier = RandomForestClassifier(max_depth=5, n_estimators=10,max_features=1)\n",
    "RFClassifier"
   ]
  },
  {
   "cell_type": "code",
   "execution_count": 28,
   "metadata": {
    "colab": {
     "base_uri": "https://localhost:8080/"
    },
    "id": "NcKnTxOqTzpl",
    "outputId": "b47c485f-aa1b-477e-dbf2-7a0f57925f82"
   },
   "outputs": [
    {
     "data": {
      "text/plain": [
       "RandomForestClassifier(max_depth=5, max_features=1, n_estimators=10)"
      ]
     },
     "execution_count": 28,
     "metadata": {},
     "output_type": "execute_result"
    }
   ],
   "source": [
    "RFClassifier.fit(X_train, y_train)"
   ]
  },
  {
   "cell_type": "code",
   "execution_count": 29,
   "metadata": {
    "colab": {
     "base_uri": "https://localhost:8080/",
     "height": 402
    },
    "id": "Nw0CUwlL-AUV",
    "outputId": "e4829619-6c33-4165-cf7f-7f63b1025e3f"
   },
   "outputs": [
    {
     "data": {
      "text/html": [
       "<div>\n",
       "<style scoped>\n",
       "    .dataframe tbody tr th:only-of-type {\n",
       "        vertical-align: middle;\n",
       "    }\n",
       "\n",
       "    .dataframe tbody tr th {\n",
       "        vertical-align: top;\n",
       "    }\n",
       "\n",
       "    .dataframe thead th {\n",
       "        text-align: right;\n",
       "    }\n",
       "</style>\n",
       "<table border=\"1\" class=\"dataframe\">\n",
       "  <thead>\n",
       "    <tr style=\"text-align: right;\">\n",
       "      <th></th>\n",
       "      <th>Prediction</th>\n",
       "      <th>Actual</th>\n",
       "    </tr>\n",
       "  </thead>\n",
       "  <tbody>\n",
       "    <tr>\n",
       "      <th>0</th>\n",
       "      <td>0</td>\n",
       "      <td>1</td>\n",
       "    </tr>\n",
       "    <tr>\n",
       "      <th>1</th>\n",
       "      <td>1</td>\n",
       "      <td>1</td>\n",
       "    </tr>\n",
       "    <tr>\n",
       "      <th>2</th>\n",
       "      <td>0</td>\n",
       "      <td>0</td>\n",
       "    </tr>\n",
       "    <tr>\n",
       "      <th>3</th>\n",
       "      <td>1</td>\n",
       "      <td>1</td>\n",
       "    </tr>\n",
       "    <tr>\n",
       "      <th>4</th>\n",
       "      <td>0</td>\n",
       "      <td>1</td>\n",
       "    </tr>\n",
       "    <tr>\n",
       "      <th>...</th>\n",
       "      <td>...</td>\n",
       "      <td>...</td>\n",
       "    </tr>\n",
       "    <tr>\n",
       "      <th>25888</th>\n",
       "      <td>0</td>\n",
       "      <td>0</td>\n",
       "    </tr>\n",
       "    <tr>\n",
       "      <th>25889</th>\n",
       "      <td>1</td>\n",
       "      <td>1</td>\n",
       "    </tr>\n",
       "    <tr>\n",
       "      <th>25890</th>\n",
       "      <td>0</td>\n",
       "      <td>0</td>\n",
       "    </tr>\n",
       "    <tr>\n",
       "      <th>25891</th>\n",
       "      <td>1</td>\n",
       "      <td>1</td>\n",
       "    </tr>\n",
       "    <tr>\n",
       "      <th>25892</th>\n",
       "      <td>0</td>\n",
       "      <td>0</td>\n",
       "    </tr>\n",
       "  </tbody>\n",
       "</table>\n",
       "<p>25893 rows × 2 columns</p>\n",
       "</div>"
      ],
      "text/plain": [
       "       Prediction  Actual\n",
       "0               0       1\n",
       "1               1       1\n",
       "2               0       0\n",
       "3               1       1\n",
       "4               0       1\n",
       "...           ...     ...\n",
       "25888           0       0\n",
       "25889           1       1\n",
       "25890           0       0\n",
       "25891           1       1\n",
       "25892           0       0\n",
       "\n",
       "[25893 rows x 2 columns]"
      ]
     },
     "execution_count": 29,
     "metadata": {},
     "output_type": "execute_result"
    }
   ],
   "source": [
    "rf_predictions = RFClassifier.predict(X_test)\n",
    "rf_df =pd.DataFrame({\"Prediction\": rf_predictions, \"Actual\": y_test})\n",
    "rf_df"
   ]
  },
  {
   "cell_type": "code",
   "execution_count": 30,
   "metadata": {
    "colab": {
     "base_uri": "https://localhost:8080/"
    },
    "id": "UjVjnGLU-Uvc",
    "outputId": "7413eeec-423b-4ce4-a0a4-71dcb37685a7"
   },
   "outputs": [
    {
     "data": {
      "text/plain": [
       "0.8660641872320705"
      ]
     },
     "execution_count": 30,
     "metadata": {},
     "output_type": "execute_result"
    }
   ],
   "source": [
    "from sklearn.metrics import accuracy_score\n",
    "accuracy_score(y_test, rf_predictions)"
   ]
  },
  {
   "cell_type": "code",
   "execution_count": 31,
   "metadata": {
    "colab": {
     "base_uri": "https://localhost:8080/"
    },
    "id": "zYnV_AwM-eey",
    "outputId": "a0ecca16-f799-4021-9814-6d98e82aed32"
   },
   "outputs": [
    {
     "name": "stdout",
     "output_type": "stream",
     "text": [
      "[[13649   879]\n",
      " [ 2589  8776]]\n"
     ]
    }
   ],
   "source": [
    "# import the confusion_matrix, which is the table of \n",
    "# true positives, false positives, true negatives, and false negatives.\n",
    "\n",
    "from sklearn.metrics import confusion_matrix\n",
    "rf_c_matrix =confusion_matrix(y_test, rf_predictions)\n",
    "print(rf_c_matrix)"
   ]
  },
  {
   "cell_type": "code",
   "execution_count": 32,
   "metadata": {
    "colab": {
     "base_uri": "https://localhost:8080/"
    },
    "id": "478tYJeh-qNE",
    "outputId": "cc78fa03-3dcc-4cd0-cd97-358349c78d36"
   },
   "outputs": [
    {
     "name": "stdout",
     "output_type": "stream",
     "text": [
      "              precision    recall  f1-score   support\n",
      "\n",
      "           0       0.84      0.94      0.89     14528\n",
      "           1       0.91      0.77      0.84     11365\n",
      "\n",
      "    accuracy                           0.87     25893\n",
      "   macro avg       0.87      0.86      0.86     25893\n",
      "weighted avg       0.87      0.87      0.86     25893\n",
      "\n"
     ]
    }
   ],
   "source": [
    "# Scikitlearn's classification_report calculates the metrics of the model\n",
    "# Precision = TP/(TP + FP),  recall (sensitivity) TP/(TP + FN)\n",
    "# F1 = 2(Precision * Sensitivity)/(Precision + Sensitivity)\n",
    "from sklearn.metrics import classification_report\n",
    "rf_report = classification_report(y_test, rf_predictions)\n",
    "print(rf_report)"
   ]
  },
  {
   "cell_type": "code",
   "execution_count": 33,
   "metadata": {
    "colab": {
     "base_uri": "https://localhost:8080/",
     "height": 317
    },
    "id": "rNlbhvi_-0ZY",
    "outputId": "88108bde-45ed-4d2c-c5d8-6b1ce7ec0532",
    "scrolled": true
   },
   "outputs": [
    {
     "name": "stdout",
     "output_type": "stream",
     "text": [
      "RandomForestClassifier\n"
     ]
    },
    {
     "data": {
      "image/png": "[encoded data removed]",
      "text/plain": [
       "<Figure size 432x288 with 2 Axes>"
      ]
     },
     "metadata": {
      "needs_background": "light"
     },
     "output_type": "display_data"
    }
   ],
   "source": [
    "# plot for confusion matrix\n",
    "from sklearn.metrics import plot_confusion_matrix\n",
    "import matplotlib.pyplot as plt\n",
    "print(\"RandomForestClassifier\")\n",
    "plot_confusion_matrix(RFClassifier, X_test, y_test,cmap=\"Blues\",values_format=\"d\",display_labels=[\"neutral or dissatisfied\", \"satisfied\"])\n",
    "plt.title(\"Confusion Matrix\", fontsize=20)\n",
    "plt.grid(b=False)\n",
    "plt.show()"
   ]
  },
  {
   "cell_type": "code",
   "execution_count": 58,
   "metadata": {
    "colab": {
     "base_uri": "https://localhost:8080/",
     "height": 279
    },
    "id": "jTUDYHfh_Jfg",
    "outputId": "b45c8220-63c6-46a1-fe6e-09df538ba076"
   },
   "outputs": [
    {
     "data": {
      "image/png": "[encoded data removed]",
      "text/plain": [
       "<Figure size 432x360 with 1 Axes>"
      ]
     },
     "metadata": {
      "needs_background": "light"
     },
     "output_type": "display_data"
    }
   ],
   "source": [
    "# plot receiver operating characteristic (ROC) curve and detection error tradeoff (DET) curves\n",
    "# A ROC curve is a graphical plot that illustrates the diagnostic ability of a binary classifier system \n",
    "# as its discrimination threshold is varied. \n",
    "# The ROC curve is created by plotting the true positive rate (TPR) against the false positive rate (FPR) \n",
    "# at various threshold settings. The true-positive rate is also known as sensitivity, recall.\n",
    "\n",
    "from sklearn import datasets, metrics, model_selection\n",
    "from sklearn.metrics import plot_roc_curve\n",
    "\n",
    "RF_roc =plot_roc_curve(RFClassifier, X_test, y_test)\n",
    "plt.plot([0, 1], [0, 1], color='navy', linestyle='--')\n",
    "plt.gcf().set_size_inches(6, 5)\n",
    "plt.legend(loc=\"lower right\")\n",
    "plt.title('RandomForestClassifier')\n",
    "plt.grid(True)\n",
    "plt.show()"
   ]
  },
  {
   "cell_type": "code",
   "execution_count": 35,
   "metadata": {
    "colab": {
     "base_uri": "https://localhost:8080/"
    },
    "id": "x3FBW8WN_KiF",
    "outputId": "a56f1016-84bc-412a-be9a-e3e4846e90ae"
   },
   "outputs": [
    {
     "data": {
      "text/plain": [
       "Pipeline(steps=[('standardscaler', StandardScaler()),\n",
       "                ('linearsvc', LinearSVC(C=0.025))])"
      ]
     },
     "execution_count": 35,
     "metadata": {},
     "output_type": "execute_result"
    }
   ],
   "source": [
    "SVMClassifier = make_pipeline(StandardScaler(), LinearSVC(C=0.025))\n",
    "SVMClassifier"
   ]
  },
  {
   "cell_type": "code",
   "execution_count": 36,
   "metadata": {
    "colab": {
     "base_uri": "https://localhost:8080/"
    },
    "id": "2H9CbKMPBB8i",
    "outputId": "00d27a38-9697-4180-e3fd-77961442c104"
   },
   "outputs": [
    {
     "data": {
      "text/plain": [
       "Pipeline(steps=[('standardscaler', StandardScaler()),\n",
       "                ('linearsvc', LinearSVC(C=0.025))])"
      ]
     },
     "execution_count": 36,
     "metadata": {},
     "output_type": "execute_result"
    }
   ],
   "source": [
    "SVMClassifier.fit(X_train, y_train)"
   ]
  },
  {
   "cell_type": "code",
   "execution_count": 37,
   "metadata": {
    "colab": {
     "base_uri": "https://localhost:8080/",
     "height": 402
    },
    "id": "kHCvdwFNBTtr",
    "outputId": "aa5178c7-bcf6-4d36-e3f4-daff815c9b91"
   },
   "outputs": [
    {
     "data": {
      "text/html": [
       "<div>\n",
       "<style scoped>\n",
       "    .dataframe tbody tr th:only-of-type {\n",
       "        vertical-align: middle;\n",
       "    }\n",
       "\n",
       "    .dataframe tbody tr th {\n",
       "        vertical-align: top;\n",
       "    }\n",
       "\n",
       "    .dataframe thead th {\n",
       "        text-align: right;\n",
       "    }\n",
       "</style>\n",
       "<table border=\"1\" class=\"dataframe\">\n",
       "  <thead>\n",
       "    <tr style=\"text-align: right;\">\n",
       "      <th></th>\n",
       "      <th>Prediction</th>\n",
       "      <th>Actual</th>\n",
       "    </tr>\n",
       "  </thead>\n",
       "  <tbody>\n",
       "    <tr>\n",
       "      <th>0</th>\n",
       "      <td>1</td>\n",
       "      <td>1</td>\n",
       "    </tr>\n",
       "    <tr>\n",
       "      <th>1</th>\n",
       "      <td>1</td>\n",
       "      <td>1</td>\n",
       "    </tr>\n",
       "    <tr>\n",
       "      <th>2</th>\n",
       "      <td>0</td>\n",
       "      <td>0</td>\n",
       "    </tr>\n",
       "    <tr>\n",
       "      <th>3</th>\n",
       "      <td>0</td>\n",
       "      <td>1</td>\n",
       "    </tr>\n",
       "    <tr>\n",
       "      <th>4</th>\n",
       "      <td>0</td>\n",
       "      <td>1</td>\n",
       "    </tr>\n",
       "    <tr>\n",
       "      <th>...</th>\n",
       "      <td>...</td>\n",
       "      <td>...</td>\n",
       "    </tr>\n",
       "    <tr>\n",
       "      <th>25888</th>\n",
       "      <td>0</td>\n",
       "      <td>0</td>\n",
       "    </tr>\n",
       "    <tr>\n",
       "      <th>25889</th>\n",
       "      <td>1</td>\n",
       "      <td>1</td>\n",
       "    </tr>\n",
       "    <tr>\n",
       "      <th>25890</th>\n",
       "      <td>0</td>\n",
       "      <td>0</td>\n",
       "    </tr>\n",
       "    <tr>\n",
       "      <th>25891</th>\n",
       "      <td>1</td>\n",
       "      <td>1</td>\n",
       "    </tr>\n",
       "    <tr>\n",
       "      <th>25892</th>\n",
       "      <td>0</td>\n",
       "      <td>0</td>\n",
       "    </tr>\n",
       "  </tbody>\n",
       "</table>\n",
       "<p>25893 rows × 2 columns</p>\n",
       "</div>"
      ],
      "text/plain": [
       "       Prediction  Actual\n",
       "0               1       1\n",
       "1               1       1\n",
       "2               0       0\n",
       "3               0       1\n",
       "4               0       1\n",
       "...           ...     ...\n",
       "25888           0       0\n",
       "25889           1       1\n",
       "25890           0       0\n",
       "25891           1       1\n",
       "25892           0       0\n",
       "\n",
       "[25893 rows x 2 columns]"
      ]
     },
     "execution_count": 37,
     "metadata": {},
     "output_type": "execute_result"
    }
   ],
   "source": [
    "svm_predictions = SVMClassifier.predict(X_test)\n",
    "svm_df =pd.DataFrame({\"Prediction\": svm_predictions, \"Actual\": y_test})\n",
    "svm_df"
   ]
  },
  {
   "cell_type": "code",
   "execution_count": 38,
   "metadata": {
    "colab": {
     "base_uri": "https://localhost:8080/"
    },
    "id": "CFWKA1kaBdu1",
    "outputId": "79857169-1d4f-4282-b0a5-fc303c77ee64"
   },
   "outputs": [
    {
     "data": {
      "text/plain": [
       "0.8706986444212722"
      ]
     },
     "execution_count": 38,
     "metadata": {},
     "output_type": "execute_result"
    }
   ],
   "source": [
    "from sklearn.metrics import accuracy_score\n",
    "accuracy_score(y_test, svm_predictions)"
   ]
  },
  {
   "cell_type": "code",
   "execution_count": 39,
   "metadata": {
    "colab": {
     "base_uri": "https://localhost:8080/"
    },
    "id": "ammHw-h2BlVm",
    "outputId": "a8c74e1d-11ce-4283-8441-516655367135"
   },
   "outputs": [
    {
     "name": "stdout",
     "output_type": "stream",
     "text": [
      "[[13110  1418]\n",
      " [ 1930  9435]]\n"
     ]
    }
   ],
   "source": [
    "# import the confusion_matrix, which is the table of \n",
    "# true positives, false positives, true negatives, and false negatives.\n",
    "\n",
    "from sklearn.metrics import confusion_matrix\n",
    "svm_c_matrix =confusion_matrix(y_test, svm_predictions)\n",
    "print(svm_c_matrix)"
   ]
  },
  {
   "cell_type": "code",
   "execution_count": 40,
   "metadata": {
    "colab": {
     "base_uri": "https://localhost:8080/"
    },
    "id": "Sku_h9ZEBvg4",
    "outputId": "a6085cfd-a0e0-42e9-e2a7-88ac4f3823a9"
   },
   "outputs": [
    {
     "name": "stdout",
     "output_type": "stream",
     "text": [
      "              precision    recall  f1-score   support\n",
      "\n",
      "           0       0.87      0.90      0.89     14528\n",
      "           1       0.87      0.83      0.85     11365\n",
      "\n",
      "    accuracy                           0.87     25893\n",
      "   macro avg       0.87      0.87      0.87     25893\n",
      "weighted avg       0.87      0.87      0.87     25893\n",
      "\n"
     ]
    }
   ],
   "source": [
    "# Scikitlearn's classification_report calculates the metrics of the model\n",
    "# Precision = TP/(TP + FP),  recall = (sensitivity) TP/(TP + FN)\n",
    "# F1 = 2(Precision * Sensitivity)/(Precision + Sensitivity)\n",
    "from sklearn.metrics import classification_report\n",
    "svm_report = classification_report(y_test, svm_predictions)\n",
    "print(svm_report)"
   ]
  },
  {
   "cell_type": "code",
   "execution_count": 41,
   "metadata": {
    "colab": {
     "base_uri": "https://localhost:8080/",
     "height": 317
    },
    "id": "BKQHocIpCB9O",
    "outputId": "c09b660c-1609-4863-dea9-1218eba063a5"
   },
   "outputs": [
    {
     "name": "stdout",
     "output_type": "stream",
     "text": [
      "SupportVectorMachine\n"
     ]
    },
    {
     "data": {
      "image/png": "[encoded data removed]",
      "text/plain": [
       "<Figure size 432x288 with 2 Axes>"
      ]
     },
     "metadata": {
      "needs_background": "light"
     },
     "output_type": "display_data"
    }
   ],
   "source": [
    "# plot for confusion matrix\n",
    "from sklearn.metrics import plot_confusion_matrix\n",
    "import matplotlib.pyplot as plt\n",
    "print(\"SupportVectorMachine\")\n",
    "plot_confusion_matrix(SVMClassifier, X_test, y_test,cmap=\"Blues\",values_format=\"d\",display_labels=[\"neutral or dissatisfied\", \"satisfied\"])\n",
    "plt.title(\"Confusion Matrix\", fontsize=20)\n",
    "plt.grid(b=False)\n",
    "plt.show()"
   ]
  },
  {
   "cell_type": "code",
   "execution_count": 59,
   "metadata": {
    "colab": {
     "base_uri": "https://localhost:8080/",
     "height": 279
    },
    "id": "DgbG0kRPCSHw",
    "outputId": "66402e4e-171e-4aac-b0ab-8c89bac56112"
   },
   "outputs": [
    {
     "data": {
      "image/png": "[encoded data removed]",
      "text/plain": [
       "<Figure size 432x360 with 1 Axes>"
      ]
     },
     "metadata": {
      "needs_background": "light"
     },
     "output_type": "display_data"
    }
   ],
   "source": [
    "# plot receiver operating characteristic (ROC) curve and detection error tradeoff (DET) curves\n",
    "# A ROC curve is a graphical plot that illustrates the diagnostic ability of a binary classifier system \n",
    "# as its discrimination threshold is varied. \n",
    "# The ROC curve is created by plotting the true positive rate (TPR) against the false positive rate (FPR) \n",
    "# at various threshold settings. The true-positive rate is also known as sensitivity, recall.\n",
    "\n",
    "from sklearn import datasets, metrics, model_selection\n",
    "from sklearn.metrics import plot_roc_curve\n",
    "\n",
    "svm_roc = plot_roc_curve(SVMClassifier, X_test, y_test)\n",
    "plt.plot([0, 1], [0, 1], color='navy', linestyle='--')\n",
    "plt.gcf().set_size_inches(6, 5)\n",
    "plt.legend(loc=\"lower right\")\n",
    "plt.title('SupportVectorMachine')\n",
    "plt.grid(True)\n",
    "plt.show()"
   ]
  },
  {
   "cell_type": "code",
   "execution_count": 43,
   "metadata": {
    "colab": {
     "base_uri": "https://localhost:8080/"
    },
    "id": "BavtPCiDCYFl",
    "outputId": "c7aa57cb-fa57-40a3-fdab-0fcb9614b9a2"
   },
   "outputs": [
    {
     "name": "stdout",
     "output_type": "stream",
     "text": [
      "LogisticRegression   : 0.7743019348858765\n",
      "RandomForestlassifier: 0.8660641872320705\n",
      "SupportVectorMachine : 0.8706986444212722\n"
     ]
    }
   ],
   "source": [
    "# confusion_matrix for all three models\n",
    "print('LogisticRegression   : ' + str(accuracy_score(y_test, predictions)))\n",
    "print('RandomForestlassifier: ' + str(accuracy_score(y_test, rf_predictions)))\n",
    "print('SupportVectorMachine : ' + str(accuracy_score(y_test, svm_predictions)))\n"
   ]
  },
  {
   "cell_type": "code",
   "execution_count": 44,
   "metadata": {
    "id": "XvP0JtIAJruK"
   },
   "outputs": [
    {
     "name": "stdout",
     "output_type": "stream",
     "text": [
      "LogisticRegression \n",
      "               precision    recall  f1-score   support\n",
      "\n",
      "           0       0.87      0.90      0.89     14528\n",
      "           1       0.87      0.83      0.85     11365\n",
      "\n",
      "    accuracy                           0.87     25893\n",
      "   macro avg       0.87      0.87      0.87     25893\n",
      "weighted avg       0.87      0.87      0.87     25893\n",
      "\n",
      "\n",
      "RandomForestlassifier\n",
      " [[13649   879]\n",
      " [ 2589  8776]]\n",
      "\n",
      "SupportVectorMachine\n",
      " [[13110  1418]\n",
      " [ 1930  9435]]\n"
     ]
    }
   ],
   "source": [
    "# confusion_matrix for all three models\n",
    "\n",
    "print('LogisticRegression \\n ' + str(svm_report))\n",
    "print('\\nRandomForestlassifier\\n ' + str(rf_c_matrix))\n",
    "print('\\nSupportVectorMachine\\n '+ str(svm_c_matrix))"
   ]
  },
  {
   "cell_type": "code",
   "execution_count": 45,
   "metadata": {},
   "outputs": [
    {
     "name": "stdout",
     "output_type": "stream",
     "text": [
      "LogisticRegression \n",
      "\n",
      "               precision    recall  f1-score   support\n",
      "\n",
      "           0       0.80      0.79      0.80     14528\n",
      "           1       0.74      0.75      0.74     11365\n",
      "\n",
      "    accuracy                           0.77     25893\n",
      "   macro avg       0.77      0.77      0.77     25893\n",
      "weighted avg       0.77      0.77      0.77     25893\n",
      "\n",
      "\n",
      "RandomForestlassifier\n",
      "\n",
      "               precision    recall  f1-score   support\n",
      "\n",
      "           0       0.84      0.94      0.89     14528\n",
      "           1       0.91      0.77      0.84     11365\n",
      "\n",
      "    accuracy                           0.87     25893\n",
      "   macro avg       0.87      0.86      0.86     25893\n",
      "weighted avg       0.87      0.87      0.86     25893\n",
      "\n",
      "\n",
      "SupportVectorMachine\n",
      "\n",
      "               precision    recall  f1-score   support\n",
      "\n",
      "           0       0.87      0.90      0.89     14528\n",
      "           1       0.87      0.83      0.85     11365\n",
      "\n",
      "    accuracy                           0.87     25893\n",
      "   macro avg       0.87      0.87      0.87     25893\n",
      "weighted avg       0.87      0.87      0.87     25893\n",
      "\n"
     ]
    }
   ],
   "source": [
    "# confusion_matrix for all three models\n",
    "\n",
    "print('LogisticRegression \\n\\n ' + str(report))\n",
    "print('\\nRandomForestlassifier\\n\\n ' + str(rf_report))\n",
    "print('\\nSupportVectorMachine\\n\\n '+ str(svm_report))"
   ]
  },
  {
   "cell_type": "code",
   "execution_count": 46,
   "metadata": {},
   "outputs": [
    {
     "data": {
      "image/png": "[encoded data removed]",
      "text/plain": [
       "<Figure size 1080x360 with 6 Axes>"
      ]
     },
     "metadata": {
      "needs_background": "light"
     },
     "output_type": "display_data"
    }
   ],
   "source": [
    "# prepare plots\n",
    "fig, [ax_lrcm, ax_rfcm, ax_svmcm] = plt.subplots(1, 3, figsize=(15, 5))\n",
    "plot_confusion_matrix(classifier, X_test, y_test,cmap=\"Blues\",values_format=\"d\", ax=ax_lrcm)\n",
    "plot_confusion_matrix(RFClassifier, X_test, y_test,cmap=\"Blues\",values_format=\"d\", ax=ax_rfcm)\n",
    "plot_confusion_matrix(SVMClassifier, X_test, y_test,cmap=\"Blues\",values_format=\"d\", ax=ax_svmcm)\n",
    "\n",
    "ax_lrcm.set_title('LogisticRegression \\n Confusion matrix')\n",
    "ax_rfcm.set_title('RandomForestlassifier \\n Confusion matrix')\n",
    "ax_svmcm.set_title('SupportVectorMachine \\n Confusion matrix')\n",
    "\n",
    "ax_lrcm.set_xlabel(\"Predicted Label (satisfied label:1)\")\n",
    "ax_lrcm.set_ylabel(\"True Label (satisfied label:1)\")\n",
    "ax_rfcm.set_xlabel(\"Predicted Label (satisfied label:1)\")\n",
    "ax_rfcm.set_ylabel(\"True Label (satisfied label:1)\")\n",
    "ax_svmcm.set_xlabel(\"Predicted Label (satisfied label:1)\")\n",
    "ax_svmcm.set_ylabel(\"True Label (satisfied label:1)\")\n",
    "plt.show()"
   ]
  },
  {
   "cell_type": "code",
   "execution_count": 60,
   "metadata": {},
   "outputs": [
    {
     "data": {
      "image/png": "[encoded data removed]",
      "text/plain": [
       "<Figure size 432x360 with 1 Axes>"
      ]
     },
     "metadata": {
      "needs_background": "light"
     },
     "output_type": "display_data"
    }
   ],
   "source": [
    "# prepare plots\n",
    "\n",
    "LR_roc = plot_roc_curve(classifier, X_test, y_test)\n",
    "RF_roc =plot_roc_curve(RFClassifier, X_test, y_test, ax=LR_roc.ax_)\n",
    "svm_roc = plot_roc_curve(SVMClassifier, X_test, y_test, ax=LR_roc.ax_)\n",
    "\n",
    "svm_roc.figure_.suptitle(\"ROC curve comparison\")\n",
    "plt.plot([0, 1], [0, 1], color='navy', linestyle='--')\n",
    "plt.gcf().set_size_inches(6, 5)\n",
    "plt.legend(loc=\"lower right\")\n",
    "plt.grid(True)\n",
    "plt.show()"
   ]
  },
  {
   "cell_type": "code",
   "execution_count": null,
   "metadata": {},
   "outputs": [],
   "source": []
  }
 ],
 "metadata": {
  "colab": {
   "collapsed_sections": [],
   "name": "AWS_ml_new.ipynb",
   "provenance": []
  },
  "kernelspec": {
   "display_name": "Python 3",
   "language": "python",
   "name": "python3"
  },
  "language_info": {
   "codemirror_mode": {
    "name": "ipython",
    "version": 3
   },
   "file_extension": ".py",
   "mimetype": "text/x-python",
   "name": "python",
   "nbconvert_exporter": "python",
   "pygments_lexer": "ipython3",
   "version": "3.8.3"
  }
 },
 "nbformat": 4,
 "nbformat_minor": 1
}
