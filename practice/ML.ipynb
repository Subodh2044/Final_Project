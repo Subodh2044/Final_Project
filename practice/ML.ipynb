{
 "cells": [
  {
   "cell_type": "markdown",
   "metadata": {
    "id": "xMkUzrys2az0"
   },
   "source": []
  },
  {
   "cell_type": "code",
   "execution_count": 2,
   "metadata": {
    "id": "vglFn7202ogI"
   },
   "outputs": [],
   "source": [
    "import warnings\n",
    "import numpy as np\n",
    "import pandas as pd\n",
    "from pathlib import Path\n",
    "from collections import Counter\n",
    "warnings.filterwarnings('ignore')"
   ]
  },
  {
   "cell_type": "code",
   "execution_count": 1,
   "metadata": {
    "colab": {
     "base_uri": "https://localhost:8080/",
     "height": 377
    },
    "id": "E--pp7DH2Y1I",
    "outputId": "125473b3-f9c0-470e-a938-08fada7bf127"
   },
   "outputs": [
    {
     "name": "stderr",
     "output_type": "stream",
     "text": [
      "/usr/local/lib/python3.6/dist-packages/psycopg2/__init__.py:144: UserWarning: The psycopg2 wheel package will be renamed from release 2.8; in order to keep installing from binary please use \"pip install psycopg2-binary\" instead. For details see: <http://initd.org/psycopg/docs/install.html#binary-install-from-pypi>.\n",
      "  \"\"\")\n"
     ]
    },
    {
     "data": {
      "text/html": [
       "<div>\n",
       "<style scoped>\n",
       "    .dataframe tbody tr th:only-of-type {\n",
       "        vertical-align: middle;\n",
       "    }\n",
       "\n",
       "    .dataframe tbody tr th {\n",
       "        vertical-align: top;\n",
       "    }\n",
       "\n",
       "    .dataframe thead th {\n",
       "        text-align: right;\n",
       "    }\n",
       "</style>\n",
       "<table border=\"1\" class=\"dataframe\">\n",
       "  <thead>\n",
       "    <tr style=\"text-align: right;\">\n",
       "      <th></th>\n",
       "      <th>Gender</th>\n",
       "      <th>Customer</th>\n",
       "      <th>Age</th>\n",
       "      <th>Type_of_Travel</th>\n",
       "      <th>Class</th>\n",
       "      <th>Flight Distance</th>\n",
       "      <th>Inflight wifi</th>\n",
       "      <th>Departure/Arrival_time_convenient</th>\n",
       "      <th>Ease_of_Online booking</th>\n",
       "      <th>Gate_location</th>\n",
       "      <th>Food_and_drink</th>\n",
       "      <th>Online boarding</th>\n",
       "      <th>Seat comfort</th>\n",
       "      <th>Inflight entertainment</th>\n",
       "      <th>On-board service</th>\n",
       "      <th>Leg room service</th>\n",
       "      <th>Baggage handling</th>\n",
       "      <th>Checkin service</th>\n",
       "      <th>Inflight service</th>\n",
       "      <th>Cleanliness</th>\n",
       "      <th>Departure_Delay_in_Minutes</th>\n",
       "      <th>Arrival_Delay_in_Minutes</th>\n",
       "      <th>satisfaction</th>\n",
       "    </tr>\n",
       "  </thead>\n",
       "  <tbody>\n",
       "    <tr>\n",
       "      <th>0</th>\n",
       "      <td>Female</td>\n",
       "      <td>Loyal Customer</td>\n",
       "      <td>52.0</td>\n",
       "      <td>Business travel</td>\n",
       "      <td>Eco</td>\n",
       "      <td>160.0</td>\n",
       "      <td>5.0</td>\n",
       "      <td>4.0</td>\n",
       "      <td>3.0</td>\n",
       "      <td>4.0</td>\n",
       "      <td>3.0</td>\n",
       "      <td>4.0</td>\n",
       "      <td>3.0</td>\n",
       "      <td>5.0</td>\n",
       "      <td>5.0</td>\n",
       "      <td>5.0</td>\n",
       "      <td>5.0</td>\n",
       "      <td>2.0</td>\n",
       "      <td>5.0</td>\n",
       "      <td>5.0</td>\n",
       "      <td>50.0</td>\n",
       "      <td>44.0</td>\n",
       "      <td>satisfied</td>\n",
       "    </tr>\n",
       "    <tr>\n",
       "      <th>1</th>\n",
       "      <td>Female</td>\n",
       "      <td>Loyal Customer</td>\n",
       "      <td>36.0</td>\n",
       "      <td>Business travel</td>\n",
       "      <td>Business</td>\n",
       "      <td>2863.0</td>\n",
       "      <td>1.0</td>\n",
       "      <td>1.0</td>\n",
       "      <td>3.0</td>\n",
       "      <td>1.0</td>\n",
       "      <td>5.0</td>\n",
       "      <td>4.0</td>\n",
       "      <td>5.0</td>\n",
       "      <td>4.0</td>\n",
       "      <td>4.0</td>\n",
       "      <td>4.0</td>\n",
       "      <td>4.0</td>\n",
       "      <td>3.0</td>\n",
       "      <td>4.0</td>\n",
       "      <td>5.0</td>\n",
       "      <td>0.0</td>\n",
       "      <td>0.0</td>\n",
       "      <td>satisfied</td>\n",
       "    </tr>\n",
       "    <tr>\n",
       "      <th>2</th>\n",
       "      <td>Male</td>\n",
       "      <td>disloyal Customer</td>\n",
       "      <td>20.0</td>\n",
       "      <td>Business travel</td>\n",
       "      <td>Eco</td>\n",
       "      <td>192.0</td>\n",
       "      <td>2.0</td>\n",
       "      <td>0.0</td>\n",
       "      <td>2.0</td>\n",
       "      <td>4.0</td>\n",
       "      <td>2.0</td>\n",
       "      <td>2.0</td>\n",
       "      <td>2.0</td>\n",
       "      <td>2.0</td>\n",
       "      <td>4.0</td>\n",
       "      <td>1.0</td>\n",
       "      <td>3.0</td>\n",
       "      <td>2.0</td>\n",
       "      <td>2.0</td>\n",
       "      <td>2.0</td>\n",
       "      <td>0.0</td>\n",
       "      <td>0.0</td>\n",
       "      <td>neutral or dissatisfied</td>\n",
       "    </tr>\n",
       "    <tr>\n",
       "      <th>3</th>\n",
       "      <td>Male</td>\n",
       "      <td>Loyal Customer</td>\n",
       "      <td>44.0</td>\n",
       "      <td>Business travel</td>\n",
       "      <td>Business</td>\n",
       "      <td>3377.0</td>\n",
       "      <td>0.0</td>\n",
       "      <td>0.0</td>\n",
       "      <td>0.0</td>\n",
       "      <td>2.0</td>\n",
       "      <td>3.0</td>\n",
       "      <td>4.0</td>\n",
       "      <td>4.0</td>\n",
       "      <td>1.0</td>\n",
       "      <td>1.0</td>\n",
       "      <td>1.0</td>\n",
       "      <td>1.0</td>\n",
       "      <td>3.0</td>\n",
       "      <td>1.0</td>\n",
       "      <td>4.0</td>\n",
       "      <td>0.0</td>\n",
       "      <td>6.0</td>\n",
       "      <td>satisfied</td>\n",
       "    </tr>\n",
       "    <tr>\n",
       "      <th>4</th>\n",
       "      <td>Female</td>\n",
       "      <td>Loyal Customer</td>\n",
       "      <td>49.0</td>\n",
       "      <td>Business travel</td>\n",
       "      <td>Eco</td>\n",
       "      <td>1182.0</td>\n",
       "      <td>2.0</td>\n",
       "      <td>3.0</td>\n",
       "      <td>4.0</td>\n",
       "      <td>3.0</td>\n",
       "      <td>4.0</td>\n",
       "      <td>1.0</td>\n",
       "      <td>2.0</td>\n",
       "      <td>2.0</td>\n",
       "      <td>2.0</td>\n",
       "      <td>2.0</td>\n",
       "      <td>2.0</td>\n",
       "      <td>4.0</td>\n",
       "      <td>2.0</td>\n",
       "      <td>4.0</td>\n",
       "      <td>0.0</td>\n",
       "      <td>20.0</td>\n",
       "      <td>satisfied</td>\n",
       "    </tr>\n",
       "  </tbody>\n",
       "</table>\n",
       "</div>"
      ],
      "text/plain": [
       "   Gender           Customer  ...  Arrival_Delay_in_Minutes             satisfaction\n",
       "0  Female     Loyal Customer  ...                      44.0                satisfied\n",
       "1  Female     Loyal Customer  ...                       0.0                satisfied\n",
       "2    Male  disloyal Customer  ...                       0.0  neutral or dissatisfied\n",
       "3    Male     Loyal Customer  ...                       6.0                satisfied\n",
       "4  Female     Loyal Customer  ...                      20.0                satisfied\n",
       "\n",
       "[5 rows x 23 columns]"
      ]
     },
     "execution_count": 1,
     "metadata": {
      "tags": []
     },
     "output_type": "execute_result"
    }
   ],
   "source": [
    "import pandas as pd\n",
    "import psycopg2\n",
    "from sqlalchemy import create_engine\n",
    "\n",
    "# follows django database settings format, replace with your own settings\n",
    "DATABASES = {\n",
    "    'datafinal':{\n",
    "        'POSTGRES_DBNAME': 'postgres',\n",
    "        'POSTGRES_USERNAME': 'postgres',\n",
    "        'POSTGRES_PASSWORD': '',\n",
    "        'POSTGRES_ADDRESS': 'datafinal.c50h51d04cbn.us-east-2.rds.amazonaws.com',\n",
    "        'POSTGRES_PORT': 5432,\n",
    "    },\n",
    "}\n",
    "\n",
    "# choose the database to use\n",
    "db = DATABASES['datafinal']\n",
    "\n",
    "# construct an engine connection string\n",
    "engine_string =  ('postgresql+psycopg2://{username}:{password}@{ipaddress}:{port}/{dbname}'\n",
    "               .format(username= db['POSTGRES_USERNAME'],\n",
    "                      password= db['POSTGRES_PASSWORD'],\n",
    "                      ipaddress= db['POSTGRES_ADDRESS'],\n",
    "                      port= db['POSTGRES_PORT'],\n",
    "                      dbname= db['POSTGRES_DBNAME'])\n",
    "               )\n",
    "\n",
    "# create sqlalchemy engine\n",
    "engine = create_engine(engine_string)\n",
    "\n",
    "# read a table from database into pandas dataframe, replace \"tablename\" with your table name\n",
    "df = pd.read_sql_table('mergedtable', engine)\n",
    "df.head()"
   ]
  },
  {
   "cell_type": "code",
   "execution_count": 3,
   "metadata": {
    "colab": {
     "base_uri": "https://localhost:8080/"
    },
    "id": "3EJv_c-m2jDA",
    "outputId": "1a18739c-82c6-4c49-f205-58798d19b2b9"
   },
   "outputs": [
    {
     "name": "stdout",
     "output_type": "stream",
     "text": [
      "<class 'pandas.core.frame.DataFrame'>\n",
      "RangeIndex: 492055 entries, 0 to 492054\n",
      "Data columns (total 23 columns):\n",
      " #   Column                             Non-Null Count   Dtype  \n",
      "---  ------                             --------------   -----  \n",
      " 0   Gender                             492055 non-null  object \n",
      " 1   Customer                           492055 non-null  object \n",
      " 2   Age                                492055 non-null  float64\n",
      " 3   Type_of_Travel                     492055 non-null  object \n",
      " 4   Class                              492055 non-null  object \n",
      " 5   Flight Distance                    492055 non-null  float64\n",
      " 6   Inflight wifi                      492055 non-null  float64\n",
      " 7   Departure/Arrival_time_convenient  492055 non-null  float64\n",
      " 8   Ease_of_Online booking             492055 non-null  float64\n",
      " 9   Gate_location                      492055 non-null  float64\n",
      " 10  Food_and_drink                     492055 non-null  float64\n",
      " 11  Online boarding                    492055 non-null  float64\n",
      " 12  Seat comfort                       492055 non-null  float64\n",
      " 13  Inflight entertainment             492055 non-null  float64\n",
      " 14  On-board service                   492055 non-null  float64\n",
      " 15  Leg room service                   492055 non-null  float64\n",
      " 16  Baggage handling                   492055 non-null  float64\n",
      " 17  Checkin service                    492055 non-null  float64\n",
      " 18  Inflight service                   492055 non-null  float64\n",
      " 19  Cleanliness                        492055 non-null  float64\n",
      " 20  Departure_Delay_in_Minutes         492055 non-null  float64\n",
      " 21  Arrival_Delay_in_Minutes           492055 non-null  float64\n",
      " 22  satisfaction                       492055 non-null  object \n",
      "dtypes: float64(18), object(5)\n",
      "memory usage: 86.3+ MB\n"
     ]
    }
   ],
   "source": [
    "df.info()"
   ]
  },
  {
   "cell_type": "code",
   "execution_count": 4,
   "metadata": {
    "colab": {
     "base_uri": "https://localhost:8080/"
    },
    "id": "Ok4h6zVJ2vPX",
    "outputId": "fc4e3aea-6429-4b64-df27-a03ddfb5dc3c"
   },
   "outputs": [
    {
     "data": {
      "text/plain": [
       "Gender                               0\n",
       "Customer                             0\n",
       "Age                                  0\n",
       "Type_of_Travel                       0\n",
       "Class                                0\n",
       "Flight Distance                      0\n",
       "Inflight wifi                        0\n",
       "Departure/Arrival_time_convenient    0\n",
       "Ease_of_Online booking               0\n",
       "Gate_location                        0\n",
       "Food_and_drink                       0\n",
       "Online boarding                      0\n",
       "Seat comfort                         0\n",
       "Inflight entertainment               0\n",
       "On-board service                     0\n",
       "Leg room service                     0\n",
       "Baggage handling                     0\n",
       "Checkin service                      0\n",
       "Inflight service                     0\n",
       "Cleanliness                          0\n",
       "Departure_Delay_in_Minutes           0\n",
       "Arrival_Delay_in_Minutes             0\n",
       "satisfaction                         0\n",
       "dtype: int64"
      ]
     },
     "execution_count": 4,
     "metadata": {
      "tags": []
     },
     "output_type": "execute_result"
    }
   ],
   "source": [
    "df.isnull().sum()"
   ]
  },
  {
   "cell_type": "code",
   "execution_count": 7,
   "metadata": {
    "colab": {
     "base_uri": "https://localhost:8080/"
    },
    "id": "F-KxkF0-3n-f",
    "outputId": "8bc85b95-431f-4e05-a2ed-063e1cac2d5d"
   },
   "outputs": [
    {
     "data": {
      "text/plain": [
       "Gender                                object\n",
       "Customer                              object\n",
       "Age                                  float64\n",
       "Type_of_Travel                        object\n",
       "Class                                 object\n",
       "Flight Distance                      float64\n",
       "Inflight wifi                        float64\n",
       "Departure/Arrival_time_convenient    float64\n",
       "Ease_of_Online booking               float64\n",
       "Gate_location                        float64\n",
       "Food_and_drink                       float64\n",
       "Online boarding                      float64\n",
       "Seat comfort                         float64\n",
       "Inflight entertainment               float64\n",
       "On-board service                     float64\n",
       "Leg room service                     float64\n",
       "Baggage handling                     float64\n",
       "Checkin service                      float64\n",
       "Inflight service                     float64\n",
       "Cleanliness                          float64\n",
       "Departure_Delay_in_Minutes           float64\n",
       "Arrival_Delay_in_Minutes             float64\n",
       "satisfaction                          object\n",
       "dtype: object"
      ]
     },
     "execution_count": 7,
     "metadata": {
      "tags": []
     },
     "output_type": "execute_result"
    }
   ],
   "source": [
    "df.dtypes"
   ]
  },
  {
   "cell_type": "code",
   "execution_count": 8,
   "metadata": {
    "colab": {
     "base_uri": "https://localhost:8080/"
    },
    "id": "R_2Yj0p_3ygM",
    "outputId": "94149cf9-421a-415b-b9f6-553a1368f5fc"
   },
   "outputs": [
    {
     "data": {
      "text/plain": [
       "Index(['Gender', 'Customer', 'Age', 'Type_of_Travel', 'Class',\n",
       "       'Flight Distance', 'Inflight wifi', 'Departure/Arrival_time_convenient',\n",
       "       'Ease_of_Online booking', 'Gate_location', 'Food_and_drink',\n",
       "       'Online boarding', 'Seat comfort', 'Inflight entertainment',\n",
       "       'On-board service', 'Leg room service', 'Baggage handling',\n",
       "       'Checkin service', 'Inflight service', 'Cleanliness',\n",
       "       'Departure_Delay_in_Minutes', 'Arrival_Delay_in_Minutes',\n",
       "       'satisfaction'],\n",
       "      dtype='object')"
      ]
     },
     "execution_count": 8,
     "metadata": {
      "tags": []
     },
     "output_type": "execute_result"
    }
   ],
   "source": [
    "df.columns"
   ]
  },
  {
   "cell_type": "code",
   "execution_count": 6,
   "metadata": {
    "id": "OW4My2Fx3cAC"
   },
   "outputs": [],
   "source": [
    "from sklearn.preprocessing import StandardScaler, OneHotEncoder, LabelEncoder, OrdinalEncoder\n",
    "from sklearn.pipeline import make_pipeline\n",
    "from sklearn.compose import ColumnTransformer\n",
    "from sklearn.compose import make_column_transformer\n",
    "from sklearn.compose import make_column_selector"
   ]
  },
  {
   "cell_type": "code",
   "execution_count": null,
   "metadata": {
    "id": "4clVB2KP5DeI"
   },
   "outputs": [],
   "source": [
    "df[\"Age\"]"
   ]
  },
  {
   "cell_type": "code",
   "execution_count": 19,
   "metadata": {
    "id": "fY9wKUui3vHe"
   },
   "outputs": [],
   "source": [
    "# X = df[['Gender', 'Customer', 'Age', 'Type_of_Travel', 'Class',\n",
    "#        'Flight Distance', 'Inflight wifi', 'Departure/Arrival_time_convenient',\n",
    "#        'Ease_of_Online booking', 'Gate_location', 'Food_and_drink',\n",
    "#        'Online boarding', 'Seat comfort', 'Inflight entertainment',\n",
    "#        'On-board service', 'Leg room service', 'Baggage handling',\n",
    "#        'Checkin service', 'Inflight service', 'Cleanliness',\n",
    "#        'Departure_Delay_in_Minutes', 'Arrival_Delay_in_Minutes']]\n",
    "X1 = df[[ 'Age', \n",
    "       'Flight Distance', 'Inflight wifi', 'Departure/Arrival_time_convenient',\n",
    "       'Ease_of_Online booking', 'Gate_location', 'Food_and_drink',\n",
    "       'Online boarding', 'Seat comfort', 'Inflight entertainment',\n",
    "       'On-board service', 'Leg room service', 'Baggage handling',\n",
    "       'Checkin service', 'Inflight service', 'Cleanliness',\n",
    "       'Departure_Delay_in_Minutes', 'Arrival_Delay_in_Minutes']]\n",
    "X2 = df[[ 'Gender', 'Customer', 'Type_of_Travel', 'Class']]\n",
    "y = df[['satisfaction']]"
   ]
  },
  {
   "cell_type": "code",
   "execution_count": 23,
   "metadata": {
    "colab": {
     "base_uri": "https://localhost:8080/",
     "height": 241
    },
    "id": "hfAtkPY04bmF",
    "outputId": "2e092179-6897-493d-a7b7-a2ed83dac3a6"
   },
   "outputs": [
    {
     "data": {
      "text/html": [
       "<div>\n",
       "<style scoped>\n",
       "    .dataframe tbody tr th:only-of-type {\n",
       "        vertical-align: middle;\n",
       "    }\n",
       "\n",
       "    .dataframe tbody tr th {\n",
       "        vertical-align: top;\n",
       "    }\n",
       "\n",
       "    .dataframe thead th {\n",
       "        text-align: right;\n",
       "    }\n",
       "</style>\n",
       "<table border=\"1\" class=\"dataframe\">\n",
       "  <thead>\n",
       "    <tr style=\"text-align: right;\">\n",
       "      <th></th>\n",
       "      <th>Age</th>\n",
       "      <th>Flight Distance</th>\n",
       "      <th>Inflight wifi</th>\n",
       "      <th>Departure/Arrival_time_convenient</th>\n",
       "      <th>Ease_of_Online booking</th>\n",
       "      <th>Gate_location</th>\n",
       "      <th>Food_and_drink</th>\n",
       "      <th>Online boarding</th>\n",
       "      <th>Seat comfort</th>\n",
       "      <th>Inflight entertainment</th>\n",
       "      <th>On-board service</th>\n",
       "      <th>Leg room service</th>\n",
       "      <th>Baggage handling</th>\n",
       "      <th>Checkin service</th>\n",
       "      <th>Inflight service</th>\n",
       "      <th>Cleanliness</th>\n",
       "      <th>Departure_Delay_in_Minutes</th>\n",
       "      <th>Arrival_Delay_in_Minutes</th>\n",
       "      <th>Gender</th>\n",
       "      <th>Customer</th>\n",
       "      <th>Type_of_Travel</th>\n",
       "      <th>Class</th>\n",
       "    </tr>\n",
       "  </thead>\n",
       "  <tbody>\n",
       "    <tr>\n",
       "      <th>0</th>\n",
       "      <td>0.832290</td>\n",
       "      <td>-1.032604</td>\n",
       "      <td>1.709030</td>\n",
       "      <td>0.617166</td>\n",
       "      <td>0.173560</td>\n",
       "      <td>0.800311</td>\n",
       "      <td>-0.153517</td>\n",
       "      <td>0.553727</td>\n",
       "      <td>-0.334473</td>\n",
       "      <td>1.230876</td>\n",
       "      <td>1.256065</td>\n",
       "      <td>1.252953</td>\n",
       "      <td>1.159178</td>\n",
       "      <td>-1.031479</td>\n",
       "      <td>1.154344</td>\n",
       "      <td>1.304895</td>\n",
       "      <td>0.930555</td>\n",
       "      <td>0.750115</td>\n",
       "      <td>0.0</td>\n",
       "      <td>0.0</td>\n",
       "      <td>0.0</td>\n",
       "      <td>1.0</td>\n",
       "    </tr>\n",
       "    <tr>\n",
       "      <th>1</th>\n",
       "      <td>-0.226148</td>\n",
       "      <td>1.677166</td>\n",
       "      <td>-1.300884</td>\n",
       "      <td>-1.348173</td>\n",
       "      <td>0.173560</td>\n",
       "      <td>-1.546490</td>\n",
       "      <td>1.350476</td>\n",
       "      <td>0.553727</td>\n",
       "      <td>1.181706</td>\n",
       "      <td>0.481199</td>\n",
       "      <td>0.479240</td>\n",
       "      <td>0.493060</td>\n",
       "      <td>0.311922</td>\n",
       "      <td>-0.241580</td>\n",
       "      <td>0.304290</td>\n",
       "      <td>1.304895</td>\n",
       "      <td>-0.386221</td>\n",
       "      <td>-0.392306</td>\n",
       "      <td>0.0</td>\n",
       "      <td>0.0</td>\n",
       "      <td>0.0</td>\n",
       "      <td>0.0</td>\n",
       "    </tr>\n",
       "    <tr>\n",
       "      <th>2</th>\n",
       "      <td>-1.284587</td>\n",
       "      <td>-1.000524</td>\n",
       "      <td>-0.548405</td>\n",
       "      <td>-2.003286</td>\n",
       "      <td>-0.540174</td>\n",
       "      <td>0.800311</td>\n",
       "      <td>-0.905513</td>\n",
       "      <td>-0.927327</td>\n",
       "      <td>-1.092562</td>\n",
       "      <td>-1.018154</td>\n",
       "      <td>0.479240</td>\n",
       "      <td>-1.786620</td>\n",
       "      <td>-0.535333</td>\n",
       "      <td>-1.031479</td>\n",
       "      <td>-1.395817</td>\n",
       "      <td>-0.979396</td>\n",
       "      <td>-0.386221</td>\n",
       "      <td>-0.392306</td>\n",
       "      <td>1.0</td>\n",
       "      <td>1.0</td>\n",
       "      <td>0.0</td>\n",
       "      <td>1.0</td>\n",
       "    </tr>\n",
       "    <tr>\n",
       "      <th>3</th>\n",
       "      <td>0.303071</td>\n",
       "      <td>2.192454</td>\n",
       "      <td>-2.053362</td>\n",
       "      <td>-2.003286</td>\n",
       "      <td>-1.967642</td>\n",
       "      <td>-0.764223</td>\n",
       "      <td>-0.153517</td>\n",
       "      <td>0.553727</td>\n",
       "      <td>0.423617</td>\n",
       "      <td>-1.767831</td>\n",
       "      <td>-1.851236</td>\n",
       "      <td>-1.786620</td>\n",
       "      <td>-2.229844</td>\n",
       "      <td>-0.241580</td>\n",
       "      <td>-2.245870</td>\n",
       "      <td>0.543464</td>\n",
       "      <td>-0.386221</td>\n",
       "      <td>-0.236522</td>\n",
       "      <td>1.0</td>\n",
       "      <td>0.0</td>\n",
       "      <td>0.0</td>\n",
       "      <td>0.0</td>\n",
       "    </tr>\n",
       "    <tr>\n",
       "      <th>4</th>\n",
       "      <td>0.633833</td>\n",
       "      <td>-0.008044</td>\n",
       "      <td>-0.548405</td>\n",
       "      <td>-0.037947</td>\n",
       "      <td>0.887294</td>\n",
       "      <td>0.018044</td>\n",
       "      <td>0.598479</td>\n",
       "      <td>-1.667854</td>\n",
       "      <td>-1.092562</td>\n",
       "      <td>-1.018154</td>\n",
       "      <td>-1.074411</td>\n",
       "      <td>-1.026727</td>\n",
       "      <td>-1.382589</td>\n",
       "      <td>0.548320</td>\n",
       "      <td>-1.395817</td>\n",
       "      <td>0.543464</td>\n",
       "      <td>-0.386221</td>\n",
       "      <td>0.126976</td>\n",
       "      <td>0.0</td>\n",
       "      <td>0.0</td>\n",
       "      <td>0.0</td>\n",
       "      <td>1.0</td>\n",
       "    </tr>\n",
       "  </tbody>\n",
       "</table>\n",
       "</div>"
      ],
      "text/plain": [
       "        Age  Flight Distance  Inflight wifi  ...  Customer  Type_of_Travel  Class\n",
       "0  0.832290        -1.032604       1.709030  ...       0.0             0.0    1.0\n",
       "1 -0.226148         1.677166      -1.300884  ...       0.0             0.0    0.0\n",
       "2 -1.284587        -1.000524      -0.548405  ...       1.0             0.0    1.0\n",
       "3  0.303071         2.192454      -2.053362  ...       0.0             0.0    0.0\n",
       "4  0.633833        -0.008044      -0.548405  ...       0.0             0.0    1.0\n",
       "\n",
       "[5 rows x 22 columns]"
      ]
     },
     "execution_count": 23,
     "metadata": {
      "tags": []
     },
     "output_type": "execute_result"
    }
   ],
   "source": [
    "o = StandardScaler()\n",
    "X1_encoded = o.fit_transform(X1)\n",
    "\n",
    "s = OrdinalEncoder()\n",
    "X2_encoded = s.fit_transform(X2)\n",
    "X_encoded = pd.merge(pd.DataFrame(X1_encoded, columns=X1.columns), pd.DataFrame(X2_encoded, columns=X2.columns), left_index=True, right_index=True)\n",
    "X_encoded.head()"
   ]
  },
  {
   "cell_type": "code",
   "execution_count": 24,
   "metadata": {
    "id": "Y7s9y47y6hHA"
   },
   "outputs": [],
   "source": [
    "l = LabelEncoder()\n",
    "y_encoded = l.fit_transform(y)"
   ]
  },
  {
   "cell_type": "code",
   "execution_count": null,
   "metadata": {
    "id": "A_-vh2at6pKA"
   },
   "outputs": [],
   "source": []
  },
  {
   "cell_type": "code",
   "execution_count": null,
   "metadata": {
    "id": "EtRfQheL6w45"
   },
   "outputs": [],
   "source": []
  },
  {
   "cell_type": "code",
   "execution_count": null,
   "metadata": {
    "id": "AT-fDn626w9t"
   },
   "outputs": [],
   "source": []
  },
  {
   "cell_type": "code",
   "execution_count": 18,
   "metadata": {
    "colab": {
     "base_uri": "https://localhost:8080/",
     "height": 425
    },
    "id": "zH5fvge33gCd",
    "outputId": "d432fd7b-e90b-4f4f-ae61-9cbf9df539bd"
   },
   "outputs": [
    {
     "ename": "ValueError",
     "evalue": "ignored",
     "output_type": "error",
     "traceback": [
      "\u001b[0;31m---------------------------------------------------------------------------\u001b[0m",
      "\u001b[0;31mKeyError\u001b[0m                                  Traceback (most recent call last)",
      "\u001b[0;32m/usr/local/lib/python3.6/dist-packages/sklearn/utils/__init__.py\u001b[0m in \u001b[0;36m_determine_key_type\u001b[0;34m(key, accept_slice)\u001b[0m\n\u001b[1;32m    255\u001b[0m         \u001b[0;32mtry\u001b[0m\u001b[0;34m:\u001b[0m\u001b[0;34m\u001b[0m\u001b[0;34m\u001b[0m\u001b[0m\n\u001b[0;32m--> 256\u001b[0;31m             \u001b[0;32mreturn\u001b[0m \u001b[0mdtype_to_str\u001b[0m\u001b[0;34m[\u001b[0m\u001b[0mtype\u001b[0m\u001b[0;34m(\u001b[0m\u001b[0mkey\u001b[0m\u001b[0;34m)\u001b[0m\u001b[0;34m]\u001b[0m\u001b[0;34m\u001b[0m\u001b[0;34m\u001b[0m\u001b[0m\n\u001b[0m\u001b[1;32m    257\u001b[0m         \u001b[0;32mexcept\u001b[0m \u001b[0mKeyError\u001b[0m\u001b[0;34m:\u001b[0m\u001b[0;34m\u001b[0m\u001b[0;34m\u001b[0m\u001b[0m\n",
      "\u001b[0;31mKeyError\u001b[0m: <class 'sqlalchemy.sql.elements.quoted_name'>",
      "\nDuring handling of the above exception, another exception occurred:\n",
      "\u001b[0;31mValueError\u001b[0m                                Traceback (most recent call last)",
      "\u001b[0;32m<ipython-input-18-5d5a4b8c42b1>\u001b[0m in \u001b[0;36m<module>\u001b[0;34m()\u001b[0m\n\u001b[1;32m      3\u001b[0m     \u001b[0;34m(\u001b[0m\u001b[0mOrdinalEncoder\u001b[0m\u001b[0;34m(\u001b[0m\u001b[0;34m)\u001b[0m\u001b[0;34m,\u001b[0m \u001b[0mmake_column_selector\u001b[0m\u001b[0;34m(\u001b[0m\u001b[0mdtype_include\u001b[0m\u001b[0;34m=\u001b[0m\u001b[0mobject\u001b[0m\u001b[0;34m)\u001b[0m\u001b[0;34m)\u001b[0m\u001b[0;34m\u001b[0m\u001b[0;34m\u001b[0m\u001b[0m\n\u001b[1;32m      4\u001b[0m )\n\u001b[0;32m----> 5\u001b[0;31m \u001b[0mct\u001b[0m\u001b[0;34m.\u001b[0m\u001b[0mfit_transform\u001b[0m\u001b[0;34m(\u001b[0m\u001b[0mX\u001b[0m\u001b[0;34m)\u001b[0m\u001b[0;34m\u001b[0m\u001b[0;34m\u001b[0m\u001b[0m\n\u001b[0m",
      "\u001b[0;32m/usr/local/lib/python3.6/dist-packages/sklearn/compose/_column_transformer.py\u001b[0m in \u001b[0;36mfit_transform\u001b[0;34m(self, X, y)\u001b[0m\n\u001b[1;32m    514\u001b[0m         \u001b[0mself\u001b[0m\u001b[0;34m.\u001b[0m\u001b[0m_validate_transformers\u001b[0m\u001b[0;34m(\u001b[0m\u001b[0;34m)\u001b[0m\u001b[0;34m\u001b[0m\u001b[0;34m\u001b[0m\u001b[0m\n\u001b[1;32m    515\u001b[0m         \u001b[0mself\u001b[0m\u001b[0;34m.\u001b[0m\u001b[0m_validate_column_callables\u001b[0m\u001b[0;34m(\u001b[0m\u001b[0mX\u001b[0m\u001b[0;34m)\u001b[0m\u001b[0;34m\u001b[0m\u001b[0;34m\u001b[0m\u001b[0m\n\u001b[0;32m--> 516\u001b[0;31m         \u001b[0mself\u001b[0m\u001b[0;34m.\u001b[0m\u001b[0m_validate_remainder\u001b[0m\u001b[0;34m(\u001b[0m\u001b[0mX\u001b[0m\u001b[0;34m)\u001b[0m\u001b[0;34m\u001b[0m\u001b[0;34m\u001b[0m\u001b[0m\n\u001b[0m\u001b[1;32m    517\u001b[0m \u001b[0;34m\u001b[0m\u001b[0m\n\u001b[1;32m    518\u001b[0m         \u001b[0mresult\u001b[0m \u001b[0;34m=\u001b[0m \u001b[0mself\u001b[0m\u001b[0;34m.\u001b[0m\u001b[0m_fit_transform\u001b[0m\u001b[0;34m(\u001b[0m\u001b[0mX\u001b[0m\u001b[0;34m,\u001b[0m \u001b[0my\u001b[0m\u001b[0;34m,\u001b[0m \u001b[0m_fit_transform_one\u001b[0m\u001b[0;34m)\u001b[0m\u001b[0;34m\u001b[0m\u001b[0;34m\u001b[0m\u001b[0m\n",
      "\u001b[0;32m/usr/local/lib/python3.6/dist-packages/sklearn/compose/_column_transformer.py\u001b[0m in \u001b[0;36m_validate_remainder\u001b[0;34m(self, X)\u001b[0m\n\u001b[1;32m    316\u001b[0m         if (hasattr(X, 'columns') and\n\u001b[1;32m    317\u001b[0m                 any(_determine_key_type(cols) == 'str'\n\u001b[0;32m--> 318\u001b[0;31m                     for cols in self._columns)):\n\u001b[0m\u001b[1;32m    319\u001b[0m             \u001b[0mself\u001b[0m\u001b[0;34m.\u001b[0m\u001b[0m_df_columns\u001b[0m \u001b[0;34m=\u001b[0m \u001b[0mX\u001b[0m\u001b[0;34m.\u001b[0m\u001b[0mcolumns\u001b[0m\u001b[0;34m\u001b[0m\u001b[0;34m\u001b[0m\u001b[0m\n\u001b[1;32m    320\u001b[0m \u001b[0;34m\u001b[0m\u001b[0m\n",
      "\u001b[0;32m/usr/local/lib/python3.6/dist-packages/sklearn/compose/_column_transformer.py\u001b[0m in \u001b[0;36m<genexpr>\u001b[0;34m(.0)\u001b[0m\n\u001b[1;32m    316\u001b[0m         if (hasattr(X, 'columns') and\n\u001b[1;32m    317\u001b[0m                 any(_determine_key_type(cols) == 'str'\n\u001b[0;32m--> 318\u001b[0;31m                     for cols in self._columns)):\n\u001b[0m\u001b[1;32m    319\u001b[0m             \u001b[0mself\u001b[0m\u001b[0;34m.\u001b[0m\u001b[0m_df_columns\u001b[0m \u001b[0;34m=\u001b[0m \u001b[0mX\u001b[0m\u001b[0;34m.\u001b[0m\u001b[0mcolumns\u001b[0m\u001b[0;34m\u001b[0m\u001b[0;34m\u001b[0m\u001b[0m\n\u001b[1;32m    320\u001b[0m \u001b[0;34m\u001b[0m\u001b[0m\n",
      "\u001b[0;32m/usr/local/lib/python3.6/dist-packages/sklearn/utils/__init__.py\u001b[0m in \u001b[0;36m_determine_key_type\u001b[0;34m(key, accept_slice)\u001b[0m\n\u001b[1;32m    275\u001b[0m     \u001b[0;32mif\u001b[0m \u001b[0misinstance\u001b[0m\u001b[0;34m(\u001b[0m\u001b[0mkey\u001b[0m\u001b[0;34m,\u001b[0m \u001b[0;34m(\u001b[0m\u001b[0mlist\u001b[0m\u001b[0;34m,\u001b[0m \u001b[0mtuple\u001b[0m\u001b[0;34m)\u001b[0m\u001b[0;34m)\u001b[0m\u001b[0;34m:\u001b[0m\u001b[0;34m\u001b[0m\u001b[0;34m\u001b[0m\u001b[0m\n\u001b[1;32m    276\u001b[0m         \u001b[0munique_key\u001b[0m \u001b[0;34m=\u001b[0m \u001b[0mset\u001b[0m\u001b[0;34m(\u001b[0m\u001b[0mkey\u001b[0m\u001b[0;34m)\u001b[0m\u001b[0;34m\u001b[0m\u001b[0;34m\u001b[0m\u001b[0m\n\u001b[0;32m--> 277\u001b[0;31m         \u001b[0mkey_type\u001b[0m \u001b[0;34m=\u001b[0m \u001b[0;34m{\u001b[0m\u001b[0m_determine_key_type\u001b[0m\u001b[0;34m(\u001b[0m\u001b[0melt\u001b[0m\u001b[0;34m)\u001b[0m \u001b[0;32mfor\u001b[0m \u001b[0melt\u001b[0m \u001b[0;32min\u001b[0m \u001b[0munique_key\u001b[0m\u001b[0;34m}\u001b[0m\u001b[0;34m\u001b[0m\u001b[0;34m\u001b[0m\u001b[0m\n\u001b[0m\u001b[1;32m    278\u001b[0m         \u001b[0;32mif\u001b[0m \u001b[0;32mnot\u001b[0m \u001b[0mkey_type\u001b[0m\u001b[0;34m:\u001b[0m\u001b[0;34m\u001b[0m\u001b[0;34m\u001b[0m\u001b[0m\n\u001b[1;32m    279\u001b[0m             \u001b[0;32mreturn\u001b[0m \u001b[0;32mNone\u001b[0m\u001b[0;34m\u001b[0m\u001b[0;34m\u001b[0m\u001b[0m\n",
      "\u001b[0;32m/usr/local/lib/python3.6/dist-packages/sklearn/utils/__init__.py\u001b[0m in \u001b[0;36m<setcomp>\u001b[0;34m(.0)\u001b[0m\n\u001b[1;32m    275\u001b[0m     \u001b[0;32mif\u001b[0m \u001b[0misinstance\u001b[0m\u001b[0;34m(\u001b[0m\u001b[0mkey\u001b[0m\u001b[0;34m,\u001b[0m \u001b[0;34m(\u001b[0m\u001b[0mlist\u001b[0m\u001b[0;34m,\u001b[0m \u001b[0mtuple\u001b[0m\u001b[0;34m)\u001b[0m\u001b[0;34m)\u001b[0m\u001b[0;34m:\u001b[0m\u001b[0;34m\u001b[0m\u001b[0;34m\u001b[0m\u001b[0m\n\u001b[1;32m    276\u001b[0m         \u001b[0munique_key\u001b[0m \u001b[0;34m=\u001b[0m \u001b[0mset\u001b[0m\u001b[0;34m(\u001b[0m\u001b[0mkey\u001b[0m\u001b[0;34m)\u001b[0m\u001b[0;34m\u001b[0m\u001b[0;34m\u001b[0m\u001b[0m\n\u001b[0;32m--> 277\u001b[0;31m         \u001b[0mkey_type\u001b[0m \u001b[0;34m=\u001b[0m \u001b[0;34m{\u001b[0m\u001b[0m_determine_key_type\u001b[0m\u001b[0;34m(\u001b[0m\u001b[0melt\u001b[0m\u001b[0;34m)\u001b[0m \u001b[0;32mfor\u001b[0m \u001b[0melt\u001b[0m \u001b[0;32min\u001b[0m \u001b[0munique_key\u001b[0m\u001b[0;34m}\u001b[0m\u001b[0;34m\u001b[0m\u001b[0;34m\u001b[0m\u001b[0m\n\u001b[0m\u001b[1;32m    278\u001b[0m         \u001b[0;32mif\u001b[0m \u001b[0;32mnot\u001b[0m \u001b[0mkey_type\u001b[0m\u001b[0;34m:\u001b[0m\u001b[0;34m\u001b[0m\u001b[0;34m\u001b[0m\u001b[0m\n\u001b[1;32m    279\u001b[0m             \u001b[0;32mreturn\u001b[0m \u001b[0;32mNone\u001b[0m\u001b[0;34m\u001b[0m\u001b[0;34m\u001b[0m\u001b[0m\n",
      "\u001b[0;32m/usr/local/lib/python3.6/dist-packages/sklearn/utils/__init__.py\u001b[0m in \u001b[0;36m_determine_key_type\u001b[0;34m(key, accept_slice)\u001b[0m\n\u001b[1;32m    256\u001b[0m             \u001b[0;32mreturn\u001b[0m \u001b[0mdtype_to_str\u001b[0m\u001b[0;34m[\u001b[0m\u001b[0mtype\u001b[0m\u001b[0;34m(\u001b[0m\u001b[0mkey\u001b[0m\u001b[0;34m)\u001b[0m\u001b[0;34m]\u001b[0m\u001b[0;34m\u001b[0m\u001b[0;34m\u001b[0m\u001b[0m\n\u001b[1;32m    257\u001b[0m         \u001b[0;32mexcept\u001b[0m \u001b[0mKeyError\u001b[0m\u001b[0;34m:\u001b[0m\u001b[0;34m\u001b[0m\u001b[0;34m\u001b[0m\u001b[0m\n\u001b[0;32m--> 258\u001b[0;31m             \u001b[0;32mraise\u001b[0m \u001b[0mValueError\u001b[0m\u001b[0;34m(\u001b[0m\u001b[0merr_msg\u001b[0m\u001b[0;34m)\u001b[0m\u001b[0;34m\u001b[0m\u001b[0;34m\u001b[0m\u001b[0m\n\u001b[0m\u001b[1;32m    259\u001b[0m     \u001b[0;32mif\u001b[0m \u001b[0misinstance\u001b[0m\u001b[0;34m(\u001b[0m\u001b[0mkey\u001b[0m\u001b[0;34m,\u001b[0m \u001b[0mslice\u001b[0m\u001b[0;34m)\u001b[0m\u001b[0;34m:\u001b[0m\u001b[0;34m\u001b[0m\u001b[0;34m\u001b[0m\u001b[0m\n\u001b[1;32m    260\u001b[0m         \u001b[0;32mif\u001b[0m \u001b[0;32mnot\u001b[0m \u001b[0maccept_slice\u001b[0m\u001b[0;34m:\u001b[0m\u001b[0;34m\u001b[0m\u001b[0;34m\u001b[0m\u001b[0m\n",
      "\u001b[0;31mValueError\u001b[0m: No valid specification of the columns. Only a scalar, list or slice of all integers or all strings, or boolean mask is allowed"
     ]
    }
   ],
   "source": [
    "ct = make_column_transformer(\n",
    "    (StandardScaler(), make_column_selector(dtype_include=np.float64)),\n",
    "    (OrdinalEncoder(), make_column_selector(dtype_include=object))\n",
    ")\n",
    "ct.fit_transform(X)"
   ]
  },
  {
   "cell_type": "code",
   "execution_count": null,
   "metadata": {
    "id": "OLaaDyD92yHx"
   },
   "outputs": [],
   "source": [
    "# label encoder's fit_transform() method is used to first train the label encoder\n",
    "\n",
    "from sklearn.preprocessing import LabelEncoder\n",
    "le = LabelEncoder()\n",
    "df2 = df.copy()\n",
    "df2['Gender'] = le.fit_transform(df2['Gender'])\n",
    "df2['Customer'] = le.fit_transform(df2['Customer'])\n",
    "df2['Type_of_Travel'] = le.fit_transform(df2['Type_of_Travel'])\n",
    "df2['Class'] = le.fit_transform(df2['Class' ])\n",
    "df2['satisfaction'] = le.fit_transform(df2[ 'satisfaction'])\n",
    "df2.head(10)"
   ]
  }
 ],
 "metadata": {
  "colab": {
   "collapsed_sections": [],
   "name": "ML.ipynb",
   "provenance": []
  },
  "kernelspec": {
   "display_name": "Python 3",
   "language": "python",
   "name": "python3"
  },
  "language_info": {
   "codemirror_mode": {
    "name": "ipython",
    "version": 3
   },
   "file_extension": ".py",
   "mimetype": "text/x-python",
   "name": "python",
   "nbconvert_exporter": "python",
   "pygments_lexer": "ipython3",
   "version": "3.8.3"
  }
 },
 "nbformat": 4,
 "nbformat_minor": 1
}
