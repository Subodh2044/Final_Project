{
  "nbformat": 4,
  "nbformat_minor": 0,
  "metadata": {
    "colab": {
      "name": "AWS_Spark.ipynb",
      "provenance": [],
      "collapsed_sections": []
    },
    "kernelspec": {
      "name": "python3",
      "display_name": "Python 3"
    }
  },
  "cells": [
    {
      "cell_type": "code",
      "metadata": {
        "colab": {
          "base_uri": "https://localhost:8080/"
        },
        "id": "CFb6hwKx2Cq7",
        "outputId": "e791e85f-d038-4921-8ed5-17915e3abd01"
      },
      "source": [
        "import os\r\n",
        "# Find the latest version of spark 3.0  from http://www-us.apache.org/dist/spark/ and enter as the spark version\r\n",
        "# For example:\r\n",
        "# spark_version = 'spark-3.0.1'\r\n",
        "spark_version = 'spark-3.0.1'\r\n",
        "os.environ['SPARK_VERSION']=spark_version\r\n",
        "\r\n",
        "# Install Spark and Java\r\n",
        "!apt-get update\r\n",
        "!apt-get install openjdk-11-jdk-headless -qq > /dev/null\r\n",
        "!wget -q http://www-us.apache.org/dist/spark/$SPARK_VERSION/$SPARK_VERSION-bin-hadoop2.7.tgz\r\n",
        "!tar xf $SPARK_VERSION-bin-hadoop2.7.tgz\r\n",
        "!pip install -q findspark\r\n",
        "\r\n",
        "# Set Environment Variables\r\n",
        "import os\r\n",
        "os.environ[\"JAVA_HOME\"] = \"/usr/lib/jvm/java-11-openjdk-amd64\"\r\n",
        "os.environ[\"SPARK_HOME\"] = f\"/content/{spark_version}-bin-hadoop2.7\"\r\n",
        "\r\n",
        "# Start a SparkSession\r\n",
        "import findspark\r\n",
        "findspark.init()"
      ],
      "execution_count": 1,
      "outputs": [
        {
          "output_type": "stream",
          "text": [
            "\r0% [Working]\r            \rIgn:1 https://developer.download.nvidia.com/compute/cuda/repos/ubuntu1804/x86_64  InRelease\n",
            "\r0% [Connecting to archive.ubuntu.com] [Connecting to security.ubuntu.com] [Conn\r                                                                               \rIgn:2 https://developer.download.nvidia.com/compute/machine-learning/repos/ubuntu1804/x86_64  InRelease\n",
            "\r0% [Connecting to archive.ubuntu.com] [Connecting to security.ubuntu.com] [Conn\r                                                                               \rGet:3 https://developer.download.nvidia.com/compute/cuda/repos/ubuntu1804/x86_64  Release [697 B]\n",
            "\r0% [Connecting to archive.ubuntu.com] [Connecting to security.ubuntu.com] [Conn\r0% [Connecting to archive.ubuntu.com] [Connecting to security.ubuntu.com] [Conn\r                                                                               \rHit:4 https://developer.download.nvidia.com/compute/machine-learning/repos/ubuntu1804/x86_64  Release\n",
            "\r0% [Connecting to archive.ubuntu.com] [Connecting to security.ubuntu.com] [Conn\r                                                                               \rGet:5 https://cloud.r-project.org/bin/linux/ubuntu bionic-cran40/ InRelease [3,626 B]\n",
            "Get:6 https://developer.download.nvidia.com/compute/cuda/repos/ubuntu1804/x86_64  Release.gpg [836 B]\n",
            "Hit:8 http://archive.ubuntu.com/ubuntu bionic InRelease\n",
            "Get:9 http://security.ubuntu.com/ubuntu bionic-security InRelease [88.7 kB]\n",
            "Get:10 http://ppa.launchpad.net/c2d4u.team/c2d4u4.0+/ubuntu bionic InRelease [15.9 kB]\n",
            "Get:11 http://archive.ubuntu.com/ubuntu bionic-updates InRelease [88.7 kB]\n",
            "Ign:12 https://developer.download.nvidia.com/compute/cuda/repos/ubuntu1804/x86_64  Packages\n",
            "Get:12 https://developer.download.nvidia.com/compute/cuda/repos/ubuntu1804/x86_64  Packages [549 kB]\n",
            "Hit:13 http://ppa.launchpad.net/cran/libgit2/ubuntu bionic InRelease\n",
            "Get:14 http://archive.ubuntu.com/ubuntu bionic-backports InRelease [74.6 kB]\n",
            "Get:15 http://ppa.launchpad.net/graphics-drivers/ppa/ubuntu bionic InRelease [21.3 kB]\n",
            "Get:16 http://security.ubuntu.com/ubuntu bionic-security/main amd64 Packages [1,903 kB]\n",
            "Get:17 http://ppa.launchpad.net/c2d4u.team/c2d4u4.0+/ubuntu bionic/main Sources [1,718 kB]\n",
            "Get:18 http://archive.ubuntu.com/ubuntu bionic-updates/multiverse amd64 Packages [42.6 kB]\n",
            "Get:19 http://archive.ubuntu.com/ubuntu bionic-updates/restricted amd64 Packages [319 kB]\n",
            "Get:20 http://archive.ubuntu.com/ubuntu bionic-updates/universe amd64 Packages [2,154 kB]\n",
            "Get:21 http://security.ubuntu.com/ubuntu bionic-security/restricted amd64 Packages [289 kB]\n",
            "Get:22 http://security.ubuntu.com/ubuntu bionic-security/universe amd64 Packages [1,383 kB]\n",
            "Get:23 http://archive.ubuntu.com/ubuntu bionic-updates/main amd64 Packages [2,334 kB]\n",
            "Get:24 http://ppa.launchpad.net/c2d4u.team/c2d4u4.0+/ubuntu bionic/main amd64 Packages [879 kB]\n",
            "Get:25 http://ppa.launchpad.net/graphics-drivers/ppa/ubuntu bionic/main amd64 Packages [49.2 kB]\n",
            "Fetched 11.9 MB in 4s (3,084 kB/s)\n",
            "Reading package lists... Done\n"
          ],
          "name": "stdout"
        }
      ]
    },
    {
      "cell_type": "code",
      "metadata": {
        "id": "s101-NLC3FHm"
      },
      "source": [
        "# Start Spark session\r\n",
        "from pyspark.sql import SparkSession\r\n",
        "spark = SparkSession.builder.appName(\"DataFrameBasics\").getOrCreate()"
      ],
      "execution_count": 2,
      "outputs": []
    },
    {
      "cell_type": "code",
      "metadata": {
        "colab": {
          "base_uri": "https://localhost:8080/"
        },
        "id": "jJ50MvSj3Iop",
        "outputId": "aee835c0-403f-4c1b-93d3-4a442d1865e6"
      },
      "source": [
        "\r\n",
        "# Download the Postgres driver that will allow Spark to interact with Postgres.\r\n",
        "!wget https://jdbc.postgresql.org/download/postgresql-42.2.16.jar"
      ],
      "execution_count": 3,
      "outputs": [
        {
          "output_type": "stream",
          "text": [
            "--2021-01-29 06:22:05--  https://jdbc.postgresql.org/download/postgresql-42.2.16.jar\n",
            "Resolving jdbc.postgresql.org (jdbc.postgresql.org)... 72.32.157.228, 2001:4800:3e1:1::228\n",
            "Connecting to jdbc.postgresql.org (jdbc.postgresql.org)|72.32.157.228|:443... connected.\n",
            "HTTP request sent, awaiting response... 200 OK\n",
            "Length: 1002883 (979K) [application/java-archive]\n",
            "Saving to: ‘postgresql-42.2.16.jar’\n",
            "\n",
            "postgresql-42.2.16. 100%[===================>] 979.38K  6.07MB/s    in 0.2s    \n",
            "\n",
            "2021-01-29 06:22:05 (6.07 MB/s) - ‘postgresql-42.2.16.jar’ saved [1002883/1002883]\n",
            "\n"
          ],
          "name": "stdout"
        }
      ]
    },
    {
      "cell_type": "code",
      "metadata": {
        "id": "4Clh5Pjy4aFw"
      },
      "source": [
        "from pyspark.sql import SparkSession\r\n",
        "spark = SparkSession.builder.appName(\"Final-Project\").config(\"spark.driver.extraClassPath\",\"/content/postgresql-42.2.16.jar\").getOrCreate()"
      ],
      "execution_count": 4,
      "outputs": []
    },
    {
      "cell_type": "code",
      "metadata": {
        "id": "zIRTzdfa3b3B"
      },
      "source": [
        "# Read in data from S3 Buckets\r\n",
        "from pyspark import SparkFiles\r\n",
        "url =\"https://reno8946-bucket.s3.us-east-2.amazonaws.com/test.csv\"\r\n",
        "spark.sparkContext.addFile(url)\r\n",
        "test_df = spark.read.csv(SparkFiles.get(\"test.csv\"), sep=\",\", header=True, inferSchema=True)"
      ],
      "execution_count": 7,
      "outputs": []
    },
    {
      "cell_type": "code",
      "metadata": {
        "colab": {
          "base_uri": "https://localhost:8080/"
        },
        "id": "seBRYmCiSOO7",
        "outputId": "fd3a1944-7824-49d2-b7ce-84cefb238405"
      },
      "source": [
        "# Show DataFrame\r\n",
        "test_df.show()"
      ],
      "execution_count": 8,
      "outputs": [
        {
          "output_type": "stream",
          "text": [
            "+---+------+------+-----------------+---+---------------+--------+---------------+---------------------+---------------------------------+----------------------+-------------+--------------+---------------+------------+----------------------+----------------+----------------+----------------+---------------+----------------+-----------+--------------------------+------------------------+--------------------+\n",
            "|_c0|    id|Gender|    Customer Type|Age| Type of Travel|   Class|Flight Distance|Inflight wifi service|Departure/Arrival time convenient|Ease of Online booking|Gate location|Food and drink|Online boarding|Seat comfort|Inflight entertainment|On-board service|Leg room service|Baggage handling|Checkin service|Inflight service|Cleanliness|Departure Delay in Minutes|Arrival Delay in Minutes|        satisfaction|\n",
            "+---+------+------+-----------------+---+---------------+--------+---------------+---------------------+---------------------------------+----------------------+-------------+--------------+---------------+------------+----------------------+----------------+----------------+----------------+---------------+----------------+-----------+--------------------------+------------------------+--------------------+\n",
            "|  0| 19556|Female|   Loyal Customer| 52|Business travel|     Eco|            160|                    5|                                4|                     3|            4|             3|              4|           3|                     5|               5|               5|               5|              2|               5|          5|                        50|                    44.0|           satisfied|\n",
            "|  1| 90035|Female|   Loyal Customer| 36|Business travel|Business|           2863|                    1|                                1|                     3|            1|             5|              4|           5|                     4|               4|               4|               4|              3|               4|          5|                         0|                     0.0|           satisfied|\n",
            "|  2| 12360|  Male|disloyal Customer| 20|Business travel|     Eco|            192|                    2|                                0|                     2|            4|             2|              2|           2|                     2|               4|               1|               3|              2|               2|          2|                         0|                     0.0|neutral or dissat...|\n",
            "|  3| 77959|  Male|   Loyal Customer| 44|Business travel|Business|           3377|                    0|                                0|                     0|            2|             3|              4|           4|                     1|               1|               1|               1|              3|               1|          4|                         0|                     6.0|           satisfied|\n",
            "|  4| 36875|Female|   Loyal Customer| 49|Business travel|     Eco|           1182|                    2|                                3|                     4|            3|             4|              1|           2|                     2|               2|               2|               2|              4|               2|          4|                         0|                    20.0|           satisfied|\n",
            "|  5| 39177|  Male|   Loyal Customer| 16|Business travel|     Eco|            311|                    3|                                3|                     3|            3|             5|              5|           3|                     5|               4|               3|               1|              1|               2|          5|                         0|                     0.0|           satisfied|\n",
            "|  6| 79433|Female|   Loyal Customer| 77|Business travel|Business|           3987|                    5|                                5|                     5|            5|             3|              5|           5|                     5|               5|               5|               5|              4|               5|          3|                         0|                     0.0|           satisfied|\n",
            "|  7| 97286|Female|   Loyal Customer| 43|Business travel|Business|           2556|                    2|                                2|                     2|            2|             4|              4|           5|                     4|               4|               4|               4|              5|               4|          3|                        77|                    65.0|           satisfied|\n",
            "|  8| 27508|  Male|   Loyal Customer| 47|Business travel|     Eco|            556|                    5|                                2|                     2|            2|             5|              5|           5|                     5|               2|               2|               5|              3|               3|          5|                         1|                     0.0|           satisfied|\n",
            "|  9| 62482|Female|   Loyal Customer| 46|Business travel|Business|           1744|                    2|                                2|                     2|            2|             3|              4|           4|                     4|               4|               4|               4|              5|               4|          4|                        28|                    14.0|           satisfied|\n",
            "| 10| 47583|Female|   Loyal Customer| 47|Business travel|     Eco|           1235|                    4|                                1|                     1|            1|             5|              1|           5|                     3|               3|               4|               3|              1|               3|          4|                        29|                    19.0|           satisfied|\n",
            "| 11|115550|Female|   Loyal Customer| 33|Business travel|Business|            325|                    2|                                5|                     5|            5|             1|              3|           4|                     2|               2|               2|               2|              3|               2|          4|                        18|                     7.0|neutral or dissat...|\n",
            "| 12|119987|Female|   Loyal Customer| 46|Business travel|Business|           1009|                    5|                                5|                     5|            5|             4|              5|           5|                     5|               5|               5|               5|              5|               5|          3|                         0|                     0.0|           satisfied|\n",
            "| 13| 42141|Female|   Loyal Customer| 60|Business travel|Business|            451|                    1|                                1|                     4|            1|             5|              5|           4|                     5|               5|               5|               5|              3|               5|          5|                       117|                   113.0|           satisfied|\n",
            "| 14|  2274|Female|   Loyal Customer| 52|Business travel|Business|            925|                    2|                                2|                     2|            2|             5|              5|           4|                     4|               4|               4|               4|              3|               4|          5|                        10|                     0.0|           satisfied|\n",
            "| 15| 22470|  Male|   Loyal Customer| 50|Personal Travel|     Eco|             83|                    3|                                4|                     0|            3|             2|              0|           2|                     2|               4|               2|               4|              4|               5|          2|                         5|                     2.0|neutral or dissat...|\n",
            "| 16|124915|Female|   Loyal Customer| 31|Business travel|     Eco|            728|                    2|                                5|                     5|            5|             2|              2|           2|                     2|               4|               3|               3|              4|               3|          2|                         2|                     0.0|neutral or dissat...|\n",
            "| 17| 17836|  Male|   Loyal Customer| 52|Personal Travel|Eco Plus|           1075|                    5|                                4|                     5|            3|             4|              5|           4|                     4|               3|               5|               5|              4|               5|          4|                         0|                     0.0|           satisfied|\n",
            "| 18| 76872|Female|   Loyal Customer| 43|Personal Travel|     Eco|           1927|                    3|                                4|                     3|            1|             4|              4|           5|                     5|               5|               3|               5|              4|               5|          3|                         0|                     0.0|neutral or dissat...|\n",
            "| 19| 64287|Female|   Loyal Customer| 50|Business travel|Business|           3799|                    5|                                5|                     5|            5|             4|              5|           4|                     4|               4|               5|               4|              5|               4|          5|                         8|                     0.0|           satisfied|\n",
            "+---+------+------+-----------------+---+---------------+--------+---------------+---------------------+---------------------------------+----------------------+-------------+--------------+---------------+------------+----------------------+----------------+----------------+----------------+---------------+----------------+-----------+--------------------------+------------------------+--------------------+\n",
            "only showing top 20 rows\n",
            "\n"
          ],
          "name": "stdout"
        }
      ]
    },
    {
      "cell_type": "code",
      "metadata": {
        "colab": {
          "base_uri": "https://localhost:8080/"
        },
        "id": "M4PUpi-r0a04",
        "outputId": "be737dc5-298c-43c2-8f8f-d664ac6118fc"
      },
      "source": [
        "#Drop Null Values\r\n",
        "dropna_df=test_df.dropna()\r\n",
        "dropna_df.show()"
      ],
      "execution_count": 9,
      "outputs": [
        {
          "output_type": "stream",
          "text": [
            "+---+------+------+-----------------+---+---------------+--------+---------------+---------------------+---------------------------------+----------------------+-------------+--------------+---------------+------------+----------------------+----------------+----------------+----------------+---------------+----------------+-----------+--------------------------+------------------------+--------------------+\n",
            "|_c0|    id|Gender|    Customer Type|Age| Type of Travel|   Class|Flight Distance|Inflight wifi service|Departure/Arrival time convenient|Ease of Online booking|Gate location|Food and drink|Online boarding|Seat comfort|Inflight entertainment|On-board service|Leg room service|Baggage handling|Checkin service|Inflight service|Cleanliness|Departure Delay in Minutes|Arrival Delay in Minutes|        satisfaction|\n",
            "+---+------+------+-----------------+---+---------------+--------+---------------+---------------------+---------------------------------+----------------------+-------------+--------------+---------------+------------+----------------------+----------------+----------------+----------------+---------------+----------------+-----------+--------------------------+------------------------+--------------------+\n",
            "|  0| 19556|Female|   Loyal Customer| 52|Business travel|     Eco|            160|                    5|                                4|                     3|            4|             3|              4|           3|                     5|               5|               5|               5|              2|               5|          5|                        50|                    44.0|           satisfied|\n",
            "|  1| 90035|Female|   Loyal Customer| 36|Business travel|Business|           2863|                    1|                                1|                     3|            1|             5|              4|           5|                     4|               4|               4|               4|              3|               4|          5|                         0|                     0.0|           satisfied|\n",
            "|  2| 12360|  Male|disloyal Customer| 20|Business travel|     Eco|            192|                    2|                                0|                     2|            4|             2|              2|           2|                     2|               4|               1|               3|              2|               2|          2|                         0|                     0.0|neutral or dissat...|\n",
            "|  3| 77959|  Male|   Loyal Customer| 44|Business travel|Business|           3377|                    0|                                0|                     0|            2|             3|              4|           4|                     1|               1|               1|               1|              3|               1|          4|                         0|                     6.0|           satisfied|\n",
            "|  4| 36875|Female|   Loyal Customer| 49|Business travel|     Eco|           1182|                    2|                                3|                     4|            3|             4|              1|           2|                     2|               2|               2|               2|              4|               2|          4|                         0|                    20.0|           satisfied|\n",
            "|  5| 39177|  Male|   Loyal Customer| 16|Business travel|     Eco|            311|                    3|                                3|                     3|            3|             5|              5|           3|                     5|               4|               3|               1|              1|               2|          5|                         0|                     0.0|           satisfied|\n",
            "|  6| 79433|Female|   Loyal Customer| 77|Business travel|Business|           3987|                    5|                                5|                     5|            5|             3|              5|           5|                     5|               5|               5|               5|              4|               5|          3|                         0|                     0.0|           satisfied|\n",
            "|  7| 97286|Female|   Loyal Customer| 43|Business travel|Business|           2556|                    2|                                2|                     2|            2|             4|              4|           5|                     4|               4|               4|               4|              5|               4|          3|                        77|                    65.0|           satisfied|\n",
            "|  8| 27508|  Male|   Loyal Customer| 47|Business travel|     Eco|            556|                    5|                                2|                     2|            2|             5|              5|           5|                     5|               2|               2|               5|              3|               3|          5|                         1|                     0.0|           satisfied|\n",
            "|  9| 62482|Female|   Loyal Customer| 46|Business travel|Business|           1744|                    2|                                2|                     2|            2|             3|              4|           4|                     4|               4|               4|               4|              5|               4|          4|                        28|                    14.0|           satisfied|\n",
            "| 10| 47583|Female|   Loyal Customer| 47|Business travel|     Eco|           1235|                    4|                                1|                     1|            1|             5|              1|           5|                     3|               3|               4|               3|              1|               3|          4|                        29|                    19.0|           satisfied|\n",
            "| 11|115550|Female|   Loyal Customer| 33|Business travel|Business|            325|                    2|                                5|                     5|            5|             1|              3|           4|                     2|               2|               2|               2|              3|               2|          4|                        18|                     7.0|neutral or dissat...|\n",
            "| 12|119987|Female|   Loyal Customer| 46|Business travel|Business|           1009|                    5|                                5|                     5|            5|             4|              5|           5|                     5|               5|               5|               5|              5|               5|          3|                         0|                     0.0|           satisfied|\n",
            "| 13| 42141|Female|   Loyal Customer| 60|Business travel|Business|            451|                    1|                                1|                     4|            1|             5|              5|           4|                     5|               5|               5|               5|              3|               5|          5|                       117|                   113.0|           satisfied|\n",
            "| 14|  2274|Female|   Loyal Customer| 52|Business travel|Business|            925|                    2|                                2|                     2|            2|             5|              5|           4|                     4|               4|               4|               4|              3|               4|          5|                        10|                     0.0|           satisfied|\n",
            "| 15| 22470|  Male|   Loyal Customer| 50|Personal Travel|     Eco|             83|                    3|                                4|                     0|            3|             2|              0|           2|                     2|               4|               2|               4|              4|               5|          2|                         5|                     2.0|neutral or dissat...|\n",
            "| 16|124915|Female|   Loyal Customer| 31|Business travel|     Eco|            728|                    2|                                5|                     5|            5|             2|              2|           2|                     2|               4|               3|               3|              4|               3|          2|                         2|                     0.0|neutral or dissat...|\n",
            "| 17| 17836|  Male|   Loyal Customer| 52|Personal Travel|Eco Plus|           1075|                    5|                                4|                     5|            3|             4|              5|           4|                     4|               3|               5|               5|              4|               5|          4|                         0|                     0.0|           satisfied|\n",
            "| 18| 76872|Female|   Loyal Customer| 43|Personal Travel|     Eco|           1927|                    3|                                4|                     3|            1|             4|              4|           5|                     5|               5|               3|               5|              4|               5|          3|                         0|                     0.0|neutral or dissat...|\n",
            "| 19| 64287|Female|   Loyal Customer| 50|Business travel|Business|           3799|                    5|                                5|                     5|            5|             4|              5|           4|                     4|               4|               5|               4|              5|               4|          5|                         8|                     0.0|           satisfied|\n",
            "+---+------+------+-----------------+---+---------------+--------+---------------+---------------------+---------------------------------+----------------------+-------------+--------------+---------------+------------+----------------------+----------------+----------------+----------------+---------------+----------------+-----------+--------------------------+------------------------+--------------------+\n",
            "only showing top 20 rows\n",
            "\n"
          ],
          "name": "stdout"
        }
      ]
    },
    {
      "cell_type": "code",
      "metadata": {
        "id": "ZU6uKlum75TU"
      },
      "source": [
        "# Configure settings for RDS\r\n",
        "mode = \"append\"\r\n",
        "jdbc_url=\"jdbc:postgresql://<datafinal.c50h51d04cbn.us-east-2.rds.amazonaws.com>:5432/<datafinal>\"\r\n",
        "config = {\"user\":\"postgres\",\r\n",
        "          \"password\": \"<rootroot>\",\r\n",
        "          \"driver\":\"org.postgresql.Driver\"}"
      ],
      "execution_count": null,
      "outputs": []
    },
    {
      "cell_type": "code",
      "metadata": {
        "id": "yfuJAbIy-LJ0"
      },
      "source": [
        "# Write DataFrame to test table in RDS\r\n",
        "clean_user_df.write.jdbc(url=jdbc_url, table='test', mode=mode, properties=config)"
      ],
      "execution_count": null,
      "outputs": []
    }
  ]
}