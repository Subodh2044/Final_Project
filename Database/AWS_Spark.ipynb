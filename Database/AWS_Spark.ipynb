{
  "nbformat": 4,
  "nbformat_minor": 0,
  "metadata": {
    "colab": {
      "name": "AWS_Spark.ipynb",
      "provenance": [],
      "collapsed_sections": []
    },
    "kernelspec": {
      "name": "python3",
      "display_name": "Python 3"
    }
  },
  "cells": [
    {
      "cell_type": "code",
      "metadata": {
        "colab": {
          "base_uri": "https://localhost:8080/"
        },
        "id": "CFb6hwKx2Cq7",
        "outputId": "5c711021-808b-434b-b658-0ad057c351fc"
      },
      "source": [
        "import os\r\n",
        "# Find the latest version of spark 3.0  from http://www-us.apache.org/dist/spark/ and enter as the spark version\r\n",
        "# For example:\r\n",
        "# spark_version = 'spark-3.0.1'\r\n",
        "spark_version = 'spark-3.0.1'\r\n",
        "os.environ['SPARK_VERSION']=spark_version\r\n",
        "\r\n",
        "# Install Spark and Java\r\n",
        "!apt-get update\r\n",
        "!apt-get install openjdk-11-jdk-headless -qq > /dev/null\r\n",
        "!wget -q http://www-us.apache.org/dist/spark/$SPARK_VERSION/$SPARK_VERSION-bin-hadoop2.7.tgz\r\n",
        "!tar xf $SPARK_VERSION-bin-hadoop2.7.tgz\r\n",
        "!pip install -q findspark\r\n",
        "\r\n",
        "# Set Environment Variables\r\n",
        "import os\r\n",
        "os.environ[\"JAVA_HOME\"] = \"/usr/lib/jvm/java-11-openjdk-amd64\"\r\n",
        "os.environ[\"SPARK_HOME\"] = f\"/content/{spark_version}-bin-hadoop2.7\"\r\n",
        "\r\n",
        "# Start a SparkSession\r\n",
        "import findspark\r\n",
        "findspark.init()"
      ],
      "execution_count": 1,
      "outputs": [
        {
          "output_type": "stream",
          "text": [
            "\r0% [Working]\r            \rGet:1 http://security.ubuntu.com/ubuntu bionic-security InRelease [88.7 kB]\n",
            "\r0% [Connecting to archive.ubuntu.com (91.189.88.152)] [1 InRelease 0 B/88.7 kB \r0% [Waiting for headers] [Connected to cloud.r-project.org (65.8.186.116)] [Wai\r                                                                               \rIgn:2 https://developer.download.nvidia.com/compute/cuda/repos/ubuntu1804/x86_64  InRelease\n",
            "\r0% [Waiting for headers] [Waiting for headers] [Waiting for headers] [Waiting f\r0% [1 InRelease gpgv 88.7 kB] [Waiting for headers] [Waiting for headers] [Wait\r                                                                               \rGet:3 https://cloud.r-project.org/bin/linux/ubuntu bionic-cran40/ InRelease [3,626 B]\n",
            "\r0% [1 InRelease gpgv 88.7 kB] [Waiting for headers] [3 InRelease 3,626 B/3,626 \r0% [1 InRelease gpgv 88.7 kB] [Waiting for headers] [Waiting for headers] [Wait\r                                                                               \rHit:4 http://archive.ubuntu.com/ubuntu bionic InRelease\n",
            "\r0% [1 InRelease gpgv 88.7 kB] [Waiting for headers] [Waiting for headers] [Wait\r                                                                               \rGet:5 http://ppa.launchpad.net/c2d4u.team/c2d4u4.0+/ubuntu bionic InRelease [15.9 kB]\n",
            "\r0% [1 InRelease gpgv 88.7 kB] [Waiting for headers] [5 InRelease 14.2 kB/15.9 k\r                                                                               \rIgn:6 https://developer.download.nvidia.com/compute/machine-learning/repos/ubuntu1804/x86_64  InRelease\n",
            "\r0% [1 InRelease gpgv 88.7 kB] [Waiting for headers] [5 InRelease 14.2 kB/15.9 k\r                                                                               \rHit:7 https://developer.download.nvidia.com/compute/cuda/repos/ubuntu1804/x86_64  Release\n",
            "Hit:8 https://developer.download.nvidia.com/compute/machine-learning/repos/ubuntu1804/x86_64  Release\n",
            "Get:9 http://archive.ubuntu.com/ubuntu bionic-updates InRelease [88.7 kB]\n",
            "Hit:10 http://ppa.launchpad.net/cran/libgit2/ubuntu bionic InRelease\n",
            "Get:11 http://security.ubuntu.com/ubuntu bionic-security/main amd64 Packages [1,919 kB]\n",
            "Get:12 http://archive.ubuntu.com/ubuntu bionic-backports InRelease [74.6 kB]\n",
            "Hit:13 http://ppa.launchpad.net/graphics-drivers/ppa/ubuntu bionic InRelease\n",
            "Get:14 http://security.ubuntu.com/ubuntu bionic-security/universe amd64 Packages [1,386 kB]\n",
            "Get:17 http://ppa.launchpad.net/c2d4u.team/c2d4u4.0+/ubuntu bionic/main Sources [1,724 kB]\n",
            "Get:18 http://archive.ubuntu.com/ubuntu bionic-updates/main amd64 Packages [2,352 kB]\n",
            "Get:19 http://ppa.launchpad.net/c2d4u.team/c2d4u4.0+/ubuntu bionic/main amd64 Packages [882 kB]\n",
            "Get:20 http://archive.ubuntu.com/ubuntu bionic-updates/universe amd64 Packages [2,157 kB]\n",
            "Fetched 10.7 MB in 4s (2,676 kB/s)\n",
            "Reading package lists... Done\n"
          ],
          "name": "stdout"
        }
      ]
    },
    {
      "cell_type": "code",
      "metadata": {
        "colab": {
          "base_uri": "https://localhost:8080/"
        },
        "id": "jJ50MvSj3Iop",
        "outputId": "f0d275f0-dca1-4d18-d7f2-d13c794c5e06"
      },
      "source": [
        "\r\n",
        "# Download the Postgres driver that will allow Spark to interact with Postgres.\r\n",
        "!wget https://jdbc.postgresql.org/download/postgresql-42.2.16.jar"
      ],
      "execution_count": 2,
      "outputs": [
        {
          "output_type": "stream",
          "text": [
            "--2021-02-03 07:50:23--  https://jdbc.postgresql.org/download/postgresql-42.2.16.jar\n",
            "Resolving jdbc.postgresql.org (jdbc.postgresql.org)... 72.32.157.228, 2001:4800:3e1:1::228\n",
            "Connecting to jdbc.postgresql.org (jdbc.postgresql.org)|72.32.157.228|:443... failed: Connection timed out.\n",
            "Connecting to jdbc.postgresql.org (jdbc.postgresql.org)|2001:4800:3e1:1::228|:443... failed: Cannot assign requested address.\n",
            "Retrying.\n",
            "\n",
            "--2021-02-03 07:50:57--  (try: 2)  https://jdbc.postgresql.org/download/postgresql-42.2.16.jar\n",
            "Connecting to jdbc.postgresql.org (jdbc.postgresql.org)|72.32.157.228|:443... connected.\n",
            "HTTP request sent, awaiting response... 200 OK\n",
            "Length: 1002883 (979K) [application/java-archive]\n",
            "Saving to: ‘postgresql-42.2.16.jar’\n",
            "\n",
            "postgresql-42.2.16. 100%[===================>] 979.38K  --.-KB/s    in 0.1s    \n",
            "\n",
            "2021-02-03 07:50:57 (6.47 MB/s) - ‘postgresql-42.2.16.jar’ saved [1002883/1002883]\n",
            "\n"
          ],
          "name": "stdout"
        }
      ]
    },
    {
      "cell_type": "code",
      "metadata": {
        "id": "4Clh5Pjy4aFw"
      },
      "source": [
        "from pyspark.sql import SparkSession\r\n",
        "spark = SparkSession.builder.appName(\"datafinal\").config(\"spark.driver.extraClassPath\",\"/content/postgresql-42.2.16.jar\").getOrCreate()"
      ],
      "execution_count": 3,
      "outputs": []
    },
    {
      "cell_type": "code",
      "metadata": {
        "id": "zIRTzdfa3b3B"
      },
      "source": [
        "# Read in data from S3 Buckets\r\n",
        "from pyspark import SparkFiles\r\n",
        "url =\"https://reno8946-bucket.s3.us-east-2.amazonaws.com/test.csv\"\r\n",
        "spark.sparkContext.addFile(url)\r\n",
        "test_df = spark.read.csv(SparkFiles.get(\"test.csv\"), sep=\",\", header=True, inferSchema=True)"
      ],
      "execution_count": 4,
      "outputs": []
    },
    {
      "cell_type": "code",
      "metadata": {
        "colab": {
          "base_uri": "https://localhost:8080/"
        },
        "id": "seBRYmCiSOO7",
        "outputId": "085554d2-309e-4ac2-fd6d-0c6bfe5ab819"
      },
      "source": [
        "# Show DataFrame\r\n",
        "test_df.show()"
      ],
      "execution_count": 5,
      "outputs": [
        {
          "output_type": "stream",
          "text": [
            "+---+------+------+-----------------+---+---------------+--------+---------------+---------------------+---------------------------------+----------------------+-------------+--------------+---------------+------------+----------------------+----------------+----------------+----------------+---------------+----------------+-----------+--------------------------+------------------------+--------------------+\n",
            "|_c0|    id|Gender|    Customer Type|Age| Type of Travel|   Class|Flight Distance|Inflight wifi service|Departure/Arrival time convenient|Ease of Online booking|Gate location|Food and drink|Online boarding|Seat comfort|Inflight entertainment|On-board service|Leg room service|Baggage handling|Checkin service|Inflight service|Cleanliness|Departure Delay in Minutes|Arrival Delay in Minutes|        satisfaction|\n",
            "+---+------+------+-----------------+---+---------------+--------+---------------+---------------------+---------------------------------+----------------------+-------------+--------------+---------------+------------+----------------------+----------------+----------------+----------------+---------------+----------------+-----------+--------------------------+------------------------+--------------------+\n",
            "|  0| 19556|Female|   Loyal Customer| 52|Business travel|     Eco|            160|                    5|                                4|                     3|            4|             3|              4|           3|                     5|               5|               5|               5|              2|               5|          5|                        50|                    44.0|           satisfied|\n",
            "|  1| 90035|Female|   Loyal Customer| 36|Business travel|Business|           2863|                    1|                                1|                     3|            1|             5|              4|           5|                     4|               4|               4|               4|              3|               4|          5|                         0|                     0.0|           satisfied|\n",
            "|  2| 12360|  Male|disloyal Customer| 20|Business travel|     Eco|            192|                    2|                                0|                     2|            4|             2|              2|           2|                     2|               4|               1|               3|              2|               2|          2|                         0|                     0.0|neutral or dissat...|\n",
            "|  3| 77959|  Male|   Loyal Customer| 44|Business travel|Business|           3377|                    0|                                0|                     0|            2|             3|              4|           4|                     1|               1|               1|               1|              3|               1|          4|                         0|                     6.0|           satisfied|\n",
            "|  4| 36875|Female|   Loyal Customer| 49|Business travel|     Eco|           1182|                    2|                                3|                     4|            3|             4|              1|           2|                     2|               2|               2|               2|              4|               2|          4|                         0|                    20.0|           satisfied|\n",
            "|  5| 39177|  Male|   Loyal Customer| 16|Business travel|     Eco|            311|                    3|                                3|                     3|            3|             5|              5|           3|                     5|               4|               3|               1|              1|               2|          5|                         0|                     0.0|           satisfied|\n",
            "|  6| 79433|Female|   Loyal Customer| 77|Business travel|Business|           3987|                    5|                                5|                     5|            5|             3|              5|           5|                     5|               5|               5|               5|              4|               5|          3|                         0|                     0.0|           satisfied|\n",
            "|  7| 97286|Female|   Loyal Customer| 43|Business travel|Business|           2556|                    2|                                2|                     2|            2|             4|              4|           5|                     4|               4|               4|               4|              5|               4|          3|                        77|                    65.0|           satisfied|\n",
            "|  8| 27508|  Male|   Loyal Customer| 47|Business travel|     Eco|            556|                    5|                                2|                     2|            2|             5|              5|           5|                     5|               2|               2|               5|              3|               3|          5|                         1|                     0.0|           satisfied|\n",
            "|  9| 62482|Female|   Loyal Customer| 46|Business travel|Business|           1744|                    2|                                2|                     2|            2|             3|              4|           4|                     4|               4|               4|               4|              5|               4|          4|                        28|                    14.0|           satisfied|\n",
            "| 10| 47583|Female|   Loyal Customer| 47|Business travel|     Eco|           1235|                    4|                                1|                     1|            1|             5|              1|           5|                     3|               3|               4|               3|              1|               3|          4|                        29|                    19.0|           satisfied|\n",
            "| 11|115550|Female|   Loyal Customer| 33|Business travel|Business|            325|                    2|                                5|                     5|            5|             1|              3|           4|                     2|               2|               2|               2|              3|               2|          4|                        18|                     7.0|neutral or dissat...|\n",
            "| 12|119987|Female|   Loyal Customer| 46|Business travel|Business|           1009|                    5|                                5|                     5|            5|             4|              5|           5|                     5|               5|               5|               5|              5|               5|          3|                         0|                     0.0|           satisfied|\n",
            "| 13| 42141|Female|   Loyal Customer| 60|Business travel|Business|            451|                    1|                                1|                     4|            1|             5|              5|           4|                     5|               5|               5|               5|              3|               5|          5|                       117|                   113.0|           satisfied|\n",
            "| 14|  2274|Female|   Loyal Customer| 52|Business travel|Business|            925|                    2|                                2|                     2|            2|             5|              5|           4|                     4|               4|               4|               4|              3|               4|          5|                        10|                     0.0|           satisfied|\n",
            "| 15| 22470|  Male|   Loyal Customer| 50|Personal Travel|     Eco|             83|                    3|                                4|                     0|            3|             2|              0|           2|                     2|               4|               2|               4|              4|               5|          2|                         5|                     2.0|neutral or dissat...|\n",
            "| 16|124915|Female|   Loyal Customer| 31|Business travel|     Eco|            728|                    2|                                5|                     5|            5|             2|              2|           2|                     2|               4|               3|               3|              4|               3|          2|                         2|                     0.0|neutral or dissat...|\n",
            "| 17| 17836|  Male|   Loyal Customer| 52|Personal Travel|Eco Plus|           1075|                    5|                                4|                     5|            3|             4|              5|           4|                     4|               3|               5|               5|              4|               5|          4|                         0|                     0.0|           satisfied|\n",
            "| 18| 76872|Female|   Loyal Customer| 43|Personal Travel|     Eco|           1927|                    3|                                4|                     3|            1|             4|              4|           5|                     5|               5|               3|               5|              4|               5|          3|                         0|                     0.0|neutral or dissat...|\n",
            "| 19| 64287|Female|   Loyal Customer| 50|Business travel|Business|           3799|                    5|                                5|                     5|            5|             4|              5|           4|                     4|               4|               5|               4|              5|               4|          5|                         8|                     0.0|           satisfied|\n",
            "+---+------+------+-----------------+---+---------------+--------+---------------+---------------------+---------------------------------+----------------------+-------------+--------------+---------------+------------+----------------------+----------------+----------------+----------------+---------------+----------------+-----------+--------------------------+------------------------+--------------------+\n",
            "only showing top 20 rows\n",
            "\n"
          ],
          "name": "stdout"
        }
      ]
    },
    {
      "cell_type": "code",
      "metadata": {
        "colab": {
          "base_uri": "https://localhost:8080/"
        },
        "id": "B8bEMu20lFJj",
        "outputId": "ed4094b8-37a3-47a5-de67-94635a6ffdb9"
      },
      "source": [
        "# count total rows in test_df\r\n",
        "test_df.count()"
      ],
      "execution_count": 6,
      "outputs": [
        {
          "output_type": "execute_result",
          "data": {
            "text/plain": [
              "25976"
            ]
          },
          "metadata": {
            "tags": []
          },
          "execution_count": 6
        }
      ]
    },
    {
      "cell_type": "code",
      "metadata": {
        "id": "4PF5l7jr3KOm"
      },
      "source": [
        "# Read in data from S3 Buckets\r\n",
        "from pyspark import SparkFiles\r\n",
        "url =\"https://reno8946-bucket.s3.us-east-2.amazonaws.com/train.csv\"\r\n",
        "spark.sparkContext.addFile(url)\r\n",
        "train_df = spark.read.csv(SparkFiles.get(\"train.csv\"), sep=\",\", header=True, inferSchema=True)"
      ],
      "execution_count": 7,
      "outputs": []
    },
    {
      "cell_type": "code",
      "metadata": {
        "colab": {
          "base_uri": "https://localhost:8080/"
        },
        "id": "yXrQn6Vu3gN8",
        "outputId": "c2a724ce-eeaf-4483-a5df-2cb3564048bb"
      },
      "source": [
        "# Show DataFrame\r\n",
        "train_df.show()"
      ],
      "execution_count": 8,
      "outputs": [
        {
          "output_type": "stream",
          "text": [
            "+---+------+------+-----------------+---+---------------+--------+---------------+---------------------+---------------------------------+----------------------+-------------+--------------+---------------+------------+----------------------+----------------+----------------+----------------+---------------+----------------+-----------+--------------------------+------------------------+--------------------+\n",
            "|_c0|    id|Gender|    Customer Type|Age| Type of Travel|   Class|Flight Distance|Inflight wifi service|Departure/Arrival time convenient|Ease of Online booking|Gate location|Food and drink|Online boarding|Seat comfort|Inflight entertainment|On-board service|Leg room service|Baggage handling|Checkin service|Inflight service|Cleanliness|Departure Delay in Minutes|Arrival Delay in Minutes|        satisfaction|\n",
            "+---+------+------+-----------------+---+---------------+--------+---------------+---------------------+---------------------------------+----------------------+-------------+--------------+---------------+------------+----------------------+----------------+----------------+----------------+---------------+----------------+-----------+--------------------------+------------------------+--------------------+\n",
            "|  0| 70172|  Male|   Loyal Customer| 13|Personal Travel|Eco Plus|            460|                    3|                                4|                     3|            1|             5|              3|           5|                     5|               4|               3|               4|              4|               5|          5|                        25|                    18.0|neutral or dissat...|\n",
            "|  1|  5047|  Male|disloyal Customer| 25|Business travel|Business|            235|                    3|                                2|                     3|            3|             1|              3|           1|                     1|               1|               5|               3|              1|               4|          1|                         1|                     6.0|neutral or dissat...|\n",
            "|  2|110028|Female|   Loyal Customer| 26|Business travel|Business|           1142|                    2|                                2|                     2|            2|             5|              5|           5|                     5|               4|               3|               4|              4|               4|          5|                         0|                     0.0|           satisfied|\n",
            "|  3| 24026|Female|   Loyal Customer| 25|Business travel|Business|            562|                    2|                                5|                     5|            5|             2|              2|           2|                     2|               2|               5|               3|              1|               4|          2|                        11|                     9.0|neutral or dissat...|\n",
            "|  4|119299|  Male|   Loyal Customer| 61|Business travel|Business|            214|                    3|                                3|                     3|            3|             4|              5|           5|                     3|               3|               4|               4|              3|               3|          3|                         0|                     0.0|           satisfied|\n",
            "|  5|111157|Female|   Loyal Customer| 26|Personal Travel|     Eco|           1180|                    3|                                4|                     2|            1|             1|              2|           1|                     1|               3|               4|               4|              4|               4|          1|                         0|                     0.0|neutral or dissat...|\n",
            "|  6| 82113|  Male|   Loyal Customer| 47|Personal Travel|     Eco|           1276|                    2|                                4|                     2|            3|             2|              2|           2|                     2|               3|               3|               4|              3|               5|          2|                         9|                    23.0|neutral or dissat...|\n",
            "|  7| 96462|Female|   Loyal Customer| 52|Business travel|Business|           2035|                    4|                                3|                     4|            4|             5|              5|           5|                     5|               5|               5|               5|              4|               5|          4|                         4|                     0.0|           satisfied|\n",
            "|  8| 79485|Female|   Loyal Customer| 41|Business travel|Business|            853|                    1|                                2|                     2|            2|             4|              3|           3|                     1|               1|               2|               1|              4|               1|          2|                         0|                     0.0|neutral or dissat...|\n",
            "|  9| 65725|  Male|disloyal Customer| 20|Business travel|     Eco|           1061|                    3|                                3|                     3|            4|             2|              3|           3|                     2|               2|               3|               4|              4|               3|          2|                         0|                     0.0|neutral or dissat...|\n",
            "| 10| 34991|Female|disloyal Customer| 24|Business travel|     Eco|           1182|                    4|                                5|                     5|            4|             2|              5|           2|                     2|               3|               3|               5|              3|               5|          2|                         0|                     0.0|neutral or dissat...|\n",
            "| 11| 51412|Female|   Loyal Customer| 12|Personal Travel|Eco Plus|            308|                    2|                                4|                     2|            2|             1|              2|           1|                     1|               1|               2|               5|              5|               5|          1|                         0|                     0.0|neutral or dissat...|\n",
            "| 12| 98628|  Male|   Loyal Customer| 53|Business travel|     Eco|            834|                    1|                                4|                     4|            4|             1|              1|           1|                     1|               1|               1|               3|              4|               4|          1|                        28|                     8.0|neutral or dissat...|\n",
            "| 13| 83502|  Male|   Loyal Customer| 33|Personal Travel|     Eco|            946|                    4|                                2|                     4|            3|             4|              4|           4|                     4|               4|               5|               2|              2|               2|          4|                         0|                     0.0|           satisfied|\n",
            "| 14| 95789|Female|   Loyal Customer| 26|Personal Travel|     Eco|            453|                    3|                                2|                     3|            2|             2|              3|           2|                     2|               4|               3|               2|              2|               1|          2|                        43|                    35.0|neutral or dissat...|\n",
            "| 15|100580|  Male|disloyal Customer| 13|Business travel|     Eco|            486|                    2|                                1|                     2|            3|             4|              2|           1|                     4|               2|               1|               4|              1|               3|          4|                         1|                     0.0|neutral or dissat...|\n",
            "| 16| 71142|Female|   Loyal Customer| 26|Business travel|Business|           2123|                    3|                                3|                     3|            3|             4|              4|           4|                     4|               5|               3|               4|              5|               4|          4|                        49|                    51.0|           satisfied|\n",
            "| 17|127461|  Male|   Loyal Customer| 41|Business travel|Business|           2075|                    4|                                4|                     2|            4|             4|              4|           4|                     5|               5|               5|               5|              3|               5|          5|                         0|                    10.0|           satisfied|\n",
            "| 18| 70354|Female|   Loyal Customer| 45|Business travel|Business|           2486|                    4|                                4|                     4|            4|             3|              4|           5|                     5|               5|               5|               5|              3|               5|          4|                         7|                     5.0|           satisfied|\n",
            "| 19| 66246|  Male|   Loyal Customer| 38|Personal Travel|     Eco|            460|                    2|                                3|                     3|            2|             5|              3|           5|                     5|               1|               2|               4|              3|               2|          5|                        17|                    18.0|neutral or dissat...|\n",
            "+---+------+------+-----------------+---+---------------+--------+---------------+---------------------+---------------------------------+----------------------+-------------+--------------+---------------+------------+----------------------+----------------+----------------+----------------+---------------+----------------+-----------+--------------------------+------------------------+--------------------+\n",
            "only showing top 20 rows\n",
            "\n"
          ],
          "name": "stdout"
        }
      ]
    },
    {
      "cell_type": "code",
      "metadata": {
        "colab": {
          "base_uri": "https://localhost:8080/"
        },
        "id": "Tp8pLplk49K9",
        "outputId": "0a92e685-9201-45d3-9139-463517890e5d"
      },
      "source": [
        "# Row count of train.df\r\n",
        "train_df.count()"
      ],
      "execution_count": 9,
      "outputs": [
        {
          "output_type": "execute_result",
          "data": {
            "text/plain": [
              "103904"
            ]
          },
          "metadata": {
            "tags": []
          },
          "execution_count": 9
        }
      ]
    },
    {
      "cell_type": "code",
      "metadata": {
        "id": "rDIGsjlX5nzO"
      },
      "source": [
        "# Append dataframes\r\n",
        "# def append_dfs(train_df,test_df):\r\n",
        "#     list1 = train_df.columns\r\n",
        "#     list2 = test_df.columns\r\n",
        "#     for col in list2:\r\n",
        "#         if(col not in list1):\r\n",
        "#             train_df = train_df.withColumn(col, F.lit(None))\r\n",
        "#     for col in list1:\r\n",
        "#         if(col not in list2):\r\n",
        "#             test_df = test_df.withColumn(col, F.lit(None))\r\n",
        "#     return train_df.unionByName(test_df)\r\n",
        "# final_df = append_dfs(train_df,test_df)\r\n",
        "# final_df.show()"
      ],
      "execution_count": 10,
      "outputs": []
    },
    {
      "cell_type": "code",
      "metadata": {
        "id": "1KO7uXAu_ezH"
      },
      "source": [
        "# # row count of concatenated file\r\n",
        "# final_df.count()"
      ],
      "execution_count": 11,
      "outputs": []
    },
    {
      "cell_type": "code",
      "metadata": {
        "id": "Uq66qkAi-xLj"
      },
      "source": [
        "# Rename columns for train_df\r\n",
        "train_df=train_df.withColumnRenamed(\"Food and drink\", \"Food_and_drink\").withColumnRenamed(\"Type of Travel\", \"Type_of_Travel\").withColumnRenamed(\"Departure/Arrival time convenient\", \"Departure/Arrival_time_convenient\").withColumnRenamed(\"Ease of Online booking\", \"Ease_of_Online_booking\").withColumnRenamed(\"Gate location\", \"Gate_location\").withColumnRenamed(\"Departure Delay in Minutes\", \"Departure_Delay_in_Minutes\").withColumnRenamed(\"Arrival Delay in Minutes\", \"Arrival_Delay_in_Minutes\").withColumnRenamed(\"Customer Type\", \"Customer\").withColumnRenamed(\"Inflight wifi service\", \"Inflight wifi\").withColumnRenamed(\"Ease_of_Online_booking\", \"Ease_of_Online booking\")\r\n"
      ],
      "execution_count": 12,
      "outputs": []
    },
    {
      "cell_type": "code",
      "metadata": {
        "id": "BL4aki_RqCBC"
      },
      "source": [
        "# Rename columns for test_df\r\n",
        "test_df=test_df.withColumnRenamed(\"Food and drink\", \"Food_and_drink\").withColumnRenamed(\"Type of Travel\", \"Type_of_Travel\").withColumnRenamed(\"Departure/Arrival time convenient\", \"Departure/Arrival_time_convenient\").withColumnRenamed(\"Ease of Online booking\", \"Ease_of_Online_booking\").withColumnRenamed(\"Gate location\", \"Gate_location\").withColumnRenamed(\"Departure Delay in Minutes\", \"Departure_Delay_in_Minutes\").withColumnRenamed(\"Arrival Delay in Minutes\", \"Arrival_Delay_in_Minutes\").withColumnRenamed(\"Customer Type\", \"Customer\").withColumnRenamed(\"Inflight wifi service\", \"Inflight wifi\").withColumnRenamed(\"Ease_of_Online_booking\", \"Ease_of_Online booking\")\r\n"
      ],
      "execution_count": 13,
      "outputs": []
    },
    {
      "cell_type": "code",
      "metadata": {
        "id": "N4p-X8FrJs6P"
      },
      "source": [
        "# Drop NAs for train_df\r\n",
        "train_df=train_df.dropna()"
      ],
      "execution_count": 14,
      "outputs": []
    },
    {
      "cell_type": "code",
      "metadata": {
        "id": "qhAvJvDDqg-L"
      },
      "source": [
        "# Drop NAs for test_df\r\n",
        "test_df=test_df.dropna()"
      ],
      "execution_count": 15,
      "outputs": []
    },
    {
      "cell_type": "code",
      "metadata": {
        "colab": {
          "base_uri": "https://localhost:8080/"
        },
        "id": "oG4bz6x1AwMd",
        "outputId": "58ae6b3d-77ae-4d6a-839f-b47684673a2e"
      },
      "source": [
        "# Drop index and id columns for train_df\r\n",
        "train_df=train_df.drop('_c0','id')\r\n",
        "train_df.show()"
      ],
      "execution_count": 16,
      "outputs": [
        {
          "output_type": "stream",
          "text": [
            "+------+-----------------+---+---------------+--------+---------------+-------------+---------------------------------+----------------------+-------------+--------------+---------------+------------+----------------------+----------------+----------------+----------------+---------------+----------------+-----------+--------------------------+------------------------+--------------------+\n",
            "|Gender|         Customer|Age| Type_of_Travel|   Class|Flight Distance|Inflight wifi|Departure/Arrival_time_convenient|Ease_of_Online booking|Gate_location|Food_and_drink|Online boarding|Seat comfort|Inflight entertainment|On-board service|Leg room service|Baggage handling|Checkin service|Inflight service|Cleanliness|Departure_Delay_in_Minutes|Arrival_Delay_in_Minutes|        satisfaction|\n",
            "+------+-----------------+---+---------------+--------+---------------+-------------+---------------------------------+----------------------+-------------+--------------+---------------+------------+----------------------+----------------+----------------+----------------+---------------+----------------+-----------+--------------------------+------------------------+--------------------+\n",
            "|  Male|   Loyal Customer| 13|Personal Travel|Eco Plus|            460|            3|                                4|                     3|            1|             5|              3|           5|                     5|               4|               3|               4|              4|               5|          5|                        25|                    18.0|neutral or dissat...|\n",
            "|  Male|disloyal Customer| 25|Business travel|Business|            235|            3|                                2|                     3|            3|             1|              3|           1|                     1|               1|               5|               3|              1|               4|          1|                         1|                     6.0|neutral or dissat...|\n",
            "|Female|   Loyal Customer| 26|Business travel|Business|           1142|            2|                                2|                     2|            2|             5|              5|           5|                     5|               4|               3|               4|              4|               4|          5|                         0|                     0.0|           satisfied|\n",
            "|Female|   Loyal Customer| 25|Business travel|Business|            562|            2|                                5|                     5|            5|             2|              2|           2|                     2|               2|               5|               3|              1|               4|          2|                        11|                     9.0|neutral or dissat...|\n",
            "|  Male|   Loyal Customer| 61|Business travel|Business|            214|            3|                                3|                     3|            3|             4|              5|           5|                     3|               3|               4|               4|              3|               3|          3|                         0|                     0.0|           satisfied|\n",
            "|Female|   Loyal Customer| 26|Personal Travel|     Eco|           1180|            3|                                4|                     2|            1|             1|              2|           1|                     1|               3|               4|               4|              4|               4|          1|                         0|                     0.0|neutral or dissat...|\n",
            "|  Male|   Loyal Customer| 47|Personal Travel|     Eco|           1276|            2|                                4|                     2|            3|             2|              2|           2|                     2|               3|               3|               4|              3|               5|          2|                         9|                    23.0|neutral or dissat...|\n",
            "|Female|   Loyal Customer| 52|Business travel|Business|           2035|            4|                                3|                     4|            4|             5|              5|           5|                     5|               5|               5|               5|              4|               5|          4|                         4|                     0.0|           satisfied|\n",
            "|Female|   Loyal Customer| 41|Business travel|Business|            853|            1|                                2|                     2|            2|             4|              3|           3|                     1|               1|               2|               1|              4|               1|          2|                         0|                     0.0|neutral or dissat...|\n",
            "|  Male|disloyal Customer| 20|Business travel|     Eco|           1061|            3|                                3|                     3|            4|             2|              3|           3|                     2|               2|               3|               4|              4|               3|          2|                         0|                     0.0|neutral or dissat...|\n",
            "|Female|disloyal Customer| 24|Business travel|     Eco|           1182|            4|                                5|                     5|            4|             2|              5|           2|                     2|               3|               3|               5|              3|               5|          2|                         0|                     0.0|neutral or dissat...|\n",
            "|Female|   Loyal Customer| 12|Personal Travel|Eco Plus|            308|            2|                                4|                     2|            2|             1|              2|           1|                     1|               1|               2|               5|              5|               5|          1|                         0|                     0.0|neutral or dissat...|\n",
            "|  Male|   Loyal Customer| 53|Business travel|     Eco|            834|            1|                                4|                     4|            4|             1|              1|           1|                     1|               1|               1|               3|              4|               4|          1|                        28|                     8.0|neutral or dissat...|\n",
            "|  Male|   Loyal Customer| 33|Personal Travel|     Eco|            946|            4|                                2|                     4|            3|             4|              4|           4|                     4|               4|               5|               2|              2|               2|          4|                         0|                     0.0|           satisfied|\n",
            "|Female|   Loyal Customer| 26|Personal Travel|     Eco|            453|            3|                                2|                     3|            2|             2|              3|           2|                     2|               4|               3|               2|              2|               1|          2|                        43|                    35.0|neutral or dissat...|\n",
            "|  Male|disloyal Customer| 13|Business travel|     Eco|            486|            2|                                1|                     2|            3|             4|              2|           1|                     4|               2|               1|               4|              1|               3|          4|                         1|                     0.0|neutral or dissat...|\n",
            "|Female|   Loyal Customer| 26|Business travel|Business|           2123|            3|                                3|                     3|            3|             4|              4|           4|                     4|               5|               3|               4|              5|               4|          4|                        49|                    51.0|           satisfied|\n",
            "|  Male|   Loyal Customer| 41|Business travel|Business|           2075|            4|                                4|                     2|            4|             4|              4|           4|                     5|               5|               5|               5|              3|               5|          5|                         0|                    10.0|           satisfied|\n",
            "|Female|   Loyal Customer| 45|Business travel|Business|           2486|            4|                                4|                     4|            4|             3|              4|           5|                     5|               5|               5|               5|              3|               5|          4|                         7|                     5.0|           satisfied|\n",
            "|  Male|   Loyal Customer| 38|Personal Travel|     Eco|            460|            2|                                3|                     3|            2|             5|              3|           5|                     5|               1|               2|               4|              3|               2|          5|                        17|                    18.0|neutral or dissat...|\n",
            "+------+-----------------+---+---------------+--------+---------------+-------------+---------------------------------+----------------------+-------------+--------------+---------------+------------+----------------------+----------------+----------------+----------------+---------------+----------------+-----------+--------------------------+------------------------+--------------------+\n",
            "only showing top 20 rows\n",
            "\n"
          ],
          "name": "stdout"
        }
      ]
    },
    {
      "cell_type": "code",
      "metadata": {
        "id": "BilVvIhtwwn3",
        "colab": {
          "base_uri": "https://localhost:8080/"
        },
        "outputId": "57ab1c64-c51b-4b5c-a28b-79402394e4e2"
      },
      "source": [
        "# Total number of rows for train_df\r\n",
        "train_df.count()"
      ],
      "execution_count": 17,
      "outputs": [
        {
          "output_type": "execute_result",
          "data": {
            "text/plain": [
              "103594"
            ]
          },
          "metadata": {
            "tags": []
          },
          "execution_count": 17
        }
      ]
    },
    {
      "cell_type": "code",
      "metadata": {
        "colab": {
          "base_uri": "https://localhost:8080/"
        },
        "id": "oA1V53jnqyE2",
        "outputId": "4e294fa9-673e-4046-e92a-be5628d09727"
      },
      "source": [
        "# Drop index and id columns for test_df\r\n",
        "test_df=test_df.drop('_c0','id')\r\n",
        "test_df.show()"
      ],
      "execution_count": 18,
      "outputs": [
        {
          "output_type": "stream",
          "text": [
            "+------+-----------------+---+---------------+--------+---------------+-------------+---------------------------------+----------------------+-------------+--------------+---------------+------------+----------------------+----------------+----------------+----------------+---------------+----------------+-----------+--------------------------+------------------------+--------------------+\n",
            "|Gender|         Customer|Age| Type_of_Travel|   Class|Flight Distance|Inflight wifi|Departure/Arrival_time_convenient|Ease_of_Online booking|Gate_location|Food_and_drink|Online boarding|Seat comfort|Inflight entertainment|On-board service|Leg room service|Baggage handling|Checkin service|Inflight service|Cleanliness|Departure_Delay_in_Minutes|Arrival_Delay_in_Minutes|        satisfaction|\n",
            "+------+-----------------+---+---------------+--------+---------------+-------------+---------------------------------+----------------------+-------------+--------------+---------------+------------+----------------------+----------------+----------------+----------------+---------------+----------------+-----------+--------------------------+------------------------+--------------------+\n",
            "|Female|   Loyal Customer| 52|Business travel|     Eco|            160|            5|                                4|                     3|            4|             3|              4|           3|                     5|               5|               5|               5|              2|               5|          5|                        50|                    44.0|           satisfied|\n",
            "|Female|   Loyal Customer| 36|Business travel|Business|           2863|            1|                                1|                     3|            1|             5|              4|           5|                     4|               4|               4|               4|              3|               4|          5|                         0|                     0.0|           satisfied|\n",
            "|  Male|disloyal Customer| 20|Business travel|     Eco|            192|            2|                                0|                     2|            4|             2|              2|           2|                     2|               4|               1|               3|              2|               2|          2|                         0|                     0.0|neutral or dissat...|\n",
            "|  Male|   Loyal Customer| 44|Business travel|Business|           3377|            0|                                0|                     0|            2|             3|              4|           4|                     1|               1|               1|               1|              3|               1|          4|                         0|                     6.0|           satisfied|\n",
            "|Female|   Loyal Customer| 49|Business travel|     Eco|           1182|            2|                                3|                     4|            3|             4|              1|           2|                     2|               2|               2|               2|              4|               2|          4|                         0|                    20.0|           satisfied|\n",
            "|  Male|   Loyal Customer| 16|Business travel|     Eco|            311|            3|                                3|                     3|            3|             5|              5|           3|                     5|               4|               3|               1|              1|               2|          5|                         0|                     0.0|           satisfied|\n",
            "|Female|   Loyal Customer| 77|Business travel|Business|           3987|            5|                                5|                     5|            5|             3|              5|           5|                     5|               5|               5|               5|              4|               5|          3|                         0|                     0.0|           satisfied|\n",
            "|Female|   Loyal Customer| 43|Business travel|Business|           2556|            2|                                2|                     2|            2|             4|              4|           5|                     4|               4|               4|               4|              5|               4|          3|                        77|                    65.0|           satisfied|\n",
            "|  Male|   Loyal Customer| 47|Business travel|     Eco|            556|            5|                                2|                     2|            2|             5|              5|           5|                     5|               2|               2|               5|              3|               3|          5|                         1|                     0.0|           satisfied|\n",
            "|Female|   Loyal Customer| 46|Business travel|Business|           1744|            2|                                2|                     2|            2|             3|              4|           4|                     4|               4|               4|               4|              5|               4|          4|                        28|                    14.0|           satisfied|\n",
            "|Female|   Loyal Customer| 47|Business travel|     Eco|           1235|            4|                                1|                     1|            1|             5|              1|           5|                     3|               3|               4|               3|              1|               3|          4|                        29|                    19.0|           satisfied|\n",
            "|Female|   Loyal Customer| 33|Business travel|Business|            325|            2|                                5|                     5|            5|             1|              3|           4|                     2|               2|               2|               2|              3|               2|          4|                        18|                     7.0|neutral or dissat...|\n",
            "|Female|   Loyal Customer| 46|Business travel|Business|           1009|            5|                                5|                     5|            5|             4|              5|           5|                     5|               5|               5|               5|              5|               5|          3|                         0|                     0.0|           satisfied|\n",
            "|Female|   Loyal Customer| 60|Business travel|Business|            451|            1|                                1|                     4|            1|             5|              5|           4|                     5|               5|               5|               5|              3|               5|          5|                       117|                   113.0|           satisfied|\n",
            "|Female|   Loyal Customer| 52|Business travel|Business|            925|            2|                                2|                     2|            2|             5|              5|           4|                     4|               4|               4|               4|              3|               4|          5|                        10|                     0.0|           satisfied|\n",
            "|  Male|   Loyal Customer| 50|Personal Travel|     Eco|             83|            3|                                4|                     0|            3|             2|              0|           2|                     2|               4|               2|               4|              4|               5|          2|                         5|                     2.0|neutral or dissat...|\n",
            "|Female|   Loyal Customer| 31|Business travel|     Eco|            728|            2|                                5|                     5|            5|             2|              2|           2|                     2|               4|               3|               3|              4|               3|          2|                         2|                     0.0|neutral or dissat...|\n",
            "|  Male|   Loyal Customer| 52|Personal Travel|Eco Plus|           1075|            5|                                4|                     5|            3|             4|              5|           4|                     4|               3|               5|               5|              4|               5|          4|                         0|                     0.0|           satisfied|\n",
            "|Female|   Loyal Customer| 43|Personal Travel|     Eco|           1927|            3|                                4|                     3|            1|             4|              4|           5|                     5|               5|               3|               5|              4|               5|          3|                         0|                     0.0|neutral or dissat...|\n",
            "|Female|   Loyal Customer| 50|Business travel|Business|           3799|            5|                                5|                     5|            5|             4|              5|           4|                     4|               4|               5|               4|              5|               4|          5|                         8|                     0.0|           satisfied|\n",
            "+------+-----------------+---+---------------+--------+---------------+-------------+---------------------------------+----------------------+-------------+--------------+---------------+------------+----------------------+----------------+----------------+----------------+---------------+----------------+-----------+--------------------------+------------------------+--------------------+\n",
            "only showing top 20 rows\n",
            "\n"
          ],
          "name": "stdout"
        }
      ]
    },
    {
      "cell_type": "code",
      "metadata": {
        "id": "1TrPVNpQw_iM",
        "colab": {
          "base_uri": "https://localhost:8080/"
        },
        "outputId": "637f8177-4416-4fab-c83b-2224ffd238cb"
      },
      "source": [
        "# Total number of rows for test_df\r\n",
        "test_df.count()"
      ],
      "execution_count": 19,
      "outputs": [
        {
          "output_type": "execute_result",
          "data": {
            "text/plain": [
              "25893"
            ]
          },
          "metadata": {
            "tags": []
          },
          "execution_count": 19
        }
      ]
    },
    {
      "cell_type": "code",
      "metadata": {
        "id": "ZU6uKlum75TU"
      },
      "source": [
        "# Configure settings for RDS\r\n",
        "mode = \"append\"\r\n",
        "jdbc_url=\"jdbc:postgresql://datafinal.c50h51d04cbn.us-east-2.rds.amazonaws.com:5432/postgres\"\r\n",
        "config = {\"user\":\"postgres\",\r\n",
        "          \"password\": \"{password}\",\r\n",
        "          \"driver\":\"org.postgresql.Driver\"}"
      ],
      "execution_count": 20,
      "outputs": []
    },
    {
      "cell_type": "code",
      "metadata": {
        "id": "87Ec5rQwU5pA"
      },
      "source": [
        "# Write train_df to active_user table in RDS\r\n",
        "train_df.write.jdbc(url=jdbc_url, table='train', mode=mode, properties=config)"
      ],
      "execution_count": 21,
      "outputs": []
    },
    {
      "cell_type": "code",
      "metadata": {
        "id": "_xyUOct7rTvA"
      },
      "source": [
        "# Write test_df to active_user table in RDS\r\n",
        "test_df.write.jdbc(url=jdbc_url, table='test', mode=mode, properties=config)"
      ],
      "execution_count": 22,
      "outputs": []
    },
    {
      "cell_type": "code",
      "metadata": {
        "id": "M80AeHHntJPB",
        "colab": {
          "base_uri": "https://localhost:8080/",
          "height": 368
        },
        "outputId": "4220350b-d7da-44f5-b0f0-d548f7519018"
      },
      "source": [
        "import pandas as pd\r\n",
        "import psycopg2\r\n",
        "from sqlalchemy import create_engine\r\n",
        "\r\n",
        "# follows django database settings format, replace with your own settings\r\n",
        "DATABASES = {\r\n",
        "    'datafinal':{\r\n",
        "        'POSTGRES_DBNAME': 'postgres',\r\n",
        "        'POSTGRES_USERNAME': 'postgres',\r\n",
        "        'POSTGRES_PASSWORD': '{password}',\r\n",
        "        'POSTGRES_ADDRESS': 'datafinal.c50h51d04cbn.us-east-2.rds.amazonaws.com',\r\n",
        "        'POSTGRES_PORT': 5432,\r\n",
        "    },\r\n",
        "}\r\n",
        "\r\n",
        "# choose the database to use\r\n",
        "db = DATABASES['datafinal']\r\n",
        "\r\n",
        "# construct an engine connection string\r\n",
        "engine_string =  ('postgresql+psycopg2://{username}:{password}@{ipaddress}:{port}/{dbname}'\r\n",
        "               .format(username= db['POSTGRES_USERNAME'],\r\n",
        "                      password= db['POSTGRES_PASSWORD'],\r\n",
        "                      ipaddress= db['POSTGRES_ADDRESS'],\r\n",
        "                      port= db['POSTGRES_PORT'],\r\n",
        "                      dbname= db['POSTGRES_DBNAME'])\r\n",
        "               )\r\n",
        "\r\n",
        "# create sqlalchemy engine\r\n",
        "engine = create_engine(engine_string)\r\n",
        "\r\n",
        "# read a table from database into pandas dataframe, replace \"tablename\" with your table name\r\n",
        "new_train = pd.read_sql_table('train', engine)\r\n",
        "new_train.head()"
      ],
      "execution_count": 23,
      "outputs": [
        {
          "output_type": "stream",
          "text": [
            "/usr/local/lib/python3.6/dist-packages/psycopg2/__init__.py:144: UserWarning: The psycopg2 wheel package will be renamed from release 2.8; in order to keep installing from binary please use \"pip install psycopg2-binary\" instead. For details see: <http://initd.org/psycopg/docs/install.html#binary-install-from-pypi>.\n",
            "  \"\"\")\n"
          ],
          "name": "stderr"
        },
        {
          "output_type": "execute_result",
          "data": {
            "text/html": [
              "<div>\n",
              "<style scoped>\n",
              "    .dataframe tbody tr th:only-of-type {\n",
              "        vertical-align: middle;\n",
              "    }\n",
              "\n",
              "    .dataframe tbody tr th {\n",
              "        vertical-align: top;\n",
              "    }\n",
              "\n",
              "    .dataframe thead th {\n",
              "        text-align: right;\n",
              "    }\n",
              "</style>\n",
              "<table border=\"1\" class=\"dataframe\">\n",
              "  <thead>\n",
              "    <tr style=\"text-align: right;\">\n",
              "      <th></th>\n",
              "      <th>Gender</th>\n",
              "      <th>Customer</th>\n",
              "      <th>Age</th>\n",
              "      <th>Type_of_Travel</th>\n",
              "      <th>Class</th>\n",
              "      <th>Flight Distance</th>\n",
              "      <th>Inflight wifi</th>\n",
              "      <th>Departure/Arrival_time_convenient</th>\n",
              "      <th>Ease_of_Online booking</th>\n",
              "      <th>Gate_location</th>\n",
              "      <th>Food_and_drink</th>\n",
              "      <th>Online boarding</th>\n",
              "      <th>Seat comfort</th>\n",
              "      <th>Inflight entertainment</th>\n",
              "      <th>On-board service</th>\n",
              "      <th>Leg room service</th>\n",
              "      <th>Baggage handling</th>\n",
              "      <th>Checkin service</th>\n",
              "      <th>Inflight service</th>\n",
              "      <th>Cleanliness</th>\n",
              "      <th>Departure_Delay_in_Minutes</th>\n",
              "      <th>Arrival_Delay_in_Minutes</th>\n",
              "      <th>satisfaction</th>\n",
              "    </tr>\n",
              "  </thead>\n",
              "  <tbody>\n",
              "    <tr>\n",
              "      <th>0</th>\n",
              "      <td>Male</td>\n",
              "      <td>Loyal Customer</td>\n",
              "      <td>60.0</td>\n",
              "      <td>Business travel</td>\n",
              "      <td>Business</td>\n",
              "      <td>912.0</td>\n",
              "      <td>2.0</td>\n",
              "      <td>2.0</td>\n",
              "      <td>2.0</td>\n",
              "      <td>2.0</td>\n",
              "      <td>4.0</td>\n",
              "      <td>3.0</td>\n",
              "      <td>2.0</td>\n",
              "      <td>2.0</td>\n",
              "      <td>2.0</td>\n",
              "      <td>2.0</td>\n",
              "      <td>2.0</td>\n",
              "      <td>3.0</td>\n",
              "      <td>2.0</td>\n",
              "      <td>2.0</td>\n",
              "      <td>39.0</td>\n",
              "      <td>23.0</td>\n",
              "      <td>neutral or dissatisfied</td>\n",
              "    </tr>\n",
              "    <tr>\n",
              "      <th>1</th>\n",
              "      <td>Male</td>\n",
              "      <td>disloyal Customer</td>\n",
              "      <td>38.0</td>\n",
              "      <td>Business travel</td>\n",
              "      <td>Business</td>\n",
              "      <td>208.0</td>\n",
              "      <td>3.0</td>\n",
              "      <td>3.0</td>\n",
              "      <td>3.0</td>\n",
              "      <td>4.0</td>\n",
              "      <td>5.0</td>\n",
              "      <td>3.0</td>\n",
              "      <td>5.0</td>\n",
              "      <td>5.0</td>\n",
              "      <td>4.0</td>\n",
              "      <td>5.0</td>\n",
              "      <td>4.0</td>\n",
              "      <td>4.0</td>\n",
              "      <td>4.0</td>\n",
              "      <td>5.0</td>\n",
              "      <td>0.0</td>\n",
              "      <td>0.0</td>\n",
              "      <td>neutral or dissatisfied</td>\n",
              "    </tr>\n",
              "    <tr>\n",
              "      <th>2</th>\n",
              "      <td>Male</td>\n",
              "      <td>Loyal Customer</td>\n",
              "      <td>31.0</td>\n",
              "      <td>Business travel</td>\n",
              "      <td>Business</td>\n",
              "      <td>3147.0</td>\n",
              "      <td>1.0</td>\n",
              "      <td>1.0</td>\n",
              "      <td>1.0</td>\n",
              "      <td>1.0</td>\n",
              "      <td>5.0</td>\n",
              "      <td>5.0</td>\n",
              "      <td>5.0</td>\n",
              "      <td>5.0</td>\n",
              "      <td>4.0</td>\n",
              "      <td>3.0</td>\n",
              "      <td>5.0</td>\n",
              "      <td>5.0</td>\n",
              "      <td>5.0</td>\n",
              "      <td>5.0</td>\n",
              "      <td>2.0</td>\n",
              "      <td>0.0</td>\n",
              "      <td>satisfied</td>\n",
              "    </tr>\n",
              "    <tr>\n",
              "      <th>3</th>\n",
              "      <td>Male</td>\n",
              "      <td>Loyal Customer</td>\n",
              "      <td>53.0</td>\n",
              "      <td>Business travel</td>\n",
              "      <td>Business</td>\n",
              "      <td>2327.0</td>\n",
              "      <td>3.0</td>\n",
              "      <td>2.0</td>\n",
              "      <td>2.0</td>\n",
              "      <td>2.0</td>\n",
              "      <td>3.0</td>\n",
              "      <td>3.0</td>\n",
              "      <td>3.0</td>\n",
              "      <td>3.0</td>\n",
              "      <td>5.0</td>\n",
              "      <td>3.0</td>\n",
              "      <td>4.0</td>\n",
              "      <td>3.0</td>\n",
              "      <td>1.0</td>\n",
              "      <td>3.0</td>\n",
              "      <td>186.0</td>\n",
              "      <td>182.0</td>\n",
              "      <td>neutral or dissatisfied</td>\n",
              "    </tr>\n",
              "    <tr>\n",
              "      <th>4</th>\n",
              "      <td>Male</td>\n",
              "      <td>Loyal Customer</td>\n",
              "      <td>30.0</td>\n",
              "      <td>Personal Travel</td>\n",
              "      <td>Eco</td>\n",
              "      <td>650.0</td>\n",
              "      <td>3.0</td>\n",
              "      <td>4.0</td>\n",
              "      <td>3.0</td>\n",
              "      <td>4.0</td>\n",
              "      <td>3.0</td>\n",
              "      <td>3.0</td>\n",
              "      <td>3.0</td>\n",
              "      <td>3.0</td>\n",
              "      <td>2.0</td>\n",
              "      <td>2.0</td>\n",
              "      <td>4.0</td>\n",
              "      <td>3.0</td>\n",
              "      <td>4.0</td>\n",
              "      <td>3.0</td>\n",
              "      <td>0.0</td>\n",
              "      <td>0.0</td>\n",
              "      <td>neutral or dissatisfied</td>\n",
              "    </tr>\n",
              "  </tbody>\n",
              "</table>\n",
              "</div>"
            ],
            "text/plain": [
              "  Gender           Customer  ...  Arrival_Delay_in_Minutes             satisfaction\n",
              "0   Male     Loyal Customer  ...                      23.0  neutral or dissatisfied\n",
              "1   Male  disloyal Customer  ...                       0.0  neutral or dissatisfied\n",
              "2   Male     Loyal Customer  ...                       0.0                satisfied\n",
              "3   Male     Loyal Customer  ...                     182.0  neutral or dissatisfied\n",
              "4   Male     Loyal Customer  ...                       0.0  neutral or dissatisfied\n",
              "\n",
              "[5 rows x 23 columns]"
            ]
          },
          "metadata": {
            "tags": []
          },
          "execution_count": 23
        }
      ]
    },
    {
      "cell_type": "code",
      "metadata": {
        "id": "C2mL1SrLsHdy",
        "colab": {
          "base_uri": "https://localhost:8080/",
          "height": 332
        },
        "outputId": "1cec50fa-4e12-4f7d-f234-2ce3fe598d9b"
      },
      "source": [
        "import pandas as pd\r\n",
        "import psycopg2\r\n",
        "from sqlalchemy import create_engine\r\n",
        "\r\n",
        "# follows django database settings format, replace with your own settings\r\n",
        "DATABASES = {\r\n",
        "    'datafinal':{\r\n",
        "        'POSTGRES_DBNAME': 'postgres',\r\n",
        "        'POSTGRES_USERNAME': 'postgres',\r\n",
        "        'POSTGRES_PASSWORD': '{password}',\r\n",
        "        'POSTGRES_ADDRESS': 'datafinal.c50h51d04cbn.us-east-2.rds.amazonaws.com',\r\n",
        "        'POSTGRES_PORT': 5432,\r\n",
        "    },\r\n",
        "}\r\n",
        "\r\n",
        "# choose the database to use\r\n",
        "db = DATABASES['datafinal']\r\n",
        "\r\n",
        "# construct an engine connection string\r\n",
        "engine_string =  ('postgresql+psycopg2://{username}:{password}@{ipaddress}:{port}/{dbname}'\r\n",
        "               .format(username= db['POSTGRES_USERNAME'],\r\n",
        "                      password= db['POSTGRES_PASSWORD'],\r\n",
        "                      ipaddress= db['POSTGRES_ADDRESS'],\r\n",
        "                      port= db['POSTGRES_PORT'],\r\n",
        "                      dbname= db['POSTGRES_DBNAME'])\r\n",
        "               )\r\n",
        "\r\n",
        "# create sqlalchemy engine\r\n",
        "engine = create_engine(engine_string)\r\n",
        "\r\n",
        "# read a table from database into pandas dataframe, replace \"tablename\" with your table name\r\n",
        "new_test = pd.read_sql_table('test', engine)\r\n",
        "new_test.head()"
      ],
      "execution_count": 24,
      "outputs": [
        {
          "output_type": "execute_result",
          "data": {
            "text/html": [
              "<div>\n",
              "<style scoped>\n",
              "    .dataframe tbody tr th:only-of-type {\n",
              "        vertical-align: middle;\n",
              "    }\n",
              "\n",
              "    .dataframe tbody tr th {\n",
              "        vertical-align: top;\n",
              "    }\n",
              "\n",
              "    .dataframe thead th {\n",
              "        text-align: right;\n",
              "    }\n",
              "</style>\n",
              "<table border=\"1\" class=\"dataframe\">\n",
              "  <thead>\n",
              "    <tr style=\"text-align: right;\">\n",
              "      <th></th>\n",
              "      <th>Gender</th>\n",
              "      <th>Customer</th>\n",
              "      <th>Age</th>\n",
              "      <th>Type_of_Travel</th>\n",
              "      <th>Class</th>\n",
              "      <th>Flight Distance</th>\n",
              "      <th>Inflight wifi</th>\n",
              "      <th>Departure/Arrival_time_convenient</th>\n",
              "      <th>Ease_of_Online booking</th>\n",
              "      <th>Gate_location</th>\n",
              "      <th>Food_and_drink</th>\n",
              "      <th>Online boarding</th>\n",
              "      <th>Seat comfort</th>\n",
              "      <th>Inflight entertainment</th>\n",
              "      <th>On-board service</th>\n",
              "      <th>Leg room service</th>\n",
              "      <th>Baggage handling</th>\n",
              "      <th>Checkin service</th>\n",
              "      <th>Inflight service</th>\n",
              "      <th>Cleanliness</th>\n",
              "      <th>Departure_Delay_in_Minutes</th>\n",
              "      <th>Arrival_Delay_in_Minutes</th>\n",
              "      <th>satisfaction</th>\n",
              "    </tr>\n",
              "  </thead>\n",
              "  <tbody>\n",
              "    <tr>\n",
              "      <th>0</th>\n",
              "      <td>Female</td>\n",
              "      <td>Loyal Customer</td>\n",
              "      <td>52.0</td>\n",
              "      <td>Business travel</td>\n",
              "      <td>Eco</td>\n",
              "      <td>160.0</td>\n",
              "      <td>5.0</td>\n",
              "      <td>4.0</td>\n",
              "      <td>3.0</td>\n",
              "      <td>4.0</td>\n",
              "      <td>3.0</td>\n",
              "      <td>4.0</td>\n",
              "      <td>3.0</td>\n",
              "      <td>5.0</td>\n",
              "      <td>5.0</td>\n",
              "      <td>5.0</td>\n",
              "      <td>5.0</td>\n",
              "      <td>2.0</td>\n",
              "      <td>5.0</td>\n",
              "      <td>5.0</td>\n",
              "      <td>50.0</td>\n",
              "      <td>44.0</td>\n",
              "      <td>satisfied</td>\n",
              "    </tr>\n",
              "    <tr>\n",
              "      <th>1</th>\n",
              "      <td>Female</td>\n",
              "      <td>Loyal Customer</td>\n",
              "      <td>36.0</td>\n",
              "      <td>Business travel</td>\n",
              "      <td>Business</td>\n",
              "      <td>2863.0</td>\n",
              "      <td>1.0</td>\n",
              "      <td>1.0</td>\n",
              "      <td>3.0</td>\n",
              "      <td>1.0</td>\n",
              "      <td>5.0</td>\n",
              "      <td>4.0</td>\n",
              "      <td>5.0</td>\n",
              "      <td>4.0</td>\n",
              "      <td>4.0</td>\n",
              "      <td>4.0</td>\n",
              "      <td>4.0</td>\n",
              "      <td>3.0</td>\n",
              "      <td>4.0</td>\n",
              "      <td>5.0</td>\n",
              "      <td>0.0</td>\n",
              "      <td>0.0</td>\n",
              "      <td>satisfied</td>\n",
              "    </tr>\n",
              "    <tr>\n",
              "      <th>2</th>\n",
              "      <td>Male</td>\n",
              "      <td>disloyal Customer</td>\n",
              "      <td>20.0</td>\n",
              "      <td>Business travel</td>\n",
              "      <td>Eco</td>\n",
              "      <td>192.0</td>\n",
              "      <td>2.0</td>\n",
              "      <td>0.0</td>\n",
              "      <td>2.0</td>\n",
              "      <td>4.0</td>\n",
              "      <td>2.0</td>\n",
              "      <td>2.0</td>\n",
              "      <td>2.0</td>\n",
              "      <td>2.0</td>\n",
              "      <td>4.0</td>\n",
              "      <td>1.0</td>\n",
              "      <td>3.0</td>\n",
              "      <td>2.0</td>\n",
              "      <td>2.0</td>\n",
              "      <td>2.0</td>\n",
              "      <td>0.0</td>\n",
              "      <td>0.0</td>\n",
              "      <td>neutral or dissatisfied</td>\n",
              "    </tr>\n",
              "    <tr>\n",
              "      <th>3</th>\n",
              "      <td>Male</td>\n",
              "      <td>Loyal Customer</td>\n",
              "      <td>44.0</td>\n",
              "      <td>Business travel</td>\n",
              "      <td>Business</td>\n",
              "      <td>3377.0</td>\n",
              "      <td>0.0</td>\n",
              "      <td>0.0</td>\n",
              "      <td>0.0</td>\n",
              "      <td>2.0</td>\n",
              "      <td>3.0</td>\n",
              "      <td>4.0</td>\n",
              "      <td>4.0</td>\n",
              "      <td>1.0</td>\n",
              "      <td>1.0</td>\n",
              "      <td>1.0</td>\n",
              "      <td>1.0</td>\n",
              "      <td>3.0</td>\n",
              "      <td>1.0</td>\n",
              "      <td>4.0</td>\n",
              "      <td>0.0</td>\n",
              "      <td>6.0</td>\n",
              "      <td>satisfied</td>\n",
              "    </tr>\n",
              "    <tr>\n",
              "      <th>4</th>\n",
              "      <td>Female</td>\n",
              "      <td>Loyal Customer</td>\n",
              "      <td>49.0</td>\n",
              "      <td>Business travel</td>\n",
              "      <td>Eco</td>\n",
              "      <td>1182.0</td>\n",
              "      <td>2.0</td>\n",
              "      <td>3.0</td>\n",
              "      <td>4.0</td>\n",
              "      <td>3.0</td>\n",
              "      <td>4.0</td>\n",
              "      <td>1.0</td>\n",
              "      <td>2.0</td>\n",
              "      <td>2.0</td>\n",
              "      <td>2.0</td>\n",
              "      <td>2.0</td>\n",
              "      <td>2.0</td>\n",
              "      <td>4.0</td>\n",
              "      <td>2.0</td>\n",
              "      <td>4.0</td>\n",
              "      <td>0.0</td>\n",
              "      <td>20.0</td>\n",
              "      <td>satisfied</td>\n",
              "    </tr>\n",
              "  </tbody>\n",
              "</table>\n",
              "</div>"
            ],
            "text/plain": [
              "   Gender           Customer  ...  Arrival_Delay_in_Minutes             satisfaction\n",
              "0  Female     Loyal Customer  ...                      44.0                satisfied\n",
              "1  Female     Loyal Customer  ...                       0.0                satisfied\n",
              "2    Male  disloyal Customer  ...                       0.0  neutral or dissatisfied\n",
              "3    Male     Loyal Customer  ...                       6.0                satisfied\n",
              "4  Female     Loyal Customer  ...                      20.0                satisfied\n",
              "\n",
              "[5 rows x 23 columns]"
            ]
          },
          "metadata": {
            "tags": []
          },
          "execution_count": 24
        }
      ]
    }
  ]
}