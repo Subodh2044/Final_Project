{
  "nbformat": 4,
  "nbformat_minor": 0,
  "metadata": {
    "colab": {
      "name": "AWS_Spark.ipynb",
      "provenance": [],
      "collapsed_sections": []
    },
    "kernelspec": {
      "display_name": "Python 3",
      "language": "python",
      "name": "python3"
    },
    "language_info": {
      "codemirror_mode": {
        "name": "ipython",
        "version": 3
      },
      "file_extension": ".py",
      "mimetype": "text/x-python",
      "name": "python",
      "nbconvert_exporter": "python",
      "pygments_lexer": "ipython3",
      "version": "3.7.7"
    }
  },
  "cells": [
    {
      "cell_type": "code",
      "metadata": {
        "colab": {
          "base_uri": "https://localhost:8080/"
        },
        "id": "CFb6hwKx2Cq7",
        "outputId": "596ef7dc-739b-423d-ac32-848819f0bea5"
      },
      "source": [
        "import os\n",
        "# Find the latest version of spark 3.0  from http://www-us.apache.org/dist/spark/ and enter as the spark version\n",
        "# For example:\n",
        "# spark_version = 'spark-3.0.1'\n",
        "spark_version = 'spark-3.0.1'\n",
        "os.environ['SPARK_VERSION']=spark_version\n",
        "\n",
        "# Install Spark and Java\n",
        "!apt-get update\n",
        "!apt-get install openjdk-11-jdk-headless -qq > /dev/null\n",
        "!wget -q http://www-us.apache.org/dist/spark/$SPARK_VERSION/$SPARK_VERSION-bin-hadoop2.7.tgz\n",
        "!tar xf $SPARK_VERSION-bin-hadoop2.7.tgz\n",
        "!pip install -q findspark\n",
        "\n",
        "# Set Environment Variables\n",
        "import os\n",
        "os.environ[\"JAVA_HOME\"] = \"/usr/lib/jvm/java-11-openjdk-amd64\"\n",
        "os.environ[\"SPARK_HOME\"] = f\"/content/{spark_version}-bin-hadoop2.7\"\n",
        "\n",
        "# Start a SparkSession\n",
        "import findspark\n",
        "findspark.init()"
      ],
      "execution_count": 1,
      "outputs": [
        {
          "output_type": "stream",
          "text": [
            "\r0% [Working]\r            \rGet:1 http://ppa.launchpad.net/c2d4u.team/c2d4u4.0+/ubuntu bionic InRelease [15.9 kB]\n",
            "\r0% [Connecting to archive.ubuntu.com (91.189.88.142)] [Connecting to security.u\r0% [Waiting for headers] [Connecting to security.ubuntu.com (91.189.91.39)] [Co\r                                                                               \rHit:2 http://archive.ubuntu.com/ubuntu bionic InRelease\n",
            "\r                                                                               \rGet:3 http://archive.ubuntu.com/ubuntu bionic-updates InRelease [88.7 kB]\n",
            "\r                                                                               \rHit:4 http://ppa.launchpad.net/cran/libgit2/ubuntu bionic InRelease\n",
            "\r0% [3 InRelease 15.6 kB/88.7 kB 18%] [Connecting to security.ubuntu.com (91.189\r0% [1 InRelease gpgv 15.9 kB] [3 InRelease 15.6 kB/88.7 kB 18%] [Connecting to \r                                                                               \rGet:5 https://cloud.r-project.org/bin/linux/ubuntu bionic-cran40/ InRelease [3,626 B]\n",
            "\r0% [1 InRelease gpgv 15.9 kB] [3 InRelease 15.6 kB/88.7 kB 18%] [Connecting to \r                                                                               \rGet:6 http://ppa.launchpad.net/graphics-drivers/ppa/ubuntu bionic InRelease [21.3 kB]\n",
            "Get:7 http://archive.ubuntu.com/ubuntu bionic-backports InRelease [74.6 kB]\n",
            "Get:8 http://security.ubuntu.com/ubuntu bionic-security InRelease [88.7 kB]\n",
            "Ign:9 https://developer.download.nvidia.com/compute/cuda/repos/ubuntu1804/x86_64  InRelease\n",
            "Ign:10 https://developer.download.nvidia.com/compute/machine-learning/repos/ubuntu1804/x86_64  InRelease\n",
            "Get:11 https://developer.download.nvidia.com/compute/cuda/repos/ubuntu1804/x86_64  Release [697 B]\n",
            "Hit:12 https://developer.download.nvidia.com/compute/machine-learning/repos/ubuntu1804/x86_64  Release\n",
            "Get:13 https://developer.download.nvidia.com/compute/cuda/repos/ubuntu1804/x86_64  Release.gpg [836 B]\n",
            "Get:14 http://ppa.launchpad.net/c2d4u.team/c2d4u4.0+/ubuntu bionic/main Sources [1,724 kB]\n",
            "Get:15 http://ppa.launchpad.net/c2d4u.team/c2d4u4.0+/ubuntu bionic/main amd64 Packages [882 kB]\n",
            "Get:16 https://cloud.r-project.org/bin/linux/ubuntu bionic-cran40/ Packages [44.4 kB]\n",
            "Get:17 http://archive.ubuntu.com/ubuntu bionic-updates/universe amd64 Packages [2,157 kB]\n",
            "Get:18 http://archive.ubuntu.com/ubuntu bionic-updates/main amd64 Packages [2,350 kB]\n",
            "Get:19 http://archive.ubuntu.com/ubuntu bionic-updates/multiverse amd64 Packages [42.6 kB]\n",
            "Get:20 http://archive.ubuntu.com/ubuntu bionic-updates/restricted amd64 Packages [323 kB]\n",
            "Get:21 http://ppa.launchpad.net/graphics-drivers/ppa/ubuntu bionic/main amd64 Packages [49.2 kB]\n",
            "Get:22 http://security.ubuntu.com/ubuntu bionic-security/restricted amd64 Packages [293 kB]\n",
            "Get:24 http://security.ubuntu.com/ubuntu bionic-security/universe amd64 Packages [1,386 kB]\n",
            "Ign:25 https://developer.download.nvidia.com/compute/cuda/repos/ubuntu1804/x86_64  Packages\n",
            "Get:25 https://developer.download.nvidia.com/compute/cuda/repos/ubuntu1804/x86_64  Packages [550 kB]\n",
            "Get:26 http://security.ubuntu.com/ubuntu bionic-security/main amd64 Packages [1,917 kB]\n",
            "Fetched 12.0 MB in 3s (4,159 kB/s)\n",
            "Reading package lists... Done\n"
          ],
          "name": "stdout"
        }
      ]
    },
    {
      "cell_type": "code",
      "metadata": {
        "colab": {
          "base_uri": "https://localhost:8080/"
        },
        "id": "jJ50MvSj3Iop",
        "outputId": "a6bd5b23-3fae-4f47-abe9-cdc4ee19c949"
      },
      "source": [
        "\n",
        "# Download the Postgres driver that will allow Spark to interact with Postgres.\n",
        "!wget https://jdbc.postgresql.org/download/postgresql-42.2.16.jar"
      ],
      "execution_count": 2,
      "outputs": [
        {
          "output_type": "stream",
          "text": [
            "--2021-02-02 02:12:59--  https://jdbc.postgresql.org/download/postgresql-42.2.16.jar\n",
            "Resolving jdbc.postgresql.org (jdbc.postgresql.org)... 72.32.157.228, 2001:4800:3e1:1::228\n",
            "Connecting to jdbc.postgresql.org (jdbc.postgresql.org)|72.32.157.228|:443... connected.\n",
            "HTTP request sent, awaiting response... 200 OK\n",
            "Length: 1002883 (979K) [application/java-archive]\n",
            "Saving to: ‘postgresql-42.2.16.jar’\n",
            "\n",
            "postgresql-42.2.16. 100%[===================>] 979.38K  1.69MB/s    in 0.6s    \n",
            "\n",
            "2021-02-02 02:13:00 (1.69 MB/s) - ‘postgresql-42.2.16.jar’ saved [1002883/1002883]\n",
            "\n"
          ],
          "name": "stdout"
        }
      ]
    },
    {
      "cell_type": "code",
      "metadata": {
        "id": "4Clh5Pjy4aFw"
      },
      "source": [
        "from pyspark.sql import SparkSession\n",
        "spark = SparkSession.builder.appName(\"datafinal\").config(\"spark.driver.extraClassPath\",\"/content/postgresql-42.2.16.jar\").getOrCreate()"
      ],
      "execution_count": 3,
      "outputs": []
    },
    {
      "cell_type": "code",
      "metadata": {
        "id": "zIRTzdfa3b3B"
      },
      "source": [
        "# Read in data from S3 Buckets\n",
        "from pyspark import SparkFiles\n",
        "url =\"https://reno8946-bucket.s3.us-east-2.amazonaws.com/test.csv\"\n",
        "spark.sparkContext.addFile(url)\n",
        "test_df = spark.read.csv(SparkFiles.get(\"test.csv\"), sep=\",\", header=True, inferSchema=True)"
      ],
      "execution_count": 4,
      "outputs": []
    },
    {
      "cell_type": "code",
      "metadata": {
        "colab": {
          "base_uri": "https://localhost:8080/"
        },
        "id": "seBRYmCiSOO7",
        "outputId": "1b45444c-12d8-43ea-a36c-9c267748e4ae"
      },
      "source": [
        "# Show DataFrame\n",
        "test_df.show()"
      ],
      "execution_count": 5,
      "outputs": [
        {
          "output_type": "stream",
          "text": [
            "+---+------+------+-----------------+---+---------------+--------+---------------+---------------------+---------------------------------+----------------------+-------------+--------------+---------------+------------+----------------------+----------------+----------------+----------------+---------------+----------------+-----------+--------------------------+------------------------+--------------------+\n",
            "|_c0|    id|Gender|    Customer Type|Age| Type of Travel|   Class|Flight Distance|Inflight wifi service|Departure/Arrival time convenient|Ease of Online booking|Gate location|Food and drink|Online boarding|Seat comfort|Inflight entertainment|On-board service|Leg room service|Baggage handling|Checkin service|Inflight service|Cleanliness|Departure Delay in Minutes|Arrival Delay in Minutes|        satisfaction|\n",
            "+---+------+------+-----------------+---+---------------+--------+---------------+---------------------+---------------------------------+----------------------+-------------+--------------+---------------+------------+----------------------+----------------+----------------+----------------+---------------+----------------+-----------+--------------------------+------------------------+--------------------+\n",
            "|  0| 19556|Female|   Loyal Customer| 52|Business travel|     Eco|            160|                    5|                                4|                     3|            4|             3|              4|           3|                     5|               5|               5|               5|              2|               5|          5|                        50|                    44.0|           satisfied|\n",
            "|  1| 90035|Female|   Loyal Customer| 36|Business travel|Business|           2863|                    1|                                1|                     3|            1|             5|              4|           5|                     4|               4|               4|               4|              3|               4|          5|                         0|                     0.0|           satisfied|\n",
            "|  2| 12360|  Male|disloyal Customer| 20|Business travel|     Eco|            192|                    2|                                0|                     2|            4|             2|              2|           2|                     2|               4|               1|               3|              2|               2|          2|                         0|                     0.0|neutral or dissat...|\n",
            "|  3| 77959|  Male|   Loyal Customer| 44|Business travel|Business|           3377|                    0|                                0|                     0|            2|             3|              4|           4|                     1|               1|               1|               1|              3|               1|          4|                         0|                     6.0|           satisfied|\n",
            "|  4| 36875|Female|   Loyal Customer| 49|Business travel|     Eco|           1182|                    2|                                3|                     4|            3|             4|              1|           2|                     2|               2|               2|               2|              4|               2|          4|                         0|                    20.0|           satisfied|\n",
            "|  5| 39177|  Male|   Loyal Customer| 16|Business travel|     Eco|            311|                    3|                                3|                     3|            3|             5|              5|           3|                     5|               4|               3|               1|              1|               2|          5|                         0|                     0.0|           satisfied|\n",
            "|  6| 79433|Female|   Loyal Customer| 77|Business travel|Business|           3987|                    5|                                5|                     5|            5|             3|              5|           5|                     5|               5|               5|               5|              4|               5|          3|                         0|                     0.0|           satisfied|\n",
            "|  7| 97286|Female|   Loyal Customer| 43|Business travel|Business|           2556|                    2|                                2|                     2|            2|             4|              4|           5|                     4|               4|               4|               4|              5|               4|          3|                        77|                    65.0|           satisfied|\n",
            "|  8| 27508|  Male|   Loyal Customer| 47|Business travel|     Eco|            556|                    5|                                2|                     2|            2|             5|              5|           5|                     5|               2|               2|               5|              3|               3|          5|                         1|                     0.0|           satisfied|\n",
            "|  9| 62482|Female|   Loyal Customer| 46|Business travel|Business|           1744|                    2|                                2|                     2|            2|             3|              4|           4|                     4|               4|               4|               4|              5|               4|          4|                        28|                    14.0|           satisfied|\n",
            "| 10| 47583|Female|   Loyal Customer| 47|Business travel|     Eco|           1235|                    4|                                1|                     1|            1|             5|              1|           5|                     3|               3|               4|               3|              1|               3|          4|                        29|                    19.0|           satisfied|\n",
            "| 11|115550|Female|   Loyal Customer| 33|Business travel|Business|            325|                    2|                                5|                     5|            5|             1|              3|           4|                     2|               2|               2|               2|              3|               2|          4|                        18|                     7.0|neutral or dissat...|\n",
            "| 12|119987|Female|   Loyal Customer| 46|Business travel|Business|           1009|                    5|                                5|                     5|            5|             4|              5|           5|                     5|               5|               5|               5|              5|               5|          3|                         0|                     0.0|           satisfied|\n",
            "| 13| 42141|Female|   Loyal Customer| 60|Business travel|Business|            451|                    1|                                1|                     4|            1|             5|              5|           4|                     5|               5|               5|               5|              3|               5|          5|                       117|                   113.0|           satisfied|\n",
            "| 14|  2274|Female|   Loyal Customer| 52|Business travel|Business|            925|                    2|                                2|                     2|            2|             5|              5|           4|                     4|               4|               4|               4|              3|               4|          5|                        10|                     0.0|           satisfied|\n",
            "| 15| 22470|  Male|   Loyal Customer| 50|Personal Travel|     Eco|             83|                    3|                                4|                     0|            3|             2|              0|           2|                     2|               4|               2|               4|              4|               5|          2|                         5|                     2.0|neutral or dissat...|\n",
            "| 16|124915|Female|   Loyal Customer| 31|Business travel|     Eco|            728|                    2|                                5|                     5|            5|             2|              2|           2|                     2|               4|               3|               3|              4|               3|          2|                         2|                     0.0|neutral or dissat...|\n",
            "| 17| 17836|  Male|   Loyal Customer| 52|Personal Travel|Eco Plus|           1075|                    5|                                4|                     5|            3|             4|              5|           4|                     4|               3|               5|               5|              4|               5|          4|                         0|                     0.0|           satisfied|\n",
            "| 18| 76872|Female|   Loyal Customer| 43|Personal Travel|     Eco|           1927|                    3|                                4|                     3|            1|             4|              4|           5|                     5|               5|               3|               5|              4|               5|          3|                         0|                     0.0|neutral or dissat...|\n",
            "| 19| 64287|Female|   Loyal Customer| 50|Business travel|Business|           3799|                    5|                                5|                     5|            5|             4|              5|           4|                     4|               4|               5|               4|              5|               4|          5|                         8|                     0.0|           satisfied|\n",
            "+---+------+------+-----------------+---+---------------+--------+---------------+---------------------+---------------------------------+----------------------+-------------+--------------+---------------+------------+----------------------+----------------+----------------+----------------+---------------+----------------+-----------+--------------------------+------------------------+--------------------+\n",
            "only showing top 20 rows\n",
            "\n"
          ],
          "name": "stdout"
        }
      ]
    },
    {
      "cell_type": "code",
      "metadata": {
        "id": "4PF5l7jr3KOm"
      },
      "source": [
        "# Read in data from S3 Buckets\n",
        "from pyspark import SparkFiles\n",
        "url =\"https://reno8946-bucket.s3.us-east-2.amazonaws.com/train.csv\"\n",
        "spark.sparkContext.addFile(url)\n",
        "train_df = spark.read.csv(SparkFiles.get(\"train.csv\"), sep=\",\", header=True, inferSchema=True)"
      ],
      "execution_count": 6,
      "outputs": []
    },
    {
      "cell_type": "code",
      "metadata": {
        "colab": {
          "base_uri": "https://localhost:8080/"
        },
        "id": "yXrQn6Vu3gN8",
        "outputId": "14ee2bc4-69d0-44a9-9912-769ffba61c86"
      },
      "source": [
        "# Show DataFrame\n",
        "train_df.show()"
      ],
      "execution_count": 7,
      "outputs": [
        {
          "output_type": "stream",
          "text": [
            "+---+------+------+-----------------+---+---------------+--------+---------------+---------------------+---------------------------------+----------------------+-------------+--------------+---------------+------------+----------------------+----------------+----------------+----------------+---------------+----------------+-----------+--------------------------+------------------------+--------------------+\n",
            "|_c0|    id|Gender|    Customer Type|Age| Type of Travel|   Class|Flight Distance|Inflight wifi service|Departure/Arrival time convenient|Ease of Online booking|Gate location|Food and drink|Online boarding|Seat comfort|Inflight entertainment|On-board service|Leg room service|Baggage handling|Checkin service|Inflight service|Cleanliness|Departure Delay in Minutes|Arrival Delay in Minutes|        satisfaction|\n",
            "+---+------+------+-----------------+---+---------------+--------+---------------+---------------------+---------------------------------+----------------------+-------------+--------------+---------------+------------+----------------------+----------------+----------------+----------------+---------------+----------------+-----------+--------------------------+------------------------+--------------------+\n",
            "|  0| 70172|  Male|   Loyal Customer| 13|Personal Travel|Eco Plus|            460|                    3|                                4|                     3|            1|             5|              3|           5|                     5|               4|               3|               4|              4|               5|          5|                        25|                    18.0|neutral or dissat...|\n",
            "|  1|  5047|  Male|disloyal Customer| 25|Business travel|Business|            235|                    3|                                2|                     3|            3|             1|              3|           1|                     1|               1|               5|               3|              1|               4|          1|                         1|                     6.0|neutral or dissat...|\n",
            "|  2|110028|Female|   Loyal Customer| 26|Business travel|Business|           1142|                    2|                                2|                     2|            2|             5|              5|           5|                     5|               4|               3|               4|              4|               4|          5|                         0|                     0.0|           satisfied|\n",
            "|  3| 24026|Female|   Loyal Customer| 25|Business travel|Business|            562|                    2|                                5|                     5|            5|             2|              2|           2|                     2|               2|               5|               3|              1|               4|          2|                        11|                     9.0|neutral or dissat...|\n",
            "|  4|119299|  Male|   Loyal Customer| 61|Business travel|Business|            214|                    3|                                3|                     3|            3|             4|              5|           5|                     3|               3|               4|               4|              3|               3|          3|                         0|                     0.0|           satisfied|\n",
            "|  5|111157|Female|   Loyal Customer| 26|Personal Travel|     Eco|           1180|                    3|                                4|                     2|            1|             1|              2|           1|                     1|               3|               4|               4|              4|               4|          1|                         0|                     0.0|neutral or dissat...|\n",
            "|  6| 82113|  Male|   Loyal Customer| 47|Personal Travel|     Eco|           1276|                    2|                                4|                     2|            3|             2|              2|           2|                     2|               3|               3|               4|              3|               5|          2|                         9|                    23.0|neutral or dissat...|\n",
            "|  7| 96462|Female|   Loyal Customer| 52|Business travel|Business|           2035|                    4|                                3|                     4|            4|             5|              5|           5|                     5|               5|               5|               5|              4|               5|          4|                         4|                     0.0|           satisfied|\n",
            "|  8| 79485|Female|   Loyal Customer| 41|Business travel|Business|            853|                    1|                                2|                     2|            2|             4|              3|           3|                     1|               1|               2|               1|              4|               1|          2|                         0|                     0.0|neutral or dissat...|\n",
            "|  9| 65725|  Male|disloyal Customer| 20|Business travel|     Eco|           1061|                    3|                                3|                     3|            4|             2|              3|           3|                     2|               2|               3|               4|              4|               3|          2|                         0|                     0.0|neutral or dissat...|\n",
            "| 10| 34991|Female|disloyal Customer| 24|Business travel|     Eco|           1182|                    4|                                5|                     5|            4|             2|              5|           2|                     2|               3|               3|               5|              3|               5|          2|                         0|                     0.0|neutral or dissat...|\n",
            "| 11| 51412|Female|   Loyal Customer| 12|Personal Travel|Eco Plus|            308|                    2|                                4|                     2|            2|             1|              2|           1|                     1|               1|               2|               5|              5|               5|          1|                         0|                     0.0|neutral or dissat...|\n",
            "| 12| 98628|  Male|   Loyal Customer| 53|Business travel|     Eco|            834|                    1|                                4|                     4|            4|             1|              1|           1|                     1|               1|               1|               3|              4|               4|          1|                        28|                     8.0|neutral or dissat...|\n",
            "| 13| 83502|  Male|   Loyal Customer| 33|Personal Travel|     Eco|            946|                    4|                                2|                     4|            3|             4|              4|           4|                     4|               4|               5|               2|              2|               2|          4|                         0|                     0.0|           satisfied|\n",
            "| 14| 95789|Female|   Loyal Customer| 26|Personal Travel|     Eco|            453|                    3|                                2|                     3|            2|             2|              3|           2|                     2|               4|               3|               2|              2|               1|          2|                        43|                    35.0|neutral or dissat...|\n",
            "| 15|100580|  Male|disloyal Customer| 13|Business travel|     Eco|            486|                    2|                                1|                     2|            3|             4|              2|           1|                     4|               2|               1|               4|              1|               3|          4|                         1|                     0.0|neutral or dissat...|\n",
            "| 16| 71142|Female|   Loyal Customer| 26|Business travel|Business|           2123|                    3|                                3|                     3|            3|             4|              4|           4|                     4|               5|               3|               4|              5|               4|          4|                        49|                    51.0|           satisfied|\n",
            "| 17|127461|  Male|   Loyal Customer| 41|Business travel|Business|           2075|                    4|                                4|                     2|            4|             4|              4|           4|                     5|               5|               5|               5|              3|               5|          5|                         0|                    10.0|           satisfied|\n",
            "| 18| 70354|Female|   Loyal Customer| 45|Business travel|Business|           2486|                    4|                                4|                     4|            4|             3|              4|           5|                     5|               5|               5|               5|              3|               5|          4|                         7|                     5.0|           satisfied|\n",
            "| 19| 66246|  Male|   Loyal Customer| 38|Personal Travel|     Eco|            460|                    2|                                3|                     3|            2|             5|              3|           5|                     5|               1|               2|               4|              3|               2|          5|                        17|                    18.0|neutral or dissat...|\n",
            "+---+------+------+-----------------+---+---------------+--------+---------------+---------------------+---------------------------------+----------------------+-------------+--------------+---------------+------------+----------------------+----------------+----------------+----------------+---------------+----------------+-----------+--------------------------+------------------------+--------------------+\n",
            "only showing top 20 rows\n",
            "\n"
          ],
          "name": "stdout"
        }
      ]
    },
    {
      "cell_type": "code",
      "metadata": {
        "colab": {
          "base_uri": "https://localhost:8080/"
        },
        "id": "Tp8pLplk49K9",
        "outputId": "9bc0a190-36e6-4d29-b29a-8f95117eadc3"
      },
      "source": [
        "# Row count of train.df\n",
        "train_df.count()"
      ],
      "execution_count": 8,
      "outputs": [
        {
          "output_type": "execute_result",
          "data": {
            "text/plain": [
              "103904"
            ]
          },
          "metadata": {
            "tags": []
          },
          "execution_count": 8
        }
      ]
    },
    {
      "cell_type": "code",
      "metadata": {
        "colab": {
          "base_uri": "https://localhost:8080/"
        },
        "id": "rDIGsjlX5nzO",
        "outputId": "b8c14e1c-eaaf-49ef-bd90-fc98551be7ac"
      },
      "source": [
        "#Concatenate dataframes\n",
        "def append_dfs(train_df,test_df):\n",
        "    list1 = train_df.columns\n",
        "    list2 = test_df.columns\n",
        "    for col in list2:\n",
        "        if(col not in list1):\n",
        "            train_df = train_df.withColumn(col, F.lit(None))\n",
        "    for col in list1:\n",
        "        if(col not in list2):\n",
        "            test_df = test_df.withColumn(col, F.lit(None))\n",
        "    return train_df.unionByName(test_df)\n",
        "final_df = append_dfs(train_df,test_df)\n",
        "final_df.show()"
      ],
      "execution_count": 9,
      "outputs": [
        {
          "output_type": "stream",
          "text": [
            "+---+------+------+-----------------+---+---------------+--------+---------------+---------------------+---------------------------------+----------------------+-------------+--------------+---------------+------------+----------------------+----------------+----------------+----------------+---------------+----------------+-----------+--------------------------+------------------------+--------------------+\n",
            "|_c0|    id|Gender|    Customer Type|Age| Type of Travel|   Class|Flight Distance|Inflight wifi service|Departure/Arrival time convenient|Ease of Online booking|Gate location|Food and drink|Online boarding|Seat comfort|Inflight entertainment|On-board service|Leg room service|Baggage handling|Checkin service|Inflight service|Cleanliness|Departure Delay in Minutes|Arrival Delay in Minutes|        satisfaction|\n",
            "+---+------+------+-----------------+---+---------------+--------+---------------+---------------------+---------------------------------+----------------------+-------------+--------------+---------------+------------+----------------------+----------------+----------------+----------------+---------------+----------------+-----------+--------------------------+------------------------+--------------------+\n",
            "|  0| 70172|  Male|   Loyal Customer| 13|Personal Travel|Eco Plus|            460|                    3|                                4|                     3|            1|             5|              3|           5|                     5|               4|               3|               4|              4|               5|          5|                        25|                    18.0|neutral or dissat...|\n",
            "|  1|  5047|  Male|disloyal Customer| 25|Business travel|Business|            235|                    3|                                2|                     3|            3|             1|              3|           1|                     1|               1|               5|               3|              1|               4|          1|                         1|                     6.0|neutral or dissat...|\n",
            "|  2|110028|Female|   Loyal Customer| 26|Business travel|Business|           1142|                    2|                                2|                     2|            2|             5|              5|           5|                     5|               4|               3|               4|              4|               4|          5|                         0|                     0.0|           satisfied|\n",
            "|  3| 24026|Female|   Loyal Customer| 25|Business travel|Business|            562|                    2|                                5|                     5|            5|             2|              2|           2|                     2|               2|               5|               3|              1|               4|          2|                        11|                     9.0|neutral or dissat...|\n",
            "|  4|119299|  Male|   Loyal Customer| 61|Business travel|Business|            214|                    3|                                3|                     3|            3|             4|              5|           5|                     3|               3|               4|               4|              3|               3|          3|                         0|                     0.0|           satisfied|\n",
            "|  5|111157|Female|   Loyal Customer| 26|Personal Travel|     Eco|           1180|                    3|                                4|                     2|            1|             1|              2|           1|                     1|               3|               4|               4|              4|               4|          1|                         0|                     0.0|neutral or dissat...|\n",
            "|  6| 82113|  Male|   Loyal Customer| 47|Personal Travel|     Eco|           1276|                    2|                                4|                     2|            3|             2|              2|           2|                     2|               3|               3|               4|              3|               5|          2|                         9|                    23.0|neutral or dissat...|\n",
            "|  7| 96462|Female|   Loyal Customer| 52|Business travel|Business|           2035|                    4|                                3|                     4|            4|             5|              5|           5|                     5|               5|               5|               5|              4|               5|          4|                         4|                     0.0|           satisfied|\n",
            "|  8| 79485|Female|   Loyal Customer| 41|Business travel|Business|            853|                    1|                                2|                     2|            2|             4|              3|           3|                     1|               1|               2|               1|              4|               1|          2|                         0|                     0.0|neutral or dissat...|\n",
            "|  9| 65725|  Male|disloyal Customer| 20|Business travel|     Eco|           1061|                    3|                                3|                     3|            4|             2|              3|           3|                     2|               2|               3|               4|              4|               3|          2|                         0|                     0.0|neutral or dissat...|\n",
            "| 10| 34991|Female|disloyal Customer| 24|Business travel|     Eco|           1182|                    4|                                5|                     5|            4|             2|              5|           2|                     2|               3|               3|               5|              3|               5|          2|                         0|                     0.0|neutral or dissat...|\n",
            "| 11| 51412|Female|   Loyal Customer| 12|Personal Travel|Eco Plus|            308|                    2|                                4|                     2|            2|             1|              2|           1|                     1|               1|               2|               5|              5|               5|          1|                         0|                     0.0|neutral or dissat...|\n",
            "| 12| 98628|  Male|   Loyal Customer| 53|Business travel|     Eco|            834|                    1|                                4|                     4|            4|             1|              1|           1|                     1|               1|               1|               3|              4|               4|          1|                        28|                     8.0|neutral or dissat...|\n",
            "| 13| 83502|  Male|   Loyal Customer| 33|Personal Travel|     Eco|            946|                    4|                                2|                     4|            3|             4|              4|           4|                     4|               4|               5|               2|              2|               2|          4|                         0|                     0.0|           satisfied|\n",
            "| 14| 95789|Female|   Loyal Customer| 26|Personal Travel|     Eco|            453|                    3|                                2|                     3|            2|             2|              3|           2|                     2|               4|               3|               2|              2|               1|          2|                        43|                    35.0|neutral or dissat...|\n",
            "| 15|100580|  Male|disloyal Customer| 13|Business travel|     Eco|            486|                    2|                                1|                     2|            3|             4|              2|           1|                     4|               2|               1|               4|              1|               3|          4|                         1|                     0.0|neutral or dissat...|\n",
            "| 16| 71142|Female|   Loyal Customer| 26|Business travel|Business|           2123|                    3|                                3|                     3|            3|             4|              4|           4|                     4|               5|               3|               4|              5|               4|          4|                        49|                    51.0|           satisfied|\n",
            "| 17|127461|  Male|   Loyal Customer| 41|Business travel|Business|           2075|                    4|                                4|                     2|            4|             4|              4|           4|                     5|               5|               5|               5|              3|               5|          5|                         0|                    10.0|           satisfied|\n",
            "| 18| 70354|Female|   Loyal Customer| 45|Business travel|Business|           2486|                    4|                                4|                     4|            4|             3|              4|           5|                     5|               5|               5|               5|              3|               5|          4|                         7|                     5.0|           satisfied|\n",
            "| 19| 66246|  Male|   Loyal Customer| 38|Personal Travel|     Eco|            460|                    2|                                3|                     3|            2|             5|              3|           5|                     5|               1|               2|               4|              3|               2|          5|                        17|                    18.0|neutral or dissat...|\n",
            "+---+------+------+-----------------+---+---------------+--------+---------------+---------------------+---------------------------------+----------------------+-------------+--------------+---------------+------------+----------------------+----------------+----------------+----------------+---------------+----------------+-----------+--------------------------+------------------------+--------------------+\n",
            "only showing top 20 rows\n",
            "\n"
          ],
          "name": "stdout"
        }
      ]
    },
    {
      "cell_type": "code",
      "metadata": {
        "colab": {
          "base_uri": "https://localhost:8080/"
        },
        "id": "1KO7uXAu_ezH",
        "outputId": "acea2c25-bb0e-432f-9206-7c2124bd0ed8"
      },
      "source": [
        "# row count of concatenated file\n",
        "final_df.count()"
      ],
      "execution_count": 10,
      "outputs": [
        {
          "output_type": "execute_result",
          "data": {
            "text/plain": [
              "129880"
            ]
          },
          "metadata": {
            "tags": []
          },
          "execution_count": 10
        }
      ]
    },
    {
      "cell_type": "code",
      "metadata": {
        "id": "Uq66qkAi-xLj"
      },
      "source": [
        "# Rename columns\n",
        "final_df=final_df.withColumnRenamed(\"Food and drink\", \"Food_and_drink\").withColumnRenamed(\"Type of Travel\", \"Type_of_Travel\").withColumnRenamed(\"Departure/Arrival time convenient\", \"Departure/Arrival_time_convenient\").withColumnRenamed(\"Ease of Online booking\", \"Ease_of_Online_booking\").withColumnRenamed(\"Gate location\", \"Gate_location\").withColumnRenamed(\"Departure Delay in Minutes\", \"Departure_Delay_in_Minutes\").withColumnRenamed(\"Arrival Delay in Minutes\", \"Arrival_Delay_in_Minutes\").withColumnRenamed(\"Customer Type\", \"Customer\").withColumnRenamed(\"Inflight wifi service\", \"Inflight wifi\").withColumnRenamed(\"Ease_of_Online_booking\", \"Ease_of_Online booking\")\n"
      ],
      "execution_count": 11,
      "outputs": []
    },
    {
      "cell_type": "code",
      "metadata": {
        "id": "N4p-X8FrJs6P"
      },
      "source": [
        "# Drop NAs\n",
        "final_df=final_df.dropna()"
      ],
      "execution_count": 12,
      "outputs": []
    },
    {
      "cell_type": "code",
      "metadata": {
        "colab": {
          "base_uri": "https://localhost:8080/"
        },
        "id": "oG4bz6x1AwMd",
        "outputId": "d43c0c25-a152-4220-dc01-0de1e30e099a"
      },
      "source": [
        "# Drop index and id columns\n",
        "airline_df=final_df.drop('_c0','id')\n",
        "airline_df.show()"
      ],
      "execution_count": 13,
      "outputs": [
        {
          "output_type": "stream",
          "text": [
            "+------+-----------------+---+---------------+--------+---------------+-------------+---------------------------------+----------------------+-------------+--------------+---------------+------------+----------------------+----------------+----------------+----------------+---------------+----------------+-----------+--------------------------+------------------------+--------------------+\n",
            "|Gender|         Customer|Age| Type_of_Travel|   Class|Flight Distance|Inflight wifi|Departure/Arrival_time_convenient|Ease_of_Online booking|Gate_location|Food_and_drink|Online boarding|Seat comfort|Inflight entertainment|On-board service|Leg room service|Baggage handling|Checkin service|Inflight service|Cleanliness|Departure_Delay_in_Minutes|Arrival_Delay_in_Minutes|        satisfaction|\n",
            "+------+-----------------+---+---------------+--------+---------------+-------------+---------------------------------+----------------------+-------------+--------------+---------------+------------+----------------------+----------------+----------------+----------------+---------------+----------------+-----------+--------------------------+------------------------+--------------------+\n",
            "|  Male|   Loyal Customer| 13|Personal Travel|Eco Plus|            460|            3|                                4|                     3|            1|             5|              3|           5|                     5|               4|               3|               4|              4|               5|          5|                        25|                    18.0|neutral or dissat...|\n",
            "|  Male|disloyal Customer| 25|Business travel|Business|            235|            3|                                2|                     3|            3|             1|              3|           1|                     1|               1|               5|               3|              1|               4|          1|                         1|                     6.0|neutral or dissat...|\n",
            "|Female|   Loyal Customer| 26|Business travel|Business|           1142|            2|                                2|                     2|            2|             5|              5|           5|                     5|               4|               3|               4|              4|               4|          5|                         0|                     0.0|           satisfied|\n",
            "|Female|   Loyal Customer| 25|Business travel|Business|            562|            2|                                5|                     5|            5|             2|              2|           2|                     2|               2|               5|               3|              1|               4|          2|                        11|                     9.0|neutral or dissat...|\n",
            "|  Male|   Loyal Customer| 61|Business travel|Business|            214|            3|                                3|                     3|            3|             4|              5|           5|                     3|               3|               4|               4|              3|               3|          3|                         0|                     0.0|           satisfied|\n",
            "|Female|   Loyal Customer| 26|Personal Travel|     Eco|           1180|            3|                                4|                     2|            1|             1|              2|           1|                     1|               3|               4|               4|              4|               4|          1|                         0|                     0.0|neutral or dissat...|\n",
            "|  Male|   Loyal Customer| 47|Personal Travel|     Eco|           1276|            2|                                4|                     2|            3|             2|              2|           2|                     2|               3|               3|               4|              3|               5|          2|                         9|                    23.0|neutral or dissat...|\n",
            "|Female|   Loyal Customer| 52|Business travel|Business|           2035|            4|                                3|                     4|            4|             5|              5|           5|                     5|               5|               5|               5|              4|               5|          4|                         4|                     0.0|           satisfied|\n",
            "|Female|   Loyal Customer| 41|Business travel|Business|            853|            1|                                2|                     2|            2|             4|              3|           3|                     1|               1|               2|               1|              4|               1|          2|                         0|                     0.0|neutral or dissat...|\n",
            "|  Male|disloyal Customer| 20|Business travel|     Eco|           1061|            3|                                3|                     3|            4|             2|              3|           3|                     2|               2|               3|               4|              4|               3|          2|                         0|                     0.0|neutral or dissat...|\n",
            "|Female|disloyal Customer| 24|Business travel|     Eco|           1182|            4|                                5|                     5|            4|             2|              5|           2|                     2|               3|               3|               5|              3|               5|          2|                         0|                     0.0|neutral or dissat...|\n",
            "|Female|   Loyal Customer| 12|Personal Travel|Eco Plus|            308|            2|                                4|                     2|            2|             1|              2|           1|                     1|               1|               2|               5|              5|               5|          1|                         0|                     0.0|neutral or dissat...|\n",
            "|  Male|   Loyal Customer| 53|Business travel|     Eco|            834|            1|                                4|                     4|            4|             1|              1|           1|                     1|               1|               1|               3|              4|               4|          1|                        28|                     8.0|neutral or dissat...|\n",
            "|  Male|   Loyal Customer| 33|Personal Travel|     Eco|            946|            4|                                2|                     4|            3|             4|              4|           4|                     4|               4|               5|               2|              2|               2|          4|                         0|                     0.0|           satisfied|\n",
            "|Female|   Loyal Customer| 26|Personal Travel|     Eco|            453|            3|                                2|                     3|            2|             2|              3|           2|                     2|               4|               3|               2|              2|               1|          2|                        43|                    35.0|neutral or dissat...|\n",
            "|  Male|disloyal Customer| 13|Business travel|     Eco|            486|            2|                                1|                     2|            3|             4|              2|           1|                     4|               2|               1|               4|              1|               3|          4|                         1|                     0.0|neutral or dissat...|\n",
            "|Female|   Loyal Customer| 26|Business travel|Business|           2123|            3|                                3|                     3|            3|             4|              4|           4|                     4|               5|               3|               4|              5|               4|          4|                        49|                    51.0|           satisfied|\n",
            "|  Male|   Loyal Customer| 41|Business travel|Business|           2075|            4|                                4|                     2|            4|             4|              4|           4|                     5|               5|               5|               5|              3|               5|          5|                         0|                    10.0|           satisfied|\n",
            "|Female|   Loyal Customer| 45|Business travel|Business|           2486|            4|                                4|                     4|            4|             3|              4|           5|                     5|               5|               5|               5|              3|               5|          4|                         7|                     5.0|           satisfied|\n",
            "|  Male|   Loyal Customer| 38|Personal Travel|     Eco|            460|            2|                                3|                     3|            2|             5|              3|           5|                     5|               1|               2|               4|              3|               2|          5|                        17|                    18.0|neutral or dissat...|\n",
            "+------+-----------------+---+---------------+--------+---------------+-------------+---------------------------------+----------------------+-------------+--------------+---------------+------------+----------------------+----------------+----------------+----------------+---------------+----------------+-----------+--------------------------+------------------------+--------------------+\n",
            "only showing top 20 rows\n",
            "\n"
          ],
          "name": "stdout"
        }
      ]
    },
    {
      "cell_type": "code",
      "metadata": {
        "id": "ZU6uKlum75TU"
      },
      "source": [
        "# Configure settings for RDS\n",
        "mode = \"append\"\n",
        "jdbc_url=\"jdbc:postgresql://datafinal.c50h51d04cbn.us-east-2.rds.amazonaws.com:5432/postgres\"\n",
        "config = {\"user\":\"postgres\",\n",
        "          \"password\": \"password\",\n",
        "          \"driver\":\"org.postgresql.Driver\"}"
      ],
      "execution_count": 14,
      "outputs": []
    },
    {
      "cell_type": "code",
      "metadata": {
        "id": "87Ec5rQwU5pA"
      },
      "source": [
        "# Write DataFrame to active_user table in RDS\n",
        "airline_df.write.jdbc(url=jdbc_url, table='airline', mode=mode, properties=config)"
      ],
      "execution_count": 15,
      "outputs": []
    },
    {
      "cell_type": "code",
      "metadata": {
        "colab": {
          "base_uri": "https://localhost:8080/",
          "height": 366
        },
        "id": "M80AeHHntJPB",
        "outputId": "74581e03-40f4-4bbf-d7d0-e35fd023be19"
      },
      "source": [
        "import pandas as pd\n",
        "import psycopg2\n",
        "from sqlalchemy import create_engine\n",
        "\n",
        "# follows django database settings format, replace with your own settings\n",
        "DATABASES = {\n",
        "    'datafinal':{\n",
        "        'POSTGRES_DBNAME': 'postgres',\n",
        "        'POSTGRES_USERNAME': 'postgres',\n",
        "        'POSTGRES_PASSWORD': 'password',\n",
        "        'POSTGRES_ADDRESS': 'datafinal.c50h51d04cbn.us-east-2.rds.amazonaws.com',\n",
        "        'POSTGRES_PORT': 5432,\n",
        "    },\n",
        "}\n",
        "\n",
        "# choose the database to use\n",
        "db = DATABASES['datafinal']\n",
        "\n",
        "# construct an engine connection string\n",
        "engine_string =  ('postgresql+psycopg2://{username}:{password}@{ipaddress}:{port}/{dbname}'\n",
        "               .format(username= db['POSTGRES_USERNAME'],\n",
        "                      password= db['POSTGRES_PASSWORD'],\n",
        "                      ipaddress= db['POSTGRES_ADDRESS'],\n",
        "                      port= db['POSTGRES_PORT'],\n",
        "                      dbname= db['POSTGRES_DBNAME'])\n",
        "               )\n",
        "\n",
        "# create sqlalchemy engine\n",
        "engine = create_engine(engine_string)\n",
        "\n",
        "# read a table from database into pandas dataframe, replace \"tablename\" with your table name\n",
        "df = pd.read_sql_table('airline', engine)\n",
        "df.head()"
      ],
      "execution_count": 16,
      "outputs": [
        {
          "output_type": "stream",
          "text": [
            "/usr/local/lib/python3.6/dist-packages/psycopg2/__init__.py:144: UserWarning: The psycopg2 wheel package will be renamed from release 2.8; in order to keep installing from binary please use \"pip install psycopg2-binary\" instead. For details see: <http://initd.org/psycopg/docs/install.html#binary-install-from-pypi>.\n",
            "  \"\"\")\n"
          ],
          "name": "stderr"
        },
        {
          "output_type": "execute_result",
          "data": {
            "text/html": [
              "<div>\n",
              "<style scoped>\n",
              "    .dataframe tbody tr th:only-of-type {\n",
              "        vertical-align: middle;\n",
              "    }\n",
              "\n",
              "    .dataframe tbody tr th {\n",
              "        vertical-align: top;\n",
              "    }\n",
              "\n",
              "    .dataframe thead th {\n",
              "        text-align: right;\n",
              "    }\n",
              "</style>\n",
              "<table border=\"1\" class=\"dataframe\">\n",
              "  <thead>\n",
              "    <tr style=\"text-align: right;\">\n",
              "      <th></th>\n",
              "      <th>Gender</th>\n",
              "      <th>Customer</th>\n",
              "      <th>Age</th>\n",
              "      <th>Type_of_Travel</th>\n",
              "      <th>Class</th>\n",
              "      <th>Flight Distance</th>\n",
              "      <th>Inflight wifi</th>\n",
              "      <th>Departure/Arrival_time_convenient</th>\n",
              "      <th>Ease_of_Online booking</th>\n",
              "      <th>Gate_location</th>\n",
              "      <th>Food_and_drink</th>\n",
              "      <th>Online boarding</th>\n",
              "      <th>Seat comfort</th>\n",
              "      <th>Inflight entertainment</th>\n",
              "      <th>On-board service</th>\n",
              "      <th>Leg room service</th>\n",
              "      <th>Baggage handling</th>\n",
              "      <th>Checkin service</th>\n",
              "      <th>Inflight service</th>\n",
              "      <th>Cleanliness</th>\n",
              "      <th>Departure_Delay_in_Minutes</th>\n",
              "      <th>Arrival_Delay_in_Minutes</th>\n",
              "      <th>satisfaction</th>\n",
              "    </tr>\n",
              "  </thead>\n",
              "  <tbody>\n",
              "    <tr>\n",
              "      <th>0</th>\n",
              "      <td>Male</td>\n",
              "      <td>Loyal Customer</td>\n",
              "      <td>13</td>\n",
              "      <td>Personal Travel</td>\n",
              "      <td>Eco Plus</td>\n",
              "      <td>460</td>\n",
              "      <td>3</td>\n",
              "      <td>4</td>\n",
              "      <td>3</td>\n",
              "      <td>1</td>\n",
              "      <td>5</td>\n",
              "      <td>3</td>\n",
              "      <td>5</td>\n",
              "      <td>5</td>\n",
              "      <td>4</td>\n",
              "      <td>3</td>\n",
              "      <td>4</td>\n",
              "      <td>4</td>\n",
              "      <td>5</td>\n",
              "      <td>5</td>\n",
              "      <td>25</td>\n",
              "      <td>18.0</td>\n",
              "      <td>neutral or dissatisfied</td>\n",
              "    </tr>\n",
              "    <tr>\n",
              "      <th>1</th>\n",
              "      <td>Male</td>\n",
              "      <td>disloyal Customer</td>\n",
              "      <td>25</td>\n",
              "      <td>Business travel</td>\n",
              "      <td>Business</td>\n",
              "      <td>235</td>\n",
              "      <td>3</td>\n",
              "      <td>2</td>\n",
              "      <td>3</td>\n",
              "      <td>3</td>\n",
              "      <td>1</td>\n",
              "      <td>3</td>\n",
              "      <td>1</td>\n",
              "      <td>1</td>\n",
              "      <td>1</td>\n",
              "      <td>5</td>\n",
              "      <td>3</td>\n",
              "      <td>1</td>\n",
              "      <td>4</td>\n",
              "      <td>1</td>\n",
              "      <td>1</td>\n",
              "      <td>6.0</td>\n",
              "      <td>neutral or dissatisfied</td>\n",
              "    </tr>\n",
              "    <tr>\n",
              "      <th>2</th>\n",
              "      <td>Female</td>\n",
              "      <td>Loyal Customer</td>\n",
              "      <td>26</td>\n",
              "      <td>Business travel</td>\n",
              "      <td>Business</td>\n",
              "      <td>1142</td>\n",
              "      <td>2</td>\n",
              "      <td>2</td>\n",
              "      <td>2</td>\n",
              "      <td>2</td>\n",
              "      <td>5</td>\n",
              "      <td>5</td>\n",
              "      <td>5</td>\n",
              "      <td>5</td>\n",
              "      <td>4</td>\n",
              "      <td>3</td>\n",
              "      <td>4</td>\n",
              "      <td>4</td>\n",
              "      <td>4</td>\n",
              "      <td>5</td>\n",
              "      <td>0</td>\n",
              "      <td>0.0</td>\n",
              "      <td>satisfied</td>\n",
              "    </tr>\n",
              "    <tr>\n",
              "      <th>3</th>\n",
              "      <td>Female</td>\n",
              "      <td>Loyal Customer</td>\n",
              "      <td>25</td>\n",
              "      <td>Business travel</td>\n",
              "      <td>Business</td>\n",
              "      <td>562</td>\n",
              "      <td>2</td>\n",
              "      <td>5</td>\n",
              "      <td>5</td>\n",
              "      <td>5</td>\n",
              "      <td>2</td>\n",
              "      <td>2</td>\n",
              "      <td>2</td>\n",
              "      <td>2</td>\n",
              "      <td>2</td>\n",
              "      <td>5</td>\n",
              "      <td>3</td>\n",
              "      <td>1</td>\n",
              "      <td>4</td>\n",
              "      <td>2</td>\n",
              "      <td>11</td>\n",
              "      <td>9.0</td>\n",
              "      <td>neutral or dissatisfied</td>\n",
              "    </tr>\n",
              "    <tr>\n",
              "      <th>4</th>\n",
              "      <td>Male</td>\n",
              "      <td>Loyal Customer</td>\n",
              "      <td>61</td>\n",
              "      <td>Business travel</td>\n",
              "      <td>Business</td>\n",
              "      <td>214</td>\n",
              "      <td>3</td>\n",
              "      <td>3</td>\n",
              "      <td>3</td>\n",
              "      <td>3</td>\n",
              "      <td>4</td>\n",
              "      <td>5</td>\n",
              "      <td>5</td>\n",
              "      <td>3</td>\n",
              "      <td>3</td>\n",
              "      <td>4</td>\n",
              "      <td>4</td>\n",
              "      <td>3</td>\n",
              "      <td>3</td>\n",
              "      <td>3</td>\n",
              "      <td>0</td>\n",
              "      <td>0.0</td>\n",
              "      <td>satisfied</td>\n",
              "    </tr>\n",
              "  </tbody>\n",
              "</table>\n",
              "</div>"
            ],
            "text/plain": [
              "   Gender           Customer  ...  Arrival_Delay_in_Minutes             satisfaction\n",
              "0    Male     Loyal Customer  ...                      18.0  neutral or dissatisfied\n",
              "1    Male  disloyal Customer  ...                       6.0  neutral or dissatisfied\n",
              "2  Female     Loyal Customer  ...                       0.0                satisfied\n",
              "3  Female     Loyal Customer  ...                       9.0  neutral or dissatisfied\n",
              "4    Male     Loyal Customer  ...                       0.0                satisfied\n",
              "\n",
              "[5 rows x 23 columns]"
            ]
          },
          "metadata": {
            "tags": []
          },
          "execution_count": 16
        }
      ]
    },
    {
      "cell_type": "code",
      "metadata": {
        "id": "mxgDgfsOvy6f"
      },
      "source": [
        "import warnings\n",
        "warnings.filterwarnings('ignore')"
      ],
      "execution_count": 17,
      "outputs": []
    },
    {
      "cell_type": "code",
      "metadata": {
        "id": "5bOH0xBVvy6g"
      },
      "source": [
        "import numpy as np\n",
        "import pandas as pd\n",
        "from pathlib import Path\n",
        "from collections import Counter"
      ],
      "execution_count": 19,
      "outputs": []
    },
    {
      "cell_type": "code",
      "metadata": {
        "colab": {
          "base_uri": "https://localhost:8080/",
          "height": 455
        },
        "id": "zdASBATcvy6g",
        "outputId": "f725689c-7f9a-4aae-9469-614b0a3bc308"
      },
      "source": [
        "# Create features\n",
        "X = df.drop(columns=\"satisfaction\", axis=1)\n",
        "X = pd.get_dummies(X)\n",
        "\n",
        "# Create target\n",
        "y = df[\"satisfaction\"]\n",
        "\n",
        "X\n",
        "\n"
      ],
      "execution_count": 20,
      "outputs": [
        {
          "output_type": "execute_result",
          "data": {
            "text/html": [
              "<div>\n",
              "<style scoped>\n",
              "    .dataframe tbody tr th:only-of-type {\n",
              "        vertical-align: middle;\n",
              "    }\n",
              "\n",
              "    .dataframe tbody tr th {\n",
              "        vertical-align: top;\n",
              "    }\n",
              "\n",
              "    .dataframe thead th {\n",
              "        text-align: right;\n",
              "    }\n",
              "</style>\n",
              "<table border=\"1\" class=\"dataframe\">\n",
              "  <thead>\n",
              "    <tr style=\"text-align: right;\">\n",
              "      <th></th>\n",
              "      <th>Age</th>\n",
              "      <th>Flight Distance</th>\n",
              "      <th>Inflight wifi</th>\n",
              "      <th>Departure/Arrival_time_convenient</th>\n",
              "      <th>Ease_of_Online booking</th>\n",
              "      <th>Gate_location</th>\n",
              "      <th>Food_and_drink</th>\n",
              "      <th>Online boarding</th>\n",
              "      <th>Seat comfort</th>\n",
              "      <th>Inflight entertainment</th>\n",
              "      <th>On-board service</th>\n",
              "      <th>Leg room service</th>\n",
              "      <th>Baggage handling</th>\n",
              "      <th>Checkin service</th>\n",
              "      <th>Inflight service</th>\n",
              "      <th>Cleanliness</th>\n",
              "      <th>Departure_Delay_in_Minutes</th>\n",
              "      <th>Arrival_Delay_in_Minutes</th>\n",
              "      <th>Gender_Female</th>\n",
              "      <th>Gender_Male</th>\n",
              "      <th>Customer_Loyal Customer</th>\n",
              "      <th>Customer_disloyal Customer</th>\n",
              "      <th>Type_of_Travel_Business travel</th>\n",
              "      <th>Type_of_Travel_Personal Travel</th>\n",
              "      <th>Class_Business</th>\n",
              "      <th>Class_Eco</th>\n",
              "      <th>Class_Eco Plus</th>\n",
              "    </tr>\n",
              "  </thead>\n",
              "  <tbody>\n",
              "    <tr>\n",
              "      <th>0</th>\n",
              "      <td>13</td>\n",
              "      <td>460</td>\n",
              "      <td>3</td>\n",
              "      <td>4</td>\n",
              "      <td>3</td>\n",
              "      <td>1</td>\n",
              "      <td>5</td>\n",
              "      <td>3</td>\n",
              "      <td>5</td>\n",
              "      <td>5</td>\n",
              "      <td>4</td>\n",
              "      <td>3</td>\n",
              "      <td>4</td>\n",
              "      <td>4</td>\n",
              "      <td>5</td>\n",
              "      <td>5</td>\n",
              "      <td>25</td>\n",
              "      <td>18.0</td>\n",
              "      <td>0</td>\n",
              "      <td>1</td>\n",
              "      <td>1</td>\n",
              "      <td>0</td>\n",
              "      <td>0</td>\n",
              "      <td>1</td>\n",
              "      <td>0</td>\n",
              "      <td>0</td>\n",
              "      <td>1</td>\n",
              "    </tr>\n",
              "    <tr>\n",
              "      <th>1</th>\n",
              "      <td>25</td>\n",
              "      <td>235</td>\n",
              "      <td>3</td>\n",
              "      <td>2</td>\n",
              "      <td>3</td>\n",
              "      <td>3</td>\n",
              "      <td>1</td>\n",
              "      <td>3</td>\n",
              "      <td>1</td>\n",
              "      <td>1</td>\n",
              "      <td>1</td>\n",
              "      <td>5</td>\n",
              "      <td>3</td>\n",
              "      <td>1</td>\n",
              "      <td>4</td>\n",
              "      <td>1</td>\n",
              "      <td>1</td>\n",
              "      <td>6.0</td>\n",
              "      <td>0</td>\n",
              "      <td>1</td>\n",
              "      <td>0</td>\n",
              "      <td>1</td>\n",
              "      <td>1</td>\n",
              "      <td>0</td>\n",
              "      <td>1</td>\n",
              "      <td>0</td>\n",
              "      <td>0</td>\n",
              "    </tr>\n",
              "    <tr>\n",
              "      <th>2</th>\n",
              "      <td>26</td>\n",
              "      <td>1142</td>\n",
              "      <td>2</td>\n",
              "      <td>2</td>\n",
              "      <td>2</td>\n",
              "      <td>2</td>\n",
              "      <td>5</td>\n",
              "      <td>5</td>\n",
              "      <td>5</td>\n",
              "      <td>5</td>\n",
              "      <td>4</td>\n",
              "      <td>3</td>\n",
              "      <td>4</td>\n",
              "      <td>4</td>\n",
              "      <td>4</td>\n",
              "      <td>5</td>\n",
              "      <td>0</td>\n",
              "      <td>0.0</td>\n",
              "      <td>1</td>\n",
              "      <td>0</td>\n",
              "      <td>1</td>\n",
              "      <td>0</td>\n",
              "      <td>1</td>\n",
              "      <td>0</td>\n",
              "      <td>1</td>\n",
              "      <td>0</td>\n",
              "      <td>0</td>\n",
              "    </tr>\n",
              "    <tr>\n",
              "      <th>3</th>\n",
              "      <td>25</td>\n",
              "      <td>562</td>\n",
              "      <td>2</td>\n",
              "      <td>5</td>\n",
              "      <td>5</td>\n",
              "      <td>5</td>\n",
              "      <td>2</td>\n",
              "      <td>2</td>\n",
              "      <td>2</td>\n",
              "      <td>2</td>\n",
              "      <td>2</td>\n",
              "      <td>5</td>\n",
              "      <td>3</td>\n",
              "      <td>1</td>\n",
              "      <td>4</td>\n",
              "      <td>2</td>\n",
              "      <td>11</td>\n",
              "      <td>9.0</td>\n",
              "      <td>1</td>\n",
              "      <td>0</td>\n",
              "      <td>1</td>\n",
              "      <td>0</td>\n",
              "      <td>1</td>\n",
              "      <td>0</td>\n",
              "      <td>1</td>\n",
              "      <td>0</td>\n",
              "      <td>0</td>\n",
              "    </tr>\n",
              "    <tr>\n",
              "      <th>4</th>\n",
              "      <td>61</td>\n",
              "      <td>214</td>\n",
              "      <td>3</td>\n",
              "      <td>3</td>\n",
              "      <td>3</td>\n",
              "      <td>3</td>\n",
              "      <td>4</td>\n",
              "      <td>5</td>\n",
              "      <td>5</td>\n",
              "      <td>3</td>\n",
              "      <td>3</td>\n",
              "      <td>4</td>\n",
              "      <td>4</td>\n",
              "      <td>3</td>\n",
              "      <td>3</td>\n",
              "      <td>3</td>\n",
              "      <td>0</td>\n",
              "      <td>0.0</td>\n",
              "      <td>0</td>\n",
              "      <td>1</td>\n",
              "      <td>1</td>\n",
              "      <td>0</td>\n",
              "      <td>1</td>\n",
              "      <td>0</td>\n",
              "      <td>1</td>\n",
              "      <td>0</td>\n",
              "      <td>0</td>\n",
              "    </tr>\n",
              "    <tr>\n",
              "      <th>...</th>\n",
              "      <td>...</td>\n",
              "      <td>...</td>\n",
              "      <td>...</td>\n",
              "      <td>...</td>\n",
              "      <td>...</td>\n",
              "      <td>...</td>\n",
              "      <td>...</td>\n",
              "      <td>...</td>\n",
              "      <td>...</td>\n",
              "      <td>...</td>\n",
              "      <td>...</td>\n",
              "      <td>...</td>\n",
              "      <td>...</td>\n",
              "      <td>...</td>\n",
              "      <td>...</td>\n",
              "      <td>...</td>\n",
              "      <td>...</td>\n",
              "      <td>...</td>\n",
              "      <td>...</td>\n",
              "      <td>...</td>\n",
              "      <td>...</td>\n",
              "      <td>...</td>\n",
              "      <td>...</td>\n",
              "      <td>...</td>\n",
              "      <td>...</td>\n",
              "      <td>...</td>\n",
              "      <td>...</td>\n",
              "    </tr>\n",
              "    <tr>\n",
              "      <th>517943</th>\n",
              "      <td>39</td>\n",
              "      <td>3483</td>\n",
              "      <td>1</td>\n",
              "      <td>1</td>\n",
              "      <td>1</td>\n",
              "      <td>1</td>\n",
              "      <td>3</td>\n",
              "      <td>5</td>\n",
              "      <td>4</td>\n",
              "      <td>5</td>\n",
              "      <td>5</td>\n",
              "      <td>5</td>\n",
              "      <td>5</td>\n",
              "      <td>4</td>\n",
              "      <td>5</td>\n",
              "      <td>3</td>\n",
              "      <td>0</td>\n",
              "      <td>0.0</td>\n",
              "      <td>1</td>\n",
              "      <td>0</td>\n",
              "      <td>1</td>\n",
              "      <td>0</td>\n",
              "      <td>1</td>\n",
              "      <td>0</td>\n",
              "      <td>1</td>\n",
              "      <td>0</td>\n",
              "      <td>0</td>\n",
              "    </tr>\n",
              "    <tr>\n",
              "      <th>517944</th>\n",
              "      <td>42</td>\n",
              "      <td>3636</td>\n",
              "      <td>0</td>\n",
              "      <td>5</td>\n",
              "      <td>0</td>\n",
              "      <td>4</td>\n",
              "      <td>2</td>\n",
              "      <td>5</td>\n",
              "      <td>4</td>\n",
              "      <td>1</td>\n",
              "      <td>1</td>\n",
              "      <td>1</td>\n",
              "      <td>1</td>\n",
              "      <td>3</td>\n",
              "      <td>1</td>\n",
              "      <td>3</td>\n",
              "      <td>0</td>\n",
              "      <td>0.0</td>\n",
              "      <td>0</td>\n",
              "      <td>1</td>\n",
              "      <td>1</td>\n",
              "      <td>0</td>\n",
              "      <td>1</td>\n",
              "      <td>0</td>\n",
              "      <td>1</td>\n",
              "      <td>0</td>\n",
              "      <td>0</td>\n",
              "    </tr>\n",
              "    <tr>\n",
              "      <th>517945</th>\n",
              "      <td>64</td>\n",
              "      <td>376</td>\n",
              "      <td>1</td>\n",
              "      <td>5</td>\n",
              "      <td>1</td>\n",
              "      <td>1</td>\n",
              "      <td>2</td>\n",
              "      <td>4</td>\n",
              "      <td>5</td>\n",
              "      <td>4</td>\n",
              "      <td>4</td>\n",
              "      <td>1</td>\n",
              "      <td>4</td>\n",
              "      <td>3</td>\n",
              "      <td>4</td>\n",
              "      <td>4</td>\n",
              "      <td>0</td>\n",
              "      <td>0.0</td>\n",
              "      <td>1</td>\n",
              "      <td>0</td>\n",
              "      <td>1</td>\n",
              "      <td>0</td>\n",
              "      <td>0</td>\n",
              "      <td>1</td>\n",
              "      <td>0</td>\n",
              "      <td>1</td>\n",
              "      <td>0</td>\n",
              "    </tr>\n",
              "    <tr>\n",
              "      <th>517946</th>\n",
              "      <td>57</td>\n",
              "      <td>192</td>\n",
              "      <td>5</td>\n",
              "      <td>5</td>\n",
              "      <td>5</td>\n",
              "      <td>1</td>\n",
              "      <td>2</td>\n",
              "      <td>4</td>\n",
              "      <td>5</td>\n",
              "      <td>4</td>\n",
              "      <td>4</td>\n",
              "      <td>5</td>\n",
              "      <td>4</td>\n",
              "      <td>5</td>\n",
              "      <td>4</td>\n",
              "      <td>5</td>\n",
              "      <td>0</td>\n",
              "      <td>0.0</td>\n",
              "      <td>1</td>\n",
              "      <td>0</td>\n",
              "      <td>1</td>\n",
              "      <td>0</td>\n",
              "      <td>0</td>\n",
              "      <td>1</td>\n",
              "      <td>0</td>\n",
              "      <td>1</td>\n",
              "      <td>0</td>\n",
              "    </tr>\n",
              "    <tr>\n",
              "      <th>517947</th>\n",
              "      <td>69</td>\n",
              "      <td>2917</td>\n",
              "      <td>3</td>\n",
              "      <td>3</td>\n",
              "      <td>3</td>\n",
              "      <td>3</td>\n",
              "      <td>3</td>\n",
              "      <td>3</td>\n",
              "      <td>3</td>\n",
              "      <td>4</td>\n",
              "      <td>1</td>\n",
              "      <td>3</td>\n",
              "      <td>4</td>\n",
              "      <td>3</td>\n",
              "      <td>2</td>\n",
              "      <td>3</td>\n",
              "      <td>181</td>\n",
              "      <td>179.0</td>\n",
              "      <td>0</td>\n",
              "      <td>1</td>\n",
              "      <td>1</td>\n",
              "      <td>0</td>\n",
              "      <td>0</td>\n",
              "      <td>1</td>\n",
              "      <td>0</td>\n",
              "      <td>1</td>\n",
              "      <td>0</td>\n",
              "    </tr>\n",
              "  </tbody>\n",
              "</table>\n",
              "<p>517948 rows × 27 columns</p>\n",
              "</div>"
            ],
            "text/plain": [
              "        Age  Flight Distance  ...  Class_Eco  Class_Eco Plus\n",
              "0        13              460  ...          0               1\n",
              "1        25              235  ...          0               0\n",
              "2        26             1142  ...          0               0\n",
              "3        25              562  ...          0               0\n",
              "4        61              214  ...          0               0\n",
              "...     ...              ...  ...        ...             ...\n",
              "517943   39             3483  ...          0               0\n",
              "517944   42             3636  ...          0               0\n",
              "517945   64              376  ...          1               0\n",
              "517946   57              192  ...          1               0\n",
              "517947   69             2917  ...          1               0\n",
              "\n",
              "[517948 rows x 27 columns]"
            ]
          },
          "metadata": {
            "tags": []
          },
          "execution_count": 20
        }
      ]
    },
    {
      "cell_type": "code",
      "metadata": {
        "colab": {
          "base_uri": "https://localhost:8080/"
        },
        "id": "PmOJFCCryAEN",
        "outputId": "d0031f03-bf3d-44c9-e7ad-8178790c4afb"
      },
      "source": [
        "y.describe()"
      ],
      "execution_count": 21,
      "outputs": [
        {
          "output_type": "execute_result",
          "data": {
            "text/plain": [
              "count                      517948\n",
              "unique                          2\n",
              "top       neutral or dissatisfied\n",
              "freq                       292900\n",
              "Name: satisfaction, dtype: object"
            ]
          },
          "metadata": {
            "tags": []
          },
          "execution_count": 21
        }
      ]
    },
    {
      "cell_type": "code",
      "metadata": {
        "id": "YfNuXkOOkgJj"
      },
      "source": [
        "from sklearn.preprocessing import LabelEncoder"
      ],
      "execution_count": 31,
      "outputs": []
    },
    {
      "cell_type": "code",
      "metadata": {
        "id": "qQfyttM7k7oD"
      },
      "source": [
        "#Encode text labels into numerical values\r\n",
        "le = LabelEncoder()\r\n",
        "y_encoded = le.fit_transform(y)"
      ],
      "execution_count": 37,
      "outputs": []
    },
    {
      "cell_type": "code",
      "metadata": {
        "colab": {
          "base_uri": "https://localhost:8080/"
        },
        "id": "JEfFd3HCyPIW",
        "outputId": "2ff2428a-74bd-4014-b6fc-e32f6d3b7d79"
      },
      "source": [
        "# Check the balance of target values\r\n",
        "y_encoded.value_counts()"
      ],
      "execution_count": 23,
      "outputs": [
        {
          "output_type": "execute_result",
          "data": {
            "text/plain": [
              "neutral or dissatisfied  satisfied\n",
              "1                        0            292900\n",
              "0                        1            225048\n",
              "dtype: int64"
            ]
          },
          "metadata": {
            "tags": []
          },
          "execution_count": 23
        }
      ]
    },
    {
      "cell_type": "code",
      "metadata": {
        "colab": {
          "base_uri": "https://localhost:8080/"
        },
        "id": "yqSND0YkyemU",
        "outputId": "5f94de3a-64f5-408f-c9e5-2ce5bc4d2a90"
      },
      "source": [
        "df.count()"
      ],
      "execution_count": 24,
      "outputs": [
        {
          "output_type": "execute_result",
          "data": {
            "text/plain": [
              "Gender                               517948\n",
              "Customer                             517948\n",
              "Age                                  517948\n",
              "Type_of_Travel                       517948\n",
              "Class                                517948\n",
              "Flight Distance                      517948\n",
              "Inflight wifi                        517948\n",
              "Departure/Arrival_time_convenient    517948\n",
              "Ease_of_Online booking               517948\n",
              "Gate_location                        517948\n",
              "Food_and_drink                       517948\n",
              "Online boarding                      517948\n",
              "Seat comfort                         517948\n",
              "Inflight entertainment               517948\n",
              "On-board service                     517948\n",
              "Leg room service                     517948\n",
              "Baggage handling                     517948\n",
              "Checkin service                      517948\n",
              "Inflight service                     517948\n",
              "Cleanliness                          517948\n",
              "Departure_Delay_in_Minutes           517948\n",
              "Arrival_Delay_in_Minutes             517948\n",
              "satisfaction                         517948\n",
              "dtype: int64"
            ]
          },
          "metadata": {
            "tags": []
          },
          "execution_count": 24
        }
      ]
    },
    {
      "cell_type": "code",
      "metadata": {
        "colab": {
          "base_uri": "https://localhost:8080/"
        },
        "id": "ScnLD4jQl3lu",
        "outputId": "1c315c0d-bcf1-47d9-c262-b55a21e18151"
      },
      "source": [
        "y.value_counts()"
      ],
      "execution_count": 36,
      "outputs": [
        {
          "output_type": "execute_result",
          "data": {
            "text/plain": [
              "neutral or dissatisfied    292900\n",
              "satisfied                  225048\n",
              "Name: satisfaction, dtype: int64"
            ]
          },
          "metadata": {
            "tags": []
          },
          "execution_count": 36
        }
      ]
    },
    {
      "cell_type": "code",
      "metadata": {
        "colab": {
          "base_uri": "https://localhost:8080/"
        },
        "id": "kP8Zs4enyphr",
        "outputId": "f5d715c8-0c84-4571-ae4f-49640b8da147"
      },
      "source": [
        "from sklearn.model_selection import train_test_split\r\n",
        "X_train, X_test, y_train, y_test = train_test_split(X, y_encoded, random_state=1,stratify=y)\r\n",
        "Counter(y_train)\r\n"
      ],
      "execution_count": 38,
      "outputs": [
        {
          "output_type": "execute_result",
          "data": {
            "text/plain": [
              "Counter({0: 219675, 1: 168786})"
            ]
          },
          "metadata": {
            "tags": []
          },
          "execution_count": 38
        }
      ]
    },
    {
      "cell_type": "code",
      "metadata": {
        "colab": {
          "base_uri": "https://localhost:8080/"
        },
        "id": "1-_gO19zyyPG",
        "outputId": "9debdbbe-aabc-424f-d9e4-defb6fdb4df5"
      },
      "source": [
        "print(X_train.shape)\r\n",
        "print(X_test.shape)\r\n",
        "print(y_train.shape)\r\n",
        "print(y_test.shape)"
      ],
      "execution_count": 39,
      "outputs": [
        {
          "output_type": "stream",
          "text": [
            "(388461, 27)\n",
            "(129487, 27)\n",
            "(388461,)\n",
            "(129487,)\n"
          ],
          "name": "stdout"
        }
      ]
    },
    {
      "cell_type": "code",
      "metadata": {
        "colab": {
          "base_uri": "https://localhost:8080/"
        },
        "id": "0zycTkwtnqGH",
        "outputId": "1820c58d-73f0-49ee-a9e8-dceb17a9756c"
      },
      "source": [
        "from sklearn.linear_model import LogisticRegression\r\n",
        "classifier = LogisticRegression(solver='lbfgs', random_state=1)\r\n",
        "classifier"
      ],
      "execution_count": 40,
      "outputs": [
        {
          "output_type": "execute_result",
          "data": {
            "text/plain": [
              "LogisticRegression(C=1.0, class_weight=None, dual=False, fit_intercept=True,\n",
              "                   intercept_scaling=1, l1_ratio=None, max_iter=100,\n",
              "                   multi_class='auto', n_jobs=None, penalty='l2',\n",
              "                   random_state=1, solver='lbfgs', tol=0.0001, verbose=0,\n",
              "                   warm_start=False)"
            ]
          },
          "metadata": {
            "tags": []
          },
          "execution_count": 40
        }
      ]
    },
    {
      "cell_type": "code",
      "metadata": {
        "colab": {
          "base_uri": "https://localhost:8080/"
        },
        "id": "DYa8ydh8nvbm",
        "outputId": "90805243-5e3f-47b1-cffc-ac65d1e1b255"
      },
      "source": [
        "# Train the data\r\n",
        "classifier.fit(X_train, y_train)"
      ],
      "execution_count": 41,
      "outputs": [
        {
          "output_type": "execute_result",
          "data": {
            "text/plain": [
              "LogisticRegression(C=1.0, class_weight=None, dual=False, fit_intercept=True,\n",
              "                   intercept_scaling=1, l1_ratio=None, max_iter=100,\n",
              "                   multi_class='auto', n_jobs=None, penalty='l2',\n",
              "                   random_state=1, solver='lbfgs', tol=0.0001, verbose=0,\n",
              "                   warm_start=False)"
            ]
          },
          "metadata": {
            "tags": []
          },
          "execution_count": 41
        }
      ]
    },
    {
      "cell_type": "code",
      "metadata": {
        "colab": {
          "base_uri": "https://localhost:8080/",
          "height": 402
        },
        "id": "zeAGCNL6nzxt",
        "outputId": "ce166768-aac7-4973-c7eb-f26bd7ea0ab3"
      },
      "source": [
        "# Predict outcomes for test data set\r\n",
        "predictions = classifier.predict(X_test)\r\n",
        "pd.DataFrame({\"Prediction\": predictions, \"Actual\": y_test})"
      ],
      "execution_count": 42,
      "outputs": [
        {
          "output_type": "execute_result",
          "data": {
            "text/html": [
              "<div>\n",
              "<style scoped>\n",
              "    .dataframe tbody tr th:only-of-type {\n",
              "        vertical-align: middle;\n",
              "    }\n",
              "\n",
              "    .dataframe tbody tr th {\n",
              "        vertical-align: top;\n",
              "    }\n",
              "\n",
              "    .dataframe thead th {\n",
              "        text-align: right;\n",
              "    }\n",
              "</style>\n",
              "<table border=\"1\" class=\"dataframe\">\n",
              "  <thead>\n",
              "    <tr style=\"text-align: right;\">\n",
              "      <th></th>\n",
              "      <th>Prediction</th>\n",
              "      <th>Actual</th>\n",
              "    </tr>\n",
              "  </thead>\n",
              "  <tbody>\n",
              "    <tr>\n",
              "      <th>0</th>\n",
              "      <td>0</td>\n",
              "      <td>0</td>\n",
              "    </tr>\n",
              "    <tr>\n",
              "      <th>1</th>\n",
              "      <td>0</td>\n",
              "      <td>0</td>\n",
              "    </tr>\n",
              "    <tr>\n",
              "      <th>2</th>\n",
              "      <td>1</td>\n",
              "      <td>1</td>\n",
              "    </tr>\n",
              "    <tr>\n",
              "      <th>3</th>\n",
              "      <td>1</td>\n",
              "      <td>1</td>\n",
              "    </tr>\n",
              "    <tr>\n",
              "      <th>4</th>\n",
              "      <td>1</td>\n",
              "      <td>1</td>\n",
              "    </tr>\n",
              "    <tr>\n",
              "      <th>...</th>\n",
              "      <td>...</td>\n",
              "      <td>...</td>\n",
              "    </tr>\n",
              "    <tr>\n",
              "      <th>129482</th>\n",
              "      <td>0</td>\n",
              "      <td>0</td>\n",
              "    </tr>\n",
              "    <tr>\n",
              "      <th>129483</th>\n",
              "      <td>1</td>\n",
              "      <td>1</td>\n",
              "    </tr>\n",
              "    <tr>\n",
              "      <th>129484</th>\n",
              "      <td>1</td>\n",
              "      <td>1</td>\n",
              "    </tr>\n",
              "    <tr>\n",
              "      <th>129485</th>\n",
              "      <td>0</td>\n",
              "      <td>1</td>\n",
              "    </tr>\n",
              "    <tr>\n",
              "      <th>129486</th>\n",
              "      <td>0</td>\n",
              "      <td>0</td>\n",
              "    </tr>\n",
              "  </tbody>\n",
              "</table>\n",
              "<p>129487 rows × 2 columns</p>\n",
              "</div>"
            ],
            "text/plain": [
              "        Prediction  Actual\n",
              "0                0       0\n",
              "1                0       0\n",
              "2                1       1\n",
              "3                1       1\n",
              "4                1       1\n",
              "...            ...     ...\n",
              "129482           0       0\n",
              "129483           1       1\n",
              "129484           1       1\n",
              "129485           0       1\n",
              "129486           0       0\n",
              "\n",
              "[129487 rows x 2 columns]"
            ]
          },
          "metadata": {
            "tags": []
          },
          "execution_count": 42
        }
      ]
    },
    {
      "cell_type": "code",
      "metadata": {
        "colab": {
          "base_uri": "https://localhost:8080/"
        },
        "id": "9irdRT2ioCzv",
        "outputId": "a83827b8-6c8b-4627-a647-3d340ef2aa8a"
      },
      "source": [
        "from sklearn.metrics import accuracy_score\r\n",
        "accuracy_score(y_test, predictions)"
      ],
      "execution_count": 43,
      "outputs": [
        {
          "output_type": "execute_result",
          "data": {
            "text/plain": [
              "0.8266003537034606"
            ]
          },
          "metadata": {
            "tags": []
          },
          "execution_count": 43
        }
      ]
    }
  ]
}