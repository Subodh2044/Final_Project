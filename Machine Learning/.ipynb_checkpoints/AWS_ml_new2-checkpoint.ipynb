{
 "cells": [
  {
   "cell_type": "markdown",
   "metadata": {
    "colab": {
     "base_uri": "https://localhost:8080/",
     "height": 332
    },
    "id": "M80AeHHntJPB",
    "outputId": "a0e332f7-8142-43c7-a11e-f6c74a660e67"
   },
   "source": [
    "# Airline Passenger Satisfaction Prediction"
   ]
  },
  {
   "cell_type": "markdown",
   "metadata": {},
   "source": [
    "## Import Data from SQL using sqlalchemy"
   ]
  },
  {
   "cell_type": "code",
   "execution_count": 6,
   "metadata": {},
   "outputs": [],
   "source": [
    "import warnings\n",
    "import numpy as np\n",
    "import pandas as pd\n",
    "from pathlib import Path\n",
    "from collections import Counter\n",
    "warnings.filterwarnings('ignore')\n",
    "import matplotlib.pyplot as plt"
   ]
  },
  {
   "cell_type": "code",
   "execution_count": 7,
   "metadata": {},
   "outputs": [
    {
     "data": {
      "text/html": [
       "<div>\n",
       "<style scoped>\n",
       "    .dataframe tbody tr th:only-of-type {\n",
       "        vertical-align: middle;\n",
       "    }\n",
       "\n",
       "    .dataframe tbody tr th {\n",
       "        vertical-align: top;\n",
       "    }\n",
       "\n",
       "    .dataframe thead th {\n",
       "        text-align: right;\n",
       "    }\n",
       "</style>\n",
       "<table border=\"1\" class=\"dataframe\">\n",
       "  <thead>\n",
       "    <tr style=\"text-align: right;\">\n",
       "      <th></th>\n",
       "      <th>Gender</th>\n",
       "      <th>Customer</th>\n",
       "      <th>Age</th>\n",
       "      <th>Type_of_Travel</th>\n",
       "      <th>Class</th>\n",
       "      <th>Flight Distance</th>\n",
       "      <th>Inflight wifi</th>\n",
       "      <th>Departure/Arrival_time_convenient</th>\n",
       "      <th>Ease_of_Online booking</th>\n",
       "      <th>Gate_location</th>\n",
       "      <th>...</th>\n",
       "      <th>Inflight entertainment</th>\n",
       "      <th>On-board service</th>\n",
       "      <th>Leg room service</th>\n",
       "      <th>Baggage handling</th>\n",
       "      <th>Checkin service</th>\n",
       "      <th>Inflight service</th>\n",
       "      <th>Cleanliness</th>\n",
       "      <th>Departure_Delay_in_Minutes</th>\n",
       "      <th>Arrival_Delay_in_Minutes</th>\n",
       "      <th>satisfaction</th>\n",
       "    </tr>\n",
       "  </thead>\n",
       "  <tbody>\n",
       "    <tr>\n",
       "      <th>0</th>\n",
       "      <td>Male</td>\n",
       "      <td>Loyal Customer</td>\n",
       "      <td>60.0</td>\n",
       "      <td>Business travel</td>\n",
       "      <td>Business</td>\n",
       "      <td>912.0</td>\n",
       "      <td>2.0</td>\n",
       "      <td>2.0</td>\n",
       "      <td>2.0</td>\n",
       "      <td>2.0</td>\n",
       "      <td>...</td>\n",
       "      <td>2.0</td>\n",
       "      <td>2.0</td>\n",
       "      <td>2.0</td>\n",
       "      <td>2.0</td>\n",
       "      <td>3.0</td>\n",
       "      <td>2.0</td>\n",
       "      <td>2.0</td>\n",
       "      <td>39.0</td>\n",
       "      <td>23.0</td>\n",
       "      <td>neutral or dissatisfied</td>\n",
       "    </tr>\n",
       "    <tr>\n",
       "      <th>1</th>\n",
       "      <td>Male</td>\n",
       "      <td>disloyal Customer</td>\n",
       "      <td>38.0</td>\n",
       "      <td>Business travel</td>\n",
       "      <td>Business</td>\n",
       "      <td>208.0</td>\n",
       "      <td>3.0</td>\n",
       "      <td>3.0</td>\n",
       "      <td>3.0</td>\n",
       "      <td>4.0</td>\n",
       "      <td>...</td>\n",
       "      <td>5.0</td>\n",
       "      <td>4.0</td>\n",
       "      <td>5.0</td>\n",
       "      <td>4.0</td>\n",
       "      <td>4.0</td>\n",
       "      <td>4.0</td>\n",
       "      <td>5.0</td>\n",
       "      <td>0.0</td>\n",
       "      <td>0.0</td>\n",
       "      <td>neutral or dissatisfied</td>\n",
       "    </tr>\n",
       "    <tr>\n",
       "      <th>2</th>\n",
       "      <td>Male</td>\n",
       "      <td>Loyal Customer</td>\n",
       "      <td>31.0</td>\n",
       "      <td>Business travel</td>\n",
       "      <td>Business</td>\n",
       "      <td>3147.0</td>\n",
       "      <td>1.0</td>\n",
       "      <td>1.0</td>\n",
       "      <td>1.0</td>\n",
       "      <td>1.0</td>\n",
       "      <td>...</td>\n",
       "      <td>5.0</td>\n",
       "      <td>4.0</td>\n",
       "      <td>3.0</td>\n",
       "      <td>5.0</td>\n",
       "      <td>5.0</td>\n",
       "      <td>5.0</td>\n",
       "      <td>5.0</td>\n",
       "      <td>2.0</td>\n",
       "      <td>0.0</td>\n",
       "      <td>satisfied</td>\n",
       "    </tr>\n",
       "    <tr>\n",
       "      <th>3</th>\n",
       "      <td>Male</td>\n",
       "      <td>Loyal Customer</td>\n",
       "      <td>53.0</td>\n",
       "      <td>Business travel</td>\n",
       "      <td>Business</td>\n",
       "      <td>2327.0</td>\n",
       "      <td>3.0</td>\n",
       "      <td>2.0</td>\n",
       "      <td>2.0</td>\n",
       "      <td>2.0</td>\n",
       "      <td>...</td>\n",
       "      <td>3.0</td>\n",
       "      <td>5.0</td>\n",
       "      <td>3.0</td>\n",
       "      <td>4.0</td>\n",
       "      <td>3.0</td>\n",
       "      <td>1.0</td>\n",
       "      <td>3.0</td>\n",
       "      <td>186.0</td>\n",
       "      <td>182.0</td>\n",
       "      <td>neutral or dissatisfied</td>\n",
       "    </tr>\n",
       "    <tr>\n",
       "      <th>4</th>\n",
       "      <td>Male</td>\n",
       "      <td>Loyal Customer</td>\n",
       "      <td>30.0</td>\n",
       "      <td>Personal Travel</td>\n",
       "      <td>Eco</td>\n",
       "      <td>650.0</td>\n",
       "      <td>3.0</td>\n",
       "      <td>4.0</td>\n",
       "      <td>3.0</td>\n",
       "      <td>4.0</td>\n",
       "      <td>...</td>\n",
       "      <td>3.0</td>\n",
       "      <td>2.0</td>\n",
       "      <td>2.0</td>\n",
       "      <td>4.0</td>\n",
       "      <td>3.0</td>\n",
       "      <td>4.0</td>\n",
       "      <td>3.0</td>\n",
       "      <td>0.0</td>\n",
       "      <td>0.0</td>\n",
       "      <td>neutral or dissatisfied</td>\n",
       "    </tr>\n",
       "  </tbody>\n",
       "</table>\n",
       "<p>5 rows × 23 columns</p>\n",
       "</div>"
      ],
      "text/plain": [
       "  Gender           Customer   Age   Type_of_Travel     Class  Flight Distance  \\\n",
       "0   Male     Loyal Customer  60.0  Business travel  Business            912.0   \n",
       "1   Male  disloyal Customer  38.0  Business travel  Business            208.0   \n",
       "2   Male     Loyal Customer  31.0  Business travel  Business           3147.0   \n",
       "3   Male     Loyal Customer  53.0  Business travel  Business           2327.0   \n",
       "4   Male     Loyal Customer  30.0  Personal Travel       Eco            650.0   \n",
       "\n",
       "   Inflight wifi  Departure/Arrival_time_convenient  Ease_of_Online booking  \\\n",
       "0            2.0                                2.0                     2.0   \n",
       "1            3.0                                3.0                     3.0   \n",
       "2            1.0                                1.0                     1.0   \n",
       "3            3.0                                2.0                     2.0   \n",
       "4            3.0                                4.0                     3.0   \n",
       "\n",
       "   Gate_location  ...  Inflight entertainment  On-board service  \\\n",
       "0            2.0  ...                     2.0               2.0   \n",
       "1            4.0  ...                     5.0               4.0   \n",
       "2            1.0  ...                     5.0               4.0   \n",
       "3            2.0  ...                     3.0               5.0   \n",
       "4            4.0  ...                     3.0               2.0   \n",
       "\n",
       "   Leg room service  Baggage handling  Checkin service  Inflight service  \\\n",
       "0               2.0               2.0              3.0               2.0   \n",
       "1               5.0               4.0              4.0               4.0   \n",
       "2               3.0               5.0              5.0               5.0   \n",
       "3               3.0               4.0              3.0               1.0   \n",
       "4               2.0               4.0              3.0               4.0   \n",
       "\n",
       "   Cleanliness  Departure_Delay_in_Minutes  Arrival_Delay_in_Minutes  \\\n",
       "0          2.0                        39.0                      23.0   \n",
       "1          5.0                         0.0                       0.0   \n",
       "2          5.0                         2.0                       0.0   \n",
       "3          3.0                       186.0                     182.0   \n",
       "4          3.0                         0.0                       0.0   \n",
       "\n",
       "              satisfaction  \n",
       "0  neutral or dissatisfied  \n",
       "1  neutral or dissatisfied  \n",
       "2                satisfied  \n",
       "3  neutral or dissatisfied  \n",
       "4  neutral or dissatisfied  \n",
       "\n",
       "[5 rows x 23 columns]"
      ]
     },
     "execution_count": 7,
     "metadata": {},
     "output_type": "execute_result"
    }
   ],
   "source": [
    "import pandas as pd\n",
    "import psycopg2\n",
    "from sqlalchemy import create_engine\n",
    "\n",
    "# follows django database settings format, replace with your own settings\n",
    "DATABASES = {\n",
    "    'datafinal':{\n",
    "        'POSTGRES_DBNAME': 'postgres',\n",
    "        'POSTGRES_USERNAME': 'postgres',\n",
    "        'POSTGRES_PASSWORD': 'password',\n",
    "        'POSTGRES_ADDRESS': 'datafinal.c50h51d04cbn.us-east-2.rds.amazonaws.com',\n",
    "        'POSTGRES_PORT': 5432,\n",
    "    },\n",
    "}\n",
    "\n",
    "# choose the database to use\n",
    "db = DATABASES['datafinal']\n",
    "\n",
    "# construct an engine connection string\n",
    "engine_string =  ('postgresql+psycopg2://{username}:{password}@{ipaddress}:{port}/{dbname}'\n",
    "               .format(username= db['POSTGRES_USERNAME'],\n",
    "                      password= db['POSTGRES_PASSWORD'],\n",
    "                      ipaddress= db['POSTGRES_ADDRESS'],\n",
    "                      port= db['POSTGRES_PORT'],\n",
    "                      dbname= db['POSTGRES_DBNAME'])\n",
    "               )\n",
    "\n",
    "# create sqlalchemy engine\n",
    "engine = create_engine(engine_string)\n",
    "\n",
    "# read a table from database into pandas dataframe, replace \"tablename\" with your table name\n",
    "new_train = pd.read_sql_table('train', engine)\n",
    "new_train.head()"
   ]
  },
  {
   "cell_type": "code",
   "execution_count": 8,
   "metadata": {
    "colab": {
     "base_uri": "https://localhost:8080/",
     "height": 332
    },
    "id": "C2mL1SrLsHdy",
    "outputId": "282e7b7e-b1b9-4779-9f65-cc76831a089e"
   },
   "outputs": [
    {
     "data": {
      "text/html": [
       "<div>\n",
       "<style scoped>\n",
       "    .dataframe tbody tr th:only-of-type {\n",
       "        vertical-align: middle;\n",
       "    }\n",
       "\n",
       "    .dataframe tbody tr th {\n",
       "        vertical-align: top;\n",
       "    }\n",
       "\n",
       "    .dataframe thead th {\n",
       "        text-align: right;\n",
       "    }\n",
       "</style>\n",
       "<table border=\"1\" class=\"dataframe\">\n",
       "  <thead>\n",
       "    <tr style=\"text-align: right;\">\n",
       "      <th></th>\n",
       "      <th>Gender</th>\n",
       "      <th>Customer</th>\n",
       "      <th>Age</th>\n",
       "      <th>Type_of_Travel</th>\n",
       "      <th>Class</th>\n",
       "      <th>Flight Distance</th>\n",
       "      <th>Inflight wifi</th>\n",
       "      <th>Departure/Arrival_time_convenient</th>\n",
       "      <th>Ease_of_Online booking</th>\n",
       "      <th>Gate_location</th>\n",
       "      <th>...</th>\n",
       "      <th>Inflight entertainment</th>\n",
       "      <th>On-board service</th>\n",
       "      <th>Leg room service</th>\n",
       "      <th>Baggage handling</th>\n",
       "      <th>Checkin service</th>\n",
       "      <th>Inflight service</th>\n",
       "      <th>Cleanliness</th>\n",
       "      <th>Departure_Delay_in_Minutes</th>\n",
       "      <th>Arrival_Delay_in_Minutes</th>\n",
       "      <th>satisfaction</th>\n",
       "    </tr>\n",
       "  </thead>\n",
       "  <tbody>\n",
       "    <tr>\n",
       "      <th>0</th>\n",
       "      <td>Female</td>\n",
       "      <td>Loyal Customer</td>\n",
       "      <td>52.0</td>\n",
       "      <td>Business travel</td>\n",
       "      <td>Eco</td>\n",
       "      <td>160.0</td>\n",
       "      <td>5.0</td>\n",
       "      <td>4.0</td>\n",
       "      <td>3.0</td>\n",
       "      <td>4.0</td>\n",
       "      <td>...</td>\n",
       "      <td>5.0</td>\n",
       "      <td>5.0</td>\n",
       "      <td>5.0</td>\n",
       "      <td>5.0</td>\n",
       "      <td>2.0</td>\n",
       "      <td>5.0</td>\n",
       "      <td>5.0</td>\n",
       "      <td>50.0</td>\n",
       "      <td>44.0</td>\n",
       "      <td>satisfied</td>\n",
       "    </tr>\n",
       "    <tr>\n",
       "      <th>1</th>\n",
       "      <td>Female</td>\n",
       "      <td>Loyal Customer</td>\n",
       "      <td>36.0</td>\n",
       "      <td>Business travel</td>\n",
       "      <td>Business</td>\n",
       "      <td>2863.0</td>\n",
       "      <td>1.0</td>\n",
       "      <td>1.0</td>\n",
       "      <td>3.0</td>\n",
       "      <td>1.0</td>\n",
       "      <td>...</td>\n",
       "      <td>4.0</td>\n",
       "      <td>4.0</td>\n",
       "      <td>4.0</td>\n",
       "      <td>4.0</td>\n",
       "      <td>3.0</td>\n",
       "      <td>4.0</td>\n",
       "      <td>5.0</td>\n",
       "      <td>0.0</td>\n",
       "      <td>0.0</td>\n",
       "      <td>satisfied</td>\n",
       "    </tr>\n",
       "    <tr>\n",
       "      <th>2</th>\n",
       "      <td>Male</td>\n",
       "      <td>disloyal Customer</td>\n",
       "      <td>20.0</td>\n",
       "      <td>Business travel</td>\n",
       "      <td>Eco</td>\n",
       "      <td>192.0</td>\n",
       "      <td>2.0</td>\n",
       "      <td>0.0</td>\n",
       "      <td>2.0</td>\n",
       "      <td>4.0</td>\n",
       "      <td>...</td>\n",
       "      <td>2.0</td>\n",
       "      <td>4.0</td>\n",
       "      <td>1.0</td>\n",
       "      <td>3.0</td>\n",
       "      <td>2.0</td>\n",
       "      <td>2.0</td>\n",
       "      <td>2.0</td>\n",
       "      <td>0.0</td>\n",
       "      <td>0.0</td>\n",
       "      <td>neutral or dissatisfied</td>\n",
       "    </tr>\n",
       "    <tr>\n",
       "      <th>3</th>\n",
       "      <td>Male</td>\n",
       "      <td>Loyal Customer</td>\n",
       "      <td>44.0</td>\n",
       "      <td>Business travel</td>\n",
       "      <td>Business</td>\n",
       "      <td>3377.0</td>\n",
       "      <td>0.0</td>\n",
       "      <td>0.0</td>\n",
       "      <td>0.0</td>\n",
       "      <td>2.0</td>\n",
       "      <td>...</td>\n",
       "      <td>1.0</td>\n",
       "      <td>1.0</td>\n",
       "      <td>1.0</td>\n",
       "      <td>1.0</td>\n",
       "      <td>3.0</td>\n",
       "      <td>1.0</td>\n",
       "      <td>4.0</td>\n",
       "      <td>0.0</td>\n",
       "      <td>6.0</td>\n",
       "      <td>satisfied</td>\n",
       "    </tr>\n",
       "    <tr>\n",
       "      <th>4</th>\n",
       "      <td>Female</td>\n",
       "      <td>Loyal Customer</td>\n",
       "      <td>49.0</td>\n",
       "      <td>Business travel</td>\n",
       "      <td>Eco</td>\n",
       "      <td>1182.0</td>\n",
       "      <td>2.0</td>\n",
       "      <td>3.0</td>\n",
       "      <td>4.0</td>\n",
       "      <td>3.0</td>\n",
       "      <td>...</td>\n",
       "      <td>2.0</td>\n",
       "      <td>2.0</td>\n",
       "      <td>2.0</td>\n",
       "      <td>2.0</td>\n",
       "      <td>4.0</td>\n",
       "      <td>2.0</td>\n",
       "      <td>4.0</td>\n",
       "      <td>0.0</td>\n",
       "      <td>20.0</td>\n",
       "      <td>satisfied</td>\n",
       "    </tr>\n",
       "  </tbody>\n",
       "</table>\n",
       "<p>5 rows × 23 columns</p>\n",
       "</div>"
      ],
      "text/plain": [
       "   Gender           Customer   Age   Type_of_Travel     Class  \\\n",
       "0  Female     Loyal Customer  52.0  Business travel       Eco   \n",
       "1  Female     Loyal Customer  36.0  Business travel  Business   \n",
       "2    Male  disloyal Customer  20.0  Business travel       Eco   \n",
       "3    Male     Loyal Customer  44.0  Business travel  Business   \n",
       "4  Female     Loyal Customer  49.0  Business travel       Eco   \n",
       "\n",
       "   Flight Distance  Inflight wifi  Departure/Arrival_time_convenient  \\\n",
       "0            160.0            5.0                                4.0   \n",
       "1           2863.0            1.0                                1.0   \n",
       "2            192.0            2.0                                0.0   \n",
       "3           3377.0            0.0                                0.0   \n",
       "4           1182.0            2.0                                3.0   \n",
       "\n",
       "   Ease_of_Online booking  Gate_location  ...  Inflight entertainment  \\\n",
       "0                     3.0            4.0  ...                     5.0   \n",
       "1                     3.0            1.0  ...                     4.0   \n",
       "2                     2.0            4.0  ...                     2.0   \n",
       "3                     0.0            2.0  ...                     1.0   \n",
       "4                     4.0            3.0  ...                     2.0   \n",
       "\n",
       "   On-board service  Leg room service  Baggage handling  Checkin service  \\\n",
       "0               5.0               5.0               5.0              2.0   \n",
       "1               4.0               4.0               4.0              3.0   \n",
       "2               4.0               1.0               3.0              2.0   \n",
       "3               1.0               1.0               1.0              3.0   \n",
       "4               2.0               2.0               2.0              4.0   \n",
       "\n",
       "   Inflight service  Cleanliness  Departure_Delay_in_Minutes  \\\n",
       "0               5.0          5.0                        50.0   \n",
       "1               4.0          5.0                         0.0   \n",
       "2               2.0          2.0                         0.0   \n",
       "3               1.0          4.0                         0.0   \n",
       "4               2.0          4.0                         0.0   \n",
       "\n",
       "   Arrival_Delay_in_Minutes             satisfaction  \n",
       "0                      44.0                satisfied  \n",
       "1                       0.0                satisfied  \n",
       "2                       0.0  neutral or dissatisfied  \n",
       "3                       6.0                satisfied  \n",
       "4                      20.0                satisfied  \n",
       "\n",
       "[5 rows x 23 columns]"
      ]
     },
     "execution_count": 8,
     "metadata": {},
     "output_type": "execute_result"
    }
   ],
   "source": [
    "# read a table from database into pandas dataframe, replace \"tablename\" with your table name\n",
    "new_test = pd.read_sql_table('test', engine)\n",
    "new_test.head()"
   ]
  },
  {
   "cell_type": "markdown",
   "metadata": {},
   "source": [
    "## Assignment X, y_ train and test dataframes"
   ]
  },
  {
   "cell_type": "code",
   "execution_count": 9,
   "metadata": {
    "colab": {
     "base_uri": "https://localhost:8080/",
     "height": 453
    },
    "id": "zvAScg0BRy36",
    "outputId": "330722f4-af6d-4587-b6e5-ea19ac7df5f2"
   },
   "outputs": [],
   "source": [
    "# Create features for new train\n",
    "X_train = new_train.drop(columns=\"satisfaction\", axis=1)\n",
    "X_test = new_test.drop(columns=\"satisfaction\", axis=1)"
   ]
  },
  {
   "cell_type": "code",
   "execution_count": 10,
   "metadata": {
    "colab": {
     "base_uri": "https://localhost:8080/",
     "height": 453
    },
    "id": "QWWRP2myRy6_",
    "outputId": "7a044cf9-c3e1-4e57-fea9-1a40a6c8482b"
   },
   "outputs": [
    {
     "name": "stdout",
     "output_type": "stream",
     "text": [
      "[0 0 1 ... 0 1 0]\n",
      "[1 1 0 ... 0 1 0]\n"
     ]
    }
   ],
   "source": [
    "#Encode text labels into numerical values\n",
    "from sklearn.preprocessing import LabelEncoder\n",
    "\n",
    "le = LabelEncoder()\n",
    "y_train = le.fit_transform(new_train[\"satisfaction\"])\n",
    "y_test = le.fit_transform(new_test[\"satisfaction\"])\n",
    "# Check the balance of target values\n",
    "\n",
    "print(y_train)\n",
    "print(y_test)"
   ]
  },
  {
   "cell_type": "code",
   "execution_count": 13,
   "metadata": {},
   "outputs": [
    {
     "data": {
      "text/plain": [
       "array(['neutral or dissatisfied', 'satisfied'], dtype=object)"
      ]
     },
     "execution_count": 13,
     "metadata": {},
     "output_type": "execute_result"
    }
   ],
   "source": [
    "le.classes_"
   ]
  },
  {
   "cell_type": "code",
   "execution_count": 11,
   "metadata": {
    "colab": {
     "base_uri": "https://localhost:8080/"
    },
    "id": "HVkkvaCURy91",
    "outputId": "365ad4a5-6456-4e8b-90db-bf826bdb70b0"
   },
   "outputs": [
    {
     "data": {
      "text/plain": [
       "Index(['Gender', 'Customer', 'Age', 'Type_of_Travel', 'Class',\n",
       "       'Flight Distance', 'Inflight wifi', 'Departure/Arrival_time_convenient',\n",
       "       'Ease_of_Online booking', 'Gate_location', 'Food_and_drink',\n",
       "       'Online boarding', 'Seat comfort', 'Inflight entertainment',\n",
       "       'On-board service', 'Leg room service', 'Baggage handling',\n",
       "       'Checkin service', 'Inflight service', 'Cleanliness',\n",
       "       'Departure_Delay_in_Minutes', 'Arrival_Delay_in_Minutes'],\n",
       "      dtype='object')"
      ]
     },
     "execution_count": 11,
     "metadata": {},
     "output_type": "execute_result"
    }
   ],
   "source": [
    "X_test.columns"
   ]
  },
  {
   "cell_type": "markdown",
   "metadata": {},
   "source": [
    "##  Import sklearn's module"
   ]
  },
  {
   "cell_type": "code",
   "execution_count": 12,
   "metadata": {},
   "outputs": [],
   "source": [
    "from sklearn.preprocessing import StandardScaler, OneHotEncoder, OrdinalEncoder\n",
    "from sklearn.pipeline import make_pipeline, Pipeline\n",
    "from sklearn.compose import ColumnTransformer, make_column_transformer, make_column_selector\n",
    "from sklearn.datasets import fetch_openml\n",
    "from sklearn.impute import SimpleImputer\n",
    "#models\n",
    "from sklearn.linear_model import LogisticRegression\n",
    "from sklearn.ensemble import RandomForestClassifier, \n",
    "from sklearn import svm\n",
    "from sklearn.model_selection import train_test_split, GridSearchCV, cross_val_score\n",
    "# Matrix and reports\n",
    "from sklearn.metrics import accuracy_score, confusion_matrix, classification_report, mean_squared_error\n",
    "import time\n",
    "from sklearn.metrics import plot_roc_curve"
   ]
  },
  {
   "cell_type": "markdown",
   "metadata": {},
   "source": [
    "## Setup the pipeline"
   ]
  },
  {
   "cell_type": "code",
   "execution_count": 14,
   "metadata": {},
   "outputs": [],
   "source": [
    "#create the preprocessing pipelines for both numeric and categorical data. \n",
    "# Setup the numerical_features and cartegorical features\n",
    "numeric_features = ['Age', 'Flight Distance', 'Inflight wifi', 'Departure/Arrival_time_convenient',\n",
    "       'Ease_of_Online booking', 'Gate_location', 'Food_and_drink',\n",
    "       'Online boarding', 'Seat comfort', 'Inflight entertainment',\n",
    "       'On-board service', 'Leg room service', 'Baggage handling',\n",
    "       'Checkin service', 'Inflight service', 'Cleanliness',\n",
    "       'Departure_Delay_in_Minutes', 'Arrival_Delay_in_Minutes']\n",
    "\n",
    "categorical_features = ['Gender','Customer', 'Type_of_Travel', 'Class',]"
   ]
  },
  {
   "cell_type": "code",
   "execution_count": 18,
   "metadata": {},
   "outputs": [],
   "source": [
    "# we can use the sklearn.compose, make_column_selector, but it gives an error when using with sqlalchemy\n",
    "# Numeric transforamation by SimpleImputer and StandardScaler\n",
    "numeric_transformer = Pipeline(steps=[ \n",
    "    ('imputer', SimpleImputer(strategy='median')),\n",
    "    ('scaler', StandardScaler())])\n",
    "\n",
    "# Categorical transformation by OneHotEncoder\n",
    "categorical_transformer = OneHotEncoder(handle_unknown='ignore')\n",
    "\n",
    "# Setup the columntransformer using two numeric and categorical transformers\n",
    "processor = ColumnTransformer(transformers=[\n",
    "        ('numerical', numeric_transformer, numeric_features),\n",
    "        ('catategorical', categorical_transformer, categorical_features)])\n",
    "\n",
    "LR_pipe = make_pipeline(processor, LogisticRegression(solver='lbfgs', random_state=1))\n",
    "RF_pipe = make_pipeline(processor, RandomForestClassifier(max_depth=5, n_estimators=20, max_features=10))                  \n",
    "SVM_pipe = make_pipeline(processor, svm.SVC(decision_function_shape='ovr', C=1))"
   ]
  },
  {
   "cell_type": "markdown",
   "metadata": {},
   "source": [
    "## ML model #1 _ LogisticRegression"
   ]
  },
  {
   "cell_type": "code",
   "execution_count": 23,
   "metadata": {},
   "outputs": [
    {
     "data": {
      "text/html": [
       "<div>\n",
       "<style scoped>\n",
       "    .dataframe tbody tr th:only-of-type {\n",
       "        vertical-align: middle;\n",
       "    }\n",
       "\n",
       "    .dataframe tbody tr th {\n",
       "        vertical-align: top;\n",
       "    }\n",
       "\n",
       "    .dataframe thead th {\n",
       "        text-align: right;\n",
       "    }\n",
       "</style>\n",
       "<table border=\"1\" class=\"dataframe\">\n",
       "  <thead>\n",
       "    <tr style=\"text-align: right;\">\n",
       "      <th></th>\n",
       "      <th>Predictions</th>\n",
       "      <th>Actual</th>\n",
       "    </tr>\n",
       "  </thead>\n",
       "  <tbody>\n",
       "    <tr>\n",
       "      <th>0</th>\n",
       "      <td>1</td>\n",
       "      <td>1</td>\n",
       "    </tr>\n",
       "    <tr>\n",
       "      <th>1</th>\n",
       "      <td>1</td>\n",
       "      <td>1</td>\n",
       "    </tr>\n",
       "    <tr>\n",
       "      <th>2</th>\n",
       "      <td>0</td>\n",
       "      <td>0</td>\n",
       "    </tr>\n",
       "    <tr>\n",
       "      <th>3</th>\n",
       "      <td>0</td>\n",
       "      <td>1</td>\n",
       "    </tr>\n",
       "    <tr>\n",
       "      <th>4</th>\n",
       "      <td>0</td>\n",
       "      <td>1</td>\n",
       "    </tr>\n",
       "    <tr>\n",
       "      <th>...</th>\n",
       "      <td>...</td>\n",
       "      <td>...</td>\n",
       "    </tr>\n",
       "    <tr>\n",
       "      <th>25888</th>\n",
       "      <td>0</td>\n",
       "      <td>0</td>\n",
       "    </tr>\n",
       "    <tr>\n",
       "      <th>25889</th>\n",
       "      <td>1</td>\n",
       "      <td>1</td>\n",
       "    </tr>\n",
       "    <tr>\n",
       "      <th>25890</th>\n",
       "      <td>0</td>\n",
       "      <td>0</td>\n",
       "    </tr>\n",
       "    <tr>\n",
       "      <th>25891</th>\n",
       "      <td>1</td>\n",
       "      <td>1</td>\n",
       "    </tr>\n",
       "    <tr>\n",
       "      <th>25892</th>\n",
       "      <td>0</td>\n",
       "      <td>0</td>\n",
       "    </tr>\n",
       "  </tbody>\n",
       "</table>\n",
       "<p>25893 rows × 2 columns</p>\n",
       "</div>"
      ],
      "text/plain": [
       "       Predictions  Actual\n",
       "0                1       1\n",
       "1                1       1\n",
       "2                0       0\n",
       "3                0       1\n",
       "4                0       1\n",
       "...            ...     ...\n",
       "25888            0       0\n",
       "25889            1       1\n",
       "25890            0       0\n",
       "25891            1       1\n",
       "25892            0       0\n",
       "\n",
       "[25893 rows x 2 columns]"
      ]
     },
     "execution_count": 23,
     "metadata": {},
     "output_type": "execute_result"
    }
   ],
   "source": [
    "LR_pipe.fit(X_train, y_train)\n",
    "predictions = LR_pipe.predict(X_test)\n",
    "df =pd.DataFrame({\"Predictions\": predictions, \"Actual\": y_test})\n",
    "df"
   ]
  },
  {
   "cell_type": "code",
   "execution_count": 24,
   "metadata": {},
   "outputs": [
    {
     "name": "stdout",
     "output_type": "stream",
     "text": [
      "Accuracy score: 0.8717027768122658\n",
      "\n",
      "Confusion matrix: \n",
      "\n",
      "[[13104  1424]\n",
      " [ 1898  9467]]\n",
      "\n",
      "Classification_reports: \n",
      "\n",
      "              precision    recall  f1-score   support\n",
      "\n",
      "           0       0.87      0.90      0.89     14528\n",
      "           1       0.87      0.83      0.85     11365\n",
      "\n",
      "    accuracy                           0.87     25893\n",
      "   macro avg       0.87      0.87      0.87     25893\n",
      "weighted avg       0.87      0.87      0.87     25893\n",
      "\n",
      "\n",
      "\n"
     ]
    }
   ],
   "source": [
    "# Print Accuracy, Confusion_Matrix, classification_report\n",
    "# Precision = TP/(TP + FP),  recall (sensitivity) TP/(TP + FN)\n",
    "# F1 = 2(Precision * Sensitivity)/(Precision + Sensitivity\n",
    "print(\"Accuracy score: \" + str(accuracy_score(y_test, predictions)) + \"\\n\")\n",
    "print(\"Confusion matrix: \\n\\n\" + str(confusion_matrix(y_test, predictions))+ \"\\n\")\n",
    "print(\"Classification_reports: \\n\\n\" + str(classification_report(y_test, predictions)) + \"\\n\\n\")"
   ]
  },
  {
   "cell_type": "code",
   "execution_count": 25,
   "metadata": {},
   "outputs": [
    {
     "data": {
      "text/html": [
       "<style>div.sk-top-container {color: black;background-color: white;}div.sk-toggleable {background-color: white;}label.sk-toggleable__label {cursor: pointer;display: block;width: 100%;margin-bottom: 0;padding: 0.2em 0.3em;box-sizing: border-box;text-align: center;}div.sk-toggleable__content {max-height: 0;max-width: 0;overflow: hidden;text-align: left;background-color: #f0f8ff;}div.sk-toggleable__content pre {margin: 0.2em;color: black;border-radius: 0.25em;background-color: #f0f8ff;}input.sk-toggleable__control:checked~div.sk-toggleable__content {max-height: 200px;max-width: 100%;overflow: auto;}div.sk-estimator input.sk-toggleable__control:checked~label.sk-toggleable__label {background-color: #d4ebff;}div.sk-label input.sk-toggleable__control:checked~label.sk-toggleable__label {background-color: #d4ebff;}input.sk-hidden--visually {border: 0;clip: rect(1px 1px 1px 1px);clip: rect(1px, 1px, 1px, 1px);height: 1px;margin: -1px;overflow: hidden;padding: 0;position: absolute;width: 1px;}div.sk-estimator {font-family: monospace;background-color: #f0f8ff;margin: 0.25em 0.25em;border: 1px dotted black;border-radius: 0.25em;box-sizing: border-box;}div.sk-estimator:hover {background-color: #d4ebff;}div.sk-parallel-item::after {content: \"\";width: 100%;border-bottom: 1px solid gray;flex-grow: 1;}div.sk-label:hover label.sk-toggleable__label {background-color: #d4ebff;}div.sk-serial::before {content: \"\";position: absolute;border-left: 1px solid gray;box-sizing: border-box;top: 2em;bottom: 0;left: 50%;}div.sk-serial {display: flex;flex-direction: column;align-items: center;background-color: white;}div.sk-item {z-index: 1;}div.sk-parallel {display: flex;align-items: stretch;justify-content: center;background-color: white;}div.sk-parallel-item {display: flex;flex-direction: column;position: relative;background-color: white;}div.sk-parallel-item:first-child::after {align-self: flex-end;width: 50%;}div.sk-parallel-item:last-child::after {align-self: flex-start;width: 50%;}div.sk-parallel-item:only-child::after {width: 0;}div.sk-dashed-wrapped {border: 1px dashed gray;margin: 0.2em;box-sizing: border-box;padding-bottom: 0.1em;background-color: white;position: relative;}div.sk-label label {font-family: monospace;font-weight: bold;background-color: white;display: inline-block;line-height: 1.2em;}div.sk-label-container {position: relative;z-index: 2;text-align: center;}div.sk-container {display: inline-block;position: relative;}</style><div class=\"sk-top-container\"><div class=\"sk-container\"><div class=\"sk-item sk-dashed-wrapped\"><div class=\"sk-label-container\"><div class=\"sk-label sk-toggleable\"><input class=\"sk-toggleable__control sk-hidden--visually\" id=\"f0b93cea-87dc-4dd8-836f-6837bc6b2433\" type=\"checkbox\" ><label class=\"sk-toggleable__label\" for=\"f0b93cea-87dc-4dd8-836f-6837bc6b2433\">Pipeline</label><div class=\"sk-toggleable__content\"><pre>Pipeline(steps=[('columntransformer',\n",
       "                 ColumnTransformer(transformers=[('numerical',\n",
       "                                                  Pipeline(steps=[('imputer',\n",
       "                                                                   SimpleImputer(strategy='median')),\n",
       "                                                                  ('scaler',\n",
       "                                                                   StandardScaler())]),\n",
       "                                                  ['Age', 'Flight Distance',\n",
       "                                                   'Inflight wifi',\n",
       "                                                   'Departure/Arrival_time_convenient',\n",
       "                                                   'Ease_of_Online booking',\n",
       "                                                   'Gate_location',\n",
       "                                                   'Food_and_drink',\n",
       "                                                   'Online boarding',\n",
       "                                                   'Seat comfort',\n",
       "                                                   'Inflight entertainment',\n",
       "                                                   'On-board service',\n",
       "                                                   'Leg room service',\n",
       "                                                   'Baggage handling',\n",
       "                                                   'Checkin service',\n",
       "                                                   'Inflight service',\n",
       "                                                   'Cleanliness',\n",
       "                                                   'Departure_Delay_in_Minutes',\n",
       "                                                   'Arrival_Delay_in_Minutes']),\n",
       "                                                 ('catategorical',\n",
       "                                                  OneHotEncoder(handle_unknown='ignore'),\n",
       "                                                  ['Gender', 'Customer',\n",
       "                                                   'Type_of_Travel',\n",
       "                                                   'Class'])])),\n",
       "                ('logisticregression', LogisticRegression(random_state=1))])</pre></div></div></div><div class=\"sk-serial\"><div class=\"sk-item sk-dashed-wrapped\"><div class=\"sk-label-container\"><div class=\"sk-label sk-toggleable\"><input class=\"sk-toggleable__control sk-hidden--visually\" id=\"35c10ebe-5397-4731-97af-7a27cbe0be36\" type=\"checkbox\" ><label class=\"sk-toggleable__label\" for=\"35c10ebe-5397-4731-97af-7a27cbe0be36\">columntransformer: ColumnTransformer</label><div class=\"sk-toggleable__content\"><pre>ColumnTransformer(transformers=[('numerical',\n",
       "                                 Pipeline(steps=[('imputer',\n",
       "                                                  SimpleImputer(strategy='median')),\n",
       "                                                 ('scaler', StandardScaler())]),\n",
       "                                 ['Age', 'Flight Distance', 'Inflight wifi',\n",
       "                                  'Departure/Arrival_time_convenient',\n",
       "                                  'Ease_of_Online booking', 'Gate_location',\n",
       "                                  'Food_and_drink', 'Online boarding',\n",
       "                                  'Seat comfort', 'Inflight entertainment',\n",
       "                                  'On-board service', 'Leg room service',\n",
       "                                  'Baggage handling', 'Checkin service',\n",
       "                                  'Inflight service', 'Cleanliness',\n",
       "                                  'Departure_Delay_in_Minutes',\n",
       "                                  'Arrival_Delay_in_Minutes']),\n",
       "                                ('catategorical',\n",
       "                                 OneHotEncoder(handle_unknown='ignore'),\n",
       "                                 ['Gender', 'Customer', 'Type_of_Travel',\n",
       "                                  'Class'])])</pre></div></div></div><div class=\"sk-parallel\"><div class=\"sk-parallel-item\"><div class=\"sk-item\"><div class=\"sk-label-container\"><div class=\"sk-label sk-toggleable\"><input class=\"sk-toggleable__control sk-hidden--visually\" id=\"b5a0c9fa-670d-4d63-a23f-1eb3cbf116f4\" type=\"checkbox\" ><label class=\"sk-toggleable__label\" for=\"b5a0c9fa-670d-4d63-a23f-1eb3cbf116f4\">numerical</label><div class=\"sk-toggleable__content\"><pre>['Age', 'Flight Distance', 'Inflight wifi', 'Departure/Arrival_time_convenient', 'Ease_of_Online booking', 'Gate_location', 'Food_and_drink', 'Online boarding', 'Seat comfort', 'Inflight entertainment', 'On-board service', 'Leg room service', 'Baggage handling', 'Checkin service', 'Inflight service', 'Cleanliness', 'Departure_Delay_in_Minutes', 'Arrival_Delay_in_Minutes']</pre></div></div></div><div class=\"sk-serial\"><div class=\"sk-item\"><div class=\"sk-serial\"><div class=\"sk-item\"><div class=\"sk-estimator sk-toggleable\"><input class=\"sk-toggleable__control sk-hidden--visually\" id=\"594b6e23-4cb0-4896-96b5-12b7725ed409\" type=\"checkbox\" ><label class=\"sk-toggleable__label\" for=\"594b6e23-4cb0-4896-96b5-12b7725ed409\">SimpleImputer</label><div class=\"sk-toggleable__content\"><pre>SimpleImputer(strategy='median')</pre></div></div></div><div class=\"sk-item\"><div class=\"sk-estimator sk-toggleable\"><input class=\"sk-toggleable__control sk-hidden--visually\" id=\"399448f1-ba96-4ed6-b9bd-34d26092e49d\" type=\"checkbox\" ><label class=\"sk-toggleable__label\" for=\"399448f1-ba96-4ed6-b9bd-34d26092e49d\">StandardScaler</label><div class=\"sk-toggleable__content\"><pre>StandardScaler()</pre></div></div></div></div></div></div></div></div><div class=\"sk-parallel-item\"><div class=\"sk-item\"><div class=\"sk-label-container\"><div class=\"sk-label sk-toggleable\"><input class=\"sk-toggleable__control sk-hidden--visually\" id=\"6f3c1afc-c359-4eee-acf1-bb85c5c22f79\" type=\"checkbox\" ><label class=\"sk-toggleable__label\" for=\"6f3c1afc-c359-4eee-acf1-bb85c5c22f79\">catategorical</label><div class=\"sk-toggleable__content\"><pre>['Gender', 'Customer', 'Type_of_Travel', 'Class']</pre></div></div></div><div class=\"sk-serial\"><div class=\"sk-item\"><div class=\"sk-estimator sk-toggleable\"><input class=\"sk-toggleable__control sk-hidden--visually\" id=\"282b39c3-0ef4-4a22-9cb1-281aa1d67426\" type=\"checkbox\" ><label class=\"sk-toggleable__label\" for=\"282b39c3-0ef4-4a22-9cb1-281aa1d67426\">OneHotEncoder</label><div class=\"sk-toggleable__content\"><pre>OneHotEncoder(handle_unknown='ignore')</pre></div></div></div></div></div></div></div></div><div class=\"sk-item\"><div class=\"sk-estimator sk-toggleable\"><input class=\"sk-toggleable__control sk-hidden--visually\" id=\"3a19362b-8fef-45c0-907f-51e4516823f2\" type=\"checkbox\" ><label class=\"sk-toggleable__label\" for=\"3a19362b-8fef-45c0-907f-51e4516823f2\">LogisticRegression</label><div class=\"sk-toggleable__content\"><pre>LogisticRegression(random_state=1)</pre></div></div></div></div></div></div></div>"
      ],
      "text/plain": [
       "Pipeline(steps=[('columntransformer',\n",
       "                 ColumnTransformer(transformers=[('numerical',\n",
       "                                                  Pipeline(steps=[('imputer',\n",
       "                                                                   SimpleImputer(strategy='median')),\n",
       "                                                                  ('scaler',\n",
       "                                                                   StandardScaler())]),\n",
       "                                                  ['Age', 'Flight Distance',\n",
       "                                                   'Inflight wifi',\n",
       "                                                   'Departure/Arrival_time_convenient',\n",
       "                                                   'Ease_of_Online booking',\n",
       "                                                   'Gate_location',\n",
       "                                                   'Food_and_drink',\n",
       "                                                   'Online boarding',\n",
       "                                                   'Seat comfort',\n",
       "                                                   'Inflight entertainment',\n",
       "                                                   'On-board service',\n",
       "                                                   'Leg room service',\n",
       "                                                   'Baggage handling',\n",
       "                                                   'Checkin service',\n",
       "                                                   'Inflight service',\n",
       "                                                   'Cleanliness',\n",
       "                                                   'Departure_Delay_in_Minutes',\n",
       "                                                   'Arrival_Delay_in_Minutes']),\n",
       "                                                 ('catategorical',\n",
       "                                                  OneHotEncoder(handle_unknown='ignore'),\n",
       "                                                  ['Gender', 'Customer',\n",
       "                                                   'Type_of_Travel',\n",
       "                                                   'Class'])])),\n",
       "                ('logisticregression', LogisticRegression(random_state=1))])"
      ]
     },
     "execution_count": 25,
     "metadata": {},
     "output_type": "execute_result"
    }
   ],
   "source": [
    "from sklearn import set_config\n",
    "set_config(display = 'diagram')\n",
    "LR_pipe"
   ]
  },
  {
   "cell_type": "code",
   "execution_count": 26,
   "metadata": {},
   "outputs": [
    {
     "name": "stdout",
     "output_type": "stream",
     "text": [
      "LogisticRegression\n"
     ]
    },
    {
     "data": {
      "image/png": "[encoded data removed]",
      "text/plain": [
       "<Figure size 432x288 with 2 Axes>"
      ]
     },
     "metadata": {
      "needs_background": "light"
     },
     "output_type": "display_data"
    }
   ],
   "source": [
    "# plot for confusion matrix\n",
    "from sklearn.metrics import plot_confusion_matrix\n",
    "import matplotlib.pyplot as plt\n",
    "print(\"LogisticRegression\")\n",
    "plot_confusion_matrix(LR_pipe, X_test, y_test,cmap=\"Blues\",values_format=\"d\",display_labels=[\"neutral or dissatisfied\", \"satisfied\"])\n",
    "plt.title(\"Confusion Matrix\", fontsize=20)\n",
    "plt.grid(b=False)\n",
    "plt.show()"
   ]
  },
  {
   "cell_type": "code",
   "execution_count": 27,
   "metadata": {},
   "outputs": [
    {
     "data": {
      "text/plain": [
       "<Figure size 432x432 with 0 Axes>"
      ]
     },
     "metadata": {},
     "output_type": "display_data"
    },
    {
     "data": {
      "image/png": "[encoded data removed]",
      "text/plain": [
       "<Figure size 432x288 with 1 Axes>"
      ]
     },
     "metadata": {
      "needs_background": "light"
     },
     "output_type": "display_data"
    }
   ],
   "source": [
    "# plot receiver operating characteristic (ROC) curve \n",
    "# The ROC curve is created by plotting the true positive rate (TPR) against the false positive rate (FPR) \n",
    "# at various threshold settings. \n",
    "\n",
    "from sklearn import datasets, metrics, model_selection\n",
    "from sklearn.metrics import plot_roc_curve\n",
    "\n",
    "\n",
    "fig = plt.figure(figsize=(6, 6))\n",
    "\n",
    "lr_roc = plot_roc_curve(LR_pipe, X_test, y_test)\n",
    "\n",
    "plt.title('LogisticRegression')\n",
    "plt.grid(True)\n",
    "plt.legend()\n",
    "plt.show()"
   ]
  },
  {
   "cell_type": "markdown",
   "metadata": {},
   "source": [
    "# For loop for three ML models \n",
    "LogisticRegression, RandomForestClassifier, decision_function_shape"
   ]
  },
  {
   "cell_type": "code",
   "execution_count": null,
   "metadata": {},
   "outputs": [
    {
     "name": "stdout",
     "output_type": "stream",
     "text": [
      "Log_Reg Model \n",
      "\n",
      "Accuracy score: 0.8717027768122658\n",
      "\n",
      "Confusion matrix: \n",
      "\n",
      "[[13104  1424]\n",
      " [ 1898  9467]]\n",
      "\n",
      "Classification_reports: \n",
      "\n",
      "              precision    recall  f1-score   support\n",
      "\n",
      "           0       0.87      0.90      0.89     14528\n",
      "           1       0.87      0.83      0.85     11365\n",
      "\n",
      "    accuracy                           0.87     25893\n",
      "   macro avg       0.87      0.87      0.87     25893\n",
      "weighted avg       0.87      0.87      0.87     25893\n",
      "\n",
      "\n",
      "\n",
      "\n",
      "Ran_For Model \n",
      "\n",
      "Accuracy score: 0.9301355578727841\n",
      "\n",
      "Confusion matrix: \n",
      "\n",
      "[[13645   883]\n",
      " [  926 10439]]\n",
      "\n",
      "Classification_reports: \n",
      "\n",
      "              precision    recall  f1-score   support\n",
      "\n",
      "           0       0.94      0.94      0.94     14528\n",
      "           1       0.92      0.92      0.92     11365\n",
      "\n",
      "    accuracy                           0.93     25893\n",
      "   macro avg       0.93      0.93      0.93     25893\n",
      "weighted avg       0.93      0.93      0.93     25893\n",
      "\n",
      "\n",
      "\n",
      "\n"
     ]
    }
   ],
   "source": [
    "# For-loop for running three models\n",
    "for clf, label in zip([LR_pipe, RF_pipe, SVM_pipe], ['Log_Reg', 'Ran_For', 'SVM' ]):\n",
    "    clf.fit(X_train, y_train)\n",
    "    predictions = clf.predict(X_test)\n",
    "    print (label+\" Model \\n\")\n",
    "    print(\"Accuracy score: \" + str(accuracy_score(y_test, predictions)) + \"\\n\")\n",
    "    print(\"Confusion matrix: \\n\\n\" + str(confusion_matrix(y_test, predictions))+ \"\\n\")\n",
    "    print(\"Classification_reports: \\n\\n\" + str(classification_report(y_test, predictions)) + \"\\n\\n\\n\")"
   ]
  },
  {
   "cell_type": "code",
   "execution_count": null,
   "metadata": {},
   "outputs": [],
   "source": [
    "# plot confusion matrix\n",
    "from sklearn.metrics import plot_confusion_matrix\n",
    "\n",
    "fig, [ax_lrcm, ax_rfcm, ax_svmcm] = plt.subplots(1, 3, figsize=(15, 5))\n",
    "plot_confusion_matrix(LR_pipe, X_test, y_test,cmap=\"Blues\",values_format=\"d\", ax=ax_lrcm)\n",
    "plot_confusion_matrix(RF_pipe, X_test, y_test,cmap=\"Blues\",values_format=\"d\", ax=ax_rfcm)\n",
    "plot_confusion_matrix(SVM_pipe, X_test, y_test,cmap=\"Blues\",values_format=\"d\", ax=ax_svmcm)\n",
    "\n",
    "ax_lrcm.set_title('LogisticRegression \\n Confusion matrix')\n",
    "ax_rfcm.set_title('RandomForestlassifier \\n Confusion matrix')\n",
    "ax_svmcm.set_title('SupportVectorMachine \\n Confusion matrix')\n",
    "\n",
    "ax_lrcm.set_xlabel(\"Predicted Label (satisfied label:1)\")\n",
    "ax_lrcm.set_ylabel(\"True Label (satisfied label:1)\")\n",
    "ax_rfcm.set_xlabel(\"Predicted Label (satisfied label:1)\")\n",
    "ax_rfcm.set_ylabel(\"True Label (satisfied label:1)\")\n",
    "ax_svmcm.set_xlabel(\"Predicted Label (satisfied label:1)\")\n",
    "ax_svmcm.set_ylabel(\"True Label (satisfied label:1)\")\n",
    "plt.show()"
   ]
  },
  {
   "cell_type": "code",
   "execution_count": null,
   "metadata": {},
   "outputs": [],
   "source": [
    "# ROC curves\n",
    "LR_roc = plot_roc_curve(LR_pipe, X_test, y_test)\n",
    "RF_roc =plot_roc_curve(RF_pipe, X_test, y_test, ax=LR_roc.ax_)\n",
    "SVM_roc = plot_roc_curve(SVM_pipe, X_test, y_test, ax=LR_roc.ax_)\n",
    "SVM_roc.figure_.suptitle(\"ROC curve comparison\")\n",
    "plt.plot([0, 1], [0, 1], color='navy', linestyle='--')\n",
    "plt.gcf().set_size_inches(6, 5)\n",
    "plt.legend(loc=\"lower right\")\n",
    "plt.grid(True)\n",
    "plt.show()"
   ]
  },
  {
   "cell_type": "code",
   "execution_count": null,
   "metadata": {},
   "outputs": [],
   "source": []
  },
  {
   "cell_type": "code",
   "execution_count": null,
   "metadata": {},
   "outputs": [],
   "source": []
  },
  {
   "cell_type": "code",
   "execution_count": null,
   "metadata": {},
   "outputs": [],
   "source": []
  },
  {
   "cell_type": "code",
   "execution_count": null,
   "metadata": {},
   "outputs": [],
   "source": []
  },
  {
   "cell_type": "code",
   "execution_count": null,
   "metadata": {},
   "outputs": [],
   "source": []
  },
  {
   "cell_type": "code",
   "execution_count": null,
   "metadata": {},
   "outputs": [],
   "source": []
  },
  {
   "cell_type": "code",
   "execution_count": null,
   "metadata": {},
   "outputs": [],
   "source": []
  },
  {
   "cell_type": "code",
   "execution_count": null,
   "metadata": {},
   "outputs": [],
   "source": []
  },
  {
   "cell_type": "code",
   "execution_count": null,
   "metadata": {},
   "outputs": [],
   "source": []
  },
  {
   "cell_type": "code",
   "execution_count": null,
   "metadata": {},
   "outputs": [],
   "source": []
  },
  {
   "cell_type": "code",
   "execution_count": 24,
   "metadata": {
    "colab": {
     "base_uri": "https://localhost:8080/"
    },
    "id": "o0WnwQdRXvEU",
    "outputId": "00613d45-21ef-44fe-faee-7d6ca4955067"
   },
   "outputs": [
    {
     "data": {
      "text/plain": [
       "LogisticRegression(C=1.0, class_weight=None, dual=False, fit_intercept=True,\n",
       "                   intercept_scaling=1, l1_ratio=None, max_iter=100,\n",
       "                   multi_class='auto', n_jobs=None, penalty='l2',\n",
       "                   random_state=1, solver='lbfgs', tol=0.0001, verbose=0,\n",
       "                   warm_start=False)"
      ]
     },
     "execution_count": 24,
     "metadata": {
      "tags": []
     },
     "output_type": "execute_result"
    }
   ],
   "source": [
    "from sklearn.linear_model import LogisticRegression\n",
    "classifier = LogisticRegression(solver='lbfgs', random_state=1)\n",
    "classifier"
   ]
  },
  {
   "cell_type": "code",
   "execution_count": 25,
   "metadata": {
    "colab": {
     "base_uri": "https://localhost:8080/"
    },
    "id": "8kz8cegOXvG4",
    "outputId": "8ca1ad0b-e220-4487-89b4-6b1ab3fdd4dc"
   },
   "outputs": [
    {
     "data": {
      "text/plain": [
       "LogisticRegression(C=1.0, class_weight=None, dual=False, fit_intercept=True,\n",
       "                   intercept_scaling=1, l1_ratio=None, max_iter=100,\n",
       "                   multi_class='auto', n_jobs=None, penalty='l2',\n",
       "                   random_state=1, solver='lbfgs', tol=0.0001, verbose=0,\n",
       "                   warm_start=False)"
      ]
     },
     "execution_count": 25,
     "metadata": {
      "tags": []
     },
     "output_type": "execute_result"
    }
   ],
   "source": [
    "# Train the data\n",
    "classifier.fit(X_train, y_train)\n",
    "#print(y_encoded)\n",
    "#new_train.dtypes\n"
   ]
  },
  {
   "cell_type": "code",
   "execution_count": 26,
   "metadata": {
    "colab": {
     "base_uri": "https://localhost:8080/",
     "height": 399
    },
    "id": "FS5832Ud1Wmi",
    "outputId": "380447ab-644b-496b-cdbb-8780b8813c97"
   },
   "outputs": [
    {
     "data": {
      "text/html": [
       "<div>\n",
       "<style scoped>\n",
       "    .dataframe tbody tr th:only-of-type {\n",
       "        vertical-align: middle;\n",
       "    }\n",
       "\n",
       "    .dataframe tbody tr th {\n",
       "        vertical-align: top;\n",
       "    }\n",
       "\n",
       "    .dataframe thead th {\n",
       "        text-align: right;\n",
       "    }\n",
       "</style>\n",
       "<table border=\"1\" class=\"dataframe\">\n",
       "  <thead>\n",
       "    <tr style=\"text-align: right;\">\n",
       "      <th></th>\n",
       "      <th>Prediction</th>\n",
       "      <th>Actual</th>\n",
       "    </tr>\n",
       "  </thead>\n",
       "  <tbody>\n",
       "    <tr>\n",
       "      <th>0</th>\n",
       "      <td>0</td>\n",
       "      <td>1</td>\n",
       "    </tr>\n",
       "    <tr>\n",
       "      <th>1</th>\n",
       "      <td>1</td>\n",
       "      <td>1</td>\n",
       "    </tr>\n",
       "    <tr>\n",
       "      <th>2</th>\n",
       "      <td>0</td>\n",
       "      <td>0</td>\n",
       "    </tr>\n",
       "    <tr>\n",
       "      <th>3</th>\n",
       "      <td>1</td>\n",
       "      <td>1</td>\n",
       "    </tr>\n",
       "    <tr>\n",
       "      <th>4</th>\n",
       "      <td>0</td>\n",
       "      <td>1</td>\n",
       "    </tr>\n",
       "    <tr>\n",
       "      <th>...</th>\n",
       "      <td>...</td>\n",
       "      <td>...</td>\n",
       "    </tr>\n",
       "    <tr>\n",
       "      <th>25888</th>\n",
       "      <td>1</td>\n",
       "      <td>0</td>\n",
       "    </tr>\n",
       "    <tr>\n",
       "      <th>25889</th>\n",
       "      <td>1</td>\n",
       "      <td>1</td>\n",
       "    </tr>\n",
       "    <tr>\n",
       "      <th>25890</th>\n",
       "      <td>0</td>\n",
       "      <td>0</td>\n",
       "    </tr>\n",
       "    <tr>\n",
       "      <th>25891</th>\n",
       "      <td>1</td>\n",
       "      <td>1</td>\n",
       "    </tr>\n",
       "    <tr>\n",
       "      <th>25892</th>\n",
       "      <td>0</td>\n",
       "      <td>0</td>\n",
       "    </tr>\n",
       "  </tbody>\n",
       "</table>\n",
       "<p>25893 rows × 2 columns</p>\n",
       "</div>"
      ],
      "text/plain": [
       "       Prediction  Actual\n",
       "0               0       1\n",
       "1               1       1\n",
       "2               0       0\n",
       "3               1       1\n",
       "4               0       1\n",
       "...           ...     ...\n",
       "25888           1       0\n",
       "25889           1       1\n",
       "25890           0       0\n",
       "25891           1       1\n",
       "25892           0       0\n",
       "\n",
       "[25893 rows x 2 columns]"
      ]
     },
     "execution_count": 26,
     "metadata": {
      "tags": []
     },
     "output_type": "execute_result"
    }
   ],
   "source": [
    "# Predict outcomes for train data set\n",
    "predictions = classifier.predict(X_test)\n",
    "df =pd.DataFrame({\"Prediction\": predictions, \"Actual\": y_test})\n",
    "df\n"
   ]
  },
  {
   "cell_type": "code",
   "execution_count": 27,
   "metadata": {
    "colab": {
     "base_uri": "https://localhost:8080/"
    },
    "id": "x_WLrs8hRzJL",
    "outputId": "a5c0f1f1-8518-45c7-c88d-7d0d9a4304d4"
   },
   "outputs": [
    {
     "data": {
      "text/plain": [
       "0.7743019348858765"
      ]
     },
     "execution_count": 27,
     "metadata": {
      "tags": []
     },
     "output_type": "execute_result"
    }
   ],
   "source": [
    "from sklearn.metrics import accuracy_score\n",
    "accuracy_score(y_test, predictions)"
   ]
  },
  {
   "cell_type": "code",
   "execution_count": 28,
   "metadata": {
    "colab": {
     "base_uri": "https://localhost:8080/"
    },
    "id": "ysrLYgk44xut",
    "outputId": "f0e11a2f-68de-4801-e452-a5683c2ae027"
   },
   "outputs": [
    {
     "data": {
      "text/plain": [
       "0    14528\n",
       "1    11365\n",
       "Name: Actual, dtype: int64"
      ]
     },
     "execution_count": 28,
     "metadata": {
      "tags": []
     },
     "output_type": "execute_result"
    }
   ],
   "source": [
    "df[\"Actual\"].value_counts()"
   ]
  },
  {
   "cell_type": "code",
   "execution_count": 29,
   "metadata": {
    "colab": {
     "base_uri": "https://localhost:8080/"
    },
    "id": "3suRvVMU_DDk",
    "outputId": "b7af84f5-269d-4d71-9884-a59da6ef999e"
   },
   "outputs": [
    {
     "name": "stdout",
     "output_type": "stream",
     "text": [
      "[[11531  2997]\n",
      " [ 2847  8518]]\n"
     ]
    }
   ],
   "source": [
    "# import the confusion_matrix, which is the table of \n",
    "# true positives, false positives, true negatives, and false negatives.\n",
    "\n",
    "from sklearn.metrics import confusion_matrix\n",
    "c_matrix =confusion_matrix(y_test, predictions)\n",
    "print(c_matrix)"
   ]
  },
  {
   "cell_type": "code",
   "execution_count": 30,
   "metadata": {
    "colab": {
     "base_uri": "https://localhost:8080/"
    },
    "id": "3yIYlUzE6Doc",
    "outputId": "4cf1c66c-f704-41f9-ea27-74d90f87ab2f"
   },
   "outputs": [
    {
     "name": "stdout",
     "output_type": "stream",
     "text": [
      "              precision    recall  f1-score   support\n",
      "\n",
      "           0       0.80      0.79      0.80     14528\n",
      "           1       0.74      0.75      0.74     11365\n",
      "\n",
      "    accuracy                           0.77     25893\n",
      "   macro avg       0.77      0.77      0.77     25893\n",
      "weighted avg       0.77      0.77      0.77     25893\n",
      "\n"
     ]
    }
   ],
   "source": [
    "# Scikitlearn's classification_report calculates the metrics of the model\n",
    "# Precision = TP/(TP + FP),  recall (sensitivity) TP/(TP + FN)\n",
    "# F1 = 2(Precision * Sensitivity)/(Precision + Sensitivity)\n",
    "from sklearn.metrics import classification_report\n",
    "report = classification_report(y_test, predictions)\n",
    "print(report)"
   ]
  },
  {
   "cell_type": "code",
   "execution_count": 31,
   "metadata": {
    "colab": {
     "base_uri": "https://localhost:8080/",
     "height": 318
    },
    "id": "SGQcgCoG6Doc",
    "outputId": "6a81acc3-1e97-4bfe-b190-01249669d598"
   },
   "outputs": [
    {
     "name": "stdout",
     "output_type": "stream",
     "text": [
      "LogisticRegression\n"
     ]
    },
    {
     "data": {
      "image/png": "[encoded data removed]",
      "text/plain": [
       "<Figure size 432x288 with 2 Axes>"
      ]
     },
     "metadata": {
      "needs_background": "light",
      "tags": []
     },
     "output_type": "display_data"
    }
   ],
   "source": [
    "# plot for confusion matrix\n",
    "from sklearn.metrics import plot_confusion_matrix\n",
    "import matplotlib.pyplot as plt\n",
    "print(\"LogisticRegression\")\n",
    "plot_confusion_matrix(classifier, X_test, y_test,cmap=\"Blues\",values_format=\"d\",display_labels=[\"neutral or dissatisfied\", \"satisfied\"])\n",
    "plt.title(\"Confusion Matrix\", fontsize=20)\n",
    "plt.grid(b=False)\n",
    "plt.show()"
   ]
  },
  {
   "cell_type": "code",
   "execution_count": 32,
   "metadata": {
    "colab": {
     "base_uri": "https://localhost:8080/",
     "height": 313
    },
    "id": "fmRCUcKj6Dod",
    "outputId": "ece18098-41c1-494e-8420-aedc1b7d3c20"
   },
   "outputs": [
    {
     "data": {
      "text/plain": [
       "<Figure size 432x432 with 0 Axes>"
      ]
     },
     "metadata": {
      "tags": []
     },
     "output_type": "display_data"
    },
    {
     "data": {
      "image/png": "[encoded data removed]",
      "text/plain": [
       "<Figure size 432x288 with 1 Axes>"
      ]
     },
     "metadata": {
      "needs_background": "light",
      "tags": []
     },
     "output_type": "display_data"
    }
   ],
   "source": [
    "# plot receiver operating characteristic (ROC) curve and detection error tradeoff (DET) curves\n",
    "# A ROC curve is a graphical plot that illustrates the diagnostic ability of a binary classifier system \n",
    "# as its discrimination threshold is varied. \n",
    "# The ROC curve is created by plotting the true positive rate (TPR) against the false positive rate (FPR) \n",
    "# at various threshold settings. The true-positive rate is also known as sensitivity, recall.\n",
    "\n",
    "from sklearn import datasets, metrics, model_selection\n",
    "from sklearn.metrics import plot_roc_curve\n",
    "\n",
    "\n",
    "fig = plt.figure(figsize=(6, 6))\n",
    "\n",
    "lr_roc = plot_roc_curve(classifier, X_test, y_test)\n",
    "\n",
    "plt.title('LogisticRegression')\n",
    "plt.grid(True)\n",
    "plt.legend()\n",
    "plt.show()"
   ]
  },
  {
   "cell_type": "code",
   "execution_count": 33,
   "metadata": {
    "id": "v3ryIqqk6Doe"
   },
   "outputs": [],
   "source": [
    "from sklearn.ensemble import RandomForestClassifier\n",
    "from sklearn.pipeline import make_pipeline\n",
    "from sklearn.preprocessing import StandardScaler\n",
    "from sklearn.svm import LinearSVC\n",
    "\n"
   ]
  },
  {
   "cell_type": "code",
   "execution_count": 34,
   "metadata": {
    "colab": {
     "base_uri": "https://localhost:8080/"
    },
    "id": "pc3ECeVhTzly",
    "outputId": "97bf1641-dcc6-488b-ca5b-9a59dc3dbfff"
   },
   "outputs": [
    {
     "data": {
      "text/plain": [
       "RandomForestClassifier(bootstrap=True, ccp_alpha=0.0, class_weight=None,\n",
       "                       criterion='gini', max_depth=5, max_features=1,\n",
       "                       max_leaf_nodes=None, max_samples=None,\n",
       "                       min_impurity_decrease=0.0, min_impurity_split=None,\n",
       "                       min_samples_leaf=1, min_samples_split=2,\n",
       "                       min_weight_fraction_leaf=0.0, n_estimators=10,\n",
       "                       n_jobs=None, oob_score=False, random_state=None,\n",
       "                       verbose=0, warm_start=False)"
      ]
     },
     "execution_count": 34,
     "metadata": {
      "tags": []
     },
     "output_type": "execute_result"
    }
   ],
   "source": [
    "RFClassifier = RandomForestClassifier(max_depth=5, n_estimators=10,max_features=1)\n",
    "RFClassifier"
   ]
  },
  {
   "cell_type": "code",
   "execution_count": 35,
   "metadata": {
    "colab": {
     "base_uri": "https://localhost:8080/"
    },
    "id": "NcKnTxOqTzpl",
    "outputId": "0cfee3e3-3ad1-4c48-d2f8-455f737276b5"
   },
   "outputs": [
    {
     "data": {
      "text/plain": [
       "RandomForestClassifier(bootstrap=True, ccp_alpha=0.0, class_weight=None,\n",
       "                       criterion='gini', max_depth=5, max_features=1,\n",
       "                       max_leaf_nodes=None, max_samples=None,\n",
       "                       min_impurity_decrease=0.0, min_impurity_split=None,\n",
       "                       min_samples_leaf=1, min_samples_split=2,\n",
       "                       min_weight_fraction_leaf=0.0, n_estimators=10,\n",
       "                       n_jobs=None, oob_score=False, random_state=None,\n",
       "                       verbose=0, warm_start=False)"
      ]
     },
     "execution_count": 35,
     "metadata": {
      "tags": []
     },
     "output_type": "execute_result"
    }
   ],
   "source": [
    "RFClassifier.fit(X_train, y_train)"
   ]
  },
  {
   "cell_type": "code",
   "execution_count": 36,
   "metadata": {
    "colab": {
     "base_uri": "https://localhost:8080/",
     "height": 399
    },
    "id": "Nw0CUwlL-AUV",
    "outputId": "429f9158-388d-4ced-ef43-39f0900df876"
   },
   "outputs": [
    {
     "data": {
      "text/html": [
       "<div>\n",
       "<style scoped>\n",
       "    .dataframe tbody tr th:only-of-type {\n",
       "        vertical-align: middle;\n",
       "    }\n",
       "\n",
       "    .dataframe tbody tr th {\n",
       "        vertical-align: top;\n",
       "    }\n",
       "\n",
       "    .dataframe thead th {\n",
       "        text-align: right;\n",
       "    }\n",
       "</style>\n",
       "<table border=\"1\" class=\"dataframe\">\n",
       "  <thead>\n",
       "    <tr style=\"text-align: right;\">\n",
       "      <th></th>\n",
       "      <th>Prediction</th>\n",
       "      <th>Actual</th>\n",
       "    </tr>\n",
       "  </thead>\n",
       "  <tbody>\n",
       "    <tr>\n",
       "      <th>0</th>\n",
       "      <td>1</td>\n",
       "      <td>1</td>\n",
       "    </tr>\n",
       "    <tr>\n",
       "      <th>1</th>\n",
       "      <td>1</td>\n",
       "      <td>1</td>\n",
       "    </tr>\n",
       "    <tr>\n",
       "      <th>2</th>\n",
       "      <td>0</td>\n",
       "      <td>0</td>\n",
       "    </tr>\n",
       "    <tr>\n",
       "      <th>3</th>\n",
       "      <td>1</td>\n",
       "      <td>1</td>\n",
       "    </tr>\n",
       "    <tr>\n",
       "      <th>4</th>\n",
       "      <td>0</td>\n",
       "      <td>1</td>\n",
       "    </tr>\n",
       "    <tr>\n",
       "      <th>...</th>\n",
       "      <td>...</td>\n",
       "      <td>...</td>\n",
       "    </tr>\n",
       "    <tr>\n",
       "      <th>25888</th>\n",
       "      <td>0</td>\n",
       "      <td>0</td>\n",
       "    </tr>\n",
       "    <tr>\n",
       "      <th>25889</th>\n",
       "      <td>1</td>\n",
       "      <td>1</td>\n",
       "    </tr>\n",
       "    <tr>\n",
       "      <th>25890</th>\n",
       "      <td>0</td>\n",
       "      <td>0</td>\n",
       "    </tr>\n",
       "    <tr>\n",
       "      <th>25891</th>\n",
       "      <td>1</td>\n",
       "      <td>1</td>\n",
       "    </tr>\n",
       "    <tr>\n",
       "      <th>25892</th>\n",
       "      <td>0</td>\n",
       "      <td>0</td>\n",
       "    </tr>\n",
       "  </tbody>\n",
       "</table>\n",
       "<p>25893 rows × 2 columns</p>\n",
       "</div>"
      ],
      "text/plain": [
       "       Prediction  Actual\n",
       "0               1       1\n",
       "1               1       1\n",
       "2               0       0\n",
       "3               1       1\n",
       "4               0       1\n",
       "...           ...     ...\n",
       "25888           0       0\n",
       "25889           1       1\n",
       "25890           0       0\n",
       "25891           1       1\n",
       "25892           0       0\n",
       "\n",
       "[25893 rows x 2 columns]"
      ]
     },
     "execution_count": 36,
     "metadata": {
      "tags": []
     },
     "output_type": "execute_result"
    }
   ],
   "source": [
    "rf_predictions = RFClassifier.predict(X_test)\n",
    "rf_df =pd.DataFrame({\"Prediction\": rf_predictions, \"Actual\": y_test})\n",
    "rf_df"
   ]
  },
  {
   "cell_type": "code",
   "execution_count": 37,
   "metadata": {
    "colab": {
     "base_uri": "https://localhost:8080/"
    },
    "id": "UjVjnGLU-Uvc",
    "outputId": "8db837ba-a7bb-40fe-f2e5-8ba2ec71dff8"
   },
   "outputs": [
    {
     "data": {
      "text/plain": [
       "0.8796972154636388"
      ]
     },
     "execution_count": 37,
     "metadata": {
      "tags": []
     },
     "output_type": "execute_result"
    }
   ],
   "source": [
    "from sklearn.metrics import accuracy_score\n",
    "accuracy_score(y_test, rf_predictions)"
   ]
  },
  {
   "cell_type": "code",
   "execution_count": 38,
   "metadata": {
    "colab": {
     "base_uri": "https://localhost:8080/"
    },
    "id": "zYnV_AwM-eey",
    "outputId": "0665d22c-b37c-4bfc-dc5d-8666580db95f"
   },
   "outputs": [
    {
     "name": "stdout",
     "output_type": "stream",
     "text": [
      "[[13678   850]\n",
      " [ 2265  9100]]\n"
     ]
    }
   ],
   "source": [
    "# import the confusion_matrix, which is the table of \n",
    "# true positives, false positives, true negatives, and false negatives.\n",
    "\n",
    "from sklearn.metrics import confusion_matrix\n",
    "rf_c_matrix =confusion_matrix(y_test, rf_predictions)\n",
    "print(rf_c_matrix)"
   ]
  },
  {
   "cell_type": "code",
   "execution_count": 39,
   "metadata": {
    "colab": {
     "base_uri": "https://localhost:8080/"
    },
    "id": "478tYJeh-qNE",
    "outputId": "9b6a1a9c-206b-4201-9550-a23edcefb5f4"
   },
   "outputs": [
    {
     "name": "stdout",
     "output_type": "stream",
     "text": [
      "              precision    recall  f1-score   support\n",
      "\n",
      "           0       0.86      0.94      0.90     14528\n",
      "           1       0.91      0.80      0.85     11365\n",
      "\n",
      "    accuracy                           0.88     25893\n",
      "   macro avg       0.89      0.87      0.88     25893\n",
      "weighted avg       0.88      0.88      0.88     25893\n",
      "\n"
     ]
    }
   ],
   "source": [
    "# Scikitlearn's classification_report calculates the metrics of the model\n",
    "# Precision = TP/(TP + FP),  recall (sensitivity) TP/(TP + FN)\n",
    "# F1 = 2(Precision * Sensitivity)/(Precision + Sensitivity)\n",
    "from sklearn.metrics import classification_report\n",
    "rf_report = classification_report(y_test, rf_predictions)\n",
    "print(rf_report)"
   ]
  },
  {
   "cell_type": "code",
   "execution_count": 40,
   "metadata": {
    "colab": {
     "base_uri": "https://localhost:8080/",
     "height": 318
    },
    "id": "rNlbhvi_-0ZY",
    "outputId": "a98c2342-3361-4a7c-d318-3e1ecc0f5e73",
    "scrolled": true
   },
   "outputs": [
    {
     "name": "stdout",
     "output_type": "stream",
     "text": [
      "RandomForestClassifier\n"
     ]
    },
    {
     "data": {
      "image/png": "[encoded data removed]",
      "text/plain": [
       "<Figure size 432x288 with 2 Axes>"
      ]
     },
     "metadata": {
      "needs_background": "light",
      "tags": []
     },
     "output_type": "display_data"
    }
   ],
   "source": [
    "# plot for confusion matrix\n",
    "from sklearn.metrics import plot_confusion_matrix\n",
    "import matplotlib.pyplot as plt\n",
    "print(\"RandomForestClassifier\")\n",
    "plot_confusion_matrix(RFClassifier, X_test, y_test,cmap=\"Blues\",values_format=\"d\",display_labels=[\"neutral or dissatisfied\", \"satisfied\"])\n",
    "plt.title(\"Confusion Matrix\", fontsize=20)\n",
    "plt.grid(b=False)\n",
    "plt.show()"
   ]
  },
  {
   "cell_type": "code",
   "execution_count": 41,
   "metadata": {
    "colab": {
     "base_uri": "https://localhost:8080/",
     "height": 295
    },
    "id": "jTUDYHfh_Jfg",
    "outputId": "c34feacc-0c1f-408c-dca1-37d028a88f47"
   },
   "outputs": [
    {
     "data": {
      "image/png": "[encoded data removed]",
      "text/plain": [
       "<Figure size 432x288 with 1 Axes>"
      ]
     },
     "metadata": {
      "needs_background": "light",
      "tags": []
     },
     "output_type": "display_data"
    }
   ],
   "source": [
    "# plot receiver operating characteristic (ROC) curve and detection error tradeoff (DET) curves\n",
    "# A ROC curve is a graphical plot that illustrates the diagnostic ability of a binary classifier system \n",
    "# as its discrimination threshold is varied. \n",
    "# The ROC curve is created by plotting the true positive rate (TPR) against the false positive rate (FPR) \n",
    "# at various threshold settings. The true-positive rate is also known as sensitivity, recall.\n",
    "\n",
    "from sklearn import datasets, metrics, model_selection\n",
    "from sklearn.metrics import plot_roc_curve\n",
    "\n",
    "RF_roc =plot_roc_curve(RFClassifier, X_test, y_test)\n",
    "\n",
    "plt.title('RandomForestClassifier')\n",
    "plt.grid(True)\n",
    "plt.legend()\n",
    "plt.show()"
   ]
  },
  {
   "cell_type": "code",
   "execution_count": 42,
   "metadata": {
    "colab": {
     "base_uri": "https://localhost:8080/"
    },
    "id": "x3FBW8WN_KiF",
    "outputId": "f01ea0d3-35ba-4c5d-f3ae-5c8081d8e780"
   },
   "outputs": [
    {
     "data": {
      "text/plain": [
       "Pipeline(memory=None,\n",
       "         steps=[('standardscaler',\n",
       "                 StandardScaler(copy=True, with_mean=True, with_std=True)),\n",
       "                ('linearsvc',\n",
       "                 LinearSVC(C=0.025, class_weight=None, dual=True,\n",
       "                           fit_intercept=True, intercept_scaling=1,\n",
       "                           loss='squared_hinge', max_iter=1000,\n",
       "                           multi_class='ovr', penalty='l2', random_state=None,\n",
       "                           tol=0.0001, verbose=0))],\n",
       "         verbose=False)"
      ]
     },
     "execution_count": 42,
     "metadata": {
      "tags": []
     },
     "output_type": "execute_result"
    }
   ],
   "source": [
    "SVMClassifier = make_pipeline(StandardScaler(), LinearSVC(C=0.025))\n",
    "SVMClassifier"
   ]
  },
  {
   "cell_type": "code",
   "execution_count": 43,
   "metadata": {
    "colab": {
     "base_uri": "https://localhost:8080/"
    },
    "id": "2H9CbKMPBB8i",
    "outputId": "2d0b27e9-9efd-4782-f8ce-f8e3a2056e0d"
   },
   "outputs": [
    {
     "data": {
      "text/plain": [
       "Pipeline(memory=None,\n",
       "         steps=[('standardscaler',\n",
       "                 StandardScaler(copy=True, with_mean=True, with_std=True)),\n",
       "                ('linearsvc',\n",
       "                 LinearSVC(C=0.025, class_weight=None, dual=True,\n",
       "                           fit_intercept=True, intercept_scaling=1,\n",
       "                           loss='squared_hinge', max_iter=1000,\n",
       "                           multi_class='ovr', penalty='l2', random_state=None,\n",
       "                           tol=0.0001, verbose=0))],\n",
       "         verbose=False)"
      ]
     },
     "execution_count": 43,
     "metadata": {
      "tags": []
     },
     "output_type": "execute_result"
    }
   ],
   "source": [
    "SVMClassifier.fit(X_train, y_train)"
   ]
  },
  {
   "cell_type": "code",
   "execution_count": 44,
   "metadata": {
    "colab": {
     "base_uri": "https://localhost:8080/",
     "height": 399
    },
    "id": "kHCvdwFNBTtr",
    "outputId": "3d8332c4-8eab-44d6-b007-55d1e8fe97ed"
   },
   "outputs": [
    {
     "data": {
      "text/html": [
       "<div>\n",
       "<style scoped>\n",
       "    .dataframe tbody tr th:only-of-type {\n",
       "        vertical-align: middle;\n",
       "    }\n",
       "\n",
       "    .dataframe tbody tr th {\n",
       "        vertical-align: top;\n",
       "    }\n",
       "\n",
       "    .dataframe thead th {\n",
       "        text-align: right;\n",
       "    }\n",
       "</style>\n",
       "<table border=\"1\" class=\"dataframe\">\n",
       "  <thead>\n",
       "    <tr style=\"text-align: right;\">\n",
       "      <th></th>\n",
       "      <th>Prediction</th>\n",
       "      <th>Actual</th>\n",
       "    </tr>\n",
       "  </thead>\n",
       "  <tbody>\n",
       "    <tr>\n",
       "      <th>0</th>\n",
       "      <td>1</td>\n",
       "      <td>1</td>\n",
       "    </tr>\n",
       "    <tr>\n",
       "      <th>1</th>\n",
       "      <td>1</td>\n",
       "      <td>1</td>\n",
       "    </tr>\n",
       "    <tr>\n",
       "      <th>2</th>\n",
       "      <td>0</td>\n",
       "      <td>0</td>\n",
       "    </tr>\n",
       "    <tr>\n",
       "      <th>3</th>\n",
       "      <td>0</td>\n",
       "      <td>1</td>\n",
       "    </tr>\n",
       "    <tr>\n",
       "      <th>4</th>\n",
       "      <td>0</td>\n",
       "      <td>1</td>\n",
       "    </tr>\n",
       "    <tr>\n",
       "      <th>...</th>\n",
       "      <td>...</td>\n",
       "      <td>...</td>\n",
       "    </tr>\n",
       "    <tr>\n",
       "      <th>25888</th>\n",
       "      <td>0</td>\n",
       "      <td>0</td>\n",
       "    </tr>\n",
       "    <tr>\n",
       "      <th>25889</th>\n",
       "      <td>1</td>\n",
       "      <td>1</td>\n",
       "    </tr>\n",
       "    <tr>\n",
       "      <th>25890</th>\n",
       "      <td>0</td>\n",
       "      <td>0</td>\n",
       "    </tr>\n",
       "    <tr>\n",
       "      <th>25891</th>\n",
       "      <td>1</td>\n",
       "      <td>1</td>\n",
       "    </tr>\n",
       "    <tr>\n",
       "      <th>25892</th>\n",
       "      <td>0</td>\n",
       "      <td>0</td>\n",
       "    </tr>\n",
       "  </tbody>\n",
       "</table>\n",
       "<p>25893 rows × 2 columns</p>\n",
       "</div>"
      ],
      "text/plain": [
       "       Prediction  Actual\n",
       "0               1       1\n",
       "1               1       1\n",
       "2               0       0\n",
       "3               0       1\n",
       "4               0       1\n",
       "...           ...     ...\n",
       "25888           0       0\n",
       "25889           1       1\n",
       "25890           0       0\n",
       "25891           1       1\n",
       "25892           0       0\n",
       "\n",
       "[25893 rows x 2 columns]"
      ]
     },
     "execution_count": 44,
     "metadata": {
      "tags": []
     },
     "output_type": "execute_result"
    }
   ],
   "source": [
    "svm_predictions = SVMClassifier.predict(X_test)\n",
    "svm_df =pd.DataFrame({\"Prediction\": svm_predictions, \"Actual\": y_test})\n",
    "svm_df"
   ]
  },
  {
   "cell_type": "code",
   "execution_count": 45,
   "metadata": {
    "colab": {
     "base_uri": "https://localhost:8080/"
    },
    "id": "CFWKA1kaBdu1",
    "outputId": "570dd60c-e33b-4bfa-da44-8a9df80b1f73"
   },
   "outputs": [
    {
     "data": {
      "text/plain": [
       "0.8706986444212722"
      ]
     },
     "execution_count": 45,
     "metadata": {
      "tags": []
     },
     "output_type": "execute_result"
    }
   ],
   "source": [
    "from sklearn.metrics import accuracy_score\n",
    "accuracy_score(y_test, svm_predictions)"
   ]
  },
  {
   "cell_type": "code",
   "execution_count": 46,
   "metadata": {
    "colab": {
     "base_uri": "https://localhost:8080/"
    },
    "id": "ammHw-h2BlVm",
    "outputId": "67e3689c-390b-46d2-c566-a922f937c753"
   },
   "outputs": [
    {
     "name": "stdout",
     "output_type": "stream",
     "text": [
      "[[13110  1418]\n",
      " [ 1930  9435]]\n"
     ]
    }
   ],
   "source": [
    "# import the confusion_matrix, which is the table of \n",
    "# true positives, false positives, true negatives, and false negatives.\n",
    "\n",
    "from sklearn.metrics import confusion_matrix\n",
    "svm_c_matrix =confusion_matrix(y_test, svm_predictions)\n",
    "print(svm_c_matrix)"
   ]
  },
  {
   "cell_type": "code",
   "execution_count": 47,
   "metadata": {
    "colab": {
     "base_uri": "https://localhost:8080/"
    },
    "id": "Sku_h9ZEBvg4",
    "outputId": "c04138f8-497c-4d46-fae6-e9fd6e2ceec8"
   },
   "outputs": [
    {
     "name": "stdout",
     "output_type": "stream",
     "text": [
      "              precision    recall  f1-score   support\n",
      "\n",
      "           0       0.87      0.90      0.89     14528\n",
      "           1       0.87      0.83      0.85     11365\n",
      "\n",
      "    accuracy                           0.87     25893\n",
      "   macro avg       0.87      0.87      0.87     25893\n",
      "weighted avg       0.87      0.87      0.87     25893\n",
      "\n"
     ]
    }
   ],
   "source": [
    "# Scikitlearn's classification_report calculates the metrics of the model\n",
    "# Precision = TP/(TP + FP),  recall (sensitivity) TP/(TP + FN)\n",
    "# F1 = 2(Precision * Sensitivity)/(Precision + Sensitivity)\n",
    "from sklearn.metrics import classification_report\n",
    "svm_report = classification_report(y_test, svm_predictions)\n",
    "print(svm_report)"
   ]
  },
  {
   "cell_type": "code",
   "execution_count": 48,
   "metadata": {
    "colab": {
     "base_uri": "https://localhost:8080/",
     "height": 318
    },
    "id": "BKQHocIpCB9O",
    "outputId": "d16e75f7-97d9-4b92-ddb6-0ca9a83e1b38"
   },
   "outputs": [
    {
     "name": "stdout",
     "output_type": "stream",
     "text": [
      "SupportVectorMachine\n"
     ]
    },
    {
     "data": {
      "image/png": "[encoded data removed]",
      "text/plain": [
       "<Figure size 432x288 with 2 Axes>"
      ]
     },
     "metadata": {
      "needs_background": "light",
      "tags": []
     },
     "output_type": "display_data"
    }
   ],
   "source": [
    "# plot for confusion matrix\n",
    "from sklearn.metrics import plot_confusion_matrix\n",
    "import matplotlib.pyplot as plt\n",
    "print(\"SupportVectorMachine\")\n",
    "plot_confusion_matrix(SVMClassifier, X_test, y_test,cmap=\"Blues\",values_format=\"d\",display_labels=[\"neutral or dissatisfied\", \"satisfied\"])\n",
    "plt.title(\"Confusion Matrix\", fontsize=20)\n",
    "plt.grid(b=False)\n",
    "plt.show()"
   ]
  },
  {
   "cell_type": "code",
   "execution_count": 49,
   "metadata": {
    "colab": {
     "base_uri": "https://localhost:8080/",
     "height": 295
    },
    "id": "DgbG0kRPCSHw",
    "outputId": "92923af4-7fbd-4d37-ab60-c04b0d246942"
   },
   "outputs": [
    {
     "data": {
      "image/png": "[encoded data removed]",
      "text/plain": [
       "<Figure size 432x288 with 1 Axes>"
      ]
     },
     "metadata": {
      "needs_background": "light",
      "tags": []
     },
     "output_type": "display_data"
    }
   ],
   "source": [
    "# plot receiver operating characteristic (ROC) curve and detection error tradeoff (DET) curves\n",
    "# A ROC curve is a graphical plot that illustrates the diagnostic ability of a binary classifier system \n",
    "# as its discrimination threshold is varied. \n",
    "# The ROC curve is created by plotting the true positive rate (TPR) against the false positive rate (FPR) \n",
    "# at various threshold settings. The true-positive rate is also known as sensitivity, recall.\n",
    "\n",
    "from sklearn import datasets, metrics, model_selection\n",
    "from sklearn.metrics import plot_roc_curve\n",
    "\n",
    "svm_roc = plot_roc_curve(SVMClassifier, X_test, y_test)\n",
    "\n",
    "plt.title('SupportVectorMachine')\n",
    "plt.grid(True)\n",
    "plt.legend()\n",
    "plt.show()"
   ]
  },
  {
   "cell_type": "code",
   "execution_count": 50,
   "metadata": {
    "colab": {
     "base_uri": "https://localhost:8080/"
    },
    "id": "BavtPCiDCYFl",
    "outputId": "addfcc94-7178-4f8a-abb9-d0e8484d75ab"
   },
   "outputs": [
    {
     "name": "stdout",
     "output_type": "stream",
     "text": [
      "LogisticRegression   : 0.7743019348858765\n",
      "RandomForestlassifier: 0.8796972154636388\n",
      "SupportVectorMachine : 0.8706986444212722\n"
     ]
    }
   ],
   "source": [
    "# accuracy scores for all three models\n",
    "print('LogisticRegression   : ' + str(accuracy_score(y_test, predictions)))\n",
    "print('RandomForestlassifier: ' + str(accuracy_score(y_test, rf_predictions)))\n",
    "print('SupportVectorMachine : ' + str(accuracy_score(y_test, svm_predictions)))\n"
   ]
  },
  {
   "cell_type": "code",
   "execution_count": 51,
   "metadata": {
    "colab": {
     "base_uri": "https://localhost:8080/"
    },
    "id": "XvP0JtIAJruK",
    "outputId": "0d8de0ca-470e-4dce-ddfb-e7a957bdf000"
   },
   "outputs": [
    {
     "name": "stdout",
     "output_type": "stream",
     "text": [
      "LogisticRegression \n",
      " [[11531  2997]\n",
      " [ 2847  8518]]\n",
      "\n",
      "RandomForestlassifier\n",
      " [[13678   850]\n",
      " [ 2265  9100]]\n",
      "\n",
      "SupportVectorMachine\n",
      " [[13110  1418]\n",
      " [ 1930  9435]]\n"
     ]
    }
   ],
   "source": [
    "# confusion_matrix for all three models\n",
    "\n",
    "print('LogisticRegression \\n ' + str(c_matrix))\n",
    "print('\\nRandomForestlassifier\\n ' + str(rf_c_matrix))\n",
    "print('\\nSupportVectorMachine\\n '+ str(svm_c_matrix))"
   ]
  },
  {
   "cell_type": "code",
   "execution_count": 52,
   "metadata": {
    "colab": {
     "base_uri": "https://localhost:8080/"
    },
    "id": "_pm1c7HFc7E7",
    "outputId": "08e9af36-608f-4b7a-d6a9-8814770ccf8b"
   },
   "outputs": [
    {
     "name": "stdout",
     "output_type": "stream",
     "text": [
      "LogisticRegression \n",
      "\n",
      "               precision    recall  f1-score   support\n",
      "\n",
      "           0       0.80      0.79      0.80     14528\n",
      "           1       0.74      0.75      0.74     11365\n",
      "\n",
      "    accuracy                           0.77     25893\n",
      "   macro avg       0.77      0.77      0.77     25893\n",
      "weighted avg       0.77      0.77      0.77     25893\n",
      "\n",
      "\n",
      "RandomForestlassifier\n",
      "\n",
      "               precision    recall  f1-score   support\n",
      "\n",
      "           0       0.86      0.94      0.90     14528\n",
      "           1       0.91      0.80      0.85     11365\n",
      "\n",
      "    accuracy                           0.88     25893\n",
      "   macro avg       0.89      0.87      0.88     25893\n",
      "weighted avg       0.88      0.88      0.88     25893\n",
      "\n",
      "\n",
      "SupportVectorMachine\n",
      "\n",
      "               precision    recall  f1-score   support\n",
      "\n",
      "           0       0.87      0.90      0.89     14528\n",
      "           1       0.87      0.83      0.85     11365\n",
      "\n",
      "    accuracy                           0.87     25893\n",
      "   macro avg       0.87      0.87      0.87     25893\n",
      "weighted avg       0.87      0.87      0.87     25893\n",
      "\n"
     ]
    }
   ],
   "source": [
    "# confusion_matrix for all three models\n",
    "\n",
    "print('LogisticRegression \\n\\n ' + str(report))\n",
    "print('\\nRandomForestlassifier\\n\\n ' + str(rf_report))\n",
    "print('\\nSupportVectorMachine\\n\\n '+ str(svm_report))"
   ]
  },
  {
   "cell_type": "code",
   "execution_count": 53,
   "metadata": {
    "colab": {
     "base_uri": "https://localhost:8080/",
     "height": 304
    },
    "id": "HISjsHroc7E7",
    "outputId": "bf60258e-a30c-468f-9942-6b728a882aeb"
   },
   "outputs": [
    {
     "data": {
      "image/png": "[encoded data removed]",
      "text/plain": [
       "<Figure size 1080x360 with 6 Axes>"
      ]
     },
     "metadata": {
      "needs_background": "light",
      "tags": []
     },
     "output_type": "display_data"
    }
   ],
   "source": [
    "# prepare plots\n",
    "fig, [ax_lrcm, ax_rfcm, ax_svmcm] = plt.subplots(1, 3, figsize=(15, 5))\n",
    "plot_confusion_matrix(classifier, X_test, y_test,cmap=\"Blues\",values_format=\"d\", ax=ax_lrcm)\n",
    "plot_confusion_matrix(RFClassifier, X_test, y_test,cmap=\"Blues\",values_format=\"d\", ax=ax_rfcm)\n",
    "plot_confusion_matrix(SVMClassifier, X_test, y_test,cmap=\"Blues\",values_format=\"d\", ax=ax_svmcm)\n",
    "\n",
    "ax_lrcm.set_title('LogisticRegression \\n Confusion matrix')\n",
    "ax_rfcm.set_title('RandomForestlassifier \\n Confusion matrix')\n",
    "ax_svmcm.set_title('SupportVectorMachine \\n Confusion matrix')\n",
    "\n",
    "ax_lrcm.set_xlabel(\"Predicted Label (satisfied label:1)\")\n",
    "ax_lrcm.set_ylabel(\"True Label (satisfied label:1)\")\n",
    "ax_rfcm.set_xlabel(\"Predicted Label (satisfied label:1)\")\n",
    "ax_rfcm.set_ylabel(\"True Label (satisfied label:1)\")\n",
    "ax_svmcm.set_xlabel(\"Predicted Label (satisfied label:1)\")\n",
    "ax_svmcm.set_ylabel(\"True Label (satisfied label:1)\")\n",
    "plt.show()"
   ]
  },
  {
   "cell_type": "code",
   "execution_count": 54,
   "metadata": {
    "colab": {
     "base_uri": "https://localhost:8080/",
     "height": 308
    },
    "id": "TB2WxW7Fc7E8",
    "outputId": "3725510a-e3fe-4b7c-878f-cd4a07693133"
   },
   "outputs": [
    {
     "data": {
      "image/png": "[encoded data removed]",
      "text/plain": [
       "<Figure size 432x288 with 1 Axes>"
      ]
     },
     "metadata": {
      "needs_background": "light",
      "tags": []
     },
     "output_type": "display_data"
    }
   ],
   "source": [
    "# prepare plots\n",
    "\n",
    "LR_roc = plot_roc_curve(classifier, X_test, y_test)\n",
    "RF_roc =plot_roc_curve(RFClassifier, X_test, y_test, ax=LR_roc.ax_)\n",
    "svm_roc = plot_roc_curve(SVMClassifier, X_test, y_test, ax=LR_roc.ax_)\n",
    "\n",
    "svm_roc.figure_.suptitle(\"ROC curve comparison\")\n",
    "plt.grid(True)\n",
    "plt.legend()\n",
    "plt.show()"
   ]
  },
  {
   "cell_type": "markdown",
   "metadata": {
    "id": "3qxjmd1Peqcm"
   },
   "source": [
    "**Ranked Feature Importance**"
   ]
  },
  {
   "cell_type": "code",
   "execution_count": 56,
   "metadata": {
    "id": "FI8uszmMc7E8"
   },
   "outputs": [],
   "source": [
    "# Create a random forest classifier.\n",
    "from sklearn.ensemble import RandomForestClassifier\n",
    "rf_model = RandomForestClassifier(n_estimators=128, random_state=78) "
   ]
  },
  {
   "cell_type": "code",
   "execution_count": 57,
   "metadata": {
    "id": "CCCM45LNe0Le"
   },
   "outputs": [],
   "source": [
    "# Fitting the model\n",
    "rf_model = rf_model.fit(X_train, y_train)"
   ]
  },
  {
   "cell_type": "code",
   "execution_count": 58,
   "metadata": {
    "colab": {
     "base_uri": "https://localhost:8080/"
    },
    "id": "OHkNTuSqe1WF",
    "outputId": "1757fb13-3051-456f-c4ee-2c291fad2a99"
   },
   "outputs": [
    {
     "data": {
      "text/plain": [
       "array([1, 1, 0, ..., 0, 1, 0])"
      ]
     },
     "execution_count": 58,
     "metadata": {
      "tags": []
     },
     "output_type": "execute_result"
    }
   ],
   "source": [
    "# Making predictions using the testing data.\n",
    "predictions = rf_model.predict(X_test)\n",
    "predictions"
   ]
  },
  {
   "cell_type": "code",
   "execution_count": 59,
   "metadata": {
    "colab": {
     "base_uri": "https://localhost:8080/"
    },
    "id": "cy-9v9TRe1co",
    "outputId": "b478eb78-3e8c-43de-ef55-143b958f5449"
   },
   "outputs": [
    {
     "data": {
      "text/plain": [
       "array([0.02826307, 0.02863505, 0.13676148, 0.01312367, 0.03662509,\n",
       "       0.0141644 , 0.01016762, 0.159295  , 0.04592484, 0.06153869,\n",
       "       0.0284209 , 0.02874586, 0.02450001, 0.02380083, 0.02244442,\n",
       "       0.02502267, 0.01036198, 0.01182543, 0.0030441 , 0.00280487,\n",
       "       0.02796065, 0.02385005, 0.04533737, 0.06838494, 0.07224469,\n",
       "       0.04374933, 0.003003  ])"
      ]
     },
     "execution_count": 59,
     "metadata": {
      "tags": []
     },
     "output_type": "execute_result"
    }
   ],
   "source": [
    "# Calculate feature importance in the Random Forest model.\n",
    "importances = rf_model.feature_importances_\n",
    "importances"
   ]
  },
  {
   "cell_type": "code",
   "execution_count": 60,
   "metadata": {
    "colab": {
     "base_uri": "https://localhost:8080/"
    },
    "id": "n2EnEVG3e-2n",
    "outputId": "b69de522-a47b-4c08-f3ef-9ba796ec8a39"
   },
   "outputs": [
    {
     "data": {
      "text/plain": [
       "[(0.15929500431165558, 'Online boarding'),\n",
       " (0.13676147985094148, 'Inflight wifi'),\n",
       " (0.072244692098048, 'Class_Business'),\n",
       " (0.06838494054690096, 'Type_of_Travel_Personal Travel'),\n",
       " (0.06153868785641534, 'Inflight entertainment'),\n",
       " (0.04592483768303698, 'Seat comfort'),\n",
       " (0.04533737186147056, 'Type_of_Travel_Business travel'),\n",
       " (0.04374932512448538, 'Class_Eco'),\n",
       " (0.03662509158304051, 'Ease_of_Online booking'),\n",
       " (0.02874586108900998, 'Leg room service'),\n",
       " (0.028635045558397545, 'Flight Distance'),\n",
       " (0.02842090231455289, 'On-board service'),\n",
       " (0.028263070792051467, 'Age'),\n",
       " (0.027960647107687617, 'Customer_Loyal Customer'),\n",
       " (0.025022669389360742, 'Cleanliness'),\n",
       " (0.024500007712100577, 'Baggage handling'),\n",
       " (0.02385004677732012, 'Customer_disloyal Customer'),\n",
       " (0.023800829785121175, 'Checkin service'),\n",
       " (0.022444421724469334, 'Inflight service'),\n",
       " (0.014164403146082003, 'Gate_location'),\n",
       " (0.013123672400594607, 'Departure/Arrival_time_convenient'),\n",
       " (0.011825427422646573, 'Arrival_Delay_in_Minutes'),\n",
       " (0.010361977684309938, 'Departure_Delay_in_Minutes'),\n",
       " (0.010167620147780759, 'Food_and_drink'),\n",
       " (0.0030440966669526112, 'Gender_Female'),\n",
       " (0.0030029999027926042, 'Class_Eco Plus'),\n",
       " (0.0028048694627748373, 'Gender_Male')]"
      ]
     },
     "execution_count": 60,
     "metadata": {
      "tags": []
     },
     "output_type": "execute_result"
    }
   ],
   "source": [
    "# We can sort the features by their importance.\n",
    "sorted(zip(rf_model.feature_importances_, X_train.columns), reverse=True)"
   ]
  },
  {
   "cell_type": "markdown",
   "metadata": {
    "id": "e4U3y7HNfZAC"
   },
   "source": [
    "**Feature Correlation**"
   ]
  },
  {
   "cell_type": "code",
   "execution_count": 61,
   "metadata": {
    "id": "fhFgyLIVfAKg"
   },
   "outputs": [],
   "source": [
    "import pandas as pd\n",
    "import numpy as np\n",
    "import matplotlib.pyplot as plt\n",
    "import seaborn as sns\n",
    "%matplotlib inline "
   ]
  },
  {
   "cell_type": "code",
   "execution_count": 62,
   "metadata": {
    "colab": {
     "base_uri": "https://localhost:8080/",
     "height": 423
    },
    "id": "NJohumPHfhXL",
    "outputId": "22ac5dad-f07e-4d1f-ade1-9e69a9a021c5"
   },
   "outputs": [
    {
     "ename": "FileNotFoundError",
     "evalue": "ignored",
     "output_type": "error",
     "traceback": [
      "\u001b[0;31m---------------------------------------------------------------------------\u001b[0m",
      "\u001b[0;31mFileNotFoundError\u001b[0m                         Traceback (most recent call last)",
      "\u001b[0;32m<ipython-input-62-86e39432792a>\u001b[0m in \u001b[0;36m<module>\u001b[0;34m()\u001b[0m\n\u001b[1;32m      1\u001b[0m \u001b[0;31m# Create dataframes\u001b[0m\u001b[0;34m\u001b[0m\u001b[0;34m\u001b[0m\u001b[0;34m\u001b[0m\u001b[0m\n\u001b[0;32m----> 2\u001b[0;31m \u001b[0mdf_airline\u001b[0m \u001b[0;34m=\u001b[0m \u001b[0mpd\u001b[0m\u001b[0;34m.\u001b[0m\u001b[0mread_csv\u001b[0m\u001b[0;34m(\u001b[0m\u001b[0;34m'airline.csv'\u001b[0m\u001b[0;34m)\u001b[0m\u001b[0;34m\u001b[0m\u001b[0;34m\u001b[0m\u001b[0m\n\u001b[0m\u001b[1;32m      3\u001b[0m \u001b[0mdf_airline\u001b[0m\u001b[0;34m.\u001b[0m\u001b[0mhead\u001b[0m\u001b[0;34m(\u001b[0m\u001b[0;34m)\u001b[0m\u001b[0;34m\u001b[0m\u001b[0;34m\u001b[0m\u001b[0m\n",
      "\u001b[0;32m/usr/local/lib/python3.6/dist-packages/pandas/io/parsers.py\u001b[0m in \u001b[0;36mread_csv\u001b[0;34m(filepath_or_buffer, sep, delimiter, header, names, index_col, usecols, squeeze, prefix, mangle_dupe_cols, dtype, engine, converters, true_values, false_values, skipinitialspace, skiprows, skipfooter, nrows, na_values, keep_default_na, na_filter, verbose, skip_blank_lines, parse_dates, infer_datetime_format, keep_date_col, date_parser, dayfirst, cache_dates, iterator, chunksize, compression, thousands, decimal, lineterminator, quotechar, quoting, doublequote, escapechar, comment, encoding, dialect, error_bad_lines, warn_bad_lines, delim_whitespace, low_memory, memory_map, float_precision)\u001b[0m\n\u001b[1;32m    686\u001b[0m     )\n\u001b[1;32m    687\u001b[0m \u001b[0;34m\u001b[0m\u001b[0m\n\u001b[0;32m--> 688\u001b[0;31m     \u001b[0;32mreturn\u001b[0m \u001b[0m_read\u001b[0m\u001b[0;34m(\u001b[0m\u001b[0mfilepath_or_buffer\u001b[0m\u001b[0;34m,\u001b[0m \u001b[0mkwds\u001b[0m\u001b[0;34m)\u001b[0m\u001b[0;34m\u001b[0m\u001b[0;34m\u001b[0m\u001b[0m\n\u001b[0m\u001b[1;32m    689\u001b[0m \u001b[0;34m\u001b[0m\u001b[0m\n\u001b[1;32m    690\u001b[0m \u001b[0;34m\u001b[0m\u001b[0m\n",
      "\u001b[0;32m/usr/local/lib/python3.6/dist-packages/pandas/io/parsers.py\u001b[0m in \u001b[0;36m_read\u001b[0;34m(filepath_or_buffer, kwds)\u001b[0m\n\u001b[1;32m    452\u001b[0m \u001b[0;34m\u001b[0m\u001b[0m\n\u001b[1;32m    453\u001b[0m     \u001b[0;31m# Create the parser.\u001b[0m\u001b[0;34m\u001b[0m\u001b[0;34m\u001b[0m\u001b[0;34m\u001b[0m\u001b[0m\n\u001b[0;32m--> 454\u001b[0;31m     \u001b[0mparser\u001b[0m \u001b[0;34m=\u001b[0m \u001b[0mTextFileReader\u001b[0m\u001b[0;34m(\u001b[0m\u001b[0mfp_or_buf\u001b[0m\u001b[0;34m,\u001b[0m \u001b[0;34m**\u001b[0m\u001b[0mkwds\u001b[0m\u001b[0;34m)\u001b[0m\u001b[0;34m\u001b[0m\u001b[0;34m\u001b[0m\u001b[0m\n\u001b[0m\u001b[1;32m    455\u001b[0m \u001b[0;34m\u001b[0m\u001b[0m\n\u001b[1;32m    456\u001b[0m     \u001b[0;32mif\u001b[0m \u001b[0mchunksize\u001b[0m \u001b[0;32mor\u001b[0m \u001b[0miterator\u001b[0m\u001b[0;34m:\u001b[0m\u001b[0;34m\u001b[0m\u001b[0;34m\u001b[0m\u001b[0m\n",
      "\u001b[0;32m/usr/local/lib/python3.6/dist-packages/pandas/io/parsers.py\u001b[0m in \u001b[0;36m__init__\u001b[0;34m(self, f, engine, **kwds)\u001b[0m\n\u001b[1;32m    946\u001b[0m             \u001b[0mself\u001b[0m\u001b[0;34m.\u001b[0m\u001b[0moptions\u001b[0m\u001b[0;34m[\u001b[0m\u001b[0;34m\"has_index_names\"\u001b[0m\u001b[0;34m]\u001b[0m \u001b[0;34m=\u001b[0m \u001b[0mkwds\u001b[0m\u001b[0;34m[\u001b[0m\u001b[0;34m\"has_index_names\"\u001b[0m\u001b[0;34m]\u001b[0m\u001b[0;34m\u001b[0m\u001b[0;34m\u001b[0m\u001b[0m\n\u001b[1;32m    947\u001b[0m \u001b[0;34m\u001b[0m\u001b[0m\n\u001b[0;32m--> 948\u001b[0;31m         \u001b[0mself\u001b[0m\u001b[0;34m.\u001b[0m\u001b[0m_make_engine\u001b[0m\u001b[0;34m(\u001b[0m\u001b[0mself\u001b[0m\u001b[0;34m.\u001b[0m\u001b[0mengine\u001b[0m\u001b[0;34m)\u001b[0m\u001b[0;34m\u001b[0m\u001b[0;34m\u001b[0m\u001b[0m\n\u001b[0m\u001b[1;32m    949\u001b[0m \u001b[0;34m\u001b[0m\u001b[0m\n\u001b[1;32m    950\u001b[0m     \u001b[0;32mdef\u001b[0m \u001b[0mclose\u001b[0m\u001b[0;34m(\u001b[0m\u001b[0mself\u001b[0m\u001b[0;34m)\u001b[0m\u001b[0;34m:\u001b[0m\u001b[0;34m\u001b[0m\u001b[0;34m\u001b[0m\u001b[0m\n",
      "\u001b[0;32m/usr/local/lib/python3.6/dist-packages/pandas/io/parsers.py\u001b[0m in \u001b[0;36m_make_engine\u001b[0;34m(self, engine)\u001b[0m\n\u001b[1;32m   1178\u001b[0m     \u001b[0;32mdef\u001b[0m \u001b[0m_make_engine\u001b[0m\u001b[0;34m(\u001b[0m\u001b[0mself\u001b[0m\u001b[0;34m,\u001b[0m \u001b[0mengine\u001b[0m\u001b[0;34m=\u001b[0m\u001b[0;34m\"c\"\u001b[0m\u001b[0;34m)\u001b[0m\u001b[0;34m:\u001b[0m\u001b[0;34m\u001b[0m\u001b[0;34m\u001b[0m\u001b[0m\n\u001b[1;32m   1179\u001b[0m         \u001b[0;32mif\u001b[0m \u001b[0mengine\u001b[0m \u001b[0;34m==\u001b[0m \u001b[0;34m\"c\"\u001b[0m\u001b[0;34m:\u001b[0m\u001b[0;34m\u001b[0m\u001b[0;34m\u001b[0m\u001b[0m\n\u001b[0;32m-> 1180\u001b[0;31m             \u001b[0mself\u001b[0m\u001b[0;34m.\u001b[0m\u001b[0m_engine\u001b[0m \u001b[0;34m=\u001b[0m \u001b[0mCParserWrapper\u001b[0m\u001b[0;34m(\u001b[0m\u001b[0mself\u001b[0m\u001b[0;34m.\u001b[0m\u001b[0mf\u001b[0m\u001b[0;34m,\u001b[0m \u001b[0;34m**\u001b[0m\u001b[0mself\u001b[0m\u001b[0;34m.\u001b[0m\u001b[0moptions\u001b[0m\u001b[0;34m)\u001b[0m\u001b[0;34m\u001b[0m\u001b[0;34m\u001b[0m\u001b[0m\n\u001b[0m\u001b[1;32m   1181\u001b[0m         \u001b[0;32melse\u001b[0m\u001b[0;34m:\u001b[0m\u001b[0;34m\u001b[0m\u001b[0;34m\u001b[0m\u001b[0m\n\u001b[1;32m   1182\u001b[0m             \u001b[0;32mif\u001b[0m \u001b[0mengine\u001b[0m \u001b[0;34m==\u001b[0m \u001b[0;34m\"python\"\u001b[0m\u001b[0;34m:\u001b[0m\u001b[0;34m\u001b[0m\u001b[0;34m\u001b[0m\u001b[0m\n",
      "\u001b[0;32m/usr/local/lib/python3.6/dist-packages/pandas/io/parsers.py\u001b[0m in \u001b[0;36m__init__\u001b[0;34m(self, src, **kwds)\u001b[0m\n\u001b[1;32m   2008\u001b[0m         \u001b[0mkwds\u001b[0m\u001b[0;34m[\u001b[0m\u001b[0;34m\"usecols\"\u001b[0m\u001b[0;34m]\u001b[0m \u001b[0;34m=\u001b[0m \u001b[0mself\u001b[0m\u001b[0;34m.\u001b[0m\u001b[0musecols\u001b[0m\u001b[0;34m\u001b[0m\u001b[0;34m\u001b[0m\u001b[0m\n\u001b[1;32m   2009\u001b[0m \u001b[0;34m\u001b[0m\u001b[0m\n\u001b[0;32m-> 2010\u001b[0;31m         \u001b[0mself\u001b[0m\u001b[0;34m.\u001b[0m\u001b[0m_reader\u001b[0m \u001b[0;34m=\u001b[0m \u001b[0mparsers\u001b[0m\u001b[0;34m.\u001b[0m\u001b[0mTextReader\u001b[0m\u001b[0;34m(\u001b[0m\u001b[0msrc\u001b[0m\u001b[0;34m,\u001b[0m \u001b[0;34m**\u001b[0m\u001b[0mkwds\u001b[0m\u001b[0;34m)\u001b[0m\u001b[0;34m\u001b[0m\u001b[0;34m\u001b[0m\u001b[0m\n\u001b[0m\u001b[1;32m   2011\u001b[0m         \u001b[0mself\u001b[0m\u001b[0;34m.\u001b[0m\u001b[0munnamed_cols\u001b[0m \u001b[0;34m=\u001b[0m \u001b[0mself\u001b[0m\u001b[0;34m.\u001b[0m\u001b[0m_reader\u001b[0m\u001b[0;34m.\u001b[0m\u001b[0munnamed_cols\u001b[0m\u001b[0;34m\u001b[0m\u001b[0;34m\u001b[0m\u001b[0m\n\u001b[1;32m   2012\u001b[0m \u001b[0;34m\u001b[0m\u001b[0m\n",
      "\u001b[0;32mpandas/_libs/parsers.pyx\u001b[0m in \u001b[0;36mpandas._libs.parsers.TextReader.__cinit__\u001b[0;34m()\u001b[0m\n",
      "\u001b[0;32mpandas/_libs/parsers.pyx\u001b[0m in \u001b[0;36mpandas._libs.parsers.TextReader._setup_parser_source\u001b[0;34m()\u001b[0m\n",
      "\u001b[0;31mFileNotFoundError\u001b[0m: [Errno 2] No such file or directory: 'airline.csv'"
     ]
    }
   ],
   "source": [
    "# Create dataframes\n",
    "df_airline = pd.read_csv('airline.csv')\n",
    "df_airline.head()"
   ]
  },
  {
   "cell_type": "code",
   "execution_count": null,
   "metadata": {
    "id": "3XgpcNf5fiOR"
   },
   "outputs": [],
   "source": [
    "df_airline.info()"
   ]
  },
  {
   "cell_type": "code",
   "execution_count": null,
   "metadata": {
    "id": "rcsj1xsPfk60"
   },
   "outputs": [],
   "source": [
    "#Checking the missing values in the dataset\n",
    "df_airline.isnull().sum()"
   ]
  },
  {
   "cell_type": "code",
   "execution_count": null,
   "metadata": {
    "id": "uzw5QJz7foML"
   },
   "outputs": [],
   "source": [
    "#Transpose and obtain descriptive statistics of dataset\n",
    "df_airline.describe().transpose()"
   ]
  },
  {
   "cell_type": "code",
   "execution_count": null,
   "metadata": {
    "id": "3EmtWKbvftlB"
   },
   "outputs": [],
   "source": [
    "[df_airline.columns[1]]"
   ]
  },
  {
   "cell_type": "code",
   "execution_count": null,
   "metadata": {
    "id": "n8r6A9BIfub8"
   },
   "outputs": [],
   "source": [
    "# Feature Importance\n",
    "# label encoder's fit_transform() method is used to first train the label encoder\n",
    "\n",
    "from sklearn.preprocessing import LabelEncoder\n",
    "le = LabelEncoder()\n",
    "df_airline = df_airline.copy()\n",
    "df_airline['Gender'] = le.fit_transform(df_airline['Gender'])\n",
    "df_airline['Customer '] = le.fit_transform(df_airline['Customer '])\n",
    "df_airline['satisfaction'] = le.fit_transform(df_airline[ 'satisfaction'])\n",
    "df_airline.head(10)"
   ]
  },
  {
   "cell_type": "code",
   "execution_count": null,
   "metadata": {
    "id": "qMVhZGwsf68u"
   },
   "outputs": [],
   "source": [
    "[df_airline.columns[4]]"
   ]
  },
  {
   "cell_type": "code",
   "execution_count": null,
   "metadata": {
    "id": "RY60vp3UgAPS"
   },
   "outputs": [],
   "source": [
    "#Create a function to convert class from categorical variable to numerical\n",
    "def clas(string):\n",
    "    if string == 'Business': return 2\n",
    "    elif string =='Eco Plus': return 1\n",
    "    else: return 0\n",
    "\n",
    "df_airline['ClassN'] =df_airline['Class'].apply(clas) "
   ]
  },
  {
   "cell_type": "code",
   "execution_count": null,
   "metadata": {
    "id": "jKWW53OkgBNw"
   },
   "outputs": [],
   "source": [
    "#Create a function to convert type_of_travel from categorical variable to numerical\n",
    "def tot(string):\n",
    "    if string == 'Business travel': return 1\n",
    "    else: return 0\n",
    "\n",
    "df_airline['Type_of_TravelN'] =df_airline['Type_of_Travel'].apply(tot) "
   ]
  },
  {
   "cell_type": "code",
   "execution_count": null,
   "metadata": {
    "id": "Y6O91khNgEFm"
   },
   "outputs": [],
   "source": [
    "df_airline.head()"
   ]
  },
  {
   "cell_type": "code",
   "execution_count": null,
   "metadata": {
    "id": "lezmFfFEgM3i"
   },
   "outputs": [],
   "source": [
    "[df_airline.columns[3]]"
   ]
  },
  {
   "cell_type": "code",
   "execution_count": null,
   "metadata": {
    "id": "wDAD9i_EgRk5"
   },
   "outputs": [],
   "source": [
    "#Drop the type_of_travel categorical column and keep the newly created Type_of_TravelN numerical column\n",
    "df_airline.drop('Type_of_Travel',inplace=True,axis=1)"
   ]
  },
  {
   "cell_type": "code",
   "execution_count": null,
   "metadata": {
    "id": "WY3e40fPgS5-"
   },
   "outputs": [],
   "source": [
    "#Drop the class categorical column and keep the newly created ClassN numerical column\n",
    "df_airline.drop('Class',inplace=True,axis=1)"
   ]
  },
  {
   "cell_type": "code",
   "execution_count": null,
   "metadata": {
    "id": "rvkvJHWvgYoU"
   },
   "outputs": [],
   "source": [
    "#heatmap of correlation with numerical variables including satisfactioN\n",
    "plt.figure(figsize=(20,15))\n",
    "sns.heatmap(df_airline.corr(),annot=True,cmap='coolwarm')\n",
    "plt.tight_layout"
   ]
  },
  {
   "cell_type": "code",
   "execution_count": null,
   "metadata": {
    "id": "Zv1lICj9gadA"
   },
   "outputs": [],
   "source": [
    "sns.pairplot(df_airline)"
   ]
  },
  {
   "cell_type": "code",
   "execution_count": null,
   "metadata": {
    "id": "9OuD7LfP5raJ"
   },
   "outputs": [],
   "source": [
    "#sns.pairplot(df_airline, kind=\"reg\")"
   ]
  },
  {
   "cell_type": "code",
   "execution_count": null,
   "metadata": {
    "id": "uyGpKKxjgihi"
   },
   "outputs": [],
   "source": [
    "#Rank features from highest to lowest correlation with outcome variable of satisfactioN\n",
    "df_airline.corr()['satisfaction'].sort_values().drop('satisfaction').plot(kind='bar')"
   ]
  }
 ],
 "metadata": {
  "colab": {
   "collapsed_sections": [],
   "name": "AWS_ml_new1.ipynb",
   "provenance": []
  },
  "kernelspec": {
   "display_name": "Python 3",
   "language": "python",
   "name": "python3"
  },
  "language_info": {
   "codemirror_mode": {
    "name": "ipython",
    "version": 3
   },
   "file_extension": ".py",
   "mimetype": "text/x-python",
   "name": "python",
   "nbconvert_exporter": "python",
   "pygments_lexer": "ipython3",
   "version": "3.8.3"
  }
 },
 "nbformat": 4,
 "nbformat_minor": 1
}
