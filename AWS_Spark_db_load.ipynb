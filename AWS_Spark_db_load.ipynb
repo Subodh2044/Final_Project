{
  "nbformat": 4,
  "nbformat_minor": 0,
  "metadata": {
    "colab": {
      "name": "AWS_Spark_db_load.ipynb",
      "provenance": [],
      "collapsed_sections": []
    },
    "kernelspec": {
      "display_name": "Python 3",
      "language": "python",
      "name": "python3"
    },
    "language_info": {
      "codemirror_mode": {
        "name": "ipython",
        "version": 3
      },
      "file_extension": ".py",
      "mimetype": "text/x-python",
      "name": "python",
      "nbconvert_exporter": "python",
      "pygments_lexer": "ipython3",
      "version": "3.8.3"
    }
  },
  "cells": [
    {
      "cell_type": "code",
      "metadata": {
        "colab": {
          "base_uri": "https://localhost:8080/"
        },
        "id": "CFb6hwKx2Cq7",
        "outputId": "5540c2c9-3da5-4cf0-d058-0d67bdab8d53"
      },
      "source": [
        "import os\n",
        "# Find the latest version of spark 3.0  from http://www-us.apache.org/dist/spark/ and enter as the spark version\n",
        "# For example:\n",
        "# spark_version = 'spark-3.0.1'\n",
        "spark_version = 'spark-3.0.1'\n",
        "os.environ['SPARK_VERSION']=spark_version\n",
        "\n",
        "# Install Spark and Java\n",
        "!apt-get update\n",
        "!apt-get install openjdk-11-jdk-headless -qq > /dev/null\n",
        "!wget -q http://www-us.apache.org/dist/spark/$SPARK_VERSION/$SPARK_VERSION-bin-hadoop2.7.tgz\n",
        "!tar xf $SPARK_VERSION-bin-hadoop2.7.tgz\n",
        "!pip install -q findspark\n",
        "\n",
        "# Set Environment Variables\n",
        "import os\n",
        "os.environ[\"JAVA_HOME\"] = \"/usr/lib/jvm/java-11-openjdk-amd64\"\n",
        "os.environ[\"SPARK_HOME\"] = f\"/content/{spark_version}-bin-hadoop2.7\"\n",
        "\n",
        "# Start a SparkSession\n",
        "import findspark\n",
        "findspark.init()"
      ],
      "execution_count": 1,
      "outputs": [
        {
          "output_type": "stream",
          "text": [
            "\r0% [Working]\r            \rIgn:1 https://developer.download.nvidia.com/compute/cuda/repos/ubuntu1804/x86_64  InRelease\n",
            "\r0% [Connecting to archive.ubuntu.com] [Connecting to security.ubuntu.com] [Wait\r                                                                               \rGet:2 https://cloud.r-project.org/bin/linux/ubuntu bionic-cran40/ InRelease [3,626 B]\n",
            "\r0% [Connecting to archive.ubuntu.com] [Connecting to security.ubuntu.com] [2 In\r0% [Connecting to archive.ubuntu.com] [Connecting to security.ubuntu.com] [Conn\r                                                                               \rIgn:3 https://developer.download.nvidia.com/compute/machine-learning/repos/ubuntu1804/x86_64  InRelease\n",
            "\r0% [Connecting to archive.ubuntu.com] [Connecting to security.ubuntu.com] [Conn\r0% [2 InRelease gpgv 3,626 B] [Connecting to archive.ubuntu.com] [Connecting to\r                                                                               \rHit:4 https://developer.download.nvidia.com/compute/cuda/repos/ubuntu1804/x86_64  Release\n",
            "Hit:5 https://developer.download.nvidia.com/compute/machine-learning/repos/ubuntu1804/x86_64  Release\n",
            "Get:6 http://ppa.launchpad.net/c2d4u.team/c2d4u4.0+/ubuntu bionic InRelease [15.9 kB]\n",
            "Get:7 http://security.ubuntu.com/ubuntu bionic-security InRelease [88.7 kB]\n",
            "Hit:8 http://archive.ubuntu.com/ubuntu bionic InRelease\n",
            "Get:9 http://archive.ubuntu.com/ubuntu bionic-updates InRelease [88.7 kB]\n",
            "Hit:10 http://ppa.launchpad.net/cran/libgit2/ubuntu bionic InRelease\n",
            "Hit:12 http://ppa.launchpad.net/graphics-drivers/ppa/ubuntu bionic InRelease\n",
            "Get:14 http://archive.ubuntu.com/ubuntu bionic-backports InRelease [74.6 kB]\n",
            "Get:15 http://ppa.launchpad.net/c2d4u.team/c2d4u4.0+/ubuntu bionic/main Sources [1,732 kB]\n",
            "Get:16 http://archive.ubuntu.com/ubuntu bionic-updates/main amd64 Packages [2,360 kB]\n",
            "Get:17 http://ppa.launchpad.net/c2d4u.team/c2d4u4.0+/ubuntu bionic/main amd64 Packages [887 kB]\n",
            "Fetched 5,250 kB in 4s (1,398 kB/s)\n",
            "Reading package lists... Done\n"
          ],
          "name": "stdout"
        }
      ]
    },
    {
      "cell_type": "code",
      "metadata": {
        "colab": {
          "base_uri": "https://localhost:8080/"
        },
        "id": "jJ50MvSj3Iop",
        "outputId": "69e343c6-81b2-4122-f084-b5a1fa89519f"
      },
      "source": [
        "\n",
        "# Download the Postgres driver that will allow Spark to interact with Postgres.\n",
        "!wget https://jdbc.postgresql.org/download/postgresql-42.2.16.jar"
      ],
      "execution_count": 2,
      "outputs": [
        {
          "output_type": "stream",
          "text": [
            "--2021-02-18 02:51:22--  https://jdbc.postgresql.org/download/postgresql-42.2.16.jar\n",
            "Resolving jdbc.postgresql.org (jdbc.postgresql.org)... 72.32.157.228, 2001:4800:3e1:1::228\n",
            "Connecting to jdbc.postgresql.org (jdbc.postgresql.org)|72.32.157.228|:443... connected.\n",
            "HTTP request sent, awaiting response... 200 OK\n",
            "Length: 1002883 (979K) [application/java-archive]\n",
            "Saving to: ‘postgresql-42.2.16.jar’\n",
            "\n",
            "postgresql-42.2.16. 100%[===================>] 979.38K  5.99MB/s    in 0.2s    \n",
            "\n",
            "2021-02-18 02:51:22 (5.99 MB/s) - ‘postgresql-42.2.16.jar’ saved [1002883/1002883]\n",
            "\n"
          ],
          "name": "stdout"
        }
      ]
    },
    {
      "cell_type": "code",
      "metadata": {
        "id": "4Clh5Pjy4aFw"
      },
      "source": [
        "from pyspark.sql import SparkSession\n",
        "spark = SparkSession.builder.appName(\"datafinal\").config(\"spark.driver.extraClassPath\",\"/content/postgresql-42.2.16.jar\").getOrCreate()"
      ],
      "execution_count": 3,
      "outputs": []
    },
    {
      "cell_type": "code",
      "metadata": {
        "id": "zIRTzdfa3b3B"
      },
      "source": [
        "# Read in data from S3 Buckets\n",
        "from pyspark import SparkFiles\n",
        "url =\"https://reno8946-bucket.s3.us-east-2.amazonaws.com/test.csv\"\n",
        "spark.sparkContext.addFile(url)\n",
        "test_df = spark.read.csv(SparkFiles.get(\"test.csv\"), sep=\",\", header=True, inferSchema=True)"
      ],
      "execution_count": 4,
      "outputs": []
    },
    {
      "cell_type": "code",
      "metadata": {
        "colab": {
          "base_uri": "https://localhost:8080/"
        },
        "id": "seBRYmCiSOO7",
        "outputId": "40d2758b-01bf-4f6e-dbfa-2e433aa46db8"
      },
      "source": [
        "# Show DataFrame\n",
        "test_df.show()"
      ],
      "execution_count": 5,
      "outputs": [
        {
          "output_type": "stream",
          "text": [
            "+---+------+------+-----------------+---+---------------+--------+---------------+---------------------+---------------------------------+----------------------+-------------+--------------+---------------+------------+----------------------+----------------+----------------+----------------+---------------+----------------+-----------+--------------------------+------------------------+--------------------+\n",
            "|_c0|    id|Gender|    Customer Type|Age| Type of Travel|   Class|Flight Distance|Inflight wifi service|Departure/Arrival time convenient|Ease of Online booking|Gate location|Food and drink|Online boarding|Seat comfort|Inflight entertainment|On-board service|Leg room service|Baggage handling|Checkin service|Inflight service|Cleanliness|Departure Delay in Minutes|Arrival Delay in Minutes|        satisfaction|\n",
            "+---+------+------+-----------------+---+---------------+--------+---------------+---------------------+---------------------------------+----------------------+-------------+--------------+---------------+------------+----------------------+----------------+----------------+----------------+---------------+----------------+-----------+--------------------------+------------------------+--------------------+\n",
            "|  0| 19556|Female|   Loyal Customer| 52|Business travel|     Eco|            160|                    5|                                4|                     3|            4|             3|              4|           3|                     5|               5|               5|               5|              2|               5|          5|                        50|                    44.0|           satisfied|\n",
            "|  1| 90035|Female|   Loyal Customer| 36|Business travel|Business|           2863|                    1|                                1|                     3|            1|             5|              4|           5|                     4|               4|               4|               4|              3|               4|          5|                         0|                     0.0|           satisfied|\n",
            "|  2| 12360|  Male|disloyal Customer| 20|Business travel|     Eco|            192|                    2|                                0|                     2|            4|             2|              2|           2|                     2|               4|               1|               3|              2|               2|          2|                         0|                     0.0|neutral or dissat...|\n",
            "|  3| 77959|  Male|   Loyal Customer| 44|Business travel|Business|           3377|                    0|                                0|                     0|            2|             3|              4|           4|                     1|               1|               1|               1|              3|               1|          4|                         0|                     6.0|           satisfied|\n",
            "|  4| 36875|Female|   Loyal Customer| 49|Business travel|     Eco|           1182|                    2|                                3|                     4|            3|             4|              1|           2|                     2|               2|               2|               2|              4|               2|          4|                         0|                    20.0|           satisfied|\n",
            "|  5| 39177|  Male|   Loyal Customer| 16|Business travel|     Eco|            311|                    3|                                3|                     3|            3|             5|              5|           3|                     5|               4|               3|               1|              1|               2|          5|                         0|                     0.0|           satisfied|\n",
            "|  6| 79433|Female|   Loyal Customer| 77|Business travel|Business|           3987|                    5|                                5|                     5|            5|             3|              5|           5|                     5|               5|               5|               5|              4|               5|          3|                         0|                     0.0|           satisfied|\n",
            "|  7| 97286|Female|   Loyal Customer| 43|Business travel|Business|           2556|                    2|                                2|                     2|            2|             4|              4|           5|                     4|               4|               4|               4|              5|               4|          3|                        77|                    65.0|           satisfied|\n",
            "|  8| 27508|  Male|   Loyal Customer| 47|Business travel|     Eco|            556|                    5|                                2|                     2|            2|             5|              5|           5|                     5|               2|               2|               5|              3|               3|          5|                         1|                     0.0|           satisfied|\n",
            "|  9| 62482|Female|   Loyal Customer| 46|Business travel|Business|           1744|                    2|                                2|                     2|            2|             3|              4|           4|                     4|               4|               4|               4|              5|               4|          4|                        28|                    14.0|           satisfied|\n",
            "| 10| 47583|Female|   Loyal Customer| 47|Business travel|     Eco|           1235|                    4|                                1|                     1|            1|             5|              1|           5|                     3|               3|               4|               3|              1|               3|          4|                        29|                    19.0|           satisfied|\n",
            "| 11|115550|Female|   Loyal Customer| 33|Business travel|Business|            325|                    2|                                5|                     5|            5|             1|              3|           4|                     2|               2|               2|               2|              3|               2|          4|                        18|                     7.0|neutral or dissat...|\n",
            "| 12|119987|Female|   Loyal Customer| 46|Business travel|Business|           1009|                    5|                                5|                     5|            5|             4|              5|           5|                     5|               5|               5|               5|              5|               5|          3|                         0|                     0.0|           satisfied|\n",
            "| 13| 42141|Female|   Loyal Customer| 60|Business travel|Business|            451|                    1|                                1|                     4|            1|             5|              5|           4|                     5|               5|               5|               5|              3|               5|          5|                       117|                   113.0|           satisfied|\n",
            "| 14|  2274|Female|   Loyal Customer| 52|Business travel|Business|            925|                    2|                                2|                     2|            2|             5|              5|           4|                     4|               4|               4|               4|              3|               4|          5|                        10|                     0.0|           satisfied|\n",
            "| 15| 22470|  Male|   Loyal Customer| 50|Personal Travel|     Eco|             83|                    3|                                4|                     0|            3|             2|              0|           2|                     2|               4|               2|               4|              4|               5|          2|                         5|                     2.0|neutral or dissat...|\n",
            "| 16|124915|Female|   Loyal Customer| 31|Business travel|     Eco|            728|                    2|                                5|                     5|            5|             2|              2|           2|                     2|               4|               3|               3|              4|               3|          2|                         2|                     0.0|neutral or dissat...|\n",
            "| 17| 17836|  Male|   Loyal Customer| 52|Personal Travel|Eco Plus|           1075|                    5|                                4|                     5|            3|             4|              5|           4|                     4|               3|               5|               5|              4|               5|          4|                         0|                     0.0|           satisfied|\n",
            "| 18| 76872|Female|   Loyal Customer| 43|Personal Travel|     Eco|           1927|                    3|                                4|                     3|            1|             4|              4|           5|                     5|               5|               3|               5|              4|               5|          3|                         0|                     0.0|neutral or dissat...|\n",
            "| 19| 64287|Female|   Loyal Customer| 50|Business travel|Business|           3799|                    5|                                5|                     5|            5|             4|              5|           4|                     4|               4|               5|               4|              5|               4|          5|                         8|                     0.0|           satisfied|\n",
            "+---+------+------+-----------------+---+---------------+--------+---------------+---------------------+---------------------------------+----------------------+-------------+--------------+---------------+------------+----------------------+----------------+----------------+----------------+---------------+----------------+-----------+--------------------------+------------------------+--------------------+\n",
            "only showing top 20 rows\n",
            "\n"
          ],
          "name": "stdout"
        }
      ]
    },
    {
      "cell_type": "code",
      "metadata": {
        "colab": {
          "base_uri": "https://localhost:8080/"
        },
        "id": "B8bEMu20lFJj",
        "outputId": "48ff3d41-b44d-43b3-92d0-5cd98b2433ee"
      },
      "source": [
        "# count total rows in test_df\n",
        "test_df.count()"
      ],
      "execution_count": 6,
      "outputs": [
        {
          "output_type": "execute_result",
          "data": {
            "text/plain": [
              "25976"
            ]
          },
          "metadata": {
            "tags": []
          },
          "execution_count": 6
        }
      ]
    },
    {
      "cell_type": "code",
      "metadata": {
        "id": "4PF5l7jr3KOm"
      },
      "source": [
        "# Read in data from S3 Buckets\n",
        "from pyspark import SparkFiles\n",
        "url =\"https://reno8946-bucket.s3.us-east-2.amazonaws.com/train.csv\"\n",
        "spark.sparkContext.addFile(url)\n",
        "train_df = spark.read.csv(SparkFiles.get(\"train.csv\"), sep=\",\", header=True, inferSchema=True)"
      ],
      "execution_count": 7,
      "outputs": []
    },
    {
      "cell_type": "code",
      "metadata": {
        "colab": {
          "base_uri": "https://localhost:8080/"
        },
        "id": "yXrQn6Vu3gN8",
        "outputId": "a89eea32-b1c6-45e0-c9c8-853392724ab3"
      },
      "source": [
        "# Show DataFrame\n",
        "train_df.show()"
      ],
      "execution_count": 8,
      "outputs": [
        {
          "output_type": "stream",
          "text": [
            "+---+------+------+-----------------+---+---------------+--------+---------------+---------------------+---------------------------------+----------------------+-------------+--------------+---------------+------------+----------------------+----------------+----------------+----------------+---------------+----------------+-----------+--------------------------+------------------------+--------------------+\n",
            "|_c0|    id|Gender|    Customer Type|Age| Type of Travel|   Class|Flight Distance|Inflight wifi service|Departure/Arrival time convenient|Ease of Online booking|Gate location|Food and drink|Online boarding|Seat comfort|Inflight entertainment|On-board service|Leg room service|Baggage handling|Checkin service|Inflight service|Cleanliness|Departure Delay in Minutes|Arrival Delay in Minutes|        satisfaction|\n",
            "+---+------+------+-----------------+---+---------------+--------+---------------+---------------------+---------------------------------+----------------------+-------------+--------------+---------------+------------+----------------------+----------------+----------------+----------------+---------------+----------------+-----------+--------------------------+------------------------+--------------------+\n",
            "|  0| 70172|  Male|   Loyal Customer| 13|Personal Travel|Eco Plus|            460|                    3|                                4|                     3|            1|             5|              3|           5|                     5|               4|               3|               4|              4|               5|          5|                        25|                    18.0|neutral or dissat...|\n",
            "|  1|  5047|  Male|disloyal Customer| 25|Business travel|Business|            235|                    3|                                2|                     3|            3|             1|              3|           1|                     1|               1|               5|               3|              1|               4|          1|                         1|                     6.0|neutral or dissat...|\n",
            "|  2|110028|Female|   Loyal Customer| 26|Business travel|Business|           1142|                    2|                                2|                     2|            2|             5|              5|           5|                     5|               4|               3|               4|              4|               4|          5|                         0|                     0.0|           satisfied|\n",
            "|  3| 24026|Female|   Loyal Customer| 25|Business travel|Business|            562|                    2|                                5|                     5|            5|             2|              2|           2|                     2|               2|               5|               3|              1|               4|          2|                        11|                     9.0|neutral or dissat...|\n",
            "|  4|119299|  Male|   Loyal Customer| 61|Business travel|Business|            214|                    3|                                3|                     3|            3|             4|              5|           5|                     3|               3|               4|               4|              3|               3|          3|                         0|                     0.0|           satisfied|\n",
            "|  5|111157|Female|   Loyal Customer| 26|Personal Travel|     Eco|           1180|                    3|                                4|                     2|            1|             1|              2|           1|                     1|               3|               4|               4|              4|               4|          1|                         0|                     0.0|neutral or dissat...|\n",
            "|  6| 82113|  Male|   Loyal Customer| 47|Personal Travel|     Eco|           1276|                    2|                                4|                     2|            3|             2|              2|           2|                     2|               3|               3|               4|              3|               5|          2|                         9|                    23.0|neutral or dissat...|\n",
            "|  7| 96462|Female|   Loyal Customer| 52|Business travel|Business|           2035|                    4|                                3|                     4|            4|             5|              5|           5|                     5|               5|               5|               5|              4|               5|          4|                         4|                     0.0|           satisfied|\n",
            "|  8| 79485|Female|   Loyal Customer| 41|Business travel|Business|            853|                    1|                                2|                     2|            2|             4|              3|           3|                     1|               1|               2|               1|              4|               1|          2|                         0|                     0.0|neutral or dissat...|\n",
            "|  9| 65725|  Male|disloyal Customer| 20|Business travel|     Eco|           1061|                    3|                                3|                     3|            4|             2|              3|           3|                     2|               2|               3|               4|              4|               3|          2|                         0|                     0.0|neutral or dissat...|\n",
            "| 10| 34991|Female|disloyal Customer| 24|Business travel|     Eco|           1182|                    4|                                5|                     5|            4|             2|              5|           2|                     2|               3|               3|               5|              3|               5|          2|                         0|                     0.0|neutral or dissat...|\n",
            "| 11| 51412|Female|   Loyal Customer| 12|Personal Travel|Eco Plus|            308|                    2|                                4|                     2|            2|             1|              2|           1|                     1|               1|               2|               5|              5|               5|          1|                         0|                     0.0|neutral or dissat...|\n",
            "| 12| 98628|  Male|   Loyal Customer| 53|Business travel|     Eco|            834|                    1|                                4|                     4|            4|             1|              1|           1|                     1|               1|               1|               3|              4|               4|          1|                        28|                     8.0|neutral or dissat...|\n",
            "| 13| 83502|  Male|   Loyal Customer| 33|Personal Travel|     Eco|            946|                    4|                                2|                     4|            3|             4|              4|           4|                     4|               4|               5|               2|              2|               2|          4|                         0|                     0.0|           satisfied|\n",
            "| 14| 95789|Female|   Loyal Customer| 26|Personal Travel|     Eco|            453|                    3|                                2|                     3|            2|             2|              3|           2|                     2|               4|               3|               2|              2|               1|          2|                        43|                    35.0|neutral or dissat...|\n",
            "| 15|100580|  Male|disloyal Customer| 13|Business travel|     Eco|            486|                    2|                                1|                     2|            3|             4|              2|           1|                     4|               2|               1|               4|              1|               3|          4|                         1|                     0.0|neutral or dissat...|\n",
            "| 16| 71142|Female|   Loyal Customer| 26|Business travel|Business|           2123|                    3|                                3|                     3|            3|             4|              4|           4|                     4|               5|               3|               4|              5|               4|          4|                        49|                    51.0|           satisfied|\n",
            "| 17|127461|  Male|   Loyal Customer| 41|Business travel|Business|           2075|                    4|                                4|                     2|            4|             4|              4|           4|                     5|               5|               5|               5|              3|               5|          5|                         0|                    10.0|           satisfied|\n",
            "| 18| 70354|Female|   Loyal Customer| 45|Business travel|Business|           2486|                    4|                                4|                     4|            4|             3|              4|           5|                     5|               5|               5|               5|              3|               5|          4|                         7|                     5.0|           satisfied|\n",
            "| 19| 66246|  Male|   Loyal Customer| 38|Personal Travel|     Eco|            460|                    2|                                3|                     3|            2|             5|              3|           5|                     5|               1|               2|               4|              3|               2|          5|                        17|                    18.0|neutral or dissat...|\n",
            "+---+------+------+-----------------+---+---------------+--------+---------------+---------------------+---------------------------------+----------------------+-------------+--------------+---------------+------------+----------------------+----------------+----------------+----------------+---------------+----------------+-----------+--------------------------+------------------------+--------------------+\n",
            "only showing top 20 rows\n",
            "\n"
          ],
          "name": "stdout"
        }
      ]
    },
    {
      "cell_type": "code",
      "metadata": {
        "colab": {
          "base_uri": "https://localhost:8080/"
        },
        "id": "Tp8pLplk49K9",
        "outputId": "e647d4f9-567f-4741-dbd4-a45ad9f1845b"
      },
      "source": [
        "# Row count of train.df\n",
        "train_df.count()"
      ],
      "execution_count": 9,
      "outputs": [
        {
          "output_type": "execute_result",
          "data": {
            "text/plain": [
              "103904"
            ]
          },
          "metadata": {
            "tags": []
          },
          "execution_count": 9
        }
      ]
    },
    {
      "cell_type": "code",
      "metadata": {
        "id": "rDIGsjlX5nzO"
      },
      "source": [
        "# Append dataframes\n",
        "# def append_dfs(train_df,test_df):\n",
        "#     list1 = train_df.columns\n",
        "#     list2 = test_df.columns\n",
        "#     for col in list2:\n",
        "#         if(col not in list1):\n",
        "#             train_df = train_df.withColumn(col, F.lit(None))\n",
        "#     for col in list1:\n",
        "#         if(col not in list2):\n",
        "#             test_df = test_df.withColumn(col, F.lit(None))\n",
        "#     return train_df.unionByName(test_df)\n",
        "# final_df = append_dfs(train_df,test_df)\n",
        "# final_df.show()"
      ],
      "execution_count": 10,
      "outputs": []
    },
    {
      "cell_type": "code",
      "metadata": {
        "id": "1KO7uXAu_ezH"
      },
      "source": [
        "# # row count of concatenated file\n",
        "# final_df.count()"
      ],
      "execution_count": 11,
      "outputs": []
    },
    {
      "cell_type": "code",
      "metadata": {
        "id": "Uq66qkAi-xLj"
      },
      "source": [
        "# Rename columns for train_df\n",
        "train_df=train_df.withColumnRenamed(\"Food and drink\", \"Food_and_drink\").withColumnRenamed(\"Type of Travel\", \"Type_of_Travel\").withColumnRenamed(\"Departure/Arrival time convenient\", \"Departure/Arrival_time_convenient\").withColumnRenamed(\"Ease of Online booking\", \"Ease_of_Online_booking\").withColumnRenamed(\"Gate location\", \"Gate_location\").withColumnRenamed(\"Departure Delay in Minutes\", \"Departure_Delay_in_Minutes\").withColumnRenamed(\"Arrival Delay in Minutes\", \"Arrival_Delay_in_Minutes\").withColumnRenamed(\"Customer Type\", \"Customer\").withColumnRenamed(\"Inflight wifi service\", \"Inflight wifi\").withColumnRenamed(\"Ease_of_Online_booking\", \"Ease_of_Online booking\")\n"
      ],
      "execution_count": 12,
      "outputs": []
    },
    {
      "cell_type": "code",
      "metadata": {
        "id": "BL4aki_RqCBC"
      },
      "source": [
        "# Rename columns for test_df\n",
        "test_df=test_df.withColumnRenamed(\"Food and drink\", \"Food_and_drink\").withColumnRenamed(\"Type of Travel\", \"Type_of_Travel\").withColumnRenamed(\"Departure/Arrival time convenient\", \"Departure/Arrival_time_convenient\").withColumnRenamed(\"Ease of Online booking\", \"Ease_of_Online_booking\").withColumnRenamed(\"Gate location\", \"Gate_location\").withColumnRenamed(\"Departure Delay in Minutes\", \"Departure_Delay_in_Minutes\").withColumnRenamed(\"Arrival Delay in Minutes\", \"Arrival_Delay_in_Minutes\").withColumnRenamed(\"Customer Type\", \"Customer\").withColumnRenamed(\"Inflight wifi service\", \"Inflight wifi\").withColumnRenamed(\"Ease_of_Online_booking\", \"Ease_of_Online booking\")\n"
      ],
      "execution_count": 13,
      "outputs": []
    },
    {
      "cell_type": "code",
      "metadata": {
        "id": "N4p-X8FrJs6P"
      },
      "source": [
        "# Drop NAs for train_df\n",
        "train_df=train_df.dropna()"
      ],
      "execution_count": 14,
      "outputs": []
    },
    {
      "cell_type": "code",
      "metadata": {
        "id": "qhAvJvDDqg-L"
      },
      "source": [
        "# Drop NAs for test_df\n",
        "test_df=test_df.dropna()"
      ],
      "execution_count": 15,
      "outputs": []
    },
    {
      "cell_type": "code",
      "metadata": {
        "colab": {
          "base_uri": "https://localhost:8080/"
        },
        "id": "oG4bz6x1AwMd",
        "outputId": "cd1d1c2a-ee8b-48e7-83d0-6d858decc86b"
      },
      "source": [
        "# Drop index and id columns for train_df\n",
        "train_df=train_df.drop('_c0','id')\n",
        "train_df.show()"
      ],
      "execution_count": 16,
      "outputs": [
        {
          "output_type": "stream",
          "text": [
            "+------+-----------------+---+---------------+--------+---------------+-------------+---------------------------------+----------------------+-------------+--------------+---------------+------------+----------------------+----------------+----------------+----------------+---------------+----------------+-----------+--------------------------+------------------------+--------------------+\n",
            "|Gender|         Customer|Age| Type_of_Travel|   Class|Flight Distance|Inflight wifi|Departure/Arrival_time_convenient|Ease_of_Online booking|Gate_location|Food_and_drink|Online boarding|Seat comfort|Inflight entertainment|On-board service|Leg room service|Baggage handling|Checkin service|Inflight service|Cleanliness|Departure_Delay_in_Minutes|Arrival_Delay_in_Minutes|        satisfaction|\n",
            "+------+-----------------+---+---------------+--------+---------------+-------------+---------------------------------+----------------------+-------------+--------------+---------------+------------+----------------------+----------------+----------------+----------------+---------------+----------------+-----------+--------------------------+------------------------+--------------------+\n",
            "|  Male|   Loyal Customer| 13|Personal Travel|Eco Plus|            460|            3|                                4|                     3|            1|             5|              3|           5|                     5|               4|               3|               4|              4|               5|          5|                        25|                    18.0|neutral or dissat...|\n",
            "|  Male|disloyal Customer| 25|Business travel|Business|            235|            3|                                2|                     3|            3|             1|              3|           1|                     1|               1|               5|               3|              1|               4|          1|                         1|                     6.0|neutral or dissat...|\n",
            "|Female|   Loyal Customer| 26|Business travel|Business|           1142|            2|                                2|                     2|            2|             5|              5|           5|                     5|               4|               3|               4|              4|               4|          5|                         0|                     0.0|           satisfied|\n",
            "|Female|   Loyal Customer| 25|Business travel|Business|            562|            2|                                5|                     5|            5|             2|              2|           2|                     2|               2|               5|               3|              1|               4|          2|                        11|                     9.0|neutral or dissat...|\n",
            "|  Male|   Loyal Customer| 61|Business travel|Business|            214|            3|                                3|                     3|            3|             4|              5|           5|                     3|               3|               4|               4|              3|               3|          3|                         0|                     0.0|           satisfied|\n",
            "|Female|   Loyal Customer| 26|Personal Travel|     Eco|           1180|            3|                                4|                     2|            1|             1|              2|           1|                     1|               3|               4|               4|              4|               4|          1|                         0|                     0.0|neutral or dissat...|\n",
            "|  Male|   Loyal Customer| 47|Personal Travel|     Eco|           1276|            2|                                4|                     2|            3|             2|              2|           2|                     2|               3|               3|               4|              3|               5|          2|                         9|                    23.0|neutral or dissat...|\n",
            "|Female|   Loyal Customer| 52|Business travel|Business|           2035|            4|                                3|                     4|            4|             5|              5|           5|                     5|               5|               5|               5|              4|               5|          4|                         4|                     0.0|           satisfied|\n",
            "|Female|   Loyal Customer| 41|Business travel|Business|            853|            1|                                2|                     2|            2|             4|              3|           3|                     1|               1|               2|               1|              4|               1|          2|                         0|                     0.0|neutral or dissat...|\n",
            "|  Male|disloyal Customer| 20|Business travel|     Eco|           1061|            3|                                3|                     3|            4|             2|              3|           3|                     2|               2|               3|               4|              4|               3|          2|                         0|                     0.0|neutral or dissat...|\n",
            "|Female|disloyal Customer| 24|Business travel|     Eco|           1182|            4|                                5|                     5|            4|             2|              5|           2|                     2|               3|               3|               5|              3|               5|          2|                         0|                     0.0|neutral or dissat...|\n",
            "|Female|   Loyal Customer| 12|Personal Travel|Eco Plus|            308|            2|                                4|                     2|            2|             1|              2|           1|                     1|               1|               2|               5|              5|               5|          1|                         0|                     0.0|neutral or dissat...|\n",
            "|  Male|   Loyal Customer| 53|Business travel|     Eco|            834|            1|                                4|                     4|            4|             1|              1|           1|                     1|               1|               1|               3|              4|               4|          1|                        28|                     8.0|neutral or dissat...|\n",
            "|  Male|   Loyal Customer| 33|Personal Travel|     Eco|            946|            4|                                2|                     4|            3|             4|              4|           4|                     4|               4|               5|               2|              2|               2|          4|                         0|                     0.0|           satisfied|\n",
            "|Female|   Loyal Customer| 26|Personal Travel|     Eco|            453|            3|                                2|                     3|            2|             2|              3|           2|                     2|               4|               3|               2|              2|               1|          2|                        43|                    35.0|neutral or dissat...|\n",
            "|  Male|disloyal Customer| 13|Business travel|     Eco|            486|            2|                                1|                     2|            3|             4|              2|           1|                     4|               2|               1|               4|              1|               3|          4|                         1|                     0.0|neutral or dissat...|\n",
            "|Female|   Loyal Customer| 26|Business travel|Business|           2123|            3|                                3|                     3|            3|             4|              4|           4|                     4|               5|               3|               4|              5|               4|          4|                        49|                    51.0|           satisfied|\n",
            "|  Male|   Loyal Customer| 41|Business travel|Business|           2075|            4|                                4|                     2|            4|             4|              4|           4|                     5|               5|               5|               5|              3|               5|          5|                         0|                    10.0|           satisfied|\n",
            "|Female|   Loyal Customer| 45|Business travel|Business|           2486|            4|                                4|                     4|            4|             3|              4|           5|                     5|               5|               5|               5|              3|               5|          4|                         7|                     5.0|           satisfied|\n",
            "|  Male|   Loyal Customer| 38|Personal Travel|     Eco|            460|            2|                                3|                     3|            2|             5|              3|           5|                     5|               1|               2|               4|              3|               2|          5|                        17|                    18.0|neutral or dissat...|\n",
            "+------+-----------------+---+---------------+--------+---------------+-------------+---------------------------------+----------------------+-------------+--------------+---------------+------------+----------------------+----------------+----------------+----------------+---------------+----------------+-----------+--------------------------+------------------------+--------------------+\n",
            "only showing top 20 rows\n",
            "\n"
          ],
          "name": "stdout"
        }
      ]
    },
    {
      "cell_type": "code",
      "metadata": {
        "colab": {
          "base_uri": "https://localhost:8080/"
        },
        "id": "BilVvIhtwwn3",
        "outputId": "0669b095-c434-4bcf-bade-859f0a9d14af"
      },
      "source": [
        "# Total number of rows for train_df\n",
        "train_df.count()"
      ],
      "execution_count": 17,
      "outputs": [
        {
          "output_type": "execute_result",
          "data": {
            "text/plain": [
              "103594"
            ]
          },
          "metadata": {
            "tags": []
          },
          "execution_count": 17
        }
      ]
    },
    {
      "cell_type": "code",
      "metadata": {
        "colab": {
          "base_uri": "https://localhost:8080/"
        },
        "id": "oA1V53jnqyE2",
        "outputId": "51290ad0-4ce4-48cc-bf13-87efbd6ca19c"
      },
      "source": [
        "# Drop index and id columns for test_df\n",
        "test_df=test_df.drop('_c0','id')\n",
        "test_df.show()"
      ],
      "execution_count": 18,
      "outputs": [
        {
          "output_type": "stream",
          "text": [
            "+------+-----------------+---+---------------+--------+---------------+-------------+---------------------------------+----------------------+-------------+--------------+---------------+------------+----------------------+----------------+----------------+----------------+---------------+----------------+-----------+--------------------------+------------------------+--------------------+\n",
            "|Gender|         Customer|Age| Type_of_Travel|   Class|Flight Distance|Inflight wifi|Departure/Arrival_time_convenient|Ease_of_Online booking|Gate_location|Food_and_drink|Online boarding|Seat comfort|Inflight entertainment|On-board service|Leg room service|Baggage handling|Checkin service|Inflight service|Cleanliness|Departure_Delay_in_Minutes|Arrival_Delay_in_Minutes|        satisfaction|\n",
            "+------+-----------------+---+---------------+--------+---------------+-------------+---------------------------------+----------------------+-------------+--------------+---------------+------------+----------------------+----------------+----------------+----------------+---------------+----------------+-----------+--------------------------+------------------------+--------------------+\n",
            "|Female|   Loyal Customer| 52|Business travel|     Eco|            160|            5|                                4|                     3|            4|             3|              4|           3|                     5|               5|               5|               5|              2|               5|          5|                        50|                    44.0|           satisfied|\n",
            "|Female|   Loyal Customer| 36|Business travel|Business|           2863|            1|                                1|                     3|            1|             5|              4|           5|                     4|               4|               4|               4|              3|               4|          5|                         0|                     0.0|           satisfied|\n",
            "|  Male|disloyal Customer| 20|Business travel|     Eco|            192|            2|                                0|                     2|            4|             2|              2|           2|                     2|               4|               1|               3|              2|               2|          2|                         0|                     0.0|neutral or dissat...|\n",
            "|  Male|   Loyal Customer| 44|Business travel|Business|           3377|            0|                                0|                     0|            2|             3|              4|           4|                     1|               1|               1|               1|              3|               1|          4|                         0|                     6.0|           satisfied|\n",
            "|Female|   Loyal Customer| 49|Business travel|     Eco|           1182|            2|                                3|                     4|            3|             4|              1|           2|                     2|               2|               2|               2|              4|               2|          4|                         0|                    20.0|           satisfied|\n",
            "|  Male|   Loyal Customer| 16|Business travel|     Eco|            311|            3|                                3|                     3|            3|             5|              5|           3|                     5|               4|               3|               1|              1|               2|          5|                         0|                     0.0|           satisfied|\n",
            "|Female|   Loyal Customer| 77|Business travel|Business|           3987|            5|                                5|                     5|            5|             3|              5|           5|                     5|               5|               5|               5|              4|               5|          3|                         0|                     0.0|           satisfied|\n",
            "|Female|   Loyal Customer| 43|Business travel|Business|           2556|            2|                                2|                     2|            2|             4|              4|           5|                     4|               4|               4|               4|              5|               4|          3|                        77|                    65.0|           satisfied|\n",
            "|  Male|   Loyal Customer| 47|Business travel|     Eco|            556|            5|                                2|                     2|            2|             5|              5|           5|                     5|               2|               2|               5|              3|               3|          5|                         1|                     0.0|           satisfied|\n",
            "|Female|   Loyal Customer| 46|Business travel|Business|           1744|            2|                                2|                     2|            2|             3|              4|           4|                     4|               4|               4|               4|              5|               4|          4|                        28|                    14.0|           satisfied|\n",
            "|Female|   Loyal Customer| 47|Business travel|     Eco|           1235|            4|                                1|                     1|            1|             5|              1|           5|                     3|               3|               4|               3|              1|               3|          4|                        29|                    19.0|           satisfied|\n",
            "|Female|   Loyal Customer| 33|Business travel|Business|            325|            2|                                5|                     5|            5|             1|              3|           4|                     2|               2|               2|               2|              3|               2|          4|                        18|                     7.0|neutral or dissat...|\n",
            "|Female|   Loyal Customer| 46|Business travel|Business|           1009|            5|                                5|                     5|            5|             4|              5|           5|                     5|               5|               5|               5|              5|               5|          3|                         0|                     0.0|           satisfied|\n",
            "|Female|   Loyal Customer| 60|Business travel|Business|            451|            1|                                1|                     4|            1|             5|              5|           4|                     5|               5|               5|               5|              3|               5|          5|                       117|                   113.0|           satisfied|\n",
            "|Female|   Loyal Customer| 52|Business travel|Business|            925|            2|                                2|                     2|            2|             5|              5|           4|                     4|               4|               4|               4|              3|               4|          5|                        10|                     0.0|           satisfied|\n",
            "|  Male|   Loyal Customer| 50|Personal Travel|     Eco|             83|            3|                                4|                     0|            3|             2|              0|           2|                     2|               4|               2|               4|              4|               5|          2|                         5|                     2.0|neutral or dissat...|\n",
            "|Female|   Loyal Customer| 31|Business travel|     Eco|            728|            2|                                5|                     5|            5|             2|              2|           2|                     2|               4|               3|               3|              4|               3|          2|                         2|                     0.0|neutral or dissat...|\n",
            "|  Male|   Loyal Customer| 52|Personal Travel|Eco Plus|           1075|            5|                                4|                     5|            3|             4|              5|           4|                     4|               3|               5|               5|              4|               5|          4|                         0|                     0.0|           satisfied|\n",
            "|Female|   Loyal Customer| 43|Personal Travel|     Eco|           1927|            3|                                4|                     3|            1|             4|              4|           5|                     5|               5|               3|               5|              4|               5|          3|                         0|                     0.0|neutral or dissat...|\n",
            "|Female|   Loyal Customer| 50|Business travel|Business|           3799|            5|                                5|                     5|            5|             4|              5|           4|                     4|               4|               5|               4|              5|               4|          5|                         8|                     0.0|           satisfied|\n",
            "+------+-----------------+---+---------------+--------+---------------+-------------+---------------------------------+----------------------+-------------+--------------+---------------+------------+----------------------+----------------+----------------+----------------+---------------+----------------+-----------+--------------------------+------------------------+--------------------+\n",
            "only showing top 20 rows\n",
            "\n"
          ],
          "name": "stdout"
        }
      ]
    },
    {
      "cell_type": "code",
      "metadata": {
        "colab": {
          "base_uri": "https://localhost:8080/"
        },
        "id": "1TrPVNpQw_iM",
        "outputId": "a743c725-20a4-488a-efbc-9fabf0e68f85"
      },
      "source": [
        "# Total number of rows for test_df\n",
        "test_df.count()"
      ],
      "execution_count": 19,
      "outputs": [
        {
          "output_type": "execute_result",
          "data": {
            "text/plain": [
              "25893"
            ]
          },
          "metadata": {
            "tags": []
          },
          "execution_count": 19
        }
      ]
    },
    {
      "cell_type": "code",
      "metadata": {
        "id": "ZU6uKlum75TU"
      },
      "source": [
        "# Configure settings for RDS\n",
        "mode = \"append\"\n",
        "jdbc_url=\"jdbc:postgresql://datafinal.c50h51d04cbn.us-east-2.rds.amazonaws.com:5432/postgres\"\n",
        "config = {\"user\":\"postgres\",\n",
        "          \"password\": \"rootroot\",\n",
        "          \"driver\":\"org.postgresql.Driver\"}"
      ],
      "execution_count": 20,
      "outputs": []
    },
    {
      "cell_type": "code",
      "metadata": {
        "id": "87Ec5rQwU5pA"
      },
      "source": [
        "# Write train_df to active_user table in RDS\n",
        "train_df.write.jdbc(url=jdbc_url, table='train', mode=mode, properties=config)"
      ],
      "execution_count": 21,
      "outputs": []
    },
    {
      "cell_type": "code",
      "metadata": {
        "id": "_xyUOct7rTvA"
      },
      "source": [
        "# Write test_df to active_user table in RDS\n",
        "test_df.write.jdbc(url=jdbc_url, table='test', mode=mode, properties=config)"
      ],
      "execution_count": 22,
      "outputs": []
    },
    {
      "cell_type": "code",
      "metadata": {
        "id": "4dfr60lx7dZc"
      },
      "source": [
        ""
      ],
      "execution_count": 22,
      "outputs": []
    }
  ]
}